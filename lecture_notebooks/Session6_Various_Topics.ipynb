{
 "metadata": {
  "name": "Session6_Various_Topics"
 },
 "nbformat": 3,
 "nbformat_minor": 0,
 "worksheets": [
  {
   "cells": [
    {
     "cell_type": "code",
     "collapsed": false,
     "input": [
      "from __future__ import print_function\n",
      "from __future__ import division\n",
      "import conesearch"
     ],
     "language": "python",
     "metadata": {},
     "outputs": [],
     "prompt_number": 1
    },
    {
     "cell_type": "heading",
     "level": 2,
     "metadata": {},
     "source": [
      "Dictionaries"
     ]
    },
    {
     "cell_type": "markdown",
     "metadata": {},
     "source": [
      "Dictionaries are a fundamental data structure in Python and extremely useful. So far you have seen examples of dictionary-like things without getting a specific introduction to dictionaries. If you don't end up using dictionaries a lot when using Python, you are likely doing something wrong (or many things wrong!).\n",
      "\n",
      "Dictionaries are basically a way of looking up things by name or value. All sorts of things can be used as keys for the look up; the only requirement is that they be \"immutable\". Strings, tuples, numbers and such are all acceptable. Lists, arrays, and dictionaries are not since they are mutable."
     ]
    },
    {
     "cell_type": "code",
     "collapsed": false,
     "input": [
      "traffic = {'red':'stop','green':'go','yellow':'speed-up'}\n",
      "print(traffic['red'])"
     ],
     "language": "python",
     "metadata": {},
     "outputs": [
      {
       "output_type": "stream",
       "stream": "stdout",
       "text": [
        "stop\n"
       ]
      }
     ],
     "prompt_number": 2
    },
    {
     "cell_type": "code",
     "collapsed": false,
     "input": [
      "print(traffic['magenta'])"
     ],
     "language": "python",
     "metadata": {},
     "outputs": [
      {
       "ename": "KeyError",
       "evalue": "'magenta'",
       "output_type": "pyerr",
       "traceback": [
        "\u001b[0;31m---------------------------------------------------------------------------\u001b[0m\n\u001b[0;31mKeyError\u001b[0m                                  Traceback (most recent call last)",
        "\u001b[0;32m<ipython-input-3-3fcdffb9d3c3>\u001b[0m in \u001b[0;36m<module>\u001b[0;34m()\u001b[0m\n\u001b[0;32m----> 1\u001b[0;31m \u001b[0;32mprint\u001b[0m\u001b[0;34m(\u001b[0m\u001b[0mtraffic\u001b[0m\u001b[0;34m[\u001b[0m\u001b[0;34m'magenta'\u001b[0m\u001b[0;34m]\u001b[0m\u001b[0;34m)\u001b[0m\u001b[0;34m\u001b[0m\u001b[0m\n\u001b[0m",
        "\u001b[0;31mKeyError\u001b[0m: 'magenta'"
       ]
      },
      {
       "output_type": "stream",
       "stream": "stdout",
       "text": [
        "\u001b[0;31mERROR\u001b[0m: KeyError: 'magenta' [IPython.core.interactiveshell]\n"
       ]
      }
     ],
     "prompt_number": 3
    },
    {
     "cell_type": "code",
     "collapsed": false,
     "input": [
      "# can add new dictionary items \n",
      "traffic['broken'] = 'crash'\n",
      "traffic[5] = 'the low spark of high heeled boys'\n",
      "print(traffic)"
     ],
     "language": "python",
     "metadata": {},
     "outputs": [
      {
       "output_type": "stream",
       "stream": "stdout",
       "text": [
        "{'broken': 'crash', 'green': 'go', 'yellow': 'speed-up', 'red': 'stop', 5: 'the low spark of high heeled boys'}\n"
       ]
      }
     ],
     "prompt_number": 4
    },
    {
     "cell_type": "markdown",
     "metadata": {},
     "source": [
      "Many dictionary methods are available"
     ]
    },
    {
     "cell_type": "code",
     "collapsed": false,
     "input": [
      "help(traffic)"
     ],
     "language": "python",
     "metadata": {},
     "outputs": [
      {
       "output_type": "stream",
       "stream": "stdout",
       "text": [
        "Help on dict object:\n",
        "\n",
        "class dict(object)\n",
        " |  dict() -> new empty dictionary\n",
        " |  dict(mapping) -> new dictionary initialized from a mapping object's\n",
        " |      (key, value) pairs\n",
        " |  dict(iterable) -> new dictionary initialized as if via:\n",
        " |      d = {}\n",
        " |      for k, v in iterable:\n",
        " |          d[k] = v\n",
        " |  dict(**kwargs) -> new dictionary initialized with the name=value pairs\n",
        " |      in the keyword argument list.  For example:  dict(one=1, two=2)\n",
        " |  \n",
        " |  Methods defined here:\n",
        " |  \n",
        " |  __cmp__(...)\n",
        " |      x.__cmp__(y) <==> cmp(x,y)\n",
        " |  \n",
        " |  __contains__(...)\n",
        " |      D.__contains__(k) -> True if D has a key k, else False\n",
        " |  \n",
        " |  __delitem__(...)\n",
        " |      x.__delitem__(y) <==> del x[y]\n",
        " |  \n",
        " |  __eq__(...)\n",
        " |      x.__eq__(y) <==> x==y\n",
        " |  \n",
        " |  __ge__(...)\n",
        " |      x.__ge__(y) <==> x>=y\n",
        " |  \n",
        " |  __getattribute__(...)\n",
        " |      x.__getattribute__('name') <==> x.name\n",
        " |  \n",
        " |  __getitem__(...)\n",
        " |      x.__getitem__(y) <==> x[y]\n",
        " |  \n",
        " |  __gt__(...)\n",
        " |      x.__gt__(y) <==> x>y\n",
        " |  \n",
        " |  __init__(...)\n",
        " |      x.__init__(...) initializes x; see help(type(x)) for signature\n",
        " |  \n",
        " |  __iter__(...)\n",
        " |      x.__iter__() <==> iter(x)\n",
        " |  \n",
        " |  __le__(...)\n",
        " |      x.__le__(y) <==> x<=y\n",
        " |  \n",
        " |  __len__(...)\n",
        " |      x.__len__() <==> len(x)\n",
        " |  \n",
        " |  __lt__(...)\n",
        " |      x.__lt__(y) <==> x<y\n",
        " |  \n",
        " |  __ne__(...)\n",
        " |      x.__ne__(y) <==> x!=y\n",
        " |  \n",
        " |  __repr__(...)\n",
        " |      x.__repr__() <==> repr(x)\n",
        " |  \n",
        " |  __setitem__(...)\n",
        " |      x.__setitem__(i, y) <==> x[i]=y\n",
        " |  \n",
        " |  __sizeof__(...)\n",
        " |      D.__sizeof__() -> size of D in memory, in bytes\n",
        " |  \n",
        " |  clear(...)\n",
        " |      D.clear() -> None.  Remove all items from D.\n",
        " |  \n",
        " |  copy(...)\n",
        " |      D.copy() -> a shallow copy of D\n",
        " |  \n",
        " |  fromkeys(...)\n",
        " |      dict.fromkeys(S[,v]) -> New dict with keys from S and values equal to v.\n",
        " |      v defaults to None.\n",
        " |  \n",
        " |  get(...)\n",
        " |      D.get(k[,d]) -> D[k] if k in D, else d.  d defaults to None.\n",
        " |  \n",
        " |  has_key(...)\n",
        " |      D.has_key(k) -> True if D has a key k, else False\n",
        " |  \n",
        " |  items(...)\n",
        " |      D.items() -> list of D's (key, value) pairs, as 2-tuples\n",
        " |  \n",
        " |  iteritems(...)\n",
        " |      D.iteritems() -> an iterator over the (key, value) items of D\n",
        " |  \n",
        " |  iterkeys(...)\n",
        " |      D.iterkeys() -> an iterator over the keys of D\n",
        " |  \n",
        " |  itervalues(...)\n",
        " |      D.itervalues() -> an iterator over the values of D\n",
        " |  \n",
        " |  keys(...)\n",
        " |      D.keys() -> list of D's keys\n",
        " |  \n",
        " |  pop(...)\n",
        " |      D.pop(k[,d]) -> v, remove specified key and return the corresponding value.\n",
        " |      If key is not found, d is returned if given, otherwise KeyError is raised\n",
        " |  \n",
        " |  popitem(...)\n",
        " |      D.popitem() -> (k, v), remove and return some (key, value) pair as a\n",
        " |      2-tuple; but raise KeyError if D is empty.\n",
        " |  \n",
        " |  setdefault(...)\n",
        " |      D.setdefault(k[,d]) -> D.get(k,d), also set D[k]=d if k not in D\n",
        " |  \n",
        " |  update(...)\n",
        " |      D.update([E, ]**F) -> None.  Update D from dict/iterable E and F.\n",
        " |      If E present and has a .keys() method, does:     for k in E: D[k] = E[k]\n",
        " |      If E present and lacks .keys() method, does:     for (k, v) in E: D[k] = v\n",
        " |      In either case, this is followed by: for k in F: D[k] = F[k]\n",
        " |  \n",
        " |  values(...)\n",
        " |      D.values() -> list of D's values\n",
        " |  \n",
        " |  viewitems(...)\n",
        " |      D.viewitems() -> a set-like object providing a view on D's items\n",
        " |  \n",
        " |  viewkeys(...)\n",
        " |      D.viewkeys() -> a set-like object providing a view on D's keys\n",
        " |  \n",
        " |  viewvalues(...)\n",
        " |      D.viewvalues() -> an object providing a view on D's values\n",
        " |  \n",
        " |  ----------------------------------------------------------------------\n",
        " |  Data and other attributes defined here:\n",
        " |  \n",
        " |  __hash__ = None\n",
        " |  \n",
        " |  __new__ = <built-in method __new__ of type object>\n",
        " |      T.__new__(S, ...) -> a new object with type S, a subtype of T\n",
        "\n"
       ]
      }
     ],
     "prompt_number": 5
    },
    {
     "cell_type": "code",
     "collapsed": false,
     "input": [
      "print(traffic.keys()) # note keys have no guaranteed order.\n",
      "print(traffic.values())\n",
      "print(traffic.items())"
     ],
     "language": "python",
     "metadata": {},
     "outputs": [
      {
       "output_type": "stream",
       "stream": "stdout",
       "text": [
        "['broken', 'green', 'yellow', 'red', 5]\n",
        "['crash', 'go', 'speed-up', 'stop', 'the low spark of high heeled boys']\n",
        "[('broken', 'crash'), ('green', 'go'), ('yellow', 'speed-up'), ('red', 'stop'), (5, 'the low spark of high heeled boys')]\n"
       ]
      }
     ],
     "prompt_number": 6
    },
    {
     "cell_type": "code",
     "collapsed": false,
     "input": [
      "print('red' in traffic)\n",
      "print('magenta' in traffic)"
     ],
     "language": "python",
     "metadata": {},
     "outputs": [
      {
       "output_type": "stream",
       "stream": "stdout",
       "text": [
        "True\n",
        "False\n"
       ]
      }
     ],
     "prompt_number": 7
    },
    {
     "cell_type": "code",
     "collapsed": false,
     "input": [
      "# getting a default value if it doesn't have a key\n",
      "traffic.get('blue','fasten your seatbelt and drive carefully')"
     ],
     "language": "python",
     "metadata": {},
     "outputs": [
      {
       "output_type": "pyout",
       "prompt_number": 8,
       "text": [
        "'fasten your seatbelt and drive carefully'"
       ]
      }
     ],
     "prompt_number": 8
    },
    {
     "cell_type": "code",
     "collapsed": false,
     "input": [
      "traffic[[1,2]] = '?'"
     ],
     "language": "python",
     "metadata": {},
     "outputs": [
      {
       "ename": "TypeError",
       "evalue": "unhashable type: 'list'",
       "output_type": "pyerr",
       "traceback": [
        "\u001b[0;31m---------------------------------------------------------------------------\u001b[0m\n\u001b[0;31mTypeError\u001b[0m                                 Traceback (most recent call last)",
        "\u001b[0;32m<ipython-input-9-987630994cde>\u001b[0m in \u001b[0;36m<module>\u001b[0;34m()\u001b[0m\n\u001b[0;32m----> 1\u001b[0;31m \u001b[0mtraffic\u001b[0m\u001b[0;34m[\u001b[0m\u001b[0;34m[\u001b[0m\u001b[0;36m1\u001b[0m\u001b[0;34m,\u001b[0m\u001b[0;36m2\u001b[0m\u001b[0;34m]\u001b[0m\u001b[0;34m]\u001b[0m \u001b[0;34m=\u001b[0m \u001b[0;34m'?'\u001b[0m\u001b[0;34m\u001b[0m\u001b[0m\n\u001b[0m",
        "\u001b[0;31mTypeError\u001b[0m: unhashable type: 'list'"
       ]
      },
      {
       "output_type": "stream",
       "stream": "stdout",
       "text": [
        "\u001b[0;31mERROR\u001b[0m: TypeError: unhashable type: 'list' [IPython.core.interactiveshell]\n"
       ]
      }
     ],
     "prompt_number": 9
    },
    {
     "cell_type": "code",
     "collapsed": false,
     "input": [
      "# tuples work though\n",
      "traffic[(1,2)] = '?'\n",
      "print(traffic[(1,2)])"
     ],
     "language": "python",
     "metadata": {},
     "outputs": [
      {
       "output_type": "stream",
       "stream": "stdout",
       "text": [
        "?\n"
       ]
      }
     ],
     "prompt_number": 10
    },
    {
     "cell_type": "markdown",
     "metadata": {},
     "source": [
      "One can use anything as a dictionary value, including functions. This is a useful way of directing flow by a key value"
     ]
    },
    {
     "cell_type": "code",
     "collapsed": false,
     "input": [
      "def empty(): pass # add example later"
     ],
     "language": "python",
     "metadata": {},
     "outputs": [],
     "prompt_number": 11
    },
    {
     "cell_type": "markdown",
     "metadata": {},
     "source": [
      "Note that much of the pyfits header and astropy table interfaces behave much like dictionaries though they are not actually dictionaries."
     ]
    },
    {
     "cell_type": "heading",
     "level": 2,
     "metadata": {},
     "source": [
      "Handling various image and graphics formats"
     ]
    },
    {
     "cell_type": "markdown",
     "metadata": {},
     "source": [
      "The PIL (Python Imaging Library) is capable of dealing with the reading and writing of many image formats (it is likely to be replaced by pillow, with most of the same interface). It is simple to convert to and from numpy arrays.\n",
      "\n",
      "Supported formats include:\n",
      "\n",
      "    BMP\n",
      "    BUFR (identify only)\n",
      "    CUR (read only)\n",
      "    DCX (read only)\n",
      "    EPS (write-only)\n",
      "    FITS (identify only)\n",
      "    FLI, FLC (read only)\n",
      "    FPX (read only)\n",
      "    GBR (read only)\n",
      "    GD (read only)\n",
      "    GIF\n",
      "    GRIB (identify only)\n",
      "    HDF5 (identify only)\n",
      "    ICO (read only)\n",
      "    IM\n",
      "    IMT (read only)\n",
      "    IPTC/NAA (read only)\n",
      "    JPEG\n",
      "    MCIDAS (read only)\n",
      "    MIC (read only)\n",
      "    MPEG (identify only)\n",
      "    MSP\n",
      "    PALM (write only)\n",
      "    PCD (read only)\n",
      "    PCX\n",
      "    PDF (write only)\n",
      "    PIXAR (read only)\n",
      "    PNG\n",
      "    PPM\n",
      "    PSD (read only)\n",
      "    SGI (read only)\n",
      "    SPIDER\n",
      "    TGA (read only)\n",
      "    TIFF\n",
      "    WAL (read only)\n",
      "    WMF (identify only)\n",
      "    XBM\n",
      "    XPM (read only)\n",
      "    XV Thumbnails "
     ]
    },
    {
     "cell_type": "code",
     "collapsed": false,
     "input": [
      "import Image\n",
      "im = Image.open('../data/saturn.jpg')\n",
      "nim = np.array(im) # numpy knows how to convert\n",
      "print(nim.shape) # shows 3d array, last dim are the rgb planes\n",
      "imshow(nim)"
     ],
     "language": "python",
     "metadata": {},
     "outputs": [
      {
       "output_type": "stream",
       "stream": "stdout",
       "text": [
        "(263, 350, 3)\n"
       ]
      },
      {
       "output_type": "pyout",
       "prompt_number": 12,
       "text": [
        "<matplotlib.image.AxesImage at 0x108141590>"
       ]
      },
      {
       "output_type": "display_data",
       "png": "[encoded data removed]"
      }
     ],
     "prompt_number": 12
    },
    {
     "cell_type": "code",
     "collapsed": false,
     "input": [
      "im.save('saturn.tiff')\n",
      "im2 = Image.fromarray((nim.max()-nim)[::2])\n",
      "im2.save('saturn2.tiff')"
     ],
     "language": "python",
     "metadata": {},
     "outputs": [],
     "prompt_number": 13
    },
    {
     "cell_type": "markdown",
     "metadata": {},
     "source": [
      "Documentation on all the available functionality of PIL is here: http://www.pythonware.com/library/pil/handbook/index.htm"
     ]
    },
    {
     "cell_type": "heading",
     "level": 2,
     "metadata": {},
     "source": [
      "Handling Exceptions"
     ]
    },
    {
     "cell_type": "markdown",
     "metadata": {},
     "source": [
      "This is a short introduction to handling Exceptions in Python.\n",
      "\n",
      "Further reading: http://docs.python.org/2/tutorial/errors.html\n",
      "\n",
      "Rather than require all code to check for errors for any function called (this leads to very cumbersome and hard to maintain code), Python, like many modern languages, uses exceptions to deal with errors.\n",
      "\n",
      "Typically, when a problem is encountered in Python code, the general pattern is to \"raise\" an exception. If this happens in a function or code block, processing stops, and the exception is passed along to the code that called the function. If there isn't any special code there to deal with that specific problem, it continues to get passed to higher levels of code. If nothing deals with it, execution stops, and an error traceback is printed showing all the levels involved, where the execution in each level was at, and what exception was raised. In this way, you don't need to write code to deal with exceptions if you don't expect them, or know how to deal with them. But you can if you do. Sometimes code is written that uses them to deal with common issues that may arise by trying normal case, and in the case of a problem, trying an alternative.\n",
      "\n",
      "Suppose we are trying to convert values in a table into floating point numbers, but there may be some instances where the table value isn't a floating point number, but you don't want to stop processing because of that, but instead use a default value, like a NaN value"
     ]
    },
    {
     "cell_type": "code",
     "collapsed": false,
     "input": [
      "float(\"N/A\") # raises an exeption since it can't be converted to float"
     ],
     "language": "python",
     "metadata": {},
     "outputs": [
      {
       "ename": "ValueError",
       "evalue": "could not convert string to float: N/A",
       "output_type": "pyerr",
       "traceback": [
        "\u001b[0;31m---------------------------------------------------------------------------\u001b[0m\n\u001b[0;31mValueError\u001b[0m                                Traceback (most recent call last)",
        "\u001b[0;32m<ipython-input-14-c8aef96cbe70>\u001b[0m in \u001b[0;36m<module>\u001b[0;34m()\u001b[0m\n\u001b[0;32m----> 1\u001b[0;31m \u001b[0mfloat\u001b[0m\u001b[0;34m(\u001b[0m\u001b[0;34m\"N/A\"\u001b[0m\u001b[0;34m)\u001b[0m \u001b[0;31m# raises an exeption since it can't be converted to float\u001b[0m\u001b[0;34m\u001b[0m\u001b[0m\n\u001b[0m",
        "\u001b[0;31mValueError\u001b[0m: could not convert string to float: N/A"
       ]
      },
      {
       "output_type": "stream",
       "stream": "stdout",
       "text": [
        "\u001b[0;31mERROR\u001b[0m: ValueError: could not convert string to float: N/A [IPython.core.interactiveshell]\n"
       ]
      }
     ],
     "prompt_number": 14
    },
    {
     "cell_type": "markdown",
     "metadata": {},
     "source": [
      "The standard way to deal with these is to use \"try except\" blocks"
     ]
    },
    {
     "cell_type": "code",
     "collapsed": false,
     "input": [
      "def robust_float(fstring):\n",
      "    try:\n",
      "        x = float(fstring)\n",
      "    except ValueError as e:\n",
      "        # we can find out more detail about the exception\n",
      "        print(e.args)\n",
      "        print(e.message)\n",
      "        x = np.nan\n",
      "    return x\n",
      "print robust_float(\"3.14\")\n",
      "print robust_float(\"N/A\")"
     ],
     "language": "python",
     "metadata": {},
     "outputs": [
      {
       "ename": "SyntaxError",
       "evalue": "invalid syntax (<ipython-input-15-6cb9d49c4cac>, line 10)",
       "output_type": "pyerr",
       "traceback": [
        "\u001b[0;36m  File \u001b[0;32m\"<ipython-input-15-6cb9d49c4cac>\"\u001b[0;36m, line \u001b[0;32m10\u001b[0m\n\u001b[0;31m    print robust_float(\"3.14\")\u001b[0m\n\u001b[0m                     ^\u001b[0m\n\u001b[0;31mSyntaxError\u001b[0m\u001b[0;31m:\u001b[0m invalid syntax\n"
       ]
      }
     ],
     "prompt_number": 15
    },
    {
     "cell_type": "markdown",
     "metadata": {},
     "source": [
      "It is ESSENTIAL practice to only catch the specific types of Exceptions you are prepared to deal with. If you trap all exceptions (i.e., \"except Exception\") you run the risk of an unexpected problem being ignored, and you won't understand where the problem occurred since you explicitly ignored it. This can be extremely hard to track down."
     ]
    },
    {
     "cell_type": "code",
     "collapsed": false,
     "input": [
      "def robust_inverted_float(fstring):\n",
      "    try:\n",
      "        x = 1./float(fstring)\n",
      "    # To catch multiple types of Exceptions:\n",
      "    #    except (ThisError, ThatError) as ...\n",
      "    except ValueError:\n",
      "        print(\"Warning, encountered non-float value\", fstring)\n",
      "        x = np.nan\n",
      "    except ZeroDivisionError:\n",
      "        print(\"Warning, encountered divide by zero\")\n",
      "        x = np.nan\n",
      "    return x\n",
      "print(robust_inverted_float(\"3.3\"))\n",
      "print(robust_inverted_float(\"N/A\"))\n",
      "print(robust_inverted_float(\"0\"))"
     ],
     "language": "python",
     "metadata": {},
     "outputs": [
      {
       "output_type": "stream",
       "stream": "stdout",
       "text": [
        "0.30303030303\n",
        "Warning, encountered non-float value N/A\n",
        "nan\n",
        "Warning, encountered divide by zero\n",
        "nan\n"
       ]
      }
     ],
     "prompt_number": 16
    },
    {
     "cell_type": "markdown",
     "metadata": {},
     "source": [
      "You can also use *else* and *finally* in the logic. The else block is executed if no exception happened. The finally block always is executed regardless of whether exceptions occur. This is handy if you need to close a file or delete a resource regardless (though the \"with\" block handles many of these cases now).\n",
      "\n",
      "*ImportError* is useful when you want to disable something in your code if a dependency is not found."
     ]
    },
    {
     "cell_type": "code",
     "collapsed": false,
     "input": [
      "try:\n",
      "    import myplottingpackage\n",
      "    doplot = True\n",
      "except ImportError:\n",
      "    print('The required plotting package is not found')\n",
      "    doplot = False\n",
      "    \n",
      "# some codes to get results, and then...\n",
      "print('Doing science...')\n",
      "result = 42\n",
      "\n",
      "if doplot:\n",
      "    myplottingpackage.fancyplot(result)\n",
      "else:\n",
      "    print('No plotting done.')"
     ],
     "language": "python",
     "metadata": {},
     "outputs": [
      {
       "output_type": "stream",
       "stream": "stdout",
       "text": [
        "The required plotting package is not found\n",
        "Doing science...\n",
        "No plotting done.\n"
       ]
      }
     ],
     "prompt_number": 17
    },
    {
     "cell_type": "markdown",
     "metadata": {},
     "source": [
      "You can also define your own type of Exception. This is mostly useful so that you can catch these specfic errors else where in code. While this uses classes, you don't need to know much more than blindly following this example. Note that your definition of an exception will also be considered a match for each exception in its inheritance hierarchy (this part does require a little understanding of classes: (<http://docs.python.org/2/tutorial/classes.html>)."
     ]
    },
    {
     "cell_type": "code",
     "collapsed": false,
     "input": [
      "# This inherits everything from Exception class\n",
      "class PhotError(Exception):\n",
      "    \"\"\"Photometry errors.\"\"\"\n",
      "    pass"
     ],
     "language": "python",
     "metadata": {},
     "outputs": [],
     "prompt_number": 18
    },
    {
     "cell_type": "code",
     "collapsed": false,
     "input": [
      "raise PhotError('My phot failed. Oh, no!')"
     ],
     "language": "python",
     "metadata": {},
     "outputs": [
      {
       "ename": "PhotError",
       "evalue": "My phot failed. Oh, no!",
       "output_type": "pyerr",
       "traceback": [
        "\u001b[0;31m---------------------------------------------------------------------------\u001b[0m\n\u001b[0;31mPhotError\u001b[0m                                 Traceback (most recent call last)",
        "\u001b[0;32m<ipython-input-19-c605b2a32222>\u001b[0m in \u001b[0;36m<module>\u001b[0;34m()\u001b[0m\n\u001b[0;32m----> 1\u001b[0;31m \u001b[0;32mraise\u001b[0m \u001b[0mPhotError\u001b[0m\u001b[0;34m(\u001b[0m\u001b[0;34m'My phot failed. Oh, no!'\u001b[0m\u001b[0;34m)\u001b[0m\u001b[0;34m\u001b[0m\u001b[0m\n\u001b[0m",
        "\u001b[0;31mPhotError\u001b[0m: My phot failed. Oh, no!"
       ]
      },
      {
       "output_type": "stream",
       "stream": "stdout",
       "text": [
        "\u001b[0;31mERROR\u001b[0m: PhotError: My phot failed. Oh, no! [IPython.core.interactiveshell]\n"
       ]
      }
     ],
     "prompt_number": 19
    },
    {
     "cell_type": "markdown",
     "metadata": {},
     "source": [
      "In terms of code performance when handling Exceptions, this discussion might be useful: http://stackoverflow.com/questions/5589532/try-catch-or-validation-for-speed\n",
      "\n",
      "Basically one should avoid using exceptions for the usual case since it is slower than testing for conditions."
     ]
    },
    {
     "cell_type": "heading",
     "level": 2,
     "metadata": {},
     "source": [
      "Shell and File operations from scripts"
     ]
    },
    {
     "cell_type": "markdown",
     "metadata": {},
     "source": [
      "One can use the os, os.path, sys, glob, and shutil modules to do many of the interactions with files that one would normally do from the shell. The following shows examples of common things, but refer to the library documentation on these for all the available functions:\n",
      "\n",
      " - os: http://docs.python.org/2/library/os.html\n",
      " - os.path: http://docs.python.org/2/library/os.path.html\n",
      " - glob: http://docs.python.org/2/library/glob.html\n",
      " - shutil: http://docs.python.org/2/library/shutil.html\n",
      " - sys: http://docs.python.org/2/library/shutil.html"
     ]
    },
    {
     "cell_type": "code",
     "collapsed": false,
     "input": [
      "# sys provides information about the current session. Most useful for most people\n",
      "# is the current path information, version of python, and the ability to manipulate\n",
      "# stdin, stdout, stderr\n",
      "import sys\n",
      "print(sys.path)\n",
      "print(sys.version)\n",
      "oldstdout = sys.stdout # save it!\n",
      "sys.stdout = open('stdout.txt','w')\n",
      "print(\"hello world\")\n",
      "sys.stdout.close()\n",
      "sys.stdout = oldstdout"
     ],
     "language": "python",
     "metadata": {},
     "outputs": [
      {
       "output_type": "stream",
       "stream": "stdout",
       "text": [
        "['', '/Users/perry/Ureka/variants/common/lib/python', '/Users/perry/Ureka/variants/common/lib/python', '/Users/perry/Ureka/python/lib', '/Users/perry/Ureka/python/lib/python2.7/site-packages/distribute-0.6.28-py2.7.egg', '/Users/perry/Ureka/python/lib/python2.7/site-packages/pyobjc_core-2.3-py2.7-macosx-10.6-x86_64.egg', '/Users/perry/Ureka/python/lib/python2.7/site-packages/pyobjc-2.3-py2.7.egg', '/Users/perry/Ureka/python/lib/python2.7/site-packages/pyobjc_framework_ServiceManagement-2.3-py2.7.egg', '/Users/perry/Ureka/python/lib/python2.7/site-packages/pyobjc_framework_ServerNotification-2.3-py2.7.egg', '/Users/perry/Ureka/python/lib/python2.7/site-packages/pyobjc_framework_CoreLocation-2.3-py2.7.egg', '/Users/perry/Ureka/python/lib/python2.7/site-packages/pyobjc_framework_AppleScriptObjC-2.3-py2.7.egg', '/Users/perry/Ureka/python/lib/python2.7/site-packages/pyobjc_framework_ScriptingBridge-2.3-py2.7.egg', '/Users/perry/Ureka/python/lib/python2.7/site-packages/pyobjc_framework_QTKit-2.3-py2.7.egg', '/Users/perry/Ureka/python/lib/python2.7/site-packages/pyobjc_framework_PubSub-2.3-py2.7.egg', '/Users/perry/Ureka/python/lib/python2.7/site-packages/pyobjc_framework_InterfaceBuilderKit-2.3-py2.7.egg', '/Users/perry/Ureka/python/lib/python2.7/site-packages/pyobjc_framework_InstantMessage-2.3-py2.7.egg', '/Users/perry/Ureka/python/lib/python2.7/site-packages/pyobjc_framework_InputMethodKit-2.3-py2.7.egg', '/Users/perry/Ureka/python/lib/python2.7/site-packages/pyobjc_framework_DictionaryServices-2.3-py2.7.egg', '/Users/perry/Ureka/python/lib/python2.7/site-packages/pyobjc_framework_Collaboration-2.3-py2.7.egg', '/Users/perry/Ureka/python/lib/python2.7/site-packages/pyobjc_framework_CalendarStore-2.3-py2.7.egg', '/Users/perry/Ureka/python/lib/python2.7/site-packages/pyobjc_framework_XgridFoundation-2.3-py2.7.egg', '/Users/perry/Ureka/python/lib/python2.7/site-packages/pyobjc_framework_WebKit-2.3-py2.7.egg', '/Users/perry/Ureka/python/lib/python2.7/site-packages/pyobjc_framework_SystemConfiguration-2.3-py2.7-macosx-10.6-x86_64.egg', '/Users/perry/Ureka/python/lib/python2.7/site-packages/pyobjc_framework_SyncServices-2.3-py2.7.egg', '/Users/perry/Ureka/python/lib/python2.7/site-packages/pyobjc_framework_SearchKit-2.3-py2.7.egg', '/Users/perry/Ureka/python/lib/python2.7/site-packages/pyobjc_framework_ScreenSaver-2.3-py2.7-macosx-10.6-x86_64.egg', '/Users/perry/Ureka/python/lib/python2.7/site-packages/pyobjc_framework_Quartz-2.3-py2.7-macosx-10.6-x86_64.egg', '/Users/perry/Ureka/python/lib/python2.7/site-packages/pyobjc_framework_PreferencePanes-2.3-py2.7.egg', '/Users/perry/Ureka/python/lib/python2.7/site-packages/pyobjc_framework_Message-2.3-py2.7.egg', '/Users/perry/Ureka/python/lib/python2.7/site-packages/pyobjc_framework_LaunchServices-2.3-py2.7.egg', '/Users/perry/Ureka/python/lib/python2.7/site-packages/pyobjc_framework_LatentSemanticMapping-2.3-py2.7.egg', '/Users/perry/Ureka/python/lib/python2.7/site-packages/pyobjc_framework_InstallerPlugins-2.3-py2.7.egg', '/Users/perry/Ureka/python/lib/python2.7/site-packages/pyobjc_framework_FSEvents-2.3-py2.7-macosx-10.6-x86_64.egg', '/Users/perry/Ureka/python/lib/python2.7/site-packages/pyobjc_framework_ExceptionHandling-2.3-py2.7.egg', '/Users/perry/Ureka/python/lib/python2.7/site-packages/pyobjc_framework_CoreText-2.3-py2.7-macosx-10.6-x86_64.egg', '/Users/perry/Ureka/python/lib/python2.7/site-packages/pyobjc_framework_CoreData-2.3-py2.7.egg', '/Users/perry/Ureka/python/lib/python2.7/site-packages/pyobjc_framework_Cocoa-2.3-py2.7-macosx-10.6-x86_64.egg', '/Users/perry/Ureka/python/lib/python2.7/site-packages/pyobjc_framework_CFNetwork-2.3-py2.7-macosx-10.6-x86_64.egg', '/Users/perry/Ureka/python/lib/python2.7/site-packages/pyobjc_framework_Automator-2.3-py2.7.egg', '/Users/perry/Ureka/python/lib/python2.7/site-packages/pyobjc_framework_AppleScriptKit-2.3-py2.7.egg', '/Users/perry/Ureka/python/lib/python2.7/site-packages/pyobjc_framework_AddressBook-2.3-py2.7.egg', '/Users/perry/Ureka/python/lib/python2.7/site-packages/tornado-2.3-py2.7.egg', '/Users/perry/Ureka/python/lib/python2.7/site-packages/pip-1.1-py2.7.egg', '/Users/perry/Ureka/python/lib/python27.zip', '/Users/perry/Ureka/python/lib/python2.7', '/Users/perry/Ureka/python/lib/python2.7/plat-darwin', '/Users/perry/Ureka/python/lib/python2.7/plat-mac', '/Users/perry/Ureka/python/lib/python2.7/plat-mac/lib-scriptpackages', '/Users/perry/Ureka/python/lib/python2.7/lib-tk', '/Users/perry/Ureka/python/lib/python2.7/lib-old', '/Users/perry/Ureka/python/lib/python2.7/lib-dynload', '/Users/perry/Ureka/python/lib/python2.7/site-packages', '/Users/perry/Ureka/python/lib/python2.7/site-packages/PIL', '/Users/perry/Ureka/python/lib/python2.7/site-packages/setuptools-0.6c11-py2.7.egg-info', '/Users/perry/Ureka/variants/common/lib/python', '/Users/perry/Ureka/variants/common/lib/python', '/Users/perry/Ureka/python/lib', '/Users/perry/Ureka/python/lib/python2.7/site-packages/IPython/extensions']\n",
        "2.7.3 (default, Nov  6 2012, 09:20:07) \n",
        "[GCC 4.2.1 (Apple Inc. build 5664)]\n"
       ]
      }
     ],
     "prompt_number": 20
    },
    {
     "cell_type": "code",
     "collapsed": false,
     "input": [
      "!head stdout.txt"
     ],
     "language": "python",
     "metadata": {},
     "outputs": [
      {
       "output_type": "stream",
       "stream": "stdout",
       "text": [
        "hello world\r\n"
       ]
      }
     ],
     "prompt_number": 21
    },
    {
     "cell_type": "code",
     "collapsed": false,
     "input": [
      "# glob is useful for getting a list of files similar to that you would have through\n",
      "# the shell ls command with wildcards\n",
      "import glob\n",
      "flist = glob.glob('*.ipynb')\n",
      "print(flist)"
     ],
     "language": "python",
     "metadata": {},
     "outputs": [
      {
       "output_type": "stream",
       "stream": "stdout",
       "text": [
        "['Session1_Astro_Demo.ipynb', 'Session1_Demo.ipynb', 'Session1_Introduction.ipynb', 'Session2_Basic.ipynb', 'Session3_Phot_Phun_1.ipynb', 'Session4_phot_2.ipynb', 'Session5_STIS_Spec.ipynb', 'Session6_b.ipynb', 'Session6_Various.ipynb', 'Session6_Various_merge2.ipynb', 'temp.ipynb']\n"
       ]
      }
     ],
     "prompt_number": 22
    },
    {
     "cell_type": "code",
     "collapsed": false,
     "input": [
      "# os.path is useful for defining file paths that do not depend on os variations (particularly\n",
      "# for MS windows), and information about particular files, and lots of useful path parsing \n",
      "# utilities\n",
      "import os.path\n",
      "path = os.path.join('$HOME', 'bin')\n",
      "print(path)\n",
      "fpath = 'Session1_Introduction.ipynb'\n",
      "print(os.path.exists(fpath))\n",
      "apath = os.path.abspath(fpath)\n",
      "print(\"absolute path=\",apath)\n",
      "print(\"directory=\",os.path.dirname(apath))\n",
      "print(\"basename=\",os.path.basename(apath))\n"
     ],
     "language": "python",
     "metadata": {},
     "outputs": [
      {
       "output_type": "stream",
       "stream": "stdout",
       "text": [
        "$HOME/bin\n",
        "True\n",
        "absolute path= /Users/perry/Dropbox/gitfork/scientific-python-training-2012/lecture_notebooks/Session1_Introduction.ipynb\n",
        "directory= /Users/perry/Dropbox/gitfork/scientific-python-training-2012/lecture_notebooks\n",
        "basename= Session1_Introduction.ipynb\n"
       ]
      }
     ],
     "prompt_number": 23
    },
    {
     "cell_type": "code",
     "collapsed": false,
     "input": [
      "# shutil has several operations for manipulating files.\n",
      "import shutil\n",
      "shutil.copyfile(fpath, \"temp.ipynb\") # copy a file\n",
      "print(glob.glob('*.ipynb'))\n",
      "shutil.move(\"temp.ipynb\", \"..\")\n",
      "print(glob.glob('../*ipynb'))"
     ],
     "language": "python",
     "metadata": {},
     "outputs": [
      {
       "output_type": "stream",
       "stream": "stdout",
       "text": [
        "['Session1_Astro_Demo.ipynb', 'Session1_Demo.ipynb', 'Session1_Introduction.ipynb', 'Session2_Basic.ipynb', 'Session3_Phot_Phun_1.ipynb', 'Session4_phot_2.ipynb', 'Session5_STIS_Spec.ipynb', 'Session6_b.ipynb', 'Session6_Various.ipynb', 'Session6_Various_merge2.ipynb', 'temp.ipynb']\n",
        "['../temp.ipynb']\n"
       ]
      }
     ],
     "prompt_number": 24
    },
    {
     "cell_type": "code",
     "collapsed": false,
     "input": [
      "# os has many OS level functions\n",
      "import os\n",
      "print(os.environ) # list all environmental variables\n",
      "os.chdir('..')\n",
      "print(\"\\n\\nCurrent working directory = \", os.getcwd())\n",
      "print(os.listdir('.'))\n",
      "os.mkdir('bozo')\n",
      "print(os.listdir('.'))\n",
      "os.rmdir('bozo')\n",
      "os.remove('temp.ipynb')\n",
      "# and many more functions to deal with processes, file permissions, etc."
     ],
     "language": "python",
     "metadata": {},
     "outputs": [
      {
       "output_type": "stream",
       "stream": "stdout",
       "text": [
        "{'hbin': '/Users/perry/Ureka/iraf//unix/bin.macosx/', 'HSI_LF': '-I/Users/perry/Ureka/iraf//include/ -arch i386 -m32 -mmacosx-version-min=10.4', 'GROUP': 'unknown', 'XDG_DATA_HOME': '/Users/perry/.local/share', 'REMOTEHOST': '', 'TERM_PROGRAM_VERSION': '303.2', 'UR_DIR': '/Users/perry/Ureka', 'LOGNAME': 'perry', 'USER': 'perry', 'PATH': '/Users/perry/Ureka/bin:/Users/perry/Ureka/variants/common/bin:/Users/perry/Ureka/variants/common/bin:/Users/perry/Ureka/python:/Users/perry/Ureka/python/bin:/Users/perry/bin:/Users/perry/bin:/Applications/ST_sci/SM/bin:/Applications/ST_sci/SEXTRACTOR/bin:/sw/bin:/sw/sbin:/Applications/ST_sci/bin:/usr/bin:/bin:/usr/sbin:/sbin:/usr/local/bin:/usr/X11/bin:/usr/texbin:/usr/X11R6/bin', 'HOME': '/Users/perry', 'CLICOLOR': '1', 'UR_DIR_PKG': '/Users/perry/Ureka/variants/common/', 'DISPLAY': '/tmp/launch-XPW2Cq/org.x:0', 'UR_OS': 'osx-7', 'TERM_PROGRAM': 'Apple_Terminal', 'LANG': 'en_US.UTF-8', 'INFOPATH': '/sw/share/info:/sw/info:/usr/share/info', 'TERM': 'xterm-color', 'SHELL': '/bin/tcsh', 'HSI_LIBS': '/Users/perry/Ureka/iraf//unix/hlib/libboot.a /Users/perry/Ureka/iraf//lib/libsys.a /Users/perry/Ureka/iraf//lib/libvops.a /Users/perry/Ureka/iraf//unix/hlib/libos.a ', 'SHLVL': '1', 'GDFONTPATH': '/Library/Fonts', 'HEADAS': '/Applications/ST_sci/heasoft-6.11.1/i386-apple-darwin11.1.0', 'EXELIS_DIR': '/Applications/exelis', 'PGPLOT_DIR': '/sw/lib/pgplot', 'GNUTERM': 'aqua', 'GNUPLOT_DEFAULT_GDFONT': 'Arial', 'MANPATH': '/Users/perry/Ureka/share/man:/Users/perry/Ureka/variants/common/man:/Users/perry/Ureka/variants/common/man:/Users/perry/Ureka/variants/common/share/man:/Users/perry/Ureka/python/man::/Applications/ST_sci/SEXTRACTOR/man:/sw/share/man:/usr/share/man:/usr/local/share/man:/usr/X11/man:/usr/texbin/man:/sw/lib/perl5/5.12.3/man:/usr/X11R6/man', 'OSTYPE': 'darwin', 'tmp': '/tmp/', 'HSI_LFLAGS': '', 'UR_CPU': 'x86', 'XDG_CONFIG_HOME': '/Users/perry/.config', 'TERM_SESSION_ID': '8671681D-3459-4075-ACD4-31FD0FB21EE3', 'XAPPLRESDIR': '/sw/etc/app-defaults/', 'VENDOR': 'apple', 'ac_cv_path_INTLTOOL_PERL': '/usr/bin/perl', 'GIT_PAGER': 'cat', 'HSI_XF': '-I/Users/perry/Ureka/iraf//include/ -Inolibc -/DMACOSX -w -/Wunused -/m32 -/arch -//i386 -/mmacosx-version-min=10.4', 'CC': 'cc', 'iraf': '/Users/perry/Ureka/iraf/', 'SSH_AUTH_SOCK': '/tmp/launch-Mq8WCk/Listeners', 'XDG_CACHE_HOME': '/Users/perry/.cache', 'HSI_CF': '-I/Users/perry/Ureka/iraf//include/ -O -DMACOSX -w -Wunused -arch i386 -m32 -mmacosx-version-min=10.4', 'XML_CATALOG_FILES': '/sw/etc/xml/catalog', 'DYLD_LIBRARY_PATH': '/Applications/ST_sci/SM/lib:', 'HOST': 'beeblebrox.home', 'Apple_PubSub_Socket_Render': '/tmp/launch-RbCsPu/Render', 'HOSTTYPE': 'intel-mac', 'XDG_DATA_DIRS': '/sw/share', 'IRAFARCH': 'macosx', 'HSI_FF': '-I/Users/perry/Ureka/iraf//include/ -O -arch i386 -m32 -DBLD_KERNEL -mmacosx-version-min=10.4', 'IDL_DIR': '/Applications/exelis/idl82', 'F77': '/Users/perry/Ureka/iraf//unix/hlib//f77.sh', 'RANLIB': 'ranlib', 'DBUS_SESSION_BUS_ADDRESS': 'launchd:env=DBUS_FINK_SESSION_BUS_SOCKET', 'TMPDIR': '/var/folders/m1/8vfhq2315vlcqkbn6bhh4wgh0003y2/T/', 'MACH': 'macosx', 'F2C': '/Users/perry/Ureka/iraf//unix/bin.macosx//f2c.e', 'PERL5LIB': '/sw/lib/perl5:/sw/lib/perl5/darwin', 'hostid': 'unix', 'XDG_CONFIG_DIRS': '/sw/etc/xdg', 'HSI_F77LIBS': '', 'UR_PYTHONPATH': '/Users/perry/Ureka/variants/common/lib/python:/Users/perry/Ureka/variants/common/lib/python:/Users/perry/Ureka/python/lib', 'UR_BITS': '64', 'GDK_USE_XFT': '1', 'IDL_PATH': '.:+/Applications/exelis/local/astron:+/Applications/exelis/idl82/lib', 'HSI_OSLIBS': '', 'host': '/Users/perry/Ureka/iraf//unix/', 'hlib': '/Users/perry/Ureka/iraf//unix/hlib/', '__CF_USER_TEXT_ENCODING': '0xFC2:0:0', 'Apple_Ubiquity_Message': '/tmp/launch-4NGYYW/Apple_Ubiquity_Message', 'PWD': '/Users/perry/dropbox/gitfork/scientific-python-training-2012/lecture_notebooks', 'SGML_CATALOG_FILES': '/sw/etc/sgml/catalog', 'PAGER': 'cat', 'GDL_PATH': '+/sw/share/gnudatalanguage/lib', 'UR_VARIANT': 'common', 'MACHTYPE': 'x86_64', 'QTDIR': '/sw/lib/qt3', 'COMMAND_MODE': 'unix2003'}\n",
        "\n",
        "\n",
        "Current working directory =  /Users/perry/Dropbox/gitfork/scientific-python-training-2012\n",
        "['.git', '.gitignore', 'data', 'homework_notebooks', 'lecture_notebooks', 'README.rst', 'temp.ipynb']\n",
        "['.git', '.gitignore', 'bozo', 'data', 'homework_notebooks', 'lecture_notebooks', 'README.rst', 'temp.ipynb']\n"
       ]
      }
     ],
     "prompt_number": 25
    },
    {
     "cell_type": "heading",
     "level": 2,
     "metadata": {},
     "source": [
      "Conesearch example"
     ]
    },
    {
     "cell_type": "markdown",
     "metadata": {},
     "source": [
      "With the supplied conesearch.py module, it is fairly simple to read conesearch results into python. The main trick now is finding the appropriate URL to use for the catalog you wish to use for a conesearch (In astropy 0.3 an easier-to-use and more robust conesearch facility will be available). We'll show an example of obtaining a list of astrometric starts from the USNO-A2 catalog that are within 0.1 degree radius of ra=10, dec=10 (both in degrees).\n",
      "\n",
      "The following link has more info on this particular conesearch and the URL's of related catalogs http://www.nofs.navy.mil/data/fchpix/vo_nofs.html"
     ]
    },
    {
     "cell_type": "code",
     "collapsed": false,
     "input": [
      "results = conesearch.vo_service_request(\n",
      "              \"http://www.nofs.navy.mil/cgi-bin/vo_cone.cgi?CAT=USNO-B1&\",\n",
      "               RA=10.,DEC=10.,SR=0.1)\n"
     ],
     "language": "python",
     "metadata": {},
     "outputs": [
      {
       "output_type": "stream",
       "stream": "stdout",
       "text": [
        "\r",
        "\u001b[0;39mDownloading http://www.nofs.navy.mil/cgi-bin/vo_cone.cgi?CAT=USNO-B1&SR=0.1&DEC=10.0&RA=10.0\u001b[0m \u25d3"
       ]
      },
      {
       "output_type": "stream",
       "stream": "stdout",
       "text": [
        "\r",
        "\u001b[0;39mDownloading http://www.nofs.navy.mil/cgi-bin/vo_cone.cgi?CAT=USNO-B1&SR=0.1&DEC=10.0&RA=10.0\u001b[0m\u001b[0;32m [Done]\u001b[0m\n"
       ]
      },
      {
       "output_type": "stream",
       "stream": "stdout",
       "text": [
        "\u001b[0;33mWARNING\u001b[0m: W21: http://www.nofs.navy.mil/cgi-bin/vo_cone.cgi?CAT=USNO-B1&SR=0.1&DEC=10.0&RA=10.0:4:0: W21: vo.table is designed for VOTable version 1.1 and 1.2, but this file is 1.0 [astropy.io.votable.exceptions]\n",
        "\u001b[0;33mWARNING\u001b[0m: W42: http://www.nofs.navy.mil/cgi-bin/vo_cone.cgi?CAT=USNO-B1&SR=0.1&DEC=10.0&RA=10.0:4:0: W42: No XML namespace specified [astropy.io.votable.exceptions]\n",
        "\u001b[0;33mWARNING\u001b[0m: W17: http://www.nofs.navy.mil/cgi-bin/vo_cone.cgi?CAT=USNO-B1&SR=0.1&DEC=10.0&RA=10.0:15:15: W17: VOTABLE element contains more than one DESCRIPTION element [astropy.io.votable.exceptions]\n"
       ]
      }
     ],
     "prompt_number": 26
    },
    {
     "cell_type": "code",
     "collapsed": false,
     "input": [
      "help(results)\n"
     ],
     "language": "python",
     "metadata": {},
     "outputs": [
      {
       "output_type": "stream",
       "stream": "stdout",
       "text": [
        "Help on Table in module astropy.io.votable.tree object:\n",
        "\n",
        "class Table(Element, _IDProperty, _NameProperty, _UcdProperty, _DescriptionProperty)\n",
        " |  TABLE_ element: optionally contains data.\n",
        " |  \n",
        " |  It contains the following publicly-accessible and mutable\n",
        " |  attribute:\n",
        " |  \n",
        " |      *array*: A Numpy masked array of the data itself, where each\n",
        " |      row is a row of votable data, and columns are named and typed\n",
        " |      based on the <FIELD> elements of the table.  The mask is\n",
        " |      parallel to the data array, except for variable-length fields.\n",
        " |      For those fields, the numpy array's column type is \"object\"\n",
        " |      (``\"O\"``), and another masked array is stored there.\n",
        " |  \n",
        " |  If the Table contains no data, (for example, its enclosing\n",
        " |  :class:`Resource` has :attr:`~Resource.type` == 'meta') *array*\n",
        " |  will have zero-length.\n",
        " |  \n",
        " |  The keyword arguments correspond to setting members of the same\n",
        " |  name, documented below.\n",
        " |  \n",
        " |  Method resolution order:\n",
        " |      Table\n",
        " |      Element\n",
        " |      _IDProperty\n",
        " |      _NameProperty\n",
        " |      _UcdProperty\n",
        " |      _DescriptionProperty\n",
        " |      __builtin__.object\n",
        " |  \n",
        " |  Methods defined here:\n",
        " |  \n",
        " |  __init__(self, votable, ID=None, name=None, ref=None, ucd=None, utype=None, nrows=None, id=None, config={}, pos=None, **extra)\n",
        " |  \n",
        " |  create_arrays(self, nrows=0, config={})\n",
        " |      Create a new array to hold the data based on the current set\n",
        " |      of fields, and store them in the *array* and member variable.\n",
        " |      Any data in the existing array will be lost.\n",
        " |      \n",
        " |      *nrows*, if provided, is the number of rows to allocate.\n",
        " |  \n",
        " |  get_field_by_id = lookup_by_id(self, ref, before=None)\n",
        " |      Looks up a FIELD or PARAM element by the given ID.\n",
        " |  \n",
        " |  get_field_by_id_or_name = lookup_by_id(self, ref, before=None)\n",
        " |      Looks up a FIELD or PARAM element by the given ID or name.\n",
        " |  \n",
        " |  get_group_by_id = lookup_by_id(self, ref, before=None)\n",
        " |      Looks up a GROUP element by the given ID.  Used by the group's\n",
        " |      \"ref\" attribute\n",
        " |  \n",
        " |  is_empty(self)\n",
        " |      Returns True if this table doesn't contain any real data\n",
        " |      because it was skipped over by the parser (through use of the\n",
        " |      `table_number` kwarg).\n",
        " |  \n",
        " |  iter_fields_and_params(self)\n",
        " |      Recursively iterate over all FIELD and PARAM elements in the\n",
        " |      TABLE.\n",
        " |  \n",
        " |  iter_groups(self)\n",
        " |      Recursively iterate over all GROUP elements in the TABLE.\n",
        " |  \n",
        " |  parse(self, iterator, config)\n",
        " |  \n",
        " |  to_table(self)\n",
        " |      Convert this VO Table to an `astropy.table.Table` instance.\n",
        " |      \n",
        " |      .. warning::\n",
        " |      \n",
        " |         Variable-length array fields may not be restored\n",
        " |         identically when round-tripping through the\n",
        " |         `astropy.table.Table` instance.\n",
        " |  \n",
        " |  to_xml(self, w, **kwargs)\n",
        " |  \n",
        " |  ----------------------------------------------------------------------\n",
        " |  Class methods defined here:\n",
        " |  \n",
        " |  from_table(cls, votable, table) from __builtin__.type\n",
        " |      Create a `Table` instance from a given `astropy.table.Table`\n",
        " |      instance.\n",
        " |  \n",
        " |  ----------------------------------------------------------------------\n",
        " |  Data descriptors defined here:\n",
        " |  \n",
        " |  fields\n",
        " |      A list of :class:`Field` objects describing the types of each\n",
        " |      of the data columns.\n",
        " |  \n",
        " |  format\n",
        " |      [*required*] The serialization format of the table.  Must be\n",
        " |      one of:\n",
        " |      \n",
        " |        'tabledata' (TABLEDATA_), 'binary' (BINARY_), 'fits' (FITS_).\n",
        " |      \n",
        " |      Note that the 'fits' format, since it requires an external\n",
        " |      file, can not be written out.  Any file read in with 'fits'\n",
        " |      format will be read out, by default, in 'tabledata' format.\n",
        " |  \n",
        " |  groups\n",
        " |      A list of :class:`Group` objects describing how the columns\n",
        " |      and parameters are grouped.  Currently this information is\n",
        " |      only kept around for round-tripping and informational\n",
        " |      purposes.\n",
        " |  \n",
        " |  infos\n",
        " |      A list of :class:`Info` objects for the table.  Allows for\n",
        " |      post-operational diagnostics.\n",
        " |  \n",
        " |  links\n",
        " |      A list of :class:`Link` objects (pointers to other documents\n",
        " |      or servers through a URI) for the table.\n",
        " |  \n",
        " |  nrows\n",
        " |      [*immutable*] The number of rows in the table, as specified in\n",
        " |      the XML file.\n",
        " |  \n",
        " |  params\n",
        " |      A list of parameters (constant-valued columns) for the\n",
        " |      table.  Must contain only :class:`Param` objects.\n",
        " |  \n",
        " |  ref\n",
        " |  \n",
        " |  ----------------------------------------------------------------------\n",
        " |  Data descriptors inherited from Element:\n",
        " |  \n",
        " |  __dict__\n",
        " |      dictionary for instance variables (if defined)\n",
        " |  \n",
        " |  __weakref__\n",
        " |      list of weak references to the object (if defined)\n",
        " |  \n",
        " |  ----------------------------------------------------------------------\n",
        " |  Data descriptors inherited from _IDProperty:\n",
        " |  \n",
        " |  ID\n",
        " |      The XML ID_ of the element.  May be ``None`` or a string\n",
        " |      conforming to XML ID_ syntax.\n",
        " |  \n",
        " |  ----------------------------------------------------------------------\n",
        " |  Data descriptors inherited from _NameProperty:\n",
        " |  \n",
        " |  name\n",
        " |      An optional name for the element.\n",
        " |  \n",
        " |  ----------------------------------------------------------------------\n",
        " |  Data descriptors inherited from _UcdProperty:\n",
        " |  \n",
        " |  ucd\n",
        " |      The `unified content descriptor`_ for the element.\n",
        " |  \n",
        " |  ----------------------------------------------------------------------\n",
        " |  Data descriptors inherited from _DescriptionProperty:\n",
        " |  \n",
        " |  description\n",
        " |      An optional string describing the element.  Corresponds to the\n",
        " |      DESCRIPTION_ element.\n",
        "\n"
       ]
      }
     ],
     "prompt_number": 27
    },
    {
     "cell_type": "code",
     "collapsed": false,
     "input": [
      "for field in results.fields: print(field.name)"
     ],
     "language": "python",
     "metadata": {},
     "outputs": [
      {
       "output_type": "stream",
       "stream": "stdout",
       "text": [
        "id\n",
        "RA\n",
        "DEC\n",
        "sRa\n",
        "sDec\n",
        "sRaEp\n",
        "sDeEp\n",
        "MuRA\n",
        "MuDEC\n",
        "sMuRA\n",
        "sMuDE\n",
        "B1\n",
        "R1\n",
        "B2\n",
        "R2\n",
        "I2\n"
       ]
      }
     ],
     "prompt_number": 28
    },
    {
     "cell_type": "code",
     "collapsed": false,
     "input": [
      "plot(results.array['RA'],results.array['DEC'],'+')"
     ],
     "language": "python",
     "metadata": {},
     "outputs": [
      {
       "output_type": "pyout",
       "prompt_number": 29,
       "text": [
        "[<matplotlib.lines.Line2D at 0x109636990>]"
       ]
      },
      {
       "output_type": "display_data",
       "png": "[encoded data removed]"
      }
     ],
     "prompt_number": 29
    },
    {
     "cell_type": "heading",
     "level": 2,
     "metadata": {},
     "source": [
      "Regular Expressions"
     ]
    },
    {
     "cell_type": "markdown",
     "metadata": {},
     "source": [
      "Regular expression tools provide extremely powerful tools for processing strings. But it is a complex topic that whole books have been devoted to. One should keep in mind the following quote:\n",
      "\n",
      "'Some people, when confronted with a problem, think \u201cI know, I'll use regular expressions.\u201d   Now they have two problems.'\n",
      "\n",
      "Nevvertheless, they can be very useful; just try to keep particular regular expressions from getting too complicated. They can be hard to debug when complex, besides being hard to read.\n",
      "\n",
      "The basic capabilities include pattern matching tools that allow for:\n",
      "\n",
      " - specifying classes of characters that can be matched (e.g., digits, whitespace, explicit sets of characters, etc.)\n",
      " - specifying numbers of occurances to expect, or ranges of occurances\n",
      " - matching to the beginning or end of lines\n",
      " - giving a list of alternative matches\n",
      " - identifying parts of the match to be extracted for use by the software\n",
      "\n",
      "Basic reference is Python's library reference on the relevant module: http://docs.python.org/2/library/re.html"
     ]
    },
    {
     "cell_type": "code",
     "collapsed": false,
     "input": [
      "import re\n",
      "s1 = \"the email address is  bozo@clowninstitute.com, and one other is rednose@clownsupply.com \"\n",
      "# if matching is to be repeated a lot, precompiling the expression speeds up execution\n",
      "re_email = re.compile(r\"\\s\\S+\\@\\S+[.]\\S+\\s\") # note use of \"raw\" strings to prevent many \\\\\n",
      "mo = re_email.search(s1)\n",
      "print(mo.group())\n",
      "mo = re_email.findall(s1)\n",
      "print(mo)"
     ],
     "language": "python",
     "metadata": {},
     "outputs": [
      {
       "output_type": "stream",
       "stream": "stdout",
       "text": [
        " bozo@clowninstitute.com, \n",
        "[' bozo@clowninstitute.com, ', ' rednose@clownsupply.com ']\n"
       ]
      }
     ],
     "prompt_number": 30
    },
    {
     "cell_type": "markdown",
     "metadata": {},
     "source": [
      "This regular expression is not precise since it includes the whitespace and folds in surrounding punctuation. A really precise regular expression can be quite complex. Here is an example for email addresses that is more precise that was obtained from the internet (these can vary depending on what they restrict, or what future cases they permit)\n",
      "\n",
      "r\"[a-z0-9!#$%&'*+/=?^_`{|}~-]+(?:\\.[a-z0-9!#$%&'*+/=?^_`{|}~-]+)*@(?:[a-z0-9](?:[a-z0-9-]*[a-z0-9])?\\.)+(?:[A-Z]{2}|com|org|net|edu|gov|mil|biz|info|mobi|name|aero|asia|jobs|museum)\\b\"\n",
      "\n",
      "Rather than go to these lengths, it usually makes more sense to go with simpler matches and apply further filtering with successive python string processing code (e.g., stripping whitespace after the fact), or successive regular expressions."
     ]
    },
    {
     "cell_type": "code",
     "collapsed": false,
     "input": [
      "s2 = \"this line contains some decimal numbers such as 7, 9.55, and 3. for test purposes\"\n",
      "re_decimal = re.compile(r\"\\d*[.]\\d+|\\d+[.]?\")\n",
      "mo = re_decimal.findall(s2)\n",
      "print(mo)"
     ],
     "language": "python",
     "metadata": {},
     "outputs": [
      {
       "output_type": "stream",
       "stream": "stdout",
       "text": [
        "['7', '9.55', '3.']\n"
       ]
      }
     ],
     "prompt_number": 31
    },
    {
     "cell_type": "markdown",
     "metadata": {},
     "source": [
      "Finally it is very important to note the distinction between the match() and search() methods. Match means the match must start at the beginning of the string, search tries to find it anywhere within the string, which is often what people want."
     ]
    },
    {
     "cell_type": "heading",
     "level": 2,
     "metadata": {},
     "source": [
      "Debugger"
     ]
    },
    {
     "cell_type": "markdown",
     "metadata": {},
     "source": [
      "The standard debugger is pdb, but it doesn't yet work in the notebook. Presumably it will in future versions. It does work in the terminal version of ipython, which is where it will be demoed. The standard documentation on pdb is located at http://docs.python.org/2/library/pdb.html\n",
      "\n",
      "In ipython, if one uses the %pdb magic, then if your program encounters an untrapped exception, ipython automatically invokes the debugger at the point of the exception, from which one can examine the state of all variables."
     ]
    },
    {
     "cell_type": "heading",
     "level": 2,
     "metadata": {},
     "source": [
      "Python 3 vs Python 2"
     ]
    },
    {
     "cell_type": "markdown",
     "metadata": {},
     "source": [
      "We have been using Python 2 for this course. The is a Python 3 that has been available for a few years that is incompatable with Python 2. Eventually we expect most of Python 2 development to switch to Python 3, but that isn't likely to happen for a year or two. Nevertheless, it makes sense to write existing Python 2 scripts and modules in a way that will minimize the transition pain. The two most useful things you can do is always put:\n",
      "\n",
      "    from __future__ import future_print\n",
      "    from __future__ import division\n",
      "\n",
      "At the top of all scripts. The first forces you to use the python print function instead of the print statement. Python 3 only supports the print function.\n",
      "\n",
      "The second makes the division behavior compatable with that in Python 3. In Python 2 the following is the usual behavior:\n",
      "\n",
      "    >>> 1/2\n",
      "    0\n",
      "\n",
      "In Python 3, this is turned into a float (for all integer division cases regardless of whether the result is an integer or not):\n",
      "\n",
      "    >>> 1/2\n",
      "    0.5\n",
      "\n",
      "This is the most important case of future proofing your code since finding cases where the difference in behavior is important to your code can be quite difficult.\n",
      "\n",
      "There are number of differences between the two that are too extensive to go into here. Most of the advantages of Python 3 over 2 are not generally of great interest to scientists (e.g., much better support for unicode strings), and in some cases, more hassle (e.g., converting byte data into arrays or character strings). But the Python world doesn't want a permanant 2/3 split so we expect that eventually everything will migrate to 3. There is a 2to3 tool that helps translate v2 code into v3 code, but it doesn't handle everything (particularly integer division). There are ways of writing code that does convert perfectly, but understanding how to do that gets moderately involved, and most shouldn't worry obsessively about that. If you do the above, you will remove most of the headaches of the transition. The other issues generally will reveal themselves in obvious ways when it comes to it."
     ]
    },
    {
     "cell_type": "code",
     "collapsed": false,
     "input": [
      "1/1"
     ],
     "language": "python",
     "metadata": {},
     "outputs": [
      {
       "output_type": "pyout",
       "prompt_number": 10,
       "text": [
        "1.0"
       ]
      }
     ],
     "prompt_number": 10
    },
    {
     "cell_type": "code",
     "collapsed": false,
     "input": [],
     "language": "python",
     "metadata": {},
     "outputs": []
    }
   ],
   "metadata": {}
  }
 ]
}