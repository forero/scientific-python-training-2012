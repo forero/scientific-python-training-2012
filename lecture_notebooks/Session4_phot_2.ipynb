{
 "metadata": {
  "name": "Session4_phot_2"
 },
 "nbformat": 3,
 "nbformat_minor": 0,
 "worksheets": [
  {
   "cells": [
    {
     "cell_type": "markdown",
     "metadata": {},
     "source": [
      "#Session 4 - Scripting and PSF Photometry#\n",
      "##Contributions from Megan Sosey, Perry Greenfield, and Pey Lian Lim##\n",
      "\n",
      "##This session will focus on the following ideas:##\n",
      "\n",
      "- Basic scripting and modules.\n",
      "- Looking at a PSF and using it for photometry (not best practices for creating one).\n",
      "- Simple completeness testing:\n",
      "\n",
      "    - How to generate a random array for stellar locations or magnitude.\n",
      "    - Adding the PSF back into your science image.\n",
      "    - Making useful plots of the results.\n",
      "\n",
      "\n",
      "\n",
      "It assumes that you already have good knowledge of aperture and PSF photometry. \n",
      "There is a good tutorial series on photometry, especially with HST and DAOPhot, given by Dave Zurek many moons ago. The files are still available here: http://www.stsci.edu/hst/training/events/Photometry/SSD990302/\n",
      "\n"
     ]
    },
    {
     "cell_type": "code",
     "collapsed": false,
     "input": [
      "# Import some useful modules for this notebook.\n",
      "# __future__ module allows you to use new language features\n",
      "# before they become standard in a future release. \n",
      "\n",
      "# This one is for opening a file and immediately closing it,\n",
      "# freeing up filehandles faster.\n",
      "from __future__ import with_statement\n",
      "\n",
      "# New print() function\n",
      "from __future__ import print_function\n",
      "\n",
      "import shutil\n",
      "from astropy.io import ascii\n",
      "from astropy import table\n",
      "\n",
      "from pyraf import iraf\n",
      "from iraf import noao, digiphot, daophot, ptools\n",
      "from iraf import images, imcoords\n",
      "from iraf import artdata\n",
      "\n",
      "import pyfits\n",
      "import numpy as np\n",
      "import matplotlib.pyplot  as plt"
     ],
     "language": "python",
     "metadata": {},
     "outputs": [],
     "prompt_number": 1
    },
    {
     "cell_type": "heading",
     "level": 2,
     "metadata": {},
     "source": [
      "Making and Running Scripts - The Basics"
     ]
    },
    {
     "cell_type": "markdown",
     "metadata": {},
     "source": [
      "If you are inside the iPython notebook and would like to start a script file, insert the magic below at the top of the cell:\n",
      "\n",
      "    %%file filename\n",
      "\n",
      "The contents of cell following that will get saved in the specified file.\n",
      "Usually Python code is saved in a filename ending in `.py`, but for use only as a script, it doesn't have to be. You can call it anything you like, but unless you use it a lot, keeping `.py` is a good idea."
     ]
    },
    {
     "cell_type": "code",
     "collapsed": false,
     "input": [
      "%%file bozo.py\n",
      "print \"Help, I'm a clown\""
     ],
     "language": "python",
     "metadata": {},
     "outputs": [
      {
       "output_type": "stream",
       "stream": "stdout",
       "text": [
        "Writing bozo.py\n"
       ]
      }
     ],
     "prompt_number": 2
    },
    {
     "cell_type": "markdown",
     "metadata": {},
     "source": [
      "You can also execute that script from inside the notebook session:"
     ]
    },
    {
     "cell_type": "code",
     "collapsed": false,
     "input": [
      "!python bozo.py"
     ],
     "language": "python",
     "metadata": {},
     "outputs": [
      {
       "output_type": "stream",
       "stream": "stdout",
       "text": [
        "Help, I'm a clown\r\n"
       ]
      }
     ],
     "prompt_number": 3
    },
    {
     "cell_type": "markdown",
     "metadata": {},
     "source": [
      "The reason we had to specify \"python\" to run the code is because the file is not executable and doesn't point to the the Python interpreter.\n",
      "We can fix that though:"
     ]
    },
    {
     "cell_type": "code",
     "collapsed": false,
     "input": [
      "%%file sadbozo\n",
      "#!/usr/bin/env python\n",
      "# this points to the python installed on your PATH\n",
      "print \"a sad clown\""
     ],
     "language": "python",
     "metadata": {},
     "outputs": [
      {
       "output_type": "stream",
       "stream": "stdout",
       "text": [
        "Writing sadbozo"
       ]
      },
      {
       "output_type": "stream",
       "stream": "stdout",
       "text": [
        "\n"
       ]
      }
     ],
     "prompt_number": 4
    },
    {
     "cell_type": "code",
     "collapsed": false,
     "input": [
      "# Now make it executable and run it\n",
      "!chmod a+x sadbozo\n",
      "!sadbozo"
     ],
     "language": "python",
     "metadata": {},
     "outputs": [
      {
       "output_type": "stream",
       "stream": "stdout",
       "text": [
        "a sad clown\r\n"
       ]
      }
     ],
     "prompt_number": 5
    },
    {
     "cell_type": "markdown",
     "metadata": {},
     "source": [
      "While this is a great way to flush out some ideas or early data reduction, you'll probably want to work on larger scripts inside of your favorite text editor or IDE (there are quite a few to choose from)."
     ]
    },
    {
     "cell_type": "markdown",
     "metadata": {},
     "source": [
      "If you are working in an iPython shell (simulated in the notebook) you can use the `%run` magic:"
     ]
    },
    {
     "cell_type": "code",
     "collapsed": false,
     "input": [
      "%run bozo.py"
     ],
     "language": "python",
     "metadata": {},
     "outputs": [
      {
       "output_type": "stream",
       "stream": "stdout",
       "text": [
        "Help, I'm a clown"
       ]
      },
      {
       "output_type": "stream",
       "stream": "stdout",
       "text": [
        "\n"
       ]
      }
     ],
     "prompt_number": 6
    },
    {
     "cell_type": "markdown",
     "metadata": {},
     "source": [
      "Be careful in this case because any variable used in the script remain in your current environment!"
     ]
    },
    {
     "cell_type": "code",
     "collapsed": false,
     "input": [
      "%%file bozo2.py\n",
      "name = \"Bozo the Clown\""
     ],
     "language": "python",
     "metadata": {},
     "outputs": [
      {
       "output_type": "stream",
       "stream": "stdout",
       "text": [
        "Writing bozo2.py\n"
       ]
      }
     ],
     "prompt_number": 7
    },
    {
     "cell_type": "code",
     "collapsed": false,
     "input": [
      "%run bozo2.py \n",
      "name  # Now it's in our local namespace"
     ],
     "language": "python",
     "metadata": {},
     "outputs": [
      {
       "output_type": "pyout",
       "prompt_number": 8,
       "text": [
        "'Bozo the Clown'"
       ]
      }
     ],
     "prompt_number": 8
    },
    {
     "cell_type": "markdown",
     "metadata": {},
     "source": [
      "__Important things to remember:__\n",
      "\n",
      "* You can write a Python script in any text editor.\n",
      "\n",
      "* You can make the script executable by itself using a shebang (`#!`) and pointing it to your environment, and make the file executable. (As shown above.)\n",
      "\n",
      "* Scripts need to import all the modules they depend on.\n",
      "\n",
      "* Running a script in a Python session will load all of its variables into your current environment. Watch for common use names! See http://docs.python.org/2/tutorial/classes.html#python-scopes-and-namespaces\n",
      "\n",
      "* For good Python coding practices, see PEP 8 (<http://www.python.org/dev/peps/pep-0008/>_)."
     ]
    },
    {
     "cell_type": "heading",
     "level": 2,
     "metadata": {},
     "source": [
      "Defining a Function"
     ]
    },
    {
     "cell_type": "code",
     "collapsed": false,
     "input": [
      "def square(x):\n",
      "    \"\"\"Take the square of the input value, x.\"\"\"\n",
      "    return x * x"
     ],
     "language": "python",
     "metadata": {},
     "outputs": [],
     "prompt_number": 9
    },
    {
     "cell_type": "code",
     "collapsed": false,
     "input": [
      "square(5)"
     ],
     "language": "python",
     "metadata": {},
     "outputs": [
      {
       "output_type": "pyout",
       "prompt_number": 10,
       "text": [
        "25"
       ]
      }
     ],
     "prompt_number": 10
    },
    {
     "cell_type": "markdown",
     "metadata": {},
     "source": [
      "See the document string I put in the function? It's a good practice to describe what your functions do. It can be useful for yourself and other users.\n",
      "\n",
      "Currently, Sphinx (<http://sphinx-doc.org/>_) is the documentation tool used by SSB. It uses \"reStructuredText\" (<http://docutils.sourceforge.net/rst.html>_) formatting."
     ]
    },
    {
     "cell_type": "code",
     "collapsed": false,
     "input": [
      "square.__doc__"
     ],
     "language": "python",
     "metadata": {},
     "outputs": [
      {
       "output_type": "pyout",
       "prompt_number": 11,
       "text": [
        "'Take the square of the input value, x.'"
       ]
      }
     ],
     "prompt_number": 11
    },
    {
     "cell_type": "code",
     "collapsed": false,
     "input": [
      "help(square)"
     ],
     "language": "python",
     "metadata": {},
     "outputs": [
      {
       "output_type": "stream",
       "stream": "stdout",
       "text": [
        "Help on function square in module __main__:\n",
        "\n",
        "square(x)\n",
        "    Take the square of the input value, x.\n",
        "\n"
       ]
      }
     ],
     "prompt_number": 12
    },
    {
     "cell_type": "markdown",
     "metadata": {},
     "source": [
      "More on the significance of  `__main__`  to come...\n"
     ]
    },
    {
     "cell_type": "heading",
     "level": 3,
     "metadata": {},
     "source": [
      "Defaults, Optional Arguments, etc."
     ]
    },
    {
     "cell_type": "markdown",
     "metadata": {},
     "source": [
      "More details at <http://docs.python.org/2/tutorial/controlflow.html#more-on-defining-functions>_."
     ]
    },
    {
     "cell_type": "code",
     "collapsed": false,
     "input": [
      "def print_me(a, b, c=2):\n",
      "    \"\"\"\n",
      "    Print the input values using new-style `print` function\n",
      "    available in Python 3.x.\n",
      "\n",
      "    .. note::\n",
      "\n",
      "        `c` is an optional keyword.\n",
      "        If not given, it defaults to 2.\n",
      "\n",
      "    \"\"\"\n",
      "    print(a, b, c)"
     ],
     "language": "python",
     "metadata": {},
     "outputs": [],
     "prompt_number": 13
    },
    {
     "cell_type": "code",
     "collapsed": false,
     "input": [
      "print_me(1, 2, 3)\n",
      "print_me(1, 2)\n",
      "print_me(a=1, b=7)"
     ],
     "language": "python",
     "metadata": {},
     "outputs": [
      {
       "output_type": "stream",
       "stream": "stdout",
       "text": [
        "1 2 3\n",
        "1 2 2\n",
        "1 7 2\n"
       ]
      }
     ],
     "prompt_number": 14
    },
    {
     "cell_type": "markdown",
     "metadata": {},
     "source": [
      "This will crash because value for `b` is not given.\n",
      "It sees that we only specified a default for the `c` and wants the expected value for `b`."
     ]
    },
    {
     "cell_type": "code",
     "collapsed": false,
     "input": [
      "print_me(1)"
     ],
     "language": "python",
     "metadata": {},
     "outputs": [
      {
       "ename": "TypeError",
       "evalue": "print_me() takes at least 2 arguments (1 given)",
       "output_type": "pyerr",
       "traceback": [
        "\u001b[1;31m---------------------------------------------------------------------------\u001b[0m\n\u001b[1;31mTypeError\u001b[0m                                 Traceback (most recent call last)",
        "\u001b[1;32m<ipython-input-15-5534e33b4a02>\u001b[0m in \u001b[0;36m<module>\u001b[1;34m()\u001b[0m\n\u001b[1;32m----> 1\u001b[1;33m \u001b[0mprint_me\u001b[0m\u001b[1;33m(\u001b[0m\u001b[1;36m1\u001b[0m\u001b[1;33m)\u001b[0m\u001b[1;33m\u001b[0m\u001b[0m\n\u001b[0m",
        "\u001b[1;31mTypeError\u001b[0m: print_me() takes at least 2 arguments (1 given)"
       ]
      },
      {
       "output_type": "stream",
       "stream": "stdout",
       "text": [
        "\u001b[0;31mERROR\u001b[0m: TypeError: print_me() takes at least 2 arguments (1 given) [IPython.core.interactiveshell]\n"
       ]
      }
     ],
     "prompt_number": 15
    },
    {
     "cell_type": "markdown",
     "metadata": {},
     "source": [
      "This will crash because there is nowhere to store 4."
     ]
    },
    {
     "cell_type": "code",
     "collapsed": false,
     "input": [
      "print_me(1, 2, 3, 4)"
     ],
     "language": "python",
     "metadata": {},
     "outputs": [
      {
       "ename": "TypeError",
       "evalue": "print_me() takes at most 3 arguments (4 given)",
       "output_type": "pyerr",
       "traceback": [
        "\u001b[1;31m---------------------------------------------------------------------------\u001b[0m\n\u001b[1;31mTypeError\u001b[0m                                 Traceback (most recent call last)",
        "\u001b[1;32m<ipython-input-16-1895b17ca7e4>\u001b[0m in \u001b[0;36m<module>\u001b[1;34m()\u001b[0m\n\u001b[1;32m----> 1\u001b[1;33m \u001b[0mprint_me\u001b[0m\u001b[1;33m(\u001b[0m\u001b[1;36m1\u001b[0m\u001b[1;33m,\u001b[0m \u001b[1;36m2\u001b[0m\u001b[1;33m,\u001b[0m \u001b[1;36m3\u001b[0m\u001b[1;33m,\u001b[0m \u001b[1;36m4\u001b[0m\u001b[1;33m)\u001b[0m\u001b[1;33m\u001b[0m\u001b[0m\n\u001b[0m",
        "\u001b[1;31mTypeError\u001b[0m: print_me() takes at most 3 arguments (4 given)"
       ]
      },
      {
       "output_type": "stream",
       "stream": "stdout",
       "text": [
        "\u001b[0;31mERROR\u001b[0m: TypeError: print_me() takes at most 3 arguments (4 given) [IPython.core.interactiveshell]\n"
       ]
      }
     ],
     "prompt_number": 16
    },
    {
     "cell_type": "heading",
     "level": 3,
     "metadata": {},
     "source": [
      "How to Return More Than 1 Value From a Function"
     ]
    },
    {
     "cell_type": "code",
     "collapsed": false,
     "input": [
      "def powers(x):\n",
      "    \"\"\"Returns multiple powers of x.\"\"\"\n",
      "    return x, x**2, x**3, x**4"
     ],
     "language": "python",
     "metadata": {},
     "outputs": [],
     "prompt_number": 17
    },
    {
     "cell_type": "code",
     "collapsed": false,
     "input": [
      "powers(3)"
     ],
     "language": "python",
     "metadata": {},
     "outputs": [
      {
       "output_type": "pyout",
       "prompt_number": 18,
       "text": [
        "(3, 9, 27, 81)"
       ]
      }
     ],
     "prompt_number": 18
    },
    {
     "cell_type": "markdown",
     "metadata": {},
     "source": [
      "Notice they are enclosed in parenthesis? This is called a __tuple__.\n",
      "\n",
      "Tuples\n",
      "\n",
      "* are like lists, EXCEPT they are immutable, and always indexed the same way.\n",
      "\n",
      "* DO NOT have to contain the same data type for each element.\n",
      "\n",
      "* can contain a mutable item, like a list. That item can still be changed, but its location in the tuple cannot.\n",
      "\n",
      "* can have 1 or more elements. HOWEVER, a single-element tuple is distinquished from a number with a comma. Example: `(1,)`"
     ]
    },
    {
     "cell_type": "code",
     "collapsed": false,
     "input": [
      "tup = (1, \"bozo\", [1, 2, 3])\n",
      "\n",
      "print('1st item:', tup[0])\n",
      "print('2nd item:', tup[1])\n",
      "print('3rd item:', tup[2])\n",
      "print('last element of 3rd item:', tup[2][-1])  # Tricky!"
     ],
     "language": "python",
     "metadata": {},
     "outputs": [
      {
       "output_type": "stream",
       "stream": "stdout",
       "text": [
        "1st item: 1\n",
        "2nd item: bozo\n",
        "3rd item: [1, 2, 3]\n",
        "last element of 3rd item: 3\n"
       ]
      }
     ],
     "prompt_number": 19
    },
    {
     "cell_type": "code",
     "collapsed": false,
     "input": [
      "number = (3)\n",
      "print(type(number), number)\n",
      "\n",
      "single_tuple = (3,)\n",
      "print(type(single_tuple), single_tuple)"
     ],
     "language": "python",
     "metadata": {},
     "outputs": [
      {
       "output_type": "stream",
       "stream": "stdout",
       "text": [
        "<type 'int'> 3\n",
        "<type 'tuple'> (3,)\n"
       ]
      }
     ],
     "prompt_number": 20
    },
    {
     "cell_type": "markdown",
     "metadata": {},
     "source": [
      "You can also assign members of a tuple to separate variables (also known as __unpacking__):"
     ]
    },
    {
     "cell_type": "code",
     "collapsed": false,
     "input": [
      "a, b, c = tup\n",
      "\n",
      "print(a)\n",
      "print(b)\n",
      "print(c)"
     ],
     "language": "python",
     "metadata": {},
     "outputs": [
      {
       "output_type": "stream",
       "stream": "stdout",
       "text": [
        "1\n",
        "bozo\n",
        "[1, 2, 3]\n"
       ]
      }
     ],
     "prompt_number": 21
    },
    {
     "cell_type": "markdown",
     "metadata": {},
     "source": [
      "Now we can unpack all the returned values from our `powers` function above:"
     ]
    },
    {
     "cell_type": "code",
     "collapsed": false,
     "input": [
      "first, second, third, fourth = powers(3)\n",
      "\n",
      "print(first)\n",
      "print(second)\n",
      "print(third)\n",
      "print(fourth)"
     ],
     "language": "python",
     "metadata": {},
     "outputs": [
      {
       "output_type": "stream",
       "stream": "stdout",
       "text": [
        "3\n",
        "9\n",
        "27\n",
        "81\n"
       ]
      }
     ],
     "prompt_number": 22
    },
    {
     "cell_type": "heading",
     "level": 3,
     "metadata": {},
     "source": [
      "GOTCHA! Do not use mutable items as default values. If you do, all the function calls that use that default will refer to the same item, and your results could be unexpected."
     ]
    },
    {
     "cell_type": "code",
     "collapsed": false,
     "input": [
      "def baddefault(inputlist, previouscases=[]):\n",
      "    \"\"\"Take an input list, extract negative values and\n",
      "    append them to previous cases. Return previous cases.\n",
      "    \"\"\"\n",
      "    for item in inputlist:\n",
      "        if item < 0:\n",
      "            previouscases.append(item)\n",
      "    return previouscases"
     ],
     "language": "python",
     "metadata": {},
     "outputs": [],
     "prompt_number": 23
    },
    {
     "cell_type": "code",
     "collapsed": false,
     "input": [
      "# Use non-default previouscases\n",
      "print(baddefault([1,2,-5], [-3,-1]))\n",
      "\n",
      "# Use default previouscases\n",
      "print(baddefault([1,2,-5]))"
     ],
     "language": "python",
     "metadata": {},
     "outputs": [
      {
       "output_type": "stream",
       "stream": "stdout",
       "text": [
        "[-3, -1, -5]\n",
        "[-5]\n"
       ]
      }
     ],
     "prompt_number": 24
    },
    {
     "cell_type": "markdown",
     "metadata": {},
     "source": [
      "So far, so good. Now..."
     ]
    },
    {
     "cell_type": "code",
     "collapsed": false,
     "input": [
      "# Use default previouscases, again.\n",
      "print(baddefault([-1, -2]))"
     ],
     "language": "python",
     "metadata": {},
     "outputs": [
      {
       "output_type": "stream",
       "stream": "stdout",
       "text": [
        "[-5, -1, -2]\n"
       ]
      }
     ],
     "prompt_number": 25
    },
    {
     "cell_type": "markdown",
     "metadata": {},
     "source": [
      "Expected answer is\n",
      "\n",
      "    [-1, -2]\n",
      "\n",
      "but we got\n",
      "\n",
      "    [-5, -1, -2]\n",
      "\n",
      "where the -5 is inherited from the previous call!"
     ]
    },
    {
     "cell_type": "heading",
     "level": 2,
     "metadata": {},
     "source": [
      "Python Modules: Putting All Your Useful Functions (or Variables, Classes, etc.) into One File."
     ]
    },
    {
     "cell_type": "markdown",
     "metadata": {},
     "source": [
      "Modules:\n",
      "\n",
      "* are Python files that can be imported.\n",
      "* contain any combination of variables, functions, class definitions, or code to be executed on import.\n",
      "* must end in \".py\" because they are imported by the rootname of the file. \n",
      "\n",
      "__`import` only imports a module once.__ If Python knows it is already loaded, import will not be done without an explicit `reload` command."
     ]
    },
    {
     "cell_type": "code",
     "collapsed": false,
     "input": [
      "%%file testmodule.py\n",
      "def testfunction(a, b):\n",
      "    \"\"\"Return a sum of inputs.\"\"\"\n",
      "    return a + b"
     ],
     "language": "python",
     "metadata": {},
     "outputs": [
      {
       "output_type": "stream",
       "stream": "stdout",
       "text": [
        "Writing testmodule.py\n"
       ]
      }
     ],
     "prompt_number": 26
    },
    {
     "cell_type": "code",
     "collapsed": false,
     "input": [
      "import testmodule\n",
      "\n",
      "testmodule.testfunction(2, 3)"
     ],
     "language": "python",
     "metadata": {},
     "outputs": [
      {
       "output_type": "pyout",
       "prompt_number": 27,
       "text": [
        "5"
       ]
      }
     ],
     "prompt_number": 27
    },
    {
     "cell_type": "code",
     "collapsed": false,
     "input": [
      "%%file testmodule.py\n",
      "def testfunction(a, b):\n",
      "    \"\"\"Return a multiplication of inputs.\"\"\"\n",
      "    return a * b"
     ],
     "language": "python",
     "metadata": {},
     "outputs": [
      {
       "output_type": "stream",
       "stream": "stdout",
       "text": [
        "Overwriting testmodule.py\n"
       ]
      }
     ],
     "prompt_number": 28
    },
    {
     "cell_type": "code",
     "collapsed": false,
     "input": [
      "testmodule.testfunction(2, 3)"
     ],
     "language": "python",
     "metadata": {},
     "outputs": [
      {
       "output_type": "pyout",
       "prompt_number": 29,
       "text": [
        "5"
       ]
      }
     ],
     "prompt_number": 29
    },
    {
     "cell_type": "markdown",
     "metadata": {},
     "source": [
      "The answer above is still the sum, not the product! We have to reload the function and try again."
     ]
    },
    {
     "cell_type": "code",
     "collapsed": false,
     "input": [
      "reload(testmodule)\n",
      "\n",
      "testmodule.testfunction(2, 3)"
     ],
     "language": "python",
     "metadata": {},
     "outputs": [
      {
       "output_type": "pyout",
       "prompt_number": 30,
       "text": [
        "6"
       ]
      }
     ],
     "prompt_number": 30
    },
    {
     "cell_type": "markdown",
     "metadata": {},
     "source": [
      "__Layered Imports__\n",
      "\n",
      "If you have layered imports, e.g.:\n",
      "\n",
      "* `a.py` imports `b.py`\n",
      "* `b.py` imports `c.py`\n",
      "\n",
      "When you change `c.py` and do `reload(a)`, it will not do `reload(c)` for you as it is only looking for changes in `a.py`.\n",
      "\n",
      "So, you have reload in this order, which can become tedious:\n",
      "\n",
      "    reload(c)\n",
      "    reload(b)\n",
      "    reload(a)\n",
      "\n",
      "Luckily, iPython has a magic `dreload` (<http://ipython.org/ipython-doc/dev/interactive/reference.html#dreload>_) that tries to handle all those dependencies.\n",
      "\n",
      "__Avoid `import *`__\n",
      "\n",
      "It is generally bad form to use\n",
      "\n",
      "    from module import *\n",
      "\n",
      "in a script because it leads to hard to understand code.\n",
      "\n",
      "Try to be explicit:\n",
      "  \n",
      "    from testmodule import testfunction"
     ]
    },
    {
     "cell_type": "markdown",
     "metadata": {},
     "source": [
      "__You can make your module usable as a script/executable by assigning it the name \"main\" at the bottom:__\n",
      "\n",
      "    if __name__ == \"__main__\":\n",
      "        print(testfunction(1., 2.))\n",
      "    \n",
      "\n",
      "This works because the code that parses the command line only runs if the module is executed as the \"main\" file.\n",
      "It can provide a nice user interface to your module or be used to execute a suite of tests to make sure it's working as expected."
     ]
    },
    {
     "cell_type": "code",
     "collapsed": false,
     "input": [
      "%%file testmodule.py\n",
      "#! /usr/bin/env python\n",
      "\n",
      "def testfunction(a, b):\n",
      "    \"\"\"Return a division of inputs.\"\"\"\n",
      "    return a / b\n",
      "\n",
      "if __name__ == \"__main__\":\n",
      "    print(testfunction(1., 2.))\n",
      "    "
     ],
     "language": "python",
     "metadata": {},
     "outputs": [
      {
       "output_type": "stream",
       "stream": "stdout",
       "text": [
        "Overwriting testmodule.py\n"
       ]
      }
     ],
     "prompt_number": 31
    },
    {
     "cell_type": "code",
     "collapsed": false,
     "input": [
      "!chmod a+x testmodule.py\n",
      "!testmodule.py"
     ],
     "language": "python",
     "metadata": {},
     "outputs": [
      {
       "output_type": "stream",
       "stream": "stdout",
       "text": [
        "0.5\r\n"
       ]
      }
     ],
     "prompt_number": 32
    },
    {
     "cell_type": "heading",
     "level": 4,
     "metadata": {},
     "source": [
      "You can also execute the script with system arguments, like some Fortran and C programs:"
     ]
    },
    {
     "cell_type": "code",
     "collapsed": false,
     "input": [
      "%%file bozo3.py\n",
      "#! /usr/bin/env python\n",
      "\n",
      "# This portion is executed when someone do this:\n",
      "#     import bozo3\n",
      "import sys\n",
      "def clown_greeting(name='Bozo'):\n",
      "    print \"I'm a clown and my name is\", name\n",
      "\n",
      "# This portion only runs in a script context:\n",
      "if __name__ == \"__main__\":\n",
      "    # Check if shell-level command line arguments are present\n",
      "    if len(sys.argv) > 1:\n",
      "        # Ignore the first item since that is the name of this script.\n",
      "        # Call the function above once for each subsequent items.\n",
      "        for item in sys.argv[1:]:\n",
      "            clown_greeting(item)\n",
      "    else:\n",
      "        print \"USAGE: bozo3.py name1 [name2 name3 ...]\""
     ],
     "language": "python",
     "metadata": {},
     "outputs": [
      {
       "output_type": "stream",
       "stream": "stdout",
       "text": [
        "Writing bozo3.py"
       ]
      },
      {
       "output_type": "stream",
       "stream": "stdout",
       "text": [
        "\n"
       ]
      }
     ],
     "prompt_number": 33
    },
    {
     "cell_type": "code",
     "collapsed": false,
     "input": [
      "import bozo3\n",
      "bozo3.clown_greeting()\n",
      "bozo3.clown_greeting('Crusty')"
     ],
     "language": "python",
     "metadata": {},
     "outputs": [
      {
       "output_type": "stream",
       "stream": "stdout",
       "text": [
        "I'm a clown and my name is Bozo\n",
        "I'm a clown and my name is Crusty\n"
       ]
      }
     ],
     "prompt_number": 34
    },
    {
     "cell_type": "code",
     "collapsed": false,
     "input": [
      "!chmod a+x bozo3.py\n",
      "!bozo3.py \"Ronald McDonald\" It"
     ],
     "language": "python",
     "metadata": {},
     "outputs": [
      {
       "output_type": "stream",
       "stream": "stdout",
       "text": [
        "I'm a clown and my name is Ronald McDonald\r\n",
        "I'm a clown and my name is It\r\n"
       ]
      }
     ],
     "prompt_number": 35
    },
    {
     "cell_type": "heading",
     "level": 2,
     "metadata": {},
     "source": [
      "How does Python find modules?"
     ]
    },
    {
     "cell_type": "markdown",
     "metadata": {},
     "source": [
      "See <http://docs.python.org/2/tutorial/modules.html#the-module-search-path>_.\n",
      "\n",
      "Python searches the environmental variable __PYTHONPATH__ to find the module you have specified. \n",
      "\n",
      "Usually the current directory is part of the search path, but it might not be the FIRST thing. \n",
      "\n",
      "You can modify the path dynamically by changing the contents of the `sys.path` list (not good for standard use, but useful for experimentation sometimes) .\n",
      "\n",
      "To see what the current path is:"
     ]
    },
    {
     "cell_type": "code",
     "collapsed": false,
     "input": [
      "import sys\n",
      "sys.path"
     ],
     "language": "python",
     "metadata": {},
     "outputs": [
      {
       "output_type": "pyout",
       "prompt_number": 36,
       "text": [
        "['.',\n",
        " '/usr/stsci/stsci_iraf_dev/stsdas/python',\n",
        " '',\n",
        " '/home/lim/arzach/lib/python2.7/site-packages/setuptools-0.6c11-py2.7.egg',\n",
        " '/home/lim/arzach/lib/python2.7/site-packages/pip-1.1-py2.7.egg',\n",
        " '/home/lim/arzach/lib/python2.7/site-packages/pyflakes-0.5.0-py2.7.egg',\n",
        " '/home/lim/arzach/lib/python2.7/site-packages/astropy-0.3.dev-py2.7-linux-x86_64.egg',\n",
        " '/usr/stsci/pyssgdev/2.7.3.stsci_python/lib/python/d2to1-0.2.8.dev-py2.7.egg',\n",
        " '/usr/stsci/pyssgdev/2.7.3.stsci_python/lib/python/stsci.distutils-0.3.2.dev21671-py2.7.egg',\n",
        " '/usr/stsci/pyssgdev/2.7.3.stsci_python/lib/python/pyfits-3.2.dev1987-py2.7-linux-x86_64.egg',\n",
        " '/usr/stsci/pyssgdev/2.7.3.stsci_python/lib/python/stsci.tools-3.2.dev21671-py2.7.egg',\n",
        " '/usr/stsci/pyssgdev/2.7.3.stsci_python/lib/python/stsci.ndimage-0.10.0.dev21671-py2.7-linux-x86_64.egg',\n",
        " '/usr/stsci/pyssgdev/2.7.3.stsci_python/lib/python/stsci.convolve-2.1.dev21671-py2.7-linux-x86_64.egg',\n",
        " '/usr/stsci/pyssgdev/2.7.3.stsci_python/lib/python/pywcs-1.10.dev3157-py2.7-linux-x86_64.egg',\n",
        " '/usr/stsci/pyssgdev/2.7.3.stsci_python/lib/python/stwcs-0.10.dev21671-py2.7.egg',\n",
        " '/usr/stsci/pyssgdev/2.7.3.stsci_python/lib/python/stsci.stimage-0.2.dev-py2.7-linux-x86_64.egg',\n",
        " '/usr/stsci/pyssgdev/2.7.3.stsci_python/lib/python/stsci.imagestats-1.4.0.dev21671-py2.7-linux-x86_64.egg',\n",
        " '/usr/stsci/pyssgdev/2.7.3.stsci_python/lib/python/stsci.imagemanip-1.1.dev21671-py2.7-linux-x86_64.egg',\n",
        " '/usr/stsci/pyssgdev/2.7.3.stsci_python/lib/python/stsci.image-2.1.dev21671-py2.7-linux-x86_64.egg',\n",
        " '/usr/stsci/pyssgdev/2.7.3.stsci_python/lib/python/pydrizzle-6.4.0.dev21671-py2.7-linux-x86_64.egg',\n",
        " '/usr/stsci/pyssgdev/2.7.3.stsci_python/lib/python/nictools-1.1.0.dev21671-py2.7.egg',\n",
        " '/usr/stsci/pyssgdev/2.7.3.stsci_python/lib/python/astrolib.coords-0.38.dev-py2.7-linux-x86_64.egg',\n",
        " '/usr/stsci/pyssgdev/2.7.3.stsci_python/lib/python/stsci.sphinxext-1.2.dev-py2.7.egg',\n",
        " '/usr/stsci/pyssgdev/2.7.3.stsci_python/lib/python/stsci.numdisplay-1.6.dev-py2.7.egg',\n",
        " '/usr/stsci/pyssgdev/2.7.3.stsci_python/lib/python/sample_project-1.1.dev-py2.7-linux-x86_64.egg',\n",
        " '/usr/stsci/pyssgdev/2.7.3.stsci_python/lib/python/opuscoords-1.0.1.dev-py2.7-linux-x86_64.egg',\n",
        " '/usr/stsci/pyssgdev/2.7.3.stsci_python/lib/python/fitsblender-0.2.dev-py2.7.egg',\n",
        " '/usr/stsci/pyssgdev/Python-2.7.3/lib/python2.7/site-packages/distribute-0.6.24-py2.7.egg',\n",
        " '/usr/stsci/pyssgdev/Python-2.7.3/lib/python2.7/site-packages/tornado-2.3-py2.7.egg',\n",
        " '/usr/stsci/pyssgdev/Python-2.7.3/lib/python2.7/site-packages/pip-1.1-py2.7.egg',\n",
        " '/user/lim/python/pycourse2012/svncodes',\n",
        " '/home/lim/arzach/lib/python2.7/site-packages',\n",
        " '/usr/stsci/pyssgdev/2.7.3.jwst/lib/python',\n",
        " '/usr/stsci/pyssgdev/2.7.3.stsci_python',\n",
        " '/usr/stsci/pyssgdev/2.7.3.stsci_python/lib/python',\n",
        " '/usr/stsci/pyssgdev/2.7.3',\n",
        " '/usr/stsci/pyssgdev/Python-2.7.3/lib/python27.zip',\n",
        " '/usr/stsci/pyssgdev/Python-2.7.3/lib/python2.7',\n",
        " '/usr/stsci/pyssgdev/Python-2.7.3/lib/python2.7/plat-linux2',\n",
        " '/usr/stsci/pyssgdev/Python-2.7.3/lib/python2.7/lib-tk',\n",
        " '/usr/stsci/pyssgdev/Python-2.7.3/lib/python2.7/lib-old',\n",
        " '/usr/stsci/pyssgdev/Python-2.7.3/lib/python2.7/lib-dynload',\n",
        " '/usr/stsci/pyssgdev/Python-2.7.3/lib/python2.7/site-packages',\n",
        " '/usr/stsci/pyssgdev/Python-2.7.3/lib/python2.7/site-packages/PIL',\n",
        " '/usr/stsci/pyssgdev/Python-2.7.3/lib/python2.7/site-packages/setuptools-0.6c11-py2.7.egg-info',\n",
        " '/usr/stsci/pyssgdev/Python-2.7.3/lib/python2.7/site-packages/IPython/extensions']"
       ]
      }
     ],
     "prompt_number": 36
    },
    {
     "cell_type": "markdown",
     "metadata": {},
     "source": [
      "Get the value of PATH environment variable and extract the first path defined:"
     ]
    },
    {
     "cell_type": "code",
     "collapsed": false,
     "input": [
      "import os\n",
      "myenv = os.getenv(\"PATH\")\n",
      "myenv.split(\":\")[0]"
     ],
     "language": "python",
     "metadata": {},
     "outputs": [
      {
       "output_type": "pyout",
       "prompt_number": 37,
       "text": [
        "'/usr/stsci/pyssgdev/2.7.3.stsci_python/bin'"
       ]
      }
     ],
     "prompt_number": 37
    },
    {
     "cell_type": "heading",
     "level": 2,
     "metadata": {},
     "source": [
      "Scripts in Daily Life\n"
     ]
    },
    {
     "cell_type": "markdown",
     "metadata": {},
     "source": [
      "I wrote a script, `aperphot.py`, to run some photometry, source finding and plotting, which will be available after the homework is due. \n",
      "\n",
      "\n",
      "I'll run it here just  to have something to work with. If you make the file executable you can call it from the shell command line with options:\n",
      "\n",
      "- i [my input image name]\n",
      "\n",
      "- a [what pixel aperture to perform photometry]\n",
      "\n",
      "- s [what pixel from the center to start sky measurements]\n",
      "\n",
      "- w [how wide in pixels the sky annnulus should be]\n",
      "\n"
     ]
    },
    {
     "cell_type": "markdown",
     "metadata": {},
     "source": [
      "here is an example of how you might call it from the command line prompt:\n",
      "\n",
      "    aperphot.py -i image.fits -a 4 -s 8 -w 3 -p\n"
     ]
    },
    {
     "cell_type": "markdown",
     "metadata": {},
     "source": [
      "You can also call the script from a Python session just by importing it:  \n",
      "\n",
      "    import aperphot\n",
      "    aperphot.run(...) --> creates image.fits.phot\n",
      "\n",
      "There is a function in the `aperphot` module to plot of some of the results for quick reference.\n",
      "\n",
      "    aperphot.plotphot('image.fits.phot')  --> creates image.fits.phot.pdf\n",
      "\n",
      "I'll run the script here so you can see its output. We'll then take a quick look at the output."
     ]
    },
    {
     "cell_type": "markdown",
     "metadata": {},
     "source": [
      "Let's see that we got reasonable photometry back by reading the table with AstroPy reader and print out the contents:\n"
     ]
    },
    {
     "cell_type": "code",
     "collapsed": false,
     "input": [
      "%pylab\n",
      "import aperphot"
     ],
     "language": "python",
     "metadata": {},
     "outputs": [
      {
       "output_type": "stream",
       "stream": "stdout",
       "text": [
        "\n",
        "Welcome to pylab, a matplotlib-based Python environment [backend: module://IPython.zmq.pylab.backend_inline].\n",
        "For more information, type 'help(pylab)'."
       ]
      },
      {
       "output_type": "stream",
       "stream": "stdout",
       "text": [
        "\n"
       ]
      }
     ],
     "prompt_number": 47
    },
    {
     "cell_type": "markdown",
     "metadata": {},
     "source": [
      "I'll import the module and run it here"
     ]
    },
    {
     "cell_type": "code",
     "collapsed": false,
     "input": [
      "aperphot.run('../data/image.fits', aper=4, sky=8, width=3, plots=True)"
     ],
     "language": "python",
     "metadata": {},
     "outputs": [
      {
       "output_type": "stream",
       "stream": "stdout",
       "text": [
        "\n",
        "============================================\n",
        "Setting up photometry for ../data/image.fits\n",
        "============================================\n",
        "\n",
        "zeropoint: 23.110044"
       ]
      },
      {
       "output_type": "stream",
       "stream": "stdout",
       "text": [
        "\n",
        "Setting effective gain = 7602.616800 "
       ]
      },
      {
       "output_type": "stream",
       "stream": "stdout",
       "text": [
        "\n",
        "Setting DAOpars to NICMOS defaults...\n",
        "\t Using fwhmpsf: 3.500000\n",
        "Removing previous star location file\n",
        "\n",
        "=========================\n",
        "../data/image.fits[SCI,1]\n",
        "=========================\n",
        "\n",
        "Saved output locations to ../data/image.fits.stars"
       ]
      },
      {
       "output_type": "stream",
       "stream": "stdout",
       "text": [
        "\n",
        "\t Phot aperture: 4 pixels\n",
        "\t Sky Annulus: 8 -> 11 pixels\n",
        "Removing previous photometry file\n",
        "\t Saving output files as ../data/image.fits.phot\n",
        "../data/image.fits.phot"
       ]
      },
      {
       "output_type": "stream",
       "stream": "stdout",
       "text": [
        "\n",
        "saved output figure to ../data/image.fits.phot.pdf"
       ]
      },
      {
       "output_type": "stream",
       "stream": "stdout",
       "text": [
        "\n"
       ]
      },
      {
       "output_type": "display_data",
       "png": "[encoded data removed]"
      }
     ],
     "prompt_number": 49
    },
    {
     "cell_type": "markdown",
     "metadata": {},
     "source": [
      " Since I told it to make plots we can look at the output :)"
     ]
    },
    {
     "cell_type": "code",
     "collapsed": false,
     "input": [
      "# Or use your favorite PDF viewer\n",
      "!open ../data/image.fits.phot.pdf"
     ],
     "language": "python",
     "metadata": {},
     "outputs": [
      {
       "output_type": "stream",
       "stream": "stdout",
       "text": [
        "Couldnt get a file descriptor referring to the console\r\n"
       ]
      }
     ],
     "prompt_number": 38
    },
    {
     "cell_type": "heading",
     "level": 2,
     "metadata": {},
     "source": [
      "Editing Your Photometry File"
     ]
    },
    {
     "cell_type": "markdown",
     "metadata": {},
     "source": [
      "Now that we've checked out our plots, we can play around with our detections.\n",
      "\n",
      "\n",
      "Let's say we only want to keep a subset of the points we detected. We'll make a refining cut on the objects, leaving out the ones which had errors in the photometry and centering worse than 1 pixel."
     ]
    },
    {
     "cell_type": "code",
     "collapsed": false,
     "input": [
      "reader = ascii.Daophot()\n",
      "phot = reader.read('../data/image.fits.phot')"
     ],
     "language": "python",
     "metadata": {},
     "outputs": [],
     "prompt_number": 39
    },
    {
     "cell_type": "code",
     "collapsed": false,
     "input": [
      "good = np.where((phot['MERR'] != 'INDEF') &\n",
      "                (np.abs(phot[\"XSHIFT\"]) <= 1.) &\n",
      "                (np.abs(phot[\"YSHIFT\"]) <= 1.))\n",
      "phot = phot[good[0]]"
     ],
     "language": "python",
     "metadata": {},
     "outputs": [],
     "prompt_number": 40
    },
    {
     "cell_type": "code",
     "collapsed": false,
     "input": [
      "phot.pprint()"
     ],
     "language": "python",
     "metadata": {},
     "outputs": [],
     "prompt_number": 42
    },
    {
     "cell_type": "markdown",
     "metadata": {},
     "source": [
      "Now, if we want to save these cherry picked star locations and redo the photometry, we can save the (X, Y) coordinates and rerun our phot function."
     ]
    },
    {
     "cell_type": "code",
     "collapsed": false,
     "input": [
      "xy = phot['XCENTER', 'YCENTER']\n",
      "\n",
      "with open('new_coords.dat', 'w') as of:\n",
      "    for line in xy.pformat(max_width=-1, max_lines=-1):\n",
      "        of.write(line + \"\\n\")"
     ],
     "language": "python",
     "metadata": {},
     "outputs": [],
     "prompt_number": 43
    },
    {
     "cell_type": "markdown",
     "metadata": {},
     "source": [
      "Let's rerun photometry on our finalized list of stars."
     ]
    },
    {
     "cell_type": "code",
     "collapsed": false,
     "input": [
      "aperphot.do_phot('../data/n8q624e8q_cal.fits', 'new_coords.dat', aper=4, sky_annulus=8, width_sky=3)"
     ],
     "language": "python",
     "metadata": {},
     "outputs": []
    },
    {
     "cell_type": "code",
     "collapsed": false,
     "input": [
      "aperphot.plotphot('../data/n8q624e8q.phot')"
     ],
     "language": "python",
     "metadata": {},
     "outputs": []
    },
    {
     "cell_type": "markdown",
     "metadata": {},
     "source": [
      "Not too bad... We've saved fewer stars for this run, but we have cleaner shifts on the their centering, which means they are probably a mix of bright stars and isolated stars.\n",
      "\n",
      "For a full PSF fitting process, you will probably want to repeat the star finding and centering and photometry passes through several depths of your image as you remove the spoiler stars with runs of `allstar` (shown later in this notebook).\n",
      "\n",
      "You can move on and start your PSF photometry and creating a PSF using your reduced data.\n",
      "I'm going to skip over the steps of making a model PSF. I've got 2 PSFs we can examine."
     ]
    },
    {
     "cell_type": "heading",
     "level": 2,
     "metadata": {},
     "source": [
      "Examining your PSF"
     ]
    },
    {
     "cell_type": "markdown",
     "metadata": {},
     "source": [
      "Let's start by just looking at a typical NICMOS PSF.\n",
      "\n",
      "This is an image generated by TinyTim with NICMOS specifications with a normalized flux in the same filter/camera as our dataset."
     ]
    },
    {
     "cell_type": "code",
     "collapsed": false,
     "input": [
      "tinytim = pyfits.getdata('../data/nic2_f160w_4xsub00.fits')\n",
      "\n",
      "# Gives us the size of the model\n",
      "tinytim.shape"
     ],
     "language": "python",
     "metadata": {},
     "outputs": [
      {
       "output_type": "pyout",
       "prompt_number": 44,
       "text": [
        "(528, 528)"
       ]
      }
     ],
     "prompt_number": 44
    },
    {
     "cell_type": "code",
     "collapsed": false,
     "input": [
      "# Display the image in log scale so we can see the gory details.\n",
      "# Everyone loves a good NICMOS PSF.\n",
      "plt.imshow(np.log10(tinytim), cmap=plt.cm.gray)"
     ],
     "language": "python",
     "metadata": {},
     "outputs": [
      {
       "output_type": "pyout",
       "prompt_number": 45,
       "text": [
        "<matplotlib.image.AxesImage at 0x40f3910>"
       ]
      },
      {
       "output_type": "display_data",
       "png": "[encoded data removed]"
      }
     ],
     "prompt_number": 45
    },
    {
     "cell_type": "code",
     "collapsed": false,
     "input": [
      "# Let's look at a plot of the profile at Y=264\n",
      "plt.plot(tinytim[264])"
     ],
     "language": "python",
     "metadata": {},
     "outputs": [
      {
       "output_type": "pyout",
       "prompt_number": 46,
       "text": [
        "[<matplotlib.lines.Line2D at 0x4606e90>]"
       ]
      },
      {
       "output_type": "display_data",
       "png": "[encoded data removed]"
      }
     ],
     "prompt_number": 46
    },
    {
     "cell_type": "markdown",
     "metadata": {},
     "source": [
      "This one is a PSF generated from the drizzled NICMOS dataset using `daophot.psf`, which is really just saving the model information so that it can be fitted to each star in your image later using `allstar`."
     ]
    },
    {
     "cell_type": "code",
     "collapsed": false,
     "input": [
      "drizzled = pyfits.open('../data/dr_median.psf.1.fits')\n",
      "drizzled.info()  # Like catfits"
     ],
     "language": "python",
     "metadata": {},
     "outputs": [
      {
       "output_type": "stream",
       "stream": "stdout",
       "text": [
        "Filename: dr_median.psf.1.fits\n",
        "No.    Name         Type      Cards   Dimensions   Format\n",
        "0    PRIMARY     PrimaryHDU      71   (39, 39, 3)   float32   "
       ]
      },
      {
       "output_type": "stream",
       "stream": "stdout",
       "text": [
        "\n"
       ]
      }
     ],
     "prompt_number": 47
    },
    {
     "cell_type": "markdown",
     "metadata": {},
     "source": [
      "There are 3 (39,39) element arrays which specify the model PSF lookup tables fit residuals (derivatives) and the functional fit which is stored in the primary header along with information about each star I used."
     ]
    },
    {
     "cell_type": "code",
     "collapsed": false,
     "input": [
      "# These are the parameters which I ended up using\n",
      "drz_hdr = drizzled[0].header\n",
      "drz_dat = drizzled[0].data\n",
      "\n",
      "keys = ['VARORDER', 'FUNCTION', 'PSFRAD', 'PAR1', 'PAR2', 'PAR3']\n",
      "for item in keys:\n",
      "    print(item, drz_hdr[item])"
     ],
     "language": "python",
     "metadata": {},
     "outputs": [
      {
       "output_type": "stream",
       "stream": "stdout",
       "text": [
        "VARORDER 1\n",
        "FUNCTION lorentz\n",
        "PSFRAD 9.0\n",
        "PAR1 0.529933\n",
        "PAR2 0.510016\n",
        "PAR3 -0.1086451\n"
       ]
      }
     ],
     "prompt_number": 48
    },
    {
     "cell_type": "markdown",
     "metadata": {},
     "source": [
      "I used a Lorenz function for the fitting. We might as well take a look at the residuals."
     ]
    },
    {
     "cell_type": "code",
     "collapsed": false,
     "input": [
      "plt.plot(np.abs(drz_dat[0][0]), label='0')\n",
      "plt.plot(np.abs(drz_dat[0][1]), label='1')\n",
      "plt.plot(np.abs(drz_dat[0][2]), label='2')\n",
      "plt.legend()"
     ],
     "language": "python",
     "metadata": {},
     "outputs": [
      {
       "output_type": "pyout",
       "prompt_number": 50,
       "text": [
        "<matplotlib.legend.Legend at 0x4a9c710>"
       ]
      },
      {
       "output_type": "display_data",
       "png": "[encoded data removed]"
      }
     ],
     "prompt_number": 50
    },
    {
     "cell_type": "markdown",
     "metadata": {},
     "source": [
      "Let's say we are happy with this PSF model and decide to use it to subtract some stars in our science data.\n",
      "\n",
      "The data we used below was generated with this command:\n",
      "\n",
      "    daophot.allstar('../data/n8q624e8q_cal.fits[1]', '../data/n8q624e8q.phot',\n",
      "                    '../data/dr_median.psf.1.fits', allstarfile=\"default\",\n",
      "                    rejfile=\"default\", subimage=\"default\", verify=\"no\")"
     ]
    },
    {
     "cell_type": "code",
     "collapsed": false,
     "input": [
      "subimage = pyfits.getdata('../data/n8q624e8q_cal.fits1.sub.1.fits')"
     ],
     "language": "python",
     "metadata": {},
     "outputs": [],
     "prompt_number": 53
    },
    {
     "cell_type": "code",
     "collapsed": false,
     "input": [
      "plt.imshow(np.log10(subimage), cmap=plt.cm.gray)"
     ],
     "language": "python",
     "metadata": {},
     "outputs": [
      {
       "output_type": "stream",
       "stream": "stdout",
       "text": [
        "\u001b[0;33mWARNING\u001b[0m: RuntimeWarning: divide by zero encountered in log10 [unknown]\n",
        "\u001b[0;33mWARNING\u001b[0m: RuntimeWarning: invalid value encountered in log10 [unknown]\n"
       ]
      },
      {
       "output_type": "pyout",
       "prompt_number": 54,
       "text": [
        "<matplotlib.image.AxesImage at 0x4c8f490>"
       ]
      },
      {
       "output_type": "display_data",
       "png": "[encoded data removed]"
      }
     ],
     "prompt_number": 54
    },
    {
     "cell_type": "markdown",
     "metadata": {},
     "source": [
      "See all the junk where the stars were subtracted? This means your PSF wasn't a good fit or the centering is a bit off.\n",
      "I expected some of this because I used a PSF created from a different observation set (also the same camera and filter). \n",
      "I just thought seeing a poor subtraction is a little more instructive in a crowded field that a good subtraction which would have featureless residuals.\n",
      "It's also easier to see in a talk. :) \n",
      "\n",
      "Where do you go from here?  This is where scripting comes in handy. After you've created a PSF with which you are pleased, you can script \n",
      "the iterative detection and centering of stars, photometry, PSF subtraction, and end up with a cleanly subtracted image.\n",
      "\n",
      "Then, once you have photometry in hand with all your stars, you can go back and see how well you did by running a completeness test!\n"
     ]
    },
    {
     "cell_type": "heading",
     "level": 2,
     "metadata": {},
     "source": [
      "Completeness Testing"
     ]
    },
    {
     "cell_type": "heading",
     "level": 3,
     "metadata": {},
     "source": [
      "How Well Did You Do at Accurately Detecting Stars and Measuring Their Photometry? (Script This or There will be Blood!)"
     ]
    },
    {
     "cell_type": "markdown",
     "metadata": {},
     "source": [
      "Using the same PSF model you did your photometry with, add it back into your original science image and see how well you can retrieve it.\n",
      "Here is a general outline of what you might do:\n",
      "\n",
      "* Create a random list of X,Y,MAG for the input artificial stars.\n",
      "\n",
      "* Add them to a copy of the science image (make a plot of the location of the stars for reference).\n",
      "\n",
      "* Detect and return photometry for all stars.\n",
      "\n",
      "* Match the input and output photometry to see how well the artificial stars were found and measured (make some plots).\n",
      "\n",
      "* Plot up a histogram of how many stars were recovered in each magnitude bin.\n",
      "\n",
      "* DONT FORGET TO TAKE CROWDING OF YOUR FIELD INTO ACCOUNT!\n",
      "\n",
      "\n",
      "I won't go into much detail here, but lets look at a couple useful things."
     ]
    },
    {
     "cell_type": "code",
     "collapsed": false,
     "input": [
      "science_image = '../data/n8q624e8q_cal.fits'\n",
      "art_image = 'n8q624e8q_art.fits'\n",
      "\n",
      "shutil.copy(science_image, art_image)\n",
      "\n",
      "xsize = pyfits.getval(science_image, 'naxis1', extname='sci', extver=1)\n",
      "ysize = pyfits.getval(science_image, 'naxis2', extname='sci', extver=1)"
     ],
     "language": "python",
     "metadata": {},
     "outputs": [],
     "prompt_number": 55
    },
    {
     "cell_type": "markdown",
     "metadata": {},
     "source": [
      "Create a random list of star locations in IRAF.\n",
      "\n",
      "`starlist` has a few distributions to choose from, but you can also let `addstar` do this itself. (I like knowing ahead of time.)"
     ]
    },
    {
     "cell_type": "code",
     "collapsed": false,
     "input": [
      "artdata.starlist(starlist='n8q624e8q.starlist',\n",
      "                 nstars=100, interactive=\"no\", spatial=\"uniform\",\n",
      "                 xmin=5, xmax=xsize-5, ymin=5, ymax=ysize-1,\n",
      "                 luminosity=\"uniform\", minmag=18, maxmag=25)"
     ],
     "language": "python",
     "metadata": {},
     "outputs": [],
     "prompt_number": 56
    },
    {
     "cell_type": "code",
     "collapsed": false,
     "input": [
      "# Take a peak at the file\n",
      "!head n8q624e8q.starlist"
     ],
     "language": "python",
     "metadata": {},
     "outputs": [
      {
       "output_type": "stream",
       "stream": "stdout",
       "text": [
        "# Fri 00:44:10 18-Jan-2013\r\n",
        "# begin\tn8q624e8q.starlist\r\n",
        "#\tspatial\t\tuniform\r\n",
        "#\txmin\t\t5.\r\n",
        "#\txmax\t\t251.\r\n",
        "#\tymin\t\t5.\r\n",
        "#\tymax\t\t255.\r\n",
        "#\tluminosity\tuniform\r\n",
        "#\tminmag\t\t18.\r\n",
        "#\tmaxmag\t\t25.\r\n"
       ]
      }
     ],
     "prompt_number": 57
    },
    {
     "cell_type": "markdown",
     "metadata": {},
     "source": [
      "You could do the same thing as above in Python using Numpy random generator."
     ]
    },
    {
     "cell_type": "code",
     "collapsed": false,
     "input": [
      "from numpy import random\n",
      "\n",
      "# To make sure you get the same random results every time,\n",
      "# set a constant seed. Can be useful for testing.\n",
      "random.seed(1234)\n",
      "\n",
      "# Generate random X and Y\n",
      "xloc = np.asfarray(random.randint(5, xsize - 5, 100)) \n",
      "yloc = np.asfarray(random.randint(5, xsize - 5, 100)) \n",
      "\n",
      "# Generate random photometry between mags 18 and 25\n",
      "phot = np.asfarray(random.randint(18, 25, 100)) + random.random_sample(100)"
     ],
     "language": "python",
     "metadata": {},
     "outputs": [],
     "prompt_number": 58
    },
    {
     "cell_type": "code",
     "collapsed": false,
     "input": [
      "starlist = 'n8q624e8q.py_starlist'\n",
      "\n",
      "# Save to a plain text file\n",
      "with open(starlist, 'w') as of:\n",
      "    for i, (xx, yy, ph) in enumerate(zip(xloc, yloc, phot), start=1):\n",
      "        of.write('{:8.1f} {:8.1f} {:10.6f} {:4d}\\n'.format(xx, yy, ph, i))"
     ],
     "language": "python",
     "metadata": {},
     "outputs": [],
     "prompt_number": 59
    },
    {
     "cell_type": "code",
     "collapsed": false,
     "input": [
      "!head n8q624e8q.py_starlist"
     ],
     "language": "python",
     "metadata": {},
     "outputs": [
      {
       "output_type": "stream",
       "stream": "stdout",
       "text": [
        "    52.0    180.0  19.818704    1\r\n",
        "   216.0    148.0  18.545122    2\r\n",
        "    43.0     39.0  24.451254    3\r\n",
        "    58.0     15.0  21.890557    4\r\n",
        "   209.0     33.0  19.973265    5\r\n",
        "   121.0      9.0  19.593411    6\r\n",
        "   157.0     87.0  24.366074    7\r\n",
        "   148.0    108.0  19.323095    8\r\n",
        "   182.0     94.0  21.871423    9\r\n",
        "    28.0     60.0  21.215634   10\r\n"
       ]
      }
     ],
     "prompt_number": 60
    },
    {
     "cell_type": "markdown",
     "metadata": {},
     "source": [
      "Now we add the fake stars back into the science image using `addstar` in IRAF."
     ]
    },
    {
     "cell_type": "code",
     "collapsed": false,
     "input": [
      "iraf.addstar(image=art_image+'[1]', photfile=starlist,\n",
      "             psfimage='../data/dr_median.psf.1.fits',\n",
      "             addimage='default', nstar=100, simple_text='yes')"
     ],
     "language": "python",
     "metadata": {},
     "outputs": [
      {
       "output_type": "stream",
       "stream": "stdout",
       "text": [
        "\n"
       ]
      },
      {
       "output_type": "stream",
       "stream": "stdout",
       "text": [
        "Psf radius in scale units (11.): "
       ]
      },
      {
       "output_type": "stream",
       "stream": "stdout",
       "text": [
        "\tNew psf radius: 11. scale units 11. pixels\n"
       ]
      },
      {
       "output_type": "stream",
       "stream": "stdout",
       "text": [
        "\n"
       ]
      },
      {
       "output_type": "stream",
       "stream": "stdout",
       "text": [
        "OUTPUT IMAGE: n8q624e8q_art.fits1.add.3.fits\n"
       ]
      },
      {
       "output_type": "stream",
       "stream": "stdout",
       "text": [
        "    Added Star: 1 - X:  52.00  Y: 180.00  Mag:  19.819\n"
       ]
      },
      {
       "output_type": "stream",
       "stream": "stdout",
       "text": [
        "    Added Star: 2 - X: 216.00  Y: 148.00  Mag:  18.545\n"
       ]
      },
      {
       "output_type": "stream",
       "stream": "stdout",
       "text": [
        "    Added Star: 3 - X:  43.00  Y:  39.00  Mag:  24.451\n"
       ]
      },
      {
       "output_type": "stream",
       "stream": "stdout",
       "text": [
        "    Added Star: 4 - X:  58.00  Y:  15.00  Mag:  21.891\n"
       ]
      },
      {
       "output_type": "stream",
       "stream": "stdout",
       "text": [
        "    Added Star: 5 - X: 209.00  Y:  33.00  Mag:  19.973\n"
       ]
      },
      {
       "output_type": "stream",
       "stream": "stdout",
       "text": [
        "    Added Star: 6 - X: 121.00  Y:   9.00  Mag:  19.593\n"
       ]
      },
      {
       "output_type": "stream",
       "stream": "stdout",
       "text": [
        "    Added Star: 7 - X: 157.00  Y:  87.00  Mag:  24.366\n"
       ]
      },
      {
       "output_type": "stream",
       "stream": "stdout",
       "text": [
        "    Added Star: 8 - X: 148.00  Y: 108.00  Mag:  19.323\n"
       ]
      },
      {
       "output_type": "stream",
       "stream": "stdout",
       "text": [
        "    Added Star: 9 - X: 182.00  Y:  94.00  Mag:  21.871\n"
       ]
      },
      {
       "output_type": "stream",
       "stream": "stdout",
       "text": [
        "    Added Star: 10 - X:  28.00  Y:  60.00  Mag:  21.216\n"
       ]
      },
      {
       "output_type": "stream",
       "stream": "stdout",
       "text": [
        "    Added Star: 11 - X: 238.00  Y: 240.00  Mag:  19.735\n"
       ]
      },
      {
       "output_type": "stream",
       "stream": "stdout",
       "text": [
        "    Added Star: 12 - X: 159.00  Y:  83.00  Mag:  21.366\n"
       ]
      },
      {
       "output_type": "stream",
       "stream": "stdout",
       "text": [
        "    Added Star: 13 - X:  35.00  Y: 156.00  Mag:  22.802\n"
       ]
      },
      {
       "output_type": "stream",
       "stream": "stdout",
       "text": [
        "    Added Star: 14 - X: 176.00  Y: 183.00  Mag:  22.783\n"
       ]
      },
      {
       "output_type": "stream",
       "stream": "stdout",
       "text": [
        "    Added Star: 15 - X: 163.00  Y:  67.00  Mag:  23.701\n"
       ]
      },
      {
       "output_type": "stream",
       "stream": "stdout",
       "text": [
        "    Added Star: 16 - X: 241.00  Y: 188.00  Mag:  22.623\n"
       ]
      },
      {
       "output_type": "stream",
       "stream": "stdout",
       "text": [
        "    Added Star: 17 - X: 129.00  Y:  89.00  Mag:  19.494\n"
       ]
      },
      {
       "output_type": "stream",
       "stream": "stdout",
       "text": [
        "    Added Star: 18 - X:  31.00  Y: 110.00  Mag:  21.841\n"
       ]
      },
      {
       "output_type": "stream",
       "stream": "stdout",
       "text": [
        "    Added Star: 19 - X: 123.00  Y:   5.00  Mag:  24.712\n"
       ]
      },
      {
       "output_type": "stream",
       "stream": "stdout",
       "text": [
        "    Added Star: 20 - X: 191.00  Y: 126.00  Mag:  23.444\n"
       ]
      },
      {
       "output_type": "stream",
       "stream": "stdout",
       "text": [
        "    Added Star: 21 - X: 125.00  Y: 103.00  Mag:  19.031\n"
       ]
      },
      {
       "output_type": "stream",
       "stream": "stdout",
       "text": [
        "    Added Star: 22 - X: 117.00  Y:  95.00  Mag:  24.363\n"
       ]
      },
      {
       "output_type": "stream",
       "stream": "stdout",
       "text": [
        "    Added Star: 23 - X: 225.00  Y: 166.00  Mag:  24.731\n"
       ]
      },
      {
       "output_type": "stream",
       "stream": "stdout",
       "text": [
        "    Added Star: 24 - X:  74.00  Y: 119.00  Mag:  20.476\n"
       ]
      },
      {
       "output_type": "stream",
       "stream": "stdout",
       "text": [
        "    Added Star: 25 - X:  85.00  Y: 126.00  Mag:  19.344\n"
       ]
      },
      {
       "output_type": "stream",
       "stream": "stdout",
       "text": [
        "    Added Star: 26 - X: 206.00  Y: 246.00  Mag:  18.641\n"
       ]
      },
      {
       "output_type": "stream",
       "stream": "stdout",
       "text": [
        "    Added Star: 27 - X: 132.00  Y:  26.00  Mag:  18.126\n"
       ]
      },
      {
       "output_type": "stream",
       "stream": "stdout",
       "text": [
        "    Added Star: 28 - X: 180.00  Y: 204.00  Mag:  22.171\n"
       ]
      },
      {
       "output_type": "stream",
       "stream": "stdout",
       "text": [
        "    Added Star: 29 - X:  55.00  Y: 201.00  Mag:  22.737\n"
       ]
      },
      {
       "output_type": "stream",
       "stream": "stdout",
       "text": [
        "    Added Star: 30 - X: 245.00  Y: 124.00  Mag:  18.127\n"
       ]
      },
      {
       "output_type": "stream",
       "stream": "stdout",
       "text": [
        "    Added Star: 31 - X:  81.00  Y: 236.00  Mag:  18.370\n"
       ]
      },
      {
       "output_type": "stream",
       "stream": "stdout",
       "text": [
        "    Added Star: 32 - X:  42.00  Y: 214.00  Mag:  19.604\n"
       ]
      },
      {
       "output_type": "stream",
       "stream": "stdout",
       "text": [
        "    Added Star: 33 - X:  39.00  Y: 185.00  Mag:  23.103\n"
       ]
      },
      {
       "output_type": "stream",
       "stream": "stdout",
       "text": [
        "    Added Star: 34 - X: 171.00  Y: 197.00  Mag:  23.802\n"
       ]
      },
      {
       "output_type": "stream",
       "stream": "stdout",
       "text": [
        "    Added Star: 35 - X: 200.00  Y: 218.00  Mag:  24.946\n"
       ]
      },
      {
       "output_type": "stream",
       "stream": "stdout",
       "text": [
        "    Added Star: 36 - X: 236.00  Y: 121.00  Mag:  23.979\n"
       ]
      },
      {
       "output_type": "stream",
       "stream": "stdout",
       "text": [
        "    Added Star: 37 - X: 144.00  Y: 110.00  Mag:  21.881\n"
       ]
      },
      {
       "output_type": "stream",
       "stream": "stdout",
       "text": [
        "    Added Star: 38 - X: 133.00  Y: 119.00  Mag:  19.628\n"
       ]
      },
      {
       "output_type": "stream",
       "stream": "stdout",
       "text": [
        "    Added Star: 39 - X: 238.00  Y: 174.00  Mag:  22.930\n"
       ]
      },
      {
       "output_type": "stream",
       "stream": "stdout",
       "text": [
        "    Added Star: 40 - X:  80.00  Y:   6.00  Mag:  19.725\n"
       ]
      },
      {
       "output_type": "stream",
       "stream": "stdout",
       "text": [
        "    Added Star: 41 - X:  85.00  Y: 147.00  Mag:  21.717\n"
       ]
      },
      {
       "output_type": "stream",
       "stream": "stdout",
       "text": [
        "    Added Star: 42 - X:   8.00  Y:   8.00  Mag:  20.041\n"
       ]
      },
      {
       "output_type": "stream",
       "stream": "stdout",
       "text": [
        "    Added Star: 43 - X:   7.00  Y:  35.00  Mag:  21.439\n"
       ]
      },
      {
       "output_type": "stream",
       "stream": "stdout",
       "text": [
        "    Added Star: 44 - X:  24.00  Y: 145.00  Mag:  23.282\n"
       ]
      },
      {
       "output_type": "stream",
       "stream": "stdout",
       "text": [
        "    Added Star: 45 - X: 145.00  Y: 250.00  Mag:  20.335\n"
       ]
      },
      {
       "output_type": "stream",
       "stream": "stdout",
       "text": [
        "    Added Star: 46 - X: 198.00  Y: 206.00  Mag:  20.084\n"
       ]
      },
      {
       "output_type": "stream",
       "stream": "stdout",
       "text": [
        "    Added Star: 47 - X: 208.00  Y: 114.00  Mag:  24.761\n"
       ]
      },
      {
       "output_type": "stream",
       "stream": "stdout",
       "text": [
        "    Added Star: 48 - X: 120.00  Y:  24.00  Mag:  18.509\n"
       ]
      },
      {
       "output_type": "stream",
       "stream": "stdout",
       "text": [
        "    Added Star: 49 - X: 112.00  Y:  31.00  Mag:  24.661\n"
       ]
      },
      {
       "output_type": "stream",
       "stream": "stdout",
       "text": [
        "    Added Star: 50 - X: 214.00  Y: 229.00  Mag:  19.630\n"
       ]
      },
      {
       "output_type": "stream",
       "stream": "stdout",
       "text": [
        "    Added Star: 51 - X:  19.00  Y:  73.00  Mag:  19.371\n"
       ]
      },
      {
       "output_type": "stream",
       "stream": "stdout",
       "text": [
        "    Added Star: 52 - X: 248.00  Y: 128.00  Mag:  21.447\n"
       ]
      },
      {
       "output_type": "stream",
       "stream": "stdout",
       "text": [
        "    Added Star: 53 - X: 204.00  Y: 233.00  Mag:  21.415\n"
       ]
      },
      {
       "output_type": "stream",
       "stream": "stdout",
       "text": [
        "    Added Star: 54 - X:  65.00  Y:  69.00  Mag:  22.480\n"
       ]
      },
      {
       "output_type": "stream",
       "stream": "stdout",
       "text": [
        "    Added Star: 55 - X: 239.00  Y: 155.00  Mag:  21.983\n"
       ]
      },
      {
       "output_type": "stream",
       "stream": "stdout",
       "text": [
        "    Added Star: 56 - X: 112.00  Y: 189.00  Mag:  20.373\n"
       ]
      },
      {
       "output_type": "stream",
       "stream": "stdout",
       "text": [
        "    Added Star: 57 - X: 179.00  Y: 217.00  Mag:  22.012\n"
       ]
      },
      {
       "output_type": "stream",
       "stream": "stdout",
       "text": [
        "    Added Star: 58 - X: 161.00  Y: 141.00  Mag:  20.922\n"
       ]
      },
      {
       "output_type": "stream",
       "stream": "stdout",
       "text": [
        "    Added Star: 59 - X:  86.00  Y: 177.00  Mag:  19.873\n"
       ]
      },
      {
       "output_type": "stream",
       "stream": "stdout",
       "text": [
        "    Added Star: 60 - X:  92.00  Y: 246.00  Mag:  21.352\n"
       ]
      },
      {
       "output_type": "stream",
       "stream": "stdout",
       "text": [
        "    Added Star: 61 - X:  18.00  Y: 157.00  Mag:  20.630\n"
       ]
      },
      {
       "output_type": "stream",
       "stream": "stdout",
       "text": [
        "    Added Star: 62 - X: 121.00  Y: 227.00  Mag:  18.358\n"
       ]
      },
      {
       "output_type": "stream",
       "stream": "stdout",
       "text": [
        "    Added Star: 63 - X: 101.00  Y: 238.00  Mag:  19.213\n"
       ]
      },
      {
       "output_type": "stream",
       "stream": "stdout",
       "text": [
        "    Added Star: 64 - X: 145.00  Y:  20.00  Mag:  19.223\n"
       ]
      },
      {
       "output_type": "stream",
       "stream": "stdout",
       "text": [
        "    Added Star: 65 - X: 202.00  Y:  77.00  Mag:  21.420\n"
       ]
      },
      {
       "output_type": "stream",
       "stream": "stdout",
       "text": [
        "    Added Star: 66 - X: 118.00  Y: 135.00  Mag:  24.073\n"
       ]
      },
      {
       "output_type": "stream",
       "stream": "stdout",
       "text": [
        "    Added Star: 67 - X: 228.00  Y: 149.00  Mag:  22.651\n"
       ]
      },
      {
       "output_type": "stream",
       "stream": "stdout",
       "text": [
        "    Added Star: 68 - X: 234.00  Y: 112.00  Mag:  21.756\n"
       ]
      },
      {
       "output_type": "stream",
       "stream": "stdout",
       "text": [
        "    Added Star: 69 - X: 164.00  Y: 135.00  Mag:  22.932\n"
       ]
      },
      {
       "output_type": "stream",
       "stream": "stdout",
       "text": [
        "    Added Star: 70 - X:  94.00  Y: 247.00  Mag:  20.376\n"
       ]
      },
      {
       "output_type": "stream",
       "stream": "stdout",
       "text": [
        "    Added Star: 71 - X:  89.00  Y:  84.00  Mag:  21.297\n"
       ]
      },
      {
       "output_type": "stream",
       "stream": "stdout",
       "text": [
        "    Added Star: 72 - X:  50.00  Y: 200.00  Mag:  19.372\n"
       ]
      },
      {
       "output_type": "stream",
       "stream": "stdout",
       "text": [
        "    Added Star: 73 - X:  21.00  Y:  51.00  Mag:  23.828\n"
       ]
      },
      {
       "output_type": "stream",
       "stream": "stdout",
       "text": [
        "    Added Star: 74 - X:  46.00  Y: 231.00  Mag:  18.901\n"
       ]
      },
      {
       "output_type": "stream",
       "stream": "stdout",
       "text": [
        "    Added Star: 75 - X:  77.00  Y:  62.00  Mag:  23.427\n"
       ]
      },
      {
       "output_type": "stream",
       "stream": "stdout",
       "text": [
        "    Added Star: 76 - X: 189.00  Y: 188.00  Mag:  18.002\n"
       ]
      },
      {
       "output_type": "stream",
       "stream": "stdout",
       "text": [
        "    Added Star: 77 - X: 241.00  Y:  41.00  Mag:  18.042\n"
       ]
      },
      {
       "output_type": "stream",
       "stream": "stdout",
       "text": [
        "    Added Star: 78 - X:  75.00  Y:  93.00  Mag:  19.142\n"
       ]
      },
      {
       "output_type": "stream",
       "stream": "stdout",
       "text": [
        "    Added Star: 79 - X: 189.00  Y: 166.00  Mag:  20.598\n"
       ]
      },
      {
       "output_type": "stream",
       "stream": "stdout",
       "text": [
        "    Added Star: 80 - X:  91.00  Y: 126.00  Mag:  24.106\n"
       ]
      },
      {
       "output_type": "stream",
       "stream": "stdout",
       "text": [
        "    Added Star: 81 - X: 177.00  Y: 175.00  Mag:  21.297\n"
       ]
      },
      {
       "output_type": "stream",
       "stream": "stdout",
       "text": [
        "    Added Star: 82 - X: 223.00  Y:   7.00  Mag:  19.058\n"
       ]
      },
      {
       "output_type": "stream",
       "stream": "stdout",
       "text": [
        "    Added Star: 83 - X: 216.00  Y: 220.00  Mag:  22.621\n"
       ]
      },
      {
       "output_type": "stream",
       "stream": "stdout",
       "text": [
        "    Added Star: 84 - X:  52.00  Y: 114.00  Mag:  21.023\n"
       ]
      },
      {
       "output_type": "stream",
       "stream": "stdout",
       "text": [
        "    Added Star: 85 - X: 182.00  Y: 217.00  Mag:  19.855\n"
       ]
      },
      {
       "output_type": "stream",
       "stream": "stdout",
       "text": [
        "    Added Star: 86 - X:  23.00  Y:  40.00  Mag:  18.306\n"
       ]
      },
      {
       "output_type": "stream",
       "stream": "stdout",
       "text": [
        "    Added Star: 87 - X:  90.00  Y:  23.00  Mag:  23.759\n"
       ]
      },
      {
       "output_type": "stream",
       "stream": "stdout",
       "text": [
        "    Added Star: 88 - X: 179.00  Y:  81.00  Mag:  19.563\n"
       ]
      },
      {
       "output_type": "stream",
       "stream": "stdout",
       "text": [
        "    Added Star: 89 - X: 231.00  Y: 202.00  Mag:  22.038\n"
       ]
      },
      {
       "output_type": "stream",
       "stream": "stdout",
       "text": [
        "    Added Star: 90 - X:  42.00  Y: 122.00  Mag:  20.566\n"
       ]
      },
      {
       "output_type": "stream",
       "stream": "stdout",
       "text": [
        "    Added Star: 91 - X: 114.00  Y:  86.00  Mag:  21.659\n"
       ]
      },
      {
       "output_type": "stream",
       "stream": "stdout",
       "text": [
        "    Added Star: 92 - X:  43.00  Y: 213.00  Mag:  19.183\n"
       ]
      },
      {
       "output_type": "stream",
       "stream": "stdout",
       "text": [
        "    Added Star: 93 - X: 140.00  Y:  13.00  Mag:  20.797\n"
       ]
      },
      {
       "output_type": "stream",
       "stream": "stdout",
       "text": [
        "    Added Star: 94 - X: 233.00  Y: 242.00  Mag:  19.612\n"
       ]
      },
      {
       "output_type": "stream",
       "stream": "stdout",
       "text": [
        "    Added Star: 95 - X: 200.00  Y:  80.00  Mag:  22.556\n"
       ]
      },
      {
       "output_type": "stream",
       "stream": "stdout",
       "text": [
        "    Added Star: 96 - X: 138.00  Y:  20.00  Mag:  21.629\n"
       ]
      },
      {
       "output_type": "stream",
       "stream": "stdout",
       "text": [
        "    Added Star: 97 - X: 243.00  Y:  25.00  Mag:  18.686\n"
       ]
      },
      {
       "output_type": "stream",
       "stream": "stdout",
       "text": [
        "    Added Star: 98 - X:  52.00  Y:  21.00  Mag:  24.240\n"
       ]
      },
      {
       "output_type": "stream",
       "stream": "stdout",
       "text": [
        "    Added Star: 99 - X: 249.00  Y: 197.00  Mag:  24.788\n"
       ]
      },
      {
       "output_type": "stream",
       "stream": "stdout",
       "text": [
        "    Added Star: 100 - X: 123.00  Y:  66.00  Mag:  23.856\n"
       ]
      }
     ],
     "prompt_number": 61
    },
    {
     "cell_type": "markdown",
     "metadata": {},
     "source": [
      "Let's check out the new image to see the additions.\n",
      "\n",
      "(Again, don't freak out. I kept them bad to make sure you'd see them.)"
     ]
    },
    {
     "cell_type": "code",
     "collapsed": false,
     "input": [
      "realstars = pyfits.getdata(science_image)\n",
      "artstars = pyfits.getdata('n8q624e8q_art.fits1.add.1.fits')\n",
      "\n",
      "fig = plt.figure()\n",
      "\n",
      "# Shows original science image\n",
      "ax1 = fig.add_subplot(121)\n",
      "ax1.imshow(np.log10(realstars), cmap=plt.cm.gray)\n",
      "ax1.set_title('Before')\n",
      "\n",
      "# Shows science image with fake stars\n",
      "ax2 = fig.add_subplot(122)\n",
      "ax2.imshow(np.log10(artstars), cmap=plt.cm.gray)\n",
      "ax2.set_title('After')\n",
      "ax2.set_xlim(0, 250)\n",
      "ax2.set_ylim(0, 250)"
     ],
     "language": "python",
     "metadata": {},
     "outputs": [
      {
       "output_type": "stream",
       "stream": "stdout",
       "text": [
        "\u001b[0;33mWARNING\u001b[0m: RuntimeWarning: divide by zero encountered in log10 [unknown]\n",
        "\u001b[0;33mWARNING\u001b[0m: RuntimeWarning: invalid value encountered in log10 [unknown]\n",
        "\u001b[0;33mWARNING\u001b[0m"
       ]
      },
      {
       "output_type": "stream",
       "stream": "stdout",
       "text": [
        ": RuntimeWarning: divide by zero encountered in log10 [unknown]\n",
        "\u001b[0;33mWARNING\u001b[0m: RuntimeWarning: invalid value encountered in log10 [unknown]\n"
       ]
      },
      {
       "output_type": "pyout",
       "prompt_number": 62,
       "text": [
        "(0, 250)"
       ]
      },
      {
       "output_type": "display_data",
       "png": "[encoded data removed]"
      }
     ],
     "prompt_number": 62
    },
    {
     "cell_type": "markdown",
     "metadata": {},
     "source": [
      "So, now you just have to:\n",
      "\n",
      "* detect everything in the image with fake stars\n",
      "* redo the photometry\n",
      "* make sure you've added enough stars (or done this enough times) to get a statisical sampling\n",
      "* plot up the results!\n",
      "\n",
      "Since this is already a long lecture, I'll leave this to you. :)"
     ]
    },
    {
     "cell_type": "heading",
     "level": 1,
     "metadata": {},
     "source": [
      "Closing Time"
     ]
    },
    {
     "cell_type": "code",
     "collapsed": false,
     "input": [
      "drizzled.close()"
     ],
     "language": "python",
     "metadata": {},
     "outputs": [],
     "prompt_number": 63
    }
   ],
   "metadata": {}
  }
 ]
}