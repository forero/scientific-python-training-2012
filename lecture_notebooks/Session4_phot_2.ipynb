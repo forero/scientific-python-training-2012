{
 "metadata": {
  "name": "Session4_phot_2"
 },
 "nbformat": 3,
 "nbformat_minor": 0,
 "worksheets": [
  {
   "cells": [
    {
     "cell_type": "markdown",
     "metadata": {},
     "source": [
      "#Session 4 - Scripting and PSF Photometry#\n",
      "##Contributions from Perry Greenfield, Pey-Lian Lim, Megan Sosey##\n",
      "\n",
      "##This session will focus on the following ideas:##\n",
      "\n",
      "- Basic scripting and modules.\n",
      "- Looking at a PSF and using it for photometry (not best practices for creating one).\n",
      "- Simple completeness testing:\n",
      "\n",
      "    - How to generate a random array for stellar locations or magnitude.\n",
      "    - Adding the PSF back into your science image.\n",
      "    - Making useful plots of the results.\n",
      "\n",
      "\n",
      "\n",
      "It assumes that you already have good knowledge of aperture and PSF photometry. \n",
      "There is a good tutorial series on photometry, especially with HST and DAOPhot, given by Dave Zurek many moons ago. The files are still available here: http://www.stsci.edu/hst/training/events/Photometry/SSD990302/\n",
      "\n"
     ]
    },
    {
     "cell_type": "code",
     "collapsed": false,
     "input": [
      "#import some useful modules for this notebook\n",
      "#this one is for opening a file and immediately closing it, frees up filehandles faster\n",
      "from __future__ import with_statement\n",
      "\n",
      "\n",
      "from astropy.io import ascii\n",
      "from astropy import table\n",
      "import numpy as np\n",
      "import pyfits\n",
      "import matplotlib.pyplot  as plt"
     ],
     "language": "python",
     "metadata": {},
     "outputs": [],
     "prompt_number": 70
    },
    {
     "cell_type": "heading",
     "level": 2,
     "metadata": {},
     "source": [
      "Making and Running Scripts - The Basics"
     ]
    },
    {
     "cell_type": "markdown",
     "metadata": {},
     "source": [
      "If you are inside the iPython notebook and would like to start a script file, insert the magic below at the top of the cell:\n",
      "\n",
      "    %%file filename\n",
      "\n",
      "The contents of cell following that will get saved in the specified file.\n",
      "Usually Python code is saved in a filename ending in `.py`, but for use only as a script, it doesn't have to be. You can call it anything you like, but unless you use it a lot, keeping `.py` is a good idea."
     ]
    },
    {
     "cell_type": "code",
     "collapsed": false,
     "input": [
      "%%file bozo.py\n",
      "print \"Help, I'm a clown\""
     ],
     "language": "python",
     "metadata": {},
     "outputs": [
      {
       "output_type": "stream",
       "stream": "stdout",
       "text": [
        "Overwriting bozo.py\n"
       ]
      }
     ],
     "prompt_number": 2
    },
    {
     "cell_type": "markdown",
     "metadata": {},
     "source": [
      "You can also execute that script from inside the notebook session:"
     ]
    },
    {
     "cell_type": "code",
     "collapsed": false,
     "input": [
      "!python bozo.py"
     ],
     "language": "python",
     "metadata": {},
     "outputs": [
      {
       "output_type": "stream",
       "stream": "stdout",
       "text": [
        "Help, I'm a clown\r\n"
       ]
      }
     ],
     "prompt_number": 3
    },
    {
     "cell_type": "markdown",
     "metadata": {},
     "source": [
      "The reason we had to specify \"python\" to run the code is because the file is not executable and doesn't point to the the Python interpreter.\n",
      "We can fix that though:"
     ]
    },
    {
     "cell_type": "code",
     "collapsed": false,
     "input": [
      "%%file sadbozo\n",
      "#!/usr/bin/env python\n",
      "# this points to the python installed on your PATH\n",
      "print \"a sad clown\""
     ],
     "language": "python",
     "metadata": {},
     "outputs": [
      {
       "output_type": "stream",
       "stream": "stdout",
       "text": [
        "Overwriting sadbozo\n"
       ]
      }
     ],
     "prompt_number": 4
    },
    {
     "cell_type": "code",
     "collapsed": false,
     "input": [
      "# Now make it executable and run it\n",
      "!chmod a+x sadbozo\n",
      "!sadbozo"
     ],
     "language": "python",
     "metadata": {},
     "outputs": [
      {
       "output_type": "stream",
       "stream": "stdout",
       "text": [
        "a sad clown\r\n"
       ]
      }
     ],
     "prompt_number": 5
    },
    {
     "cell_type": "markdown",
     "metadata": {},
     "source": [
      "While this is a great way to flush out some ideas or early data reduction, you'll probably want to work on larger scripts inside of your favorite text editor or IDE (there are quite a few to choose from)."
     ]
    },
    {
     "cell_type": "markdown",
     "metadata": {},
     "source": [
      "If you are working in an iPython shell (simulated in the notebook) you can use the `%run` magic:"
     ]
    },
    {
     "cell_type": "code",
     "collapsed": false,
     "input": [
      "%run bozo.py"
     ],
     "language": "python",
     "metadata": {},
     "outputs": [
      {
       "output_type": "stream",
       "stream": "stdout",
       "text": [
        "Help, I'm a clown"
       ]
      },
      {
       "output_type": "stream",
       "stream": "stdout",
       "text": [
        "\n"
       ]
      }
     ],
     "prompt_number": 6
    },
    {
     "cell_type": "markdown",
     "metadata": {},
     "source": [
      "Be careful in this case because any variable used in the script remain in your current environment!"
     ]
    },
    {
     "cell_type": "code",
     "collapsed": false,
     "input": [
      "%%file bozo2.py\n",
      "name = \"Bozo the Clown\""
     ],
     "language": "python",
     "metadata": {},
     "outputs": [
      {
       "output_type": "stream",
       "stream": "stdout",
       "text": [
        "Overwriting bozo2.py\n"
       ]
      }
     ],
     "prompt_number": 7
    },
    {
     "cell_type": "code",
     "collapsed": false,
     "input": [
      "%run bozo2.py \n",
      "name  # Now it's in our local namespace"
     ],
     "language": "python",
     "metadata": {},
     "outputs": [
      {
       "output_type": "pyout",
       "prompt_number": 8,
       "text": [
        "'Bozo the Clown'"
       ]
      }
     ],
     "prompt_number": 8
    },
    {
     "cell_type": "markdown",
     "metadata": {},
     "source": [
      "__Important things to remember:__\n",
      "\n",
      "* You can write a Python script in any text editor.\n",
      "\n",
      "* You can make the script executable by itself using a shebang (`#!`) and pointing it to your environment, and make the file executable. (As shown above.)\n",
      "\n",
      "* Scripts need to import all the modules they depend on.\n",
      "\n",
      "* Running a script in a Python session will load all of its variables into your current environment. Watch for common use names! See http://docs.python.org/2/tutorial/classes.html#python-scopes-and-namespaces\n",
      "\n",
      "* For good Python coding practices, see PEP 8 (<http://www.python.org/dev/peps/pep-0008/>_)."
     ]
    },
    {
     "cell_type": "heading",
     "level": 2,
     "metadata": {},
     "source": [
      "Defining a Function"
     ]
    },
    {
     "cell_type": "code",
     "collapsed": false,
     "input": [
      "def square(x):\n",
      "    \"\"\"Take the square of the input value, x.\"\"\"\n",
      "    return x*x"
     ],
     "language": "python",
     "metadata": {},
     "outputs": [],
     "prompt_number": 9
    },
    {
     "cell_type": "code",
     "collapsed": false,
     "input": [
      "square(5)"
     ],
     "language": "python",
     "metadata": {},
     "outputs": [
      {
       "output_type": "pyout",
       "prompt_number": 10,
       "text": [
        "25"
       ]
      }
     ],
     "prompt_number": 10
    },
    {
     "cell_type": "markdown",
     "metadata": {},
     "source": [
      "See the document string I put in the function? It's a good practice to describe what your functions do. It can be useful for yourself and other users.\n",
      "\n",
      "Currently, Sphinx (<http://sphinx-doc.org/>_) is the documentation tool used by SSB. It uses \"reStructuredText\" (<http://docutils.sourceforge.net/rst.html>_) formatting."
     ]
    },
    {
     "cell_type": "code",
     "collapsed": false,
     "input": [
      "square.__doc__"
     ],
     "language": "python",
     "metadata": {},
     "outputs": [
      {
       "output_type": "pyout",
       "prompt_number": 11,
       "text": [
        "'Take the square of the input value, x.'"
       ]
      }
     ],
     "prompt_number": 11
    },
    {
     "cell_type": "code",
     "collapsed": false,
     "input": [
      "help(square)"
     ],
     "language": "python",
     "metadata": {},
     "outputs": [
      {
       "output_type": "stream",
       "stream": "stdout",
       "text": [
        "Help on function square in module __main__:\n",
        "\n",
        "square(x)\n",
        "    Take the square of the input value, x.\n",
        "\n"
       ]
      }
     ],
     "prompt_number": 12
    },
    {
     "cell_type": "markdown",
     "metadata": {},
     "source": [
      "More on the significance of  `__main__`  to come...\n"
     ]
    },
    {
     "cell_type": "heading",
     "level": 3,
     "metadata": {},
     "source": [
      "Defaults, Optional Arguments, etc."
     ]
    },
    {
     "cell_type": "markdown",
     "metadata": {},
     "source": [
      "More details at <http://docs.python.org/2/tutorial/controlflow.html#more-on-defining-functions>_.\n",
      "\n",
      "The `__future__` module allows you to use new language features before they become standard in a future release. "
     ]
    },
    {
     "cell_type": "code",
     "collapsed": false,
     "input": [
      "from __future__ import print_function \n",
      "\n",
      "def print_me(a, b, c=2):\n",
      "    \"\"\"\n",
      "    Print the input values using new-style `print` function\n",
      "    available in Python 3.x.\n",
      "\n",
      "    .. note::\n",
      "\n",
      "        `c` is an optional keyword.\n",
      "        If not given, it defaults to 2.\n",
      "\n",
      "    \"\"\"\n",
      "    print(a, b, c)"
     ],
     "language": "python",
     "metadata": {},
     "outputs": [],
     "prompt_number": 13
    },
    {
     "cell_type": "code",
     "collapsed": false,
     "input": [
      "print_me(1, 2, 3)\n",
      "print_me(1, 2)\n",
      "print_me(a=1, b=7)"
     ],
     "language": "python",
     "metadata": {},
     "outputs": [
      {
       "output_type": "stream",
       "stream": "stdout",
       "text": [
        "1 2 3\n",
        "1 2 2\n",
        "1 7 2\n"
       ]
      }
     ],
     "prompt_number": 14
    },
    {
     "cell_type": "markdown",
     "metadata": {},
     "source": [
      "This will crash because value for `b` is not given.\n",
      "It sees that we only specified a default for the `c` and wants the expected value for `b`."
     ]
    },
    {
     "cell_type": "code",
     "collapsed": false,
     "input": [
      "print_me(1)"
     ],
     "language": "python",
     "metadata": {},
     "outputs": [
      {
       "ename": "TypeError",
       "evalue": "print_me() takes at least 2 arguments (1 given)",
       "output_type": "pyerr",
       "traceback": [
        "\u001b[0;31m---------------------------------------------------------------------------\u001b[0m\n\u001b[0;31mTypeError\u001b[0m                                 Traceback (most recent call last)",
        "\u001b[0;32m<ipython-input-15-5534e33b4a02>\u001b[0m in \u001b[0;36m<module>\u001b[0;34m()\u001b[0m\n\u001b[0;32m----> 1\u001b[0;31m \u001b[0mprint_me\u001b[0m\u001b[0;34m(\u001b[0m\u001b[0;36m1\u001b[0m\u001b[0;34m)\u001b[0m\u001b[0;34m\u001b[0m\u001b[0m\n\u001b[0m",
        "\u001b[0;31mTypeError\u001b[0m: print_me() takes at least 2 arguments (1 given)"
       ]
      },
      {
       "output_type": "stream",
       "stream": "stdout",
       "text": [
        "\u001b[0;31mERROR\u001b[0m: TypeError: print_me() takes at least 2 arguments (1 given) [IPython.core.interactiveshell]\n"
       ]
      }
     ],
     "prompt_number": 15
    },
    {
     "cell_type": "markdown",
     "metadata": {},
     "source": [
      "This will crash because there is nowhere to store 4."
     ]
    },
    {
     "cell_type": "code",
     "collapsed": false,
     "input": [
      "print_me(1, 2, 3, 4)"
     ],
     "language": "python",
     "metadata": {},
     "outputs": [
      {
       "ename": "TypeError",
       "evalue": "print_me() takes at most 3 arguments (4 given)",
       "output_type": "pyerr",
       "traceback": [
        "\u001b[0;31m---------------------------------------------------------------------------\u001b[0m\n\u001b[0;31mTypeError\u001b[0m                                 Traceback (most recent call last)",
        "\u001b[0;32m<ipython-input-16-1895b17ca7e4>\u001b[0m in \u001b[0;36m<module>\u001b[0;34m()\u001b[0m\n\u001b[0;32m----> 1\u001b[0;31m \u001b[0mprint_me\u001b[0m\u001b[0;34m(\u001b[0m\u001b[0;36m1\u001b[0m\u001b[0;34m,\u001b[0m \u001b[0;36m2\u001b[0m\u001b[0;34m,\u001b[0m \u001b[0;36m3\u001b[0m\u001b[0;34m,\u001b[0m \u001b[0;36m4\u001b[0m\u001b[0;34m)\u001b[0m\u001b[0;34m\u001b[0m\u001b[0m\n\u001b[0m",
        "\u001b[0;31mTypeError\u001b[0m: print_me() takes at most 3 arguments (4 given)"
       ]
      },
      {
       "output_type": "stream",
       "stream": "stdout",
       "text": [
        "\u001b[0;31mERROR\u001b[0m: TypeError: print_me() takes at most 3 arguments (4 given) [IPython.core.interactiveshell]\n"
       ]
      }
     ],
     "prompt_number": 16
    },
    {
     "cell_type": "heading",
     "level": 3,
     "metadata": {},
     "source": [
      "How to Return More Than 1 Value From a Function"
     ]
    },
    {
     "cell_type": "code",
     "collapsed": false,
     "input": [
      "def powers(x):\n",
      "    \"\"\"Returns multiple powers of x.\"\"\"\n",
      "    return x, x**2, x**3, x**4"
     ],
     "language": "python",
     "metadata": {},
     "outputs": [],
     "prompt_number": 17
    },
    {
     "cell_type": "code",
     "collapsed": false,
     "input": [
      "powers(3)"
     ],
     "language": "python",
     "metadata": {},
     "outputs": [
      {
       "output_type": "pyout",
       "prompt_number": 18,
       "text": [
        "(3, 9, 27, 81)"
       ]
      }
     ],
     "prompt_number": 18
    },
    {
     "cell_type": "markdown",
     "metadata": {},
     "source": [
      "Notice they are enclosed in parenthesis? This is called a __tuple__.\n",
      "\n",
      "Tuples\n",
      "\n",
      "* are like lists, EXCEPT they are immutable, and always indexed the same way.\n",
      "\n",
      "* DO NOT have to contain the same data type for each element.\n",
      "\n",
      "* can contain a mutable item, like a list. That item can still be changed, but its location in the tuple cannot.\n",
      "\n",
      "* can have 1 or more elements. HOWEVER, a single-element tuple is distinquished from a number with a comma. Example: `(1,)`"
     ]
    },
    {
     "cell_type": "code",
     "collapsed": false,
     "input": [
      "tup = (1, \"bozo\", [1,2,3])\n",
      "\n",
      "print('1st item:', tup[0])\n",
      "print('2nd item:', tup[1])\n",
      "print('3rd item:', tup[2])\n",
      "print('last element of 3rd item:', tup[2][-1])  # Tricky!"
     ],
     "language": "python",
     "metadata": {},
     "outputs": [
      {
       "output_type": "stream",
       "stream": "stdout",
       "text": [
        "1st item: 1\n",
        "2nd item: bozo\n",
        "3rd item: [1, 2, 3]\n",
        "last element of 3rd item: 3\n"
       ]
      }
     ],
     "prompt_number": 19
    },
    {
     "cell_type": "code",
     "collapsed": false,
     "input": [
      "number = (3)\n",
      "print('This is a number:', number)\n",
      "\n",
      "single_tuple = (3,)\n",
      "print('This is a tuple:', single_tuple)"
     ],
     "language": "python",
     "metadata": {},
     "outputs": [
      {
       "output_type": "stream",
       "stream": "stdout",
       "text": [
        "This is a number: 3\n",
        "This is a tuple: (3,)\n"
       ]
      }
     ],
     "prompt_number": 20
    },
    {
     "cell_type": "markdown",
     "metadata": {},
     "source": [
      "You can also assign members of a tuple to separate variables (also known as __unpacking__):"
     ]
    },
    {
     "cell_type": "code",
     "collapsed": false,
     "input": [
      "a, b, c = tup\n",
      "\n",
      "print(a)\n",
      "print(b)\n",
      "print(c)"
     ],
     "language": "python",
     "metadata": {},
     "outputs": [
      {
       "output_type": "stream",
       "stream": "stdout",
       "text": [
        "1\n",
        "bozo\n",
        "[1, 2, 3]\n"
       ]
      }
     ],
     "prompt_number": 21
    },
    {
     "cell_type": "markdown",
     "metadata": {},
     "source": [
      "Now we can unpack all the returned values from our `powers` function above:"
     ]
    },
    {
     "cell_type": "code",
     "collapsed": false,
     "input": [
      "first, second, third, fourth = powers(3)\n",
      "\n",
      "print(first)\n",
      "print(second)\n",
      "print(third)\n",
      "print(fourth)"
     ],
     "language": "python",
     "metadata": {},
     "outputs": [
      {
       "output_type": "stream",
       "stream": "stdout",
       "text": [
        "3\n",
        "9\n",
        "27\n",
        "81\n"
       ]
      }
     ],
     "prompt_number": 22
    },
    {
     "cell_type": "heading",
     "level": 3,
     "metadata": {},
     "source": [
      "GOTCHA! Do not use mutable items as default values. If you do, all the function calls that use that default will refer to the same item, and your results could be unexpected."
     ]
    },
    {
     "cell_type": "code",
     "collapsed": false,
     "input": [
      "def baddefault(inputlist, previouscases=[]):\n",
      "    \"\"\"Take an input list, extract negative values and\n",
      "    append them to previous cases. Return previous cases.\n",
      "    \"\"\"\n",
      "    for item in inputlist:\n",
      "        if item < 0:\n",
      "            previouscases.append(item)\n",
      "    return previouscases"
     ],
     "language": "python",
     "metadata": {},
     "outputs": [],
     "prompt_number": 23
    },
    {
     "cell_type": "code",
     "collapsed": false,
     "input": [
      "# Use non-default previouscases\n",
      "print(baddefault([1,2,-5], [-3,-1]))\n",
      "\n",
      "# Use default previouscases\n",
      "print(baddefault([1,2,-5]))"
     ],
     "language": "python",
     "metadata": {},
     "outputs": [
      {
       "output_type": "stream",
       "stream": "stdout",
       "text": [
        "[-3, -1, -5]\n",
        "[-5]\n"
       ]
      }
     ],
     "prompt_number": 24
    },
    {
     "cell_type": "markdown",
     "metadata": {},
     "source": [
      "So far, so good. Now..."
     ]
    },
    {
     "cell_type": "code",
     "collapsed": false,
     "input": [
      "# Use default previouscases, again.\n",
      "print(baddefault([-1, -2]))"
     ],
     "language": "python",
     "metadata": {},
     "outputs": [
      {
       "output_type": "stream",
       "stream": "stdout",
       "text": [
        "[-5, -1, -2]\n"
       ]
      }
     ],
     "prompt_number": 25
    },
    {
     "cell_type": "markdown",
     "metadata": {},
     "source": [
      "Expected answer is\n",
      "\n",
      "    [-1, -2]\n",
      "\n",
      "but we got\n",
      "\n",
      "    [-5, -1, -2]\n",
      "\n",
      "where the -5 is inherited from the previous call!\n",
      "\n",
      "Better ways to do this later..."
     ]
    },
    {
     "cell_type": "heading",
     "level": 2,
     "metadata": {},
     "source": [
      "Python Modules: Putting All Your Useful Functions (or Variables, Classes, etc.) into One File."
     ]
    },
    {
     "cell_type": "markdown",
     "metadata": {},
     "source": [
      "Modules:\n",
      "\n",
      "* are Python files that can be imported.\n",
      "* contain any combination of variables, functions, class definitions, or code to be executed on import.\n",
      "* must end in \".py\" because they are imported by the rootname of the file. \n",
      "\n",
      "__`import` only imports a module once.__ If Python knows it is already loaded, import will not be done without an explicit `reload` command."
     ]
    },
    {
     "cell_type": "code",
     "collapsed": false,
     "input": [
      "%%file testmodule.py\n",
      "def testfunction(a, b):\n",
      "    \"\"\"Return a sum of inputs.\"\"\"\n",
      "    return a + b"
     ],
     "language": "python",
     "metadata": {},
     "outputs": [
      {
       "output_type": "stream",
       "stream": "stdout",
       "text": [
        "Overwriting testmodule.py\n"
       ]
      }
     ],
     "prompt_number": 26
    },
    {
     "cell_type": "code",
     "collapsed": false,
     "input": [
      "import testmodule\n",
      "\n",
      "testmodule.testfunction(2, 3)"
     ],
     "language": "python",
     "metadata": {},
     "outputs": [
      {
       "output_type": "pyout",
       "prompt_number": 27,
       "text": [
        "5"
       ]
      }
     ],
     "prompt_number": 27
    },
    {
     "cell_type": "code",
     "collapsed": false,
     "input": [
      "%%file testmodule.py\n",
      "def testfunction(a, b):\n",
      "    \"\"\"Return a multiplication of inputs.\"\"\"\n",
      "    return a * b"
     ],
     "language": "python",
     "metadata": {},
     "outputs": [
      {
       "output_type": "stream",
       "stream": "stdout",
       "text": [
        "Overwriting testmodule.py\n"
       ]
      }
     ],
     "prompt_number": 28
    },
    {
     "cell_type": "code",
     "collapsed": false,
     "input": [
      "import testmodule\n",
      "\n",
      "testmodule.testfunction(2, 3)"
     ],
     "language": "python",
     "metadata": {},
     "outputs": [
      {
       "output_type": "pyout",
       "prompt_number": 29,
       "text": [
        "5"
       ]
      }
     ],
     "prompt_number": 29
    },
    {
     "cell_type": "markdown",
     "metadata": {},
     "source": [
      "The answer above is still the sum, not the product! We have to reload the function and try again."
     ]
    },
    {
     "cell_type": "code",
     "collapsed": false,
     "input": [
      "reload(testmodule)\n",
      "\n",
      "testmodule.testfunction(2, 3)"
     ],
     "language": "python",
     "metadata": {},
     "outputs": [
      {
       "output_type": "pyout",
       "prompt_number": 30,
       "text": [
        "6"
       ]
      }
     ],
     "prompt_number": 30
    },
    {
     "cell_type": "markdown",
     "metadata": {},
     "source": [
      "__Layered Imports__\n",
      "\n",
      "If you have layered imports, e.g.:\n",
      "\n",
      "* `a.py` imports `b.py`\n",
      "* `b.py` imports `c.py`\n",
      "\n",
      "When you change `c.py` and do `reload(a)`, it will not do `reload(c)` for you as it is only looking for changes in `a.py`.\n",
      "\n",
      "So, you have reload in this order, which can become tedious:\n",
      "\n",
      "    reload(c)\n",
      "    reload(b)\n",
      "    reload(a)\n",
      "\n",
      "Luckily, iPython has a magic `dreload` (deep reload) that tries to handle all those dependencies.\n",
      "\n",
      "__Avoid `import *`__\n",
      "\n",
      "It is generally bad form to use\n",
      "\n",
      "    from module import *\n",
      "\n",
      "in a script because it leads to hard to understand code.\n",
      "\n",
      "Try to be explicit:\n",
      "  \n",
      "    from testmodule import testfunction"
     ]
    },
    {
     "cell_type": "markdown",
     "metadata": {},
     "source": [
      "__You can make your module usable as a script/executable by assigning it the name \"main\" at the bottom:__\n",
      "\n",
      "    if __name__ == \"__main__\":\n",
      "        print(testfunction(1, 2))\n",
      "    \n",
      "\n",
      "This works because the code that parses the command line only runs if the module is executed as the \"main\" file.\n",
      "It can provide a nice user interface to your module or be used to execute a suite of tests to make sure it's working as expected."
     ]
    },
    {
     "cell_type": "code",
     "collapsed": false,
     "input": [
      "%%file testmodule.py\n",
      "#! /usr/bin/env python\n",
      "\n",
      "def testfunction(a, b):\n",
      "    \"\"\"Return a division of inputs.\"\"\"\n",
      "    return a / b\n",
      "\n",
      "if __name__ == \"__main__\":\n",
      "    print(testfunction(1., 2.))\n",
      "    "
     ],
     "language": "python",
     "metadata": {},
     "outputs": [
      {
       "output_type": "stream",
       "stream": "stdout",
       "text": [
        "Overwriting testmodule.py\n"
       ]
      }
     ],
     "prompt_number": 31
    },
    {
     "cell_type": "code",
     "collapsed": false,
     "input": [
      "reload(testmodule)"
     ],
     "language": "python",
     "metadata": {},
     "outputs": [
      {
       "output_type": "pyout",
       "prompt_number": 32,
       "text": [
        "<module 'testmodule' from 'testmodule.py'>"
       ]
      }
     ],
     "prompt_number": 32
    },
    {
     "cell_type": "code",
     "collapsed": false,
     "input": [
      "testmodule.testfunction(5., 6.)"
     ],
     "language": "python",
     "metadata": {},
     "outputs": [
      {
       "output_type": "pyout",
       "prompt_number": 33,
       "text": [
        "0.8333333333333334"
       ]
      }
     ],
     "prompt_number": 33
    },
    {
     "cell_type": "code",
     "collapsed": false,
     "input": [
      "!chmod a+x testmodule.py\n",
      "!testmodule.py"
     ],
     "language": "python",
     "metadata": {},
     "outputs": [
      {
       "output_type": "stream",
       "stream": "stdout",
       "text": [
        "0.5\r\n"
       ]
      }
     ],
     "prompt_number": 34
    },
    {
     "cell_type": "heading",
     "level": 4,
     "metadata": {},
     "source": [
      "You can also execute the script with system arguments, like some Fortran and C programs:"
     ]
    },
    {
     "cell_type": "code",
     "collapsed": false,
     "input": [
      "%%file bozo3.py\n",
      "#! /usr/bin/env python\n",
      "\n",
      "# This portion is executed when someone do this:\n",
      "#     import bozo3\n",
      "import sys\n",
      "def clown_greeting(name='Bozo'):\n",
      "    print \"I'm a clown and my name is\", name\n",
      "\n",
      "# This portion only runs in a script context:\n",
      "if __name__ == \"__main__\":\n",
      "    # Check if shell-level command line arguments are present\n",
      "    if len(sys.argv) > 1:\n",
      "        # Ignore the first item since that is the name of this script.\n",
      "        # Call the function above once for each subsequent items.\n",
      "        for item in sys.argv[1:]:\n",
      "            clown_greeting(item)\n",
      "    else:\n",
      "        print \"USAGE: bozo3.py name1 [name2 name3 ...]\""
     ],
     "language": "python",
     "metadata": {},
     "outputs": [
      {
       "output_type": "stream",
       "stream": "stdout",
       "text": [
        "Overwriting bozo3.py"
       ]
      },
      {
       "output_type": "stream",
       "stream": "stdout",
       "text": [
        "\n"
       ]
      }
     ],
     "prompt_number": 35
    },
    {
     "cell_type": "code",
     "collapsed": false,
     "input": [
      "import bozo3\n",
      "bozo3.clown_greeting()\n",
      "bozo3.clown_greeting('Crusty')"
     ],
     "language": "python",
     "metadata": {},
     "outputs": [
      {
       "output_type": "stream",
       "stream": "stdout",
       "text": [
        "I'm a clown and my name is Bozo\n",
        "I'm a clown and my name is Crusty\n"
       ]
      }
     ],
     "prompt_number": 36
    },
    {
     "cell_type": "code",
     "collapsed": false,
     "input": [
      "!chmod a+x bozo3.py\n",
      "!bozo3.py \"Ronald McDonald\" It"
     ],
     "language": "python",
     "metadata": {},
     "outputs": [
      {
       "output_type": "stream",
       "stream": "stdout",
       "text": [
        "I'm a clown and my name is Ronald McDonald\r\n",
        "I'm a clown and my name is It\r\n"
       ]
      }
     ],
     "prompt_number": 37
    },
    {
     "cell_type": "heading",
     "level": 2,
     "metadata": {},
     "source": [
      "How does Python find modules?"
     ]
    },
    {
     "cell_type": "markdown",
     "metadata": {},
     "source": [
      "See <http://docs.python.org/2/tutorial/modules.html#the-module-search-path>_.\n",
      "\n",
      "Python searches the environmental variable __PYTHONPATH__ to find the module you have specified. \n",
      "\n",
      "Usually the current directory is part of the search path, but it might not be the FIRST thing. \n",
      "\n",
      "You can modify the path dynamically by changing the contents of the `sys.path` list (not good for standard use, but useful for experimentation sometimes) .\n",
      "\n",
      "To see what the current path is:"
     ]
    },
    {
     "cell_type": "code",
     "collapsed": false,
     "input": [
      "import sys\n",
      "sys.path"
     ],
     "language": "python",
     "metadata": {},
     "outputs": [
      {
       "output_type": "pyout",
       "prompt_number": 38,
       "text": [
        "['',\n",
        " '',\n",
        " '/Users/sosey/ssb/ureka/Ureka/variants/common/lib/python/astropy-0.1-py2.7-macosx-10.6-x86_64.egg',\n",
        " '/Users/sosey/ssb/ureka/Ureka/variants/common/lib/python',\n",
        " '/Users/sosey/ssb/ureka/Ureka/python/lib',\n",
        " '/Users/sosey/ssb/ureka/Ureka/python/lib/python2.7/site-packages/distribute-0.6.28-py2.7.egg',\n",
        " '/Users/sosey/ssb/ureka/Ureka/python/lib/python2.7/site-packages/pyobjc_core-2.3-py2.7-macosx-10.6-x86_64.egg',\n",
        " '/Users/sosey/ssb/ureka/Ureka/python/lib/python2.7/site-packages/pyobjc-2.3-py2.7.egg',\n",
        " '/Users/sosey/ssb/ureka/Ureka/python/lib/python2.7/site-packages/pyobjc_framework_ServiceManagement-2.3-py2.7.egg',\n",
        " '/Users/sosey/ssb/ureka/Ureka/python/lib/python2.7/site-packages/pyobjc_framework_ServerNotification-2.3-py2.7.egg',\n",
        " '/Users/sosey/ssb/ureka/Ureka/python/lib/python2.7/site-packages/pyobjc_framework_CoreLocation-2.3-py2.7.egg',\n",
        " '/Users/sosey/ssb/ureka/Ureka/python/lib/python2.7/site-packages/pyobjc_framework_AppleScriptObjC-2.3-py2.7.egg',\n",
        " '/Users/sosey/ssb/ureka/Ureka/python/lib/python2.7/site-packages/pyobjc_framework_ScriptingBridge-2.3-py2.7.egg',\n",
        " '/Users/sosey/ssb/ureka/Ureka/python/lib/python2.7/site-packages/pyobjc_framework_QTKit-2.3-py2.7.egg',\n",
        " '/Users/sosey/ssb/ureka/Ureka/python/lib/python2.7/site-packages/pyobjc_framework_PubSub-2.3-py2.7.egg',\n",
        " '/Users/sosey/ssb/ureka/Ureka/python/lib/python2.7/site-packages/pyobjc_framework_InterfaceBuilderKit-2.3-py2.7.egg',\n",
        " '/Users/sosey/ssb/ureka/Ureka/python/lib/python2.7/site-packages/pyobjc_framework_InstantMessage-2.3-py2.7.egg',\n",
        " '/Users/sosey/ssb/ureka/Ureka/python/lib/python2.7/site-packages/pyobjc_framework_InputMethodKit-2.3-py2.7.egg',\n",
        " '/Users/sosey/ssb/ureka/Ureka/python/lib/python2.7/site-packages/pyobjc_framework_DictionaryServices-2.3-py2.7.egg',\n",
        " '/Users/sosey/ssb/ureka/Ureka/python/lib/python2.7/site-packages/pyobjc_framework_Collaboration-2.3-py2.7.egg',\n",
        " '/Users/sosey/ssb/ureka/Ureka/python/lib/python2.7/site-packages/pyobjc_framework_CalendarStore-2.3-py2.7.egg',\n",
        " '/Users/sosey/ssb/ureka/Ureka/python/lib/python2.7/site-packages/pyobjc_framework_XgridFoundation-2.3-py2.7.egg',\n",
        " '/Users/sosey/ssb/ureka/Ureka/python/lib/python2.7/site-packages/pyobjc_framework_WebKit-2.3-py2.7.egg',\n",
        " '/Users/sosey/ssb/ureka/Ureka/python/lib/python2.7/site-packages/pyobjc_framework_SystemConfiguration-2.3-py2.7-macosx-10.6-x86_64.egg',\n",
        " '/Users/sosey/ssb/ureka/Ureka/python/lib/python2.7/site-packages/pyobjc_framework_SyncServices-2.3-py2.7.egg',\n",
        " '/Users/sosey/ssb/ureka/Ureka/python/lib/python2.7/site-packages/pyobjc_framework_SearchKit-2.3-py2.7.egg',\n",
        " '/Users/sosey/ssb/ureka/Ureka/python/lib/python2.7/site-packages/pyobjc_framework_ScreenSaver-2.3-py2.7-macosx-10.6-x86_64.egg',\n",
        " '/Users/sosey/ssb/ureka/Ureka/python/lib/python2.7/site-packages/pyobjc_framework_Quartz-2.3-py2.7-macosx-10.6-x86_64.egg',\n",
        " '/Users/sosey/ssb/ureka/Ureka/python/lib/python2.7/site-packages/pyobjc_framework_PreferencePanes-2.3-py2.7.egg',\n",
        " '/Users/sosey/ssb/ureka/Ureka/python/lib/python2.7/site-packages/pyobjc_framework_Message-2.3-py2.7.egg',\n",
        " '/Users/sosey/ssb/ureka/Ureka/python/lib/python2.7/site-packages/pyobjc_framework_LaunchServices-2.3-py2.7.egg',\n",
        " '/Users/sosey/ssb/ureka/Ureka/python/lib/python2.7/site-packages/pyobjc_framework_LatentSemanticMapping-2.3-py2.7.egg',\n",
        " '/Users/sosey/ssb/ureka/Ureka/python/lib/python2.7/site-packages/pyobjc_framework_InstallerPlugins-2.3-py2.7.egg',\n",
        " '/Users/sosey/ssb/ureka/Ureka/python/lib/python2.7/site-packages/pyobjc_framework_FSEvents-2.3-py2.7-macosx-10.6-x86_64.egg',\n",
        " '/Users/sosey/ssb/ureka/Ureka/python/lib/python2.7/site-packages/pyobjc_framework_ExceptionHandling-2.3-py2.7.egg',\n",
        " '/Users/sosey/ssb/ureka/Ureka/python/lib/python2.7/site-packages/pyobjc_framework_CoreText-2.3-py2.7-macosx-10.6-x86_64.egg',\n",
        " '/Users/sosey/ssb/ureka/Ureka/python/lib/python2.7/site-packages/pyobjc_framework_CoreData-2.3-py2.7.egg',\n",
        " '/Users/sosey/ssb/ureka/Ureka/python/lib/python2.7/site-packages/pyobjc_framework_Cocoa-2.3-py2.7-macosx-10.6-x86_64.egg',\n",
        " '/Users/sosey/ssb/ureka/Ureka/python/lib/python2.7/site-packages/pyobjc_framework_CFNetwork-2.3-py2.7-macosx-10.6-x86_64.egg',\n",
        " '/Users/sosey/ssb/ureka/Ureka/python/lib/python2.7/site-packages/pyobjc_framework_Automator-2.3-py2.7.egg',\n",
        " '/Users/sosey/ssb/ureka/Ureka/python/lib/python2.7/site-packages/pyobjc_framework_AppleScriptKit-2.3-py2.7.egg',\n",
        " '/Users/sosey/ssb/ureka/Ureka/python/lib/python2.7/site-packages/pyobjc_framework_AddressBook-2.3-py2.7.egg',\n",
        " '/Users/sosey/ssb/ureka/Ureka/python/lib/python2.7/site-packages/tornado-2.3-py2.7.egg',\n",
        " '/Users/sosey/ssb/ureka/Ureka/python/lib/python2.7/site-packages/pip-1.1-py2.7.egg',\n",
        " '/Users/sosey/teaching/scientific-python-training-2012/lecture_notebooks',\n",
        " '/Users/sosey/ssb/ureka/Ureka/python/lib/python27.zip',\n",
        " '/Users/sosey/ssb/ureka/Ureka/python/lib/python2.7',\n",
        " '/Users/sosey/ssb/ureka/Ureka/python/lib/python2.7/plat-darwin',\n",
        " '/Users/sosey/ssb/ureka/Ureka/python/lib/python2.7/plat-mac',\n",
        " '/Users/sosey/ssb/ureka/Ureka/python/lib/python2.7/plat-mac/lib-scriptpackages',\n",
        " '/Users/sosey/ssb/ureka/Ureka/python/lib/python2.7/lib-tk',\n",
        " '/Users/sosey/ssb/ureka/Ureka/python/lib/python2.7/lib-old',\n",
        " '/Users/sosey/ssb/ureka/Ureka/python/lib/python2.7/lib-dynload',\n",
        " '/Users/sosey/ssb/ureka/Ureka/python/lib/python2.7/site-packages',\n",
        " '/Users/sosey/ssb/ureka/Ureka/python/lib/python2.7/site-packages/PIL',\n",
        " '/Users/sosey/ssb/ureka/Ureka/python/lib/python2.7/site-packages/setuptools-0.6c11-py2.7.egg-info',\n",
        " '/Users/sosey/ssb/ureka/Ureka/python/lib',\n",
        " '/Users/sosey/ssb/ureka/Ureka/python/lib/python2.7/site-packages/IPython/extensions']"
       ]
      }
     ],
     "prompt_number": 38
    },
    {
     "cell_type": "markdown",
     "metadata": {},
     "source": [
      "Get the value of PATH environment variable and extract the first path defined:"
     ]
    },
    {
     "cell_type": "code",
     "collapsed": false,
     "input": [
      "import os\n",
      "myenv = os.getenv(\"PATH\")\n",
      "myenv.split(\":\")[0]"
     ],
     "language": "python",
     "metadata": {},
     "outputs": [
      {
       "output_type": "pyout",
       "prompt_number": 39,
       "text": [
        "'/Users/sosey/ssb/ureka/Ureka/bin'"
       ]
      }
     ],
     "prompt_number": 39
    },
    {
     "cell_type": "heading",
     "level": 2,
     "metadata": {},
     "source": [
      "Scripts in Daily Life\n"
     ]
    },
    {
     "cell_type": "markdown",
     "metadata": {},
     "source": [
      "I wrote a script, `aperphot.py`, to run some photometry, source finding and plotting, which will be available after the homework is due. \n",
      "\n",
      "\n",
      "I'll run it here just  to have something to work with. If you make the file executable you can call it from the shell command line with options:\n",
      "\n",
      "- i [my input image name]\n",
      "\n",
      "- a [what pixel aperture to perform photometry]\n",
      "\n",
      "- s [what pixel from the center to start sky measurements]\n",
      "\n",
      "- w [how wide in pixels the sky annnulus should be]\n",
      "\n"
     ]
    },
    {
     "cell_type": "markdown",
     "metadata": {},
     "source": [
      "here is an example of how you might call it from the command line prompt:\n",
      "\n",
      "    aperphot.py -i image.fits -a 4 -s 8 -w 3 -p\n"
     ]
    },
    {
     "cell_type": "markdown",
     "metadata": {},
     "source": [
      "You can also call the script from a Python session just by importing it:  \n",
      "\n",
      "    import aperphot\n",
      "    aperphot.run(...)\n",
      "\n",
      "produces image.fits.phot\n",
      "\n",
      "I'll run the script here so you can see its output. We'll then take a quick look at the output."
     ]
    },
    {
     "cell_type": "markdown",
     "metadata": {},
     "source": [
      "Let's see that we got reasonable photometry back by reading the table with AstroPy reader and print out the contents:\n"
     ]
    },
    {
     "cell_type": "code",
     "collapsed": false,
     "input": [
      "import aperphot"
     ],
     "language": "python",
     "metadata": {},
     "outputs": [],
     "prompt_number": 40
    },
    {
     "cell_type": "markdown",
     "metadata": {},
     "source": [
      "I'll import the module and run it here"
     ]
    },
    {
     "cell_type": "code",
     "collapsed": false,
     "input": [
      "aperphot.run('image.fits',aper=4,sky=8,width=3,plots=True)"
     ],
     "language": "python",
     "metadata": {},
     "outputs": [
      {
       "output_type": "stream",
       "stream": "stdout",
       "text": [
        "\n"
       ]
      },
      {
       "output_type": "stream",
       "stream": "stdout",
       "text": [
        "====================================\n",
        "Setting up photometry for image.fits\n",
        "====================================\n",
        "\n",
        "zeropoint: 23.110044"
       ]
      },
      {
       "output_type": "stream",
       "stream": "stdout",
       "text": [
        "\n",
        "Setting effective gain = 7602.616800 "
       ]
      },
      {
       "output_type": "stream",
       "stream": "stdout",
       "text": [
        "\n",
        "Setting DAOpars to NICMOS defaults...\n",
        "\t Using fwhmpsf: 3.500000\n",
        "Removing previous star location file\n",
        "\n",
        "=================\n",
        "image.fits[SCI,1]\n",
        "=================\n",
        "\n",
        "Saved output locations to image.fits.stars"
       ]
      },
      {
       "output_type": "stream",
       "stream": "stdout",
       "text": [
        "\n",
        "\t Phot aperture: 4 pixels\n",
        "\t Sky Annulus: 8 -> 11 pixels\n",
        "Removing previous photometry file\n",
        "\t Saving output files as image.fits.phot\n",
        "image.fits.phot"
       ]
      },
      {
       "output_type": "stream",
       "stream": "stdout",
       "text": [
        "\n",
        "saved output figure to image.fits.phot.pdf"
       ]
      },
      {
       "output_type": "stream",
       "stream": "stdout",
       "text": [
        "\n"
       ]
      }
     ],
     "prompt_number": 41
    },
    {
     "cell_type": "markdown",
     "metadata": {},
     "source": [
      "There is a function in the `aperphot` module to plot of some of the results for quick reference. Since I told it to make plots we can look at the output :)"
     ]
    },
    {
     "cell_type": "markdown",
     "metadata": {},
     "source": [
      "    aperphot.plotphot(photfile)  --> created [photfile].pdf"
     ]
    },
    {
     "cell_type": "code",
     "collapsed": false,
     "input": [
      "!open image.fits.phot.pdf\n"
     ],
     "language": "python",
     "metadata": {},
     "outputs": [],
     "prompt_number": 42
    },
    {
     "cell_type": "heading",
     "level": 2,
     "metadata": {},
     "source": [
      "Editing Your Photometry File"
     ]
    },
    {
     "cell_type": "markdown",
     "metadata": {},
     "source": [
      "Now that we've checked out our plots, we can play around with our detections.\n",
      "\n",
      "\n",
      "Let's say we only want to keep a subset of the points we detected. We'll make a refining cut on the objects, leaving out the ones which had errors in the photometry."
     ]
    },
    {
     "cell_type": "code",
     "collapsed": false,
     "input": [
      "reader=ascii.Daophot()\n",
      "phot=reader.read('image.fits.phot')\n",
      "good = np.where(phot['MERR'] != 'INDEF')"
     ],
     "language": "python",
     "metadata": {},
     "outputs": [],
     "prompt_number": 43
    },
    {
     "cell_type": "code",
     "collapsed": false,
     "input": [
      "# Pey Lian -- Can't we just do phot[good] ? I dont think so because of how the table is set up\n",
      "phot = phot[good[0][:]]\n"
     ],
     "language": "python",
     "metadata": {},
     "outputs": [],
     "prompt_number": 44
    },
    {
     "cell_type": "code",
     "collapsed": false,
     "input": [
      "phot.pprint()"
     ],
     "language": "python",
     "metadata": {},
     "outputs": [
      {
       "output_type": "stream",
       "stream": "stdout",
       "text": [
        "\u001b[0;31m    IMAGE      XINIT   YINIT   ID  ...  MAG    MERR PIER  PERROR\u001b[0m"
       ]
      },
      {
       "output_type": "stream",
       "stream": "stdout",
       "text": [
        "\n",
        "\u001b[0;31m------------- ------- ------- ---- ... ------ ----- ---- -------\u001b[0m\n",
        "image.fits[1] 232.763   2.937    4 ... 15.539 0.002    0 NoError\n",
        "image.fits[1]  11.351   3.914    5 ... 20.535 0.421    0 NoError\n",
        "image.fits[1]  15.642   3.574    6 ... 18.581 0.070    0 NoError\n",
        "image.fits[1]  20.693   3.369    7 ... 18.581 0.070    0 NoError\n",
        "image.fits[1] 136.762   3.531   12 ... 20.402 0.049    0 NoError\n",
        "image.fits[1] 220.449   2.704   15 ... 18.433 0.025    0 NoError\n",
        "image.fits[1]   224.2   2.863   16 ... 15.539 0.002    0 NoError\n",
        "image.fits[1]  54.078   6.677   19 ... 20.197 0.172    0 NoError\n",
        "image.fits[1]  57.106   6.779   20 ... 21.479 0.515    0 NoError\n",
        "image.fits[1] 122.832   4.803   22 ... 24.378 7.415    0 NoError\n",
        "image.fits[1]  22.615   5.853   24 ... 18.581 0.070    0 NoError\n",
        "          ...     ...     ...  ... ...    ...   ...  ...     ...\n",
        "image.fits[1]  99.895 250.324 1413 ... 17.735 0.003    0 NoError\n",
        "image.fits[1] 223.162 249.926 1416 ... 20.097 0.041    0 NoError\n",
        "image.fits[1]  241.12 249.704 1417 ... 18.519 0.012    0 NoError\n",
        "image.fits[1]  11.341 250.131 1418 ... 17.337 0.007    0 NoError\n",
        "image.fits[1]  30.126 251.211 1419 ... 20.152 0.065    0 NoError\n",
        "image.fits[1]  38.967 251.122 1421 ... 19.394 0.044    0 NoError\n",
        "image.fits[1]   6.956 251.166 1422 ... 17.337 0.007    0 NoError\n",
        "image.fits[1]  91.322 251.787 1423 ... 17.735 0.003    0 NoError\n",
        "image.fits[1] 112.669 251.153 1424 ... 17.734 0.003    0 NoError\n",
        "image.fits[1] 130.693 252.377 1430 ... 21.260 0.705    0 NoError\n",
        "image.fits[1]  38.966 253.209 1443 ... 19.394 0.044    0 NoError\n"
       ]
      }
     ],
     "prompt_number": 45
    },
    {
     "cell_type": "markdown",
     "metadata": {},
     "source": [
      "Let's remove the rows where the centering was worse than 1 pixel:"
     ]
    },
    {
     "cell_type": "code",
     "collapsed": false,
     "input": [
      "good = np.where((np.abs(phot[\"XSHIFT\"]) <= 1.) &\n",
      "                (np.abs(phot[\"YSHIFT\"]) <= 1.))\n",
      "\n",
      "# Pey Lian -- same as comment about indexing above\n",
      "phot = phot[good[0][:]]\n",
      "\n",
      "phot.pprint()"
     ],
     "language": "python",
     "metadata": {},
     "outputs": [
      {
       "output_type": "stream",
       "stream": "stdout",
       "text": [
        "\u001b[0;31m    IMAGE      XINIT   YINIT   ID  ...  MAG    MERR PIER  PERROR\u001b[0m\n",
        "\u001b[0;31m------------- ------- ------- ---- ... ------ ----- ---- -------\u001b[0m\n",
        "image.fits[1]  57.106   6.779   20 ... 21.479 0.515    0 NoError\n",
        "image.fits[1] 122.832   4.803   22 ... 24.378 7.415    0 NoError\n",
        "image.fits[1]  22.615   5.853   24 ... 18.581 0.070    0 NoError\n",
        "image.fits[1]  68.257   6.351   25 ... 20.329 0.251    0 NoError\n",
        "image.fits[1]  91.009   5.895   26 ... 20.382 0.204    0 NoError\n",
        "image.fits[1] 214.969    5.96   28 ... 18.433 0.025    0 NoError\n",
        "image.fits[1] 133.468   7.586   35 ... 20.402 0.049    0 NoError\n",
        "image.fits[1]  16.305  10.221   40 ... 20.535 0.421    0 NoError\n",
        "image.fits[1]  50.934   9.889   41 ... 20.172 0.167    0 NoError\n",
        "image.fits[1] 228.508   10.51   45 ... 15.539 0.002    0 NoError\n",
        "image.fits[1]  65.875  10.536   47 ... 19.361 0.076    0 NoError\n",
        "          ...     ...     ...  ... ...    ...   ...  ...     ...\n",
        "image.fits[1]  51.908 247.496 1392 ... 20.170 0.043    0 NoError\n",
        "image.fits[1] 193.397 247.317 1395 ... 19.754 0.099    0 NoError\n",
        "image.fits[1]  220.22 246.968 1397 ... 20.175 0.042    0 NoError\n",
        "image.fits[1] 178.202   247.1 1401 ... 24.015 5.921    0 NoError\n",
        "image.fits[1] 251.794 247.987 1402 ... 19.529 0.044    0 NoError\n",
        "image.fits[1] 249.338 249.327 1409 ... 20.083 0.121    0 NoError\n",
        "image.fits[1]  19.491 249.658 1411 ... 20.652 0.176    0 NoError\n",
        "image.fits[1]  99.895 250.324 1413 ... 17.735 0.003    0 NoError\n",
        "image.fits[1]  241.12 249.704 1417 ... 18.519 0.012    0 NoError\n",
        "image.fits[1]  38.967 251.122 1421 ... 19.394 0.044    0 NoError\n",
        "image.fits[1] 130.693 252.377 1430 ... 21.260 0.705    0 NoError\n"
       ]
      }
     ],
     "prompt_number": 46
    },
    {
     "cell_type": "markdown",
     "metadata": {},
     "source": [
      "Now, if we want to save these cherry picked star locations and redo the photometry, we can save the (X, Y) coordinates and rerun our phot function."
     ]
    },
    {
     "cell_type": "code",
     "collapsed": false,
     "input": [
      "# Pey Lian -- I think AstroPy table has a write() method for this. Try this:\n",
      "#    xy.write('new_table.dat', format='daophot'). No I don't see a write method\n",
      "\n",
      "xy = phot['XCENTER', 'YCENTER']\n",
      "with open('new_coords.dat', 'w') as of:\n",
      "    for line in xy.pformat(max_width=-1, max_lines=-1):\n",
      "        of.write(line + \"\\n\")"
     ],
     "language": "python",
     "metadata": {},
     "outputs": [],
     "prompt_number": 47
    },
    {
     "cell_type": "markdown",
     "metadata": {},
     "source": [
      "    aperphot.do_phot('../data/image.fits', 'new_coords.dat')\n",
      "\n",
      "You can move on and start your PSF photometry and creating a PSF using your reduced data.\n",
      "I'm going to skip over the steps of making a model PSF. I've got 2 PSFs we can examine."
     ]
    },
    {
     "cell_type": "code",
     "collapsed": false,
     "input": [
      "aperphot.do_phot('image.fits','new_coords.dat',aper=4,sky_annulus=8,width_sky=3)"
     ],
     "language": "python",
     "metadata": {},
     "outputs": [
      {
       "output_type": "stream",
       "stream": "stdout",
       "text": [
        "\t Phot aperture: 4 pixels\n",
        "\t Sky Annulus: 8 -> 11 pixels\n",
        "Removing previous photometry file\n",
        "\t Saving output files as image.fits.phot\n"
       ]
      },
      {
       "output_type": "pyout",
       "prompt_number": 50,
       "text": [
        "'image.fits.phot'"
       ]
      }
     ],
     "prompt_number": 50
    },
    {
     "cell_type": "heading",
     "level": 2,
     "metadata": {},
     "source": [
      "Examining your PSF"
     ]
    },
    {
     "cell_type": "code",
     "collapsed": false,
     "input": [
      "# This is an image generated by TinyTim with NICMOS specifications with a normalized flux\n",
      "tinytim = pyfits.getdata('../data/nic2_f160w_4xsub00.fits')\n",
      "tinytim.shape\n"
     ],
     "language": "python",
     "metadata": {},
     "outputs": [
      {
       "output_type": "pyout",
       "prompt_number": 65,
       "text": [
        "(528, 528)"
       ]
      }
     ],
     "prompt_number": 65
    },
    {
     "cell_type": "code",
     "collapsed": false,
     "input": [
      "# Display the image in log scale\n",
      "plt.imshow(tinytim, cmap=plt.cm.gray)"
     ],
     "language": "python",
     "metadata": {},
     "outputs": [
      {
       "output_type": "pyout",
       "prompt_number": 71,
       "text": [
        "<matplotlib.image.AxesImage at 0x11c441850>"
       ]
      }
     ],
     "prompt_number": 71
    },
    {
     "cell_type": "code",
     "collapsed": false,
     "input": [
      "tinytim.shape\n",
      "\n",
      "# Let's look at a plot of the profile\n",
      "plt.plot(tinytim[264])"
     ],
     "language": "python",
     "metadata": {},
     "outputs": [
      {
       "output_type": "pyout",
       "prompt_number": 72,
       "text": [
        "[<matplotlib.lines.Line2D at 0x11d148290>]"
       ]
      }
     ],
     "prompt_number": 72
    },
    {
     "cell_type": "code",
     "collapsed": false,
     "input": [
      "# This is a PSF generated from a drizzled NICMOS dataset\n",
      "# using daophot.psf which is really just the model information.\n",
      "drizzled = pyfits.open('../data/dr_median.psf.1.fits')\n",
      "drizzled.info()  # Like catfits"
     ],
     "language": "python",
     "metadata": {},
     "outputs": [
      {
       "output_type": "stream",
       "stream": "stdout",
       "text": [
        "Filename: ../data/dr_median.psf.1.fits\n",
        "No.    Name         Type      Cards   Dimensions   Format\n",
        "0    PRIMARY     PrimaryHDU      71   (39, 39, 3)   float32   \n"
       ]
      }
     ],
     "prompt_number": 73
    },
    {
     "cell_type": "markdown",
     "metadata": {},
     "source": [
      "There are 3 (39,39) element arrays which specify the model PSF lookup tables fit residuals (derivatives) and the functional fit which is stored in the primary header along with information about each star I used."
     ]
    },
    {
     "cell_type": "code",
     "collapsed": false,
     "input": [
      "drz_hdr = drizzled[0].header\n",
      "drz_dat = drizzled[0].data\n",
      "\n",
      "keys = ['VARORDER', 'FUNCTION', 'PSFRAD', 'PAR1', 'PAR2', 'PAR3']\n",
      "for item in keys:\n",
      "    print item, drz_hdr[item]\n",
      "\n",
      "print \"\\nExample of residuals:\\n\", drz_dat[0,0]"
     ],
     "language": "python",
     "metadata": {},
     "outputs": [
      {
       "ename": "SyntaxError",
       "evalue": "invalid syntax (<ipython-input-74-31e75b0604b5>, line 6)",
       "output_type": "pyerr",
       "traceback": [
        "\u001b[0;36m  File \u001b[0;32m\"<ipython-input-74-31e75b0604b5>\"\u001b[0;36m, line \u001b[0;32m6\u001b[0m\n\u001b[0;31m    print item, drz_hdr[item]\u001b[0m\n\u001b[0m             ^\u001b[0m\n\u001b[0;31mSyntaxError\u001b[0m\u001b[0;31m:\u001b[0m invalid syntax\n"
       ]
      }
     ],
     "prompt_number": 74
    },
    {
     "cell_type": "markdown",
     "metadata": {},
     "source": [
      "I used a Lorenz function for the fitting. Let's take a look at the residuals."
     ]
    },
    {
     "cell_type": "code",
     "collapsed": false,
     "input": [
      "plt.plot(np.abs(drz_dat[0][0]),\n",
      "         np.abs(drz_dat[0][1]),\n",
      "         np.abs(drz_dat[0][2]))"
     ],
     "language": "python",
     "metadata": {},
     "outputs": [
      {
       "ename": "NameError",
       "evalue": "name 'drz_dat' is not defined",
       "output_type": "pyerr",
       "traceback": [
        "\u001b[0;31m---------------------------------------------------------------------------\u001b[0m\n\u001b[0;31mNameError\u001b[0m                                 Traceback (most recent call last)",
        "\u001b[0;32m<ipython-input-75-0724a5cba170>\u001b[0m in \u001b[0;36m<module>\u001b[0;34m()\u001b[0m\n\u001b[0;32m----> 1\u001b[0;31m plt.plot(np.abs(drz_dat[0][0]),\n\u001b[0m\u001b[1;32m      2\u001b[0m          \u001b[0mnp\u001b[0m\u001b[0;34m.\u001b[0m\u001b[0mabs\u001b[0m\u001b[0;34m(\u001b[0m\u001b[0mdrz_dat\u001b[0m\u001b[0;34m[\u001b[0m\u001b[0;36m0\u001b[0m\u001b[0;34m]\u001b[0m\u001b[0;34m[\u001b[0m\u001b[0;36m1\u001b[0m\u001b[0;34m]\u001b[0m\u001b[0;34m)\u001b[0m\u001b[0;34m,\u001b[0m\u001b[0;34m\u001b[0m\u001b[0m\n\u001b[1;32m      3\u001b[0m          np.abs(drz_dat[0][2]))\n",
        "\u001b[0;31mNameError\u001b[0m: name 'drz_dat' is not defined"
       ]
      },
      {
       "output_type": "stream",
       "stream": "stdout",
       "text": [
        "\u001b[0;31mERROR\u001b[0m: NameError: name 'drz_dat' is not defined [IPython.core.interactiveshell]\n"
       ]
      }
     ],
     "prompt_number": 75
    },
    {
     "cell_type": "code",
     "collapsed": false,
     "input": [],
     "language": "python",
     "metadata": {},
     "outputs": []
    }
   ],
   "metadata": {}
  }
 ]
}