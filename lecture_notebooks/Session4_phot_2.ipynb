{
 "metadata": {
  "name": "Session4_phot_2"
 },
 "nbformat": 3,
 "nbformat_minor": 0,
 "worksheets": [
  {
   "cells": [
    {
     "cell_type": "markdown",
     "metadata": {},
     "source": [
      "#Session 4 - Scripting and PSF Photometry#\n",
      "\n",
      "##This session will focus on the following ideas:##\n",
      "\n",
      "- Basic scripting, modules and testing \n",
      "- Looking at a psf and using it for photometry (not best practices for creating one)\n",
      "- Completeness tests on previous results\n",
      "\n",
      "    - how to generate a random array for stellar locations or magnitude\n",
      "    - adding the psf back into your science image\n",
      "    - making useful plots of the results\n",
      "\n",
      "\n",
      "\n",
      "It assumes that you already have good knowledge of aperture and psf photometry. \n",
      "There is a good tutorial series on photometry, esp with HST and DAOPhot given by Dave Zurek many moons ago, \n",
      "the electronic files are still available here: http://www.stsci.edu/hst/training/events/Photometry/SSD990302/\n",
      "\n"
     ]
    },
    {
     "cell_type": "heading",
     "level": 2,
     "metadata": {},
     "source": [
      "Making and Running Scripts - the basics"
     ]
    },
    {
     "cell_type": "markdown",
     "metadata": {},
     "source": [
      "If you are inside the ipython notebook and would like to start a script file:\n",
      "\n",
      "    Insert \"%%file filename\" at the top of the cell.\n",
      "\n",
      "The contents of cell following that will get saved in the specified file.\n",
      "Usually python code is saved in a filename ending in .py But for use only as a script, it doesn't have to be. You can call it anything you like \n",
      "(but unless you use it a lot, keeping .py is a good idea)"
     ]
    },
    {
     "cell_type": "code",
     "collapsed": false,
     "input": [
      "%%file bozo.py\n",
      "print \"Help, I'm a clown\""
     ],
     "language": "python",
     "metadata": {},
     "outputs": [
      {
       "output_type": "stream",
       "stream": "stdout",
       "text": [
        "Writing bozo.py\n"
       ]
      }
     ],
     "prompt_number": 1
    },
    {
     "cell_type": "markdown",
     "metadata": {},
     "source": [
      "You can also execute that script from inside the notebook session:"
     ]
    },
    {
     "cell_type": "code",
     "collapsed": false,
     "input": [
      "!python bozo.py"
     ],
     "language": "python",
     "metadata": {},
     "outputs": [
      {
       "output_type": "stream",
       "stream": "stdout",
       "text": [
        "Help, I'm a clown\r\n"
       ]
      }
     ],
     "prompt_number": 2
    },
    {
     "cell_type": "markdown",
     "metadata": {},
     "source": [
      "The reason we had to specify \"python\" to run the code is because the file is not executable and doesn't point to the the python interpreter.\n",
      "We can fix that though:"
     ]
    },
    {
     "cell_type": "code",
     "collapsed": false,
     "input": [
      "%%file sadbozo\n",
      "#! /usr/bin/env python #this points to the python installed on your PATH\n",
      "print \"a sad clown\""
     ],
     "language": "python",
     "metadata": {},
     "outputs": [
      {
       "output_type": "stream",
       "stream": "stdout",
       "text": [
        "Writing sadbozo\n"
       ]
      }
     ],
     "prompt_number": 3
    },
    {
     "cell_type": "code",
     "collapsed": false,
     "input": [
      "!chmod a+x sadbozo\n",
      "!sadbozo"
     ],
     "language": "python",
     "metadata": {},
     "outputs": [
      {
       "output_type": "stream",
       "stream": "stdout",
       "text": [
        "a sad clown\r\n"
       ]
      }
     ],
     "prompt_number": 4
    },
    {
     "cell_type": "markdown",
     "metadata": {},
     "source": [
      "While this is probably a great way to flush out some ideas or early data reduction, you'll probably want to work on larger scripts inside of your favorite text editor or IDE (there a quite a few to choose from)"
     ]
    },
    {
     "cell_type": "markdown",
     "metadata": {},
     "source": [
      "    If you are working in an ipython shell (simulated in the notebook) you can use the %run magic:"
     ]
    },
    {
     "cell_type": "code",
     "collapsed": false,
     "input": [
      "run bozo.py"
     ],
     "language": "python",
     "metadata": {},
     "outputs": [
      {
       "output_type": "stream",
       "stream": "stdout",
       "text": [
        "Help, I'm a clown"
       ]
      },
      {
       "output_type": "stream",
       "stream": "stdout",
       "text": [
        "\n"
       ]
      }
     ],
     "prompt_number": 5
    },
    {
     "cell_type": "markdown",
     "metadata": {},
     "source": [
      "Be careful in this case, because any variable used in the script remain in your current environment!"
     ]
    },
    {
     "cell_type": "code",
     "collapsed": false,
     "input": [
      "%%file bozo2.py\n",
      "name=\"Bozo the Clown\""
     ],
     "language": "python",
     "metadata": {},
     "outputs": [
      {
       "output_type": "stream",
       "stream": "stdout",
       "text": [
        "Writing bozo2.py\n"
       ]
      }
     ],
     "prompt_number": 6
    },
    {
     "cell_type": "code",
     "collapsed": false,
     "input": [
      "%run bozo2.py\n",
      "print name"
     ],
     "language": "python",
     "metadata": {},
     "outputs": [
      {
       "output_type": "stream",
       "stream": "stdout",
       "text": [
        "Bozo the Clown\n"
       ]
      }
     ],
     "prompt_number": 9
    },
    {
     "cell_type": "code",
     "collapsed": false,
     "input": [
      "print name #now it's in our environment!"
     ],
     "language": "python",
     "metadata": {},
     "outputs": [
      {
       "output_type": "stream",
       "stream": "stdout",
       "text": [
        "Bozo the Clown\n"
       ]
      }
     ],
     "prompt_number": 11
    },
    {
     "cell_type": "markdown",
     "metadata": {},
     "source": [
      "__Important things to remember:__\n",
      "\n",
      "* you can write a python script in any text editor\n",
      "\n",
      "* you can make the script executable by itself using a shebang and pointing to your environment, make the file executable too\n",
      "\n",
      "* scripts need to import all the modules they depend on\n",
      "\n",
      "* running a script in a python session will load all of it's variables into your current environment (watch for common use names as you go!)"
     ]
    },
    {
     "cell_type": "heading",
     "level": 2,
     "metadata": {},
     "source": [
      "Defining a Function"
     ]
    },
    {
     "cell_type": "code",
     "collapsed": false,
     "input": [
      "def square(x):\n",
      "    \"\"\" Take the square of the input value for x \"\"\"\n",
      "    return x*x"
     ],
     "language": "python",
     "metadata": {},
     "outputs": [],
     "prompt_number": 14
    },
    {
     "cell_type": "code",
     "collapsed": false,
     "input": [
      "square(5)"
     ],
     "language": "python",
     "metadata": {},
     "outputs": [
      {
       "output_type": "pyout",
       "prompt_number": 15,
       "text": [
        "25"
       ]
      }
     ],
     "prompt_number": 15
    },
    {
     "cell_type": "markdown",
     "metadata": {},
     "source": [
      "See the document string I put in the function? It's a good practice to describe what your functions do, and can be useful for yourself and other users:"
     ]
    },
    {
     "cell_type": "code",
     "collapsed": false,
     "input": [
      "print(square.__doc__)"
     ],
     "language": "python",
     "metadata": {},
     "outputs": [
      {
       "output_type": "stream",
       "stream": "stdout",
       "text": [
        " Take the square of the input value for x \n"
       ]
      }
     ],
     "prompt_number": 37
    },
    {
     "cell_type": "code",
     "collapsed": false,
     "input": [
      "help(square)"
     ],
     "language": "python",
     "metadata": {},
     "outputs": [
      {
       "output_type": "stream",
       "stream": "stdout",
       "text": [
        "Help on function square in module __main__:\n",
        "\n",
        "square(x)\n",
        "    Take the square of the input value for x\n",
        "\n"
       ]
      }
     ],
     "prompt_number": 39
    },
    {
     "cell_type": "markdown",
     "metadata": {},
     "source": [
      "More on the significance of  `__main__`  to come ....\n"
     ]
    },
    {
     "cell_type": "heading",
     "level": 3,
     "metadata": {},
     "source": [
      "Defaults, Optional arguments, etc ..."
     ]
    },
    {
     "cell_type": "code",
     "collapsed": false,
     "input": [
      "from __future__ import print_function \n",
      "def dumb(a,b,c=2):  #I've only specified a default value for c\n",
      "    #this is a new style print functio to try out\n",
      "    #Python 3.x only uses this\n",
      "    print(a,b,c)"
     ],
     "language": "python",
     "metadata": {},
     "outputs": [],
     "prompt_number": 16
    },
    {
     "cell_type": "markdown",
     "metadata": {},
     "source": [
      "The __future__ module allows you to use new language features before they become standard in a future release. "
     ]
    },
    {
     "cell_type": "code",
     "collapsed": false,
     "input": [
      "dumb(1,2,3)\n",
      "dumb(1,2)\n",
      "dumb(a=1,b=7)\n",
      "dumb(1)"
     ],
     "language": "python",
     "metadata": {},
     "outputs": [
      {
       "ename": "TypeError",
       "evalue": "dumb() takes at least 2 arguments (1 given)",
       "output_type": "pyerr",
       "traceback": [
        "\u001b[0;31m---------------------------------------------------------------------------\u001b[0m\n\u001b[0;31mTypeError\u001b[0m                                 Traceback (most recent call last)",
        "\u001b[0;32m<ipython-input-17-c0b80ceb0745>\u001b[0m in \u001b[0;36m<module>\u001b[0;34m()\u001b[0m\n\u001b[1;32m      2\u001b[0m \u001b[0mdumb\u001b[0m\u001b[0;34m(\u001b[0m\u001b[0;36m1\u001b[0m\u001b[0;34m,\u001b[0m\u001b[0;36m2\u001b[0m\u001b[0;34m)\u001b[0m\u001b[0;34m\u001b[0m\u001b[0m\n\u001b[1;32m      3\u001b[0m \u001b[0mdumb\u001b[0m\u001b[0;34m(\u001b[0m\u001b[0ma\u001b[0m\u001b[0;34m=\u001b[0m\u001b[0;36m1\u001b[0m\u001b[0;34m,\u001b[0m\u001b[0mb\u001b[0m\u001b[0;34m=\u001b[0m\u001b[0;36m7\u001b[0m\u001b[0;34m)\u001b[0m\u001b[0;34m\u001b[0m\u001b[0m\n\u001b[0;32m----> 4\u001b[0;31m \u001b[0mdumb\u001b[0m\u001b[0;34m(\u001b[0m\u001b[0;36m1\u001b[0m\u001b[0;34m)\u001b[0m\u001b[0;34m\u001b[0m\u001b[0m\n\u001b[0m",
        "\u001b[0;31mTypeError\u001b[0m: dumb() takes at least 2 arguments (1 given)"
       ]
      },
      {
       "output_type": "stream",
       "stream": "stdout",
       "text": [
        "1 2 3\n",
        "1 2 2\n",
        "1 7 2\n"
       ]
      }
     ],
     "prompt_number": 17
    },
    {
     "cell_type": "markdown",
     "metadata": {},
     "source": [
      "Notice the error above for the final command? It sees that we only specified a default for the c input value and wants the expected value for b"
     ]
    },
    {
     "cell_type": "heading",
     "level": 3,
     "metadata": {},
     "source": [
      "How to return more than 1 value from a function"
     ]
    },
    {
     "cell_type": "code",
     "collapsed": false,
     "input": [
      "def powers(x):\n",
      "    return x,x**2,x**3,x**4"
     ],
     "language": "python",
     "metadata": {},
     "outputs": [],
     "prompt_number": 18
    },
    {
     "cell_type": "code",
     "collapsed": false,
     "input": [
      "powers(3)"
     ],
     "language": "python",
     "metadata": {},
     "outputs": [
      {
       "output_type": "pyout",
       "prompt_number": 33,
       "text": [
        "(3, 9, 27, 81)"
       ]
      }
     ],
     "prompt_number": 33
    },
    {
     "cell_type": "markdown",
     "metadata": {},
     "source": [
      "Notice they are enclosed in parenthesis? This is called a __tuple__\n",
      "\n",
      "* tuples are like lists, EXCEPT they are immutable, and always indexed the same way\n",
      "* tuples DON'T have to contain the same data type for each element\n",
      "* if a tuple does contain a mutable item, like a list, that item can still be changed, but it's location in the tuple cannot\n",
      "* tuples can have 1 or more elements, HOWEVER, a single element tuple is distinquished from a number with a \"comma\" ,  "
     ]
    },
    {
     "cell_type": "code",
     "collapsed": false,
     "input": [
      "tup = (1, \"bozo\", [1,2,3])\n",
      "print(tup[0])\n",
      "print(tup[1])\n",
      "print(tup[2])\n",
      "print(tup[2][-1]) #tricky! I said print the last item in the list (-1)"
     ],
     "language": "python",
     "metadata": {},
     "outputs": [
      {
       "output_type": "stream",
       "stream": "stdout",
       "text": [
        "1\n",
        "bozo\n",
        "[1, 2, 3]\n",
        "3\n"
       ]
      }
     ],
     "prompt_number": 28
    },
    {
     "cell_type": "code",
     "collapsed": false,
     "input": [
      "number=(3)\n",
      "print(number)\n",
      "single_tuple=(3,)\n",
      "print(single_tuple)"
     ],
     "language": "python",
     "metadata": {},
     "outputs": [
      {
       "output_type": "stream",
       "stream": "stdout",
       "text": [
        "3\n",
        "(3,)\n"
       ]
      }
     ],
     "prompt_number": 29
    },
    {
     "cell_type": "markdown",
     "metadata": {},
     "source": [
      "You can also assign memebers of a tuple to serparate varibles (also known as unpacking):"
     ]
    },
    {
     "cell_type": "code",
     "collapsed": false,
     "input": [
      "a,b,c = tup\n",
      "print(a)\n",
      "print(b)\n",
      "print(c)"
     ],
     "language": "python",
     "metadata": {},
     "outputs": [
      {
       "output_type": "stream",
       "stream": "stdout",
       "text": [
        "1\n",
        "bozo\n",
        "[1, 2, 3]\n"
       ]
      }
     ],
     "prompt_number": 30
    },
    {
     "cell_type": "markdown",
     "metadata": {},
     "source": [
      "Now to combine your knowlege of functions and tuples:"
     ]
    },
    {
     "cell_type": "code",
     "collapsed": false,
     "input": [
      "first, second, third, fourth = powers(3)\n",
      "print(first)\n",
      "print(second)\n",
      "print(third)\n",
      "print(fourth)"
     ],
     "language": "python",
     "metadata": {},
     "outputs": [
      {
       "output_type": "stream",
       "stream": "stdout",
       "text": [
        "3\n",
        "9\n",
        "27\n",
        "81\n"
       ]
      }
     ],
     "prompt_number": 34
    },
    {
     "cell_type": "heading",
     "level": 3,
     "metadata": {},
     "source": [
      "GOTCHA!  Don't use mutable items as default values. If you do, all of the uses of the function that use that default will refer to the same item, and your results could be unexpected"
     ]
    },
    {
     "cell_type": "code",
     "collapsed": false,
     "input": [
      "def baddefault(a, previouscases=[]):\n",
      "    '''take a list, extract negative values and append them to previous cases\n",
      "       return combined list\n",
      "    '''\n",
      "    for item in a:\n",
      "        if item<0:\n",
      "            previouscases.append(item)\n",
      "    return previouscases\n",
      "# watch this!\n",
      "print(baddefault([1,2,-5],[-3,-1]))\n",
      "print(baddefault([1,2,-5]))\n",
      "# so far so good\n",
      "print(baddefault([-1,-2]))\n",
      "# ???\n",
      "\n",
      "# better ways to do it...later"
     ],
     "language": "python",
     "metadata": {},
     "outputs": [
      {
       "output_type": "stream",
       "stream": "stdout",
       "text": [
        "[-3, -1, -5]\n",
        "[-5]\n",
        "[-5, -1, -2]\n"
       ]
      }
     ],
     "prompt_number": 35
    },
    {
     "cell_type": "markdown",
     "metadata": {},
     "source": [
      "*Notice how the second time we ran through the function, it used the default empty list and then carried that to the next execution?"
     ]
    },
    {
     "cell_type": "heading",
     "level": 2,
     "metadata": {},
     "source": [
      "Python Modules - putting all your useful functions (or variables, or classes etc ) into one file"
     ]
    },
    {
     "cell_type": "markdown",
     "metadata": {},
     "source": [
      "* python files which can be imported\n",
      "* contain any combination of variables, functions, class definitions or code to be executed on import\n",
      "* their filename must end in \".py\" (they are imported by the rootname of the file) \n",
      "\n",
      "__imports only import a module once__ , if python knows it's already loaded a file it won't do it again without an explicit command "
     ]
    },
    {
     "cell_type": "code",
     "collapsed": false,
     "input": [
      "%%file testmodule.py\n",
      "def testfunction(a,b):\n",
      "    return a+b"
     ],
     "language": "python",
     "metadata": {},
     "outputs": [
      {
       "output_type": "stream",
       "stream": "stdout",
       "text": [
        "Writing testmodule.py\n"
       ]
      }
     ],
     "prompt_number": 40
    },
    {
     "cell_type": "code",
     "collapsed": false,
     "input": [
      "import testmodule\n",
      "print(testmodule.testfunction(2,3))"
     ],
     "language": "python",
     "metadata": {},
     "outputs": [
      {
       "output_type": "stream",
       "stream": "stdout",
       "text": [
        "5\n"
       ]
      }
     ],
     "prompt_number": 41
    },
    {
     "cell_type": "code",
     "collapsed": false,
     "input": [
      "%%file testmodule.py\n",
      "def testfunction(a,b):\n",
      "    return a*b"
     ],
     "language": "python",
     "metadata": {},
     "outputs": [
      {
       "output_type": "stream",
       "stream": "stdout",
       "text": [
        "Overwriting testmodule.py\n"
       ]
      }
     ],
     "prompt_number": 42
    },
    {
     "cell_type": "code",
     "collapsed": false,
     "input": [
      "import testmodule\n",
      "print(testmodule.testfunction(2,3))"
     ],
     "language": "python",
     "metadata": {},
     "outputs": [
      {
       "output_type": "stream",
       "stream": "stdout",
       "text": [
        "5\n"
       ]
      }
     ],
     "prompt_number": 43
    },
    {
     "cell_type": "code",
     "collapsed": false,
     "input": [
      "reload(testmodule)\n",
      "print(testmodule.testfunction(2,3))"
     ],
     "language": "python",
     "metadata": {},
     "outputs": [
      {
       "output_type": "stream",
       "stream": "stdout",
       "text": [
        "6\n"
       ]
      }
     ],
     "prompt_number": 44
    },
    {
     "cell_type": "markdown",
     "metadata": {},
     "source": [
      "**If you have layered imports - e.g., a imports b, b imports c,  - when you reload a, it wont reload anything else. \n",
      "If you happen to edit c.py you have to reload it first, then b, then a. This can become tedious.\n",
      "IPython has a magic deep reload that tries to handle all those dependencies \"dreload\"\n",
      "\n",
      "**it is generally bad form to use \" from module import * \" in a script because it leads to hard to understand code, try and be explicit:\n",
      "  \n",
      "     from testmodule import testfunction\n",
      "\n",
      "__You can make your module usable as a script as well as an executable by assigning it the name \"main\" at the bottom:__"
     ]
    },
    {
     "cell_type": "markdown",
     "metadata": {},
     "source": [
      "if `__name__` == `\"__main__\"`:\n",
      "\n",
      "    print(testfunction(1,2))\n",
      "    \n",
      "\n",
      "This works because the code that parses the command line only runs if the module is executed as the \"main\" file.\n",
      "It can provide a nice user interface to your module or be used to execute a suite of tests to make sure it's working as expected"
     ]
    },
    {
     "cell_type": "code",
     "collapsed": false,
     "input": [
      "%%file testmodule.py\n",
      "#! /usr/bin/env python\n",
      "\n",
      "def testfunction(a,b):\n",
      "    return float(a)/float(b)\n",
      "\n",
      "if __name__ == \"__main__\":\n",
      "    print(testfunction(1,2))\n",
      "    \n",
      "    "
     ],
     "language": "python",
     "metadata": {},
     "outputs": [
      {
       "output_type": "stream",
       "stream": "stdout",
       "text": [
        "Overwriting testmodule.py\n"
       ]
      }
     ],
     "prompt_number": 96
    },
    {
     "cell_type": "code",
     "collapsed": false,
     "input": [
      "reload(testmodule)"
     ],
     "language": "python",
     "metadata": {},
     "outputs": [
      {
       "output_type": "pyout",
       "prompt_number": 97,
       "text": [
        "<module 'testmodule' from 'testmodule.py'>"
       ]
      }
     ],
     "prompt_number": 97
    },
    {
     "cell_type": "code",
     "collapsed": false,
     "input": [
      "testmodule.testfunction(1,2)"
     ],
     "language": "python",
     "metadata": {},
     "outputs": [
      {
       "output_type": "pyout",
       "prompt_number": 98,
       "text": [
        "0.5"
       ]
      }
     ],
     "prompt_number": 98
    },
    {
     "cell_type": "code",
     "collapsed": false,
     "input": [
      "!chmod a+x testmodule.py "
     ],
     "language": "python",
     "metadata": {},
     "outputs": [],
     "prompt_number": 99
    },
    {
     "cell_type": "code",
     "collapsed": false,
     "input": [
      "!testmodule.py"
     ],
     "language": "python",
     "metadata": {},
     "outputs": [
      {
       "output_type": "stream",
       "stream": "stdout",
       "text": [
        "0.5\r\n"
       ]
      }
     ],
     "prompt_number": 100
    },
    {
     "cell_type": "heading",
     "level": 4,
     "metadata": {},
     "source": [
      "An example of using this with the system arguments (like you might have seen in Fortran and C programs): "
     ]
    },
    {
     "cell_type": "code",
     "collapsed": false,
     "input": [
      "%%file bozo3.py\n",
      "# first part has stuff usable by other python code and can be imported\n",
      "import sys\n",
      "def clown_greeting(name='bozo'):\n",
      "    print \"I'm a clown and my name is\", name\n",
      "    \n",
      "# the following only runs in a script context\n",
      "if __name__ == \"__main__\":\n",
      "    if len(sys.argv) > 1: # means shell-level command line arguments are present\n",
      "        for item in sys.argv[1:]: # ignore the first item since that is the name of this script\n",
      "            clown_greeting(item)"
     ],
     "language": "python",
     "metadata": {},
     "outputs": [
      {
       "output_type": "stream",
       "stream": "stdout",
       "text": [
        "Writing bozo3.py"
       ]
      },
      {
       "output_type": "stream",
       "stream": "stdout",
       "text": [
        "\n"
       ]
      }
     ],
     "prompt_number": 101
    },
    {
     "cell_type": "code",
     "collapsed": false,
     "input": [
      "import bozo3\n",
      "bozo3.clown_greeting()\n",
      "bozo3.clown_greeting('Crusty')"
     ],
     "language": "python",
     "metadata": {},
     "outputs": [
      {
       "output_type": "stream",
       "stream": "stdout",
       "text": [
        "I'm a clown and my name is bozo\n",
        "I'm a clown and my name is Crusty\n"
       ]
      }
     ],
     "prompt_number": 102
    },
    {
     "cell_type": "code",
     "collapsed": false,
     "input": [
      "!python bozo3.py clown1 clown2"
     ],
     "language": "python",
     "metadata": {},
     "outputs": [
      {
       "output_type": "stream",
       "stream": "stdout",
       "text": [
        "I'm a clown and my name is clown1\r\n",
        "I'm a clown and my name is clown2\r\n"
       ]
      }
     ],
     "prompt_number": 103
    },
    {
     "cell_type": "heading",
     "level": 2,
     "metadata": {},
     "source": [
      "How does Python find modules?"
     ]
    },
    {
     "cell_type": "markdown",
     "metadata": {},
     "source": [
      "Python searches the environmental variable __PYTHONPATH__ to find the module you have specified. \n",
      "\n",
      "Usually the current directory is part of the search path, but it might not be the FIRST thing. \n",
      "\n",
      "You can modify the path dynamically by changing the contents of the sys.path list (not good for standard use, but useful for experimentation sometimes) \n",
      "\n",
      "To see what the current path is:"
     ]
    },
    {
     "cell_type": "code",
     "collapsed": false,
     "input": [
      "import sys\n",
      "sys.path"
     ],
     "language": "python",
     "metadata": {},
     "outputs": [
      {
       "output_type": "pyout",
       "prompt_number": 104,
       "text": [
        "['',\n",
        " '/usr/stsci/pyssgdev/2.7.3.stsci_python/lib/python/d2to1-0.2.8.dev-py2.7.egg',\n",
        " '/usr/stsci/pyssgdev/2.7.3.stsci_python/lib/python/stsci.distutils-0.3.2.dev21420-py2.7.egg',\n",
        " '/usr/stsci/pyssgdev/2.7.3.stsci_python/lib/python/pyfits-3.2.dev1982-py2.7-macosx-10.6-x86_64.egg',\n",
        " '/usr/stsci/pyssgdev/2.7.3.stsci_python/lib/python/stsci.tools-3.2.dev21420-py2.7.egg',\n",
        " '/usr/stsci/pyssgdev/2.7.3.stsci_python/lib/python/astrolib.coords-0.38.dev-py2.7-macosx-10.6-x86_64.egg',\n",
        " '/usr/stsci/pyssgdev/2.7.3.stsci_python/lib/python/opuscoords-1.0.1.dev-py2.7-macosx-10.6-x86_64.egg',\n",
        " '/usr/stsci/pyssgdev/2.7.3.stsci_python/lib/python/fitsblender-0.2.dev-py2.7.egg',\n",
        " '/usr/stsci/pyssgdev/2.7.3.stsci_python/lib/python/sample_project-1.1.dev-py2.7-macosx-10.6-x86_64.egg',\n",
        " '/usr/stsci/pyssgdev/Python-2.7.3/lib/python2.7/site-packages/distribute-0.6.24-py2.7.egg',\n",
        " '/usr/stsci/pyssgdev/Python-2.7.3/lib/python2.7/site-packages/pip-1.1-py2.7.egg',\n",
        " '/usr/stsci/pyssgdev/Python-2.7.3/lib/python2.7/site-packages/tornado-2.3-py2.7.egg',\n",
        " '/usr/stsci/pyssgdev/Python-2.7.3/lib/python2.7/site-packages/pyobjc_core-2.3-py2.7-macosx-10.6-x86_64.egg',\n",
        " '/usr/stsci/pyssgdev/Python-2.7.3/lib/python2.7/site-packages/pyobjc-2.3-py2.7.egg',\n",
        " '/usr/stsci/pyssgdev/Python-2.7.3/lib/python2.7/site-packages/pyobjc_framework_ServiceManagement-2.3-py2.7.egg',\n",
        " '/usr/stsci/pyssgdev/Python-2.7.3/lib/python2.7/site-packages/pyobjc_framework_ServerNotification-2.3-py2.7.egg',\n",
        " '/usr/stsci/pyssgdev/Python-2.7.3/lib/python2.7/site-packages/pyobjc_framework_CoreLocation-2.3-py2.7.egg',\n",
        " '/usr/stsci/pyssgdev/Python-2.7.3/lib/python2.7/site-packages/pyobjc_framework_AppleScriptObjC-2.3-py2.7.egg',\n",
        " '/usr/stsci/pyssgdev/Python-2.7.3/lib/python2.7/site-packages/pyobjc_framework_ScriptingBridge-2.3-py2.7.egg',\n",
        " '/usr/stsci/pyssgdev/Python-2.7.3/lib/python2.7/site-packages/pyobjc_framework_QTKit-2.3-py2.7.egg',\n",
        " '/usr/stsci/pyssgdev/Python-2.7.3/lib/python2.7/site-packages/pyobjc_framework_PubSub-2.3-py2.7.egg',\n",
        " '/usr/stsci/pyssgdev/Python-2.7.3/lib/python2.7/site-packages/pyobjc_framework_InterfaceBuilderKit-2.3-py2.7.egg',\n",
        " '/usr/stsci/pyssgdev/Python-2.7.3/lib/python2.7/site-packages/pyobjc_framework_InstantMessage-2.3-py2.7.egg',\n",
        " '/usr/stsci/pyssgdev/Python-2.7.3/lib/python2.7/site-packages/pyobjc_framework_InputMethodKit-2.3-py2.7.egg',\n",
        " '/usr/stsci/pyssgdev/Python-2.7.3/lib/python2.7/site-packages/pyobjc_framework_DictionaryServices-2.3-py2.7.egg',\n",
        " '/usr/stsci/pyssgdev/Python-2.7.3/lib/python2.7/site-packages/pyobjc_framework_Collaboration-2.3-py2.7.egg',\n",
        " '/usr/stsci/pyssgdev/Python-2.7.3/lib/python2.7/site-packages/pyobjc_framework_CalendarStore-2.3-py2.7.egg',\n",
        " '/usr/stsci/pyssgdev/Python-2.7.3/lib/python2.7/site-packages/pyobjc_framework_XgridFoundation-2.3-py2.7.egg',\n",
        " '/usr/stsci/pyssgdev/Python-2.7.3/lib/python2.7/site-packages/pyobjc_framework_WebKit-2.3-py2.7.egg',\n",
        " '/usr/stsci/pyssgdev/Python-2.7.3/lib/python2.7/site-packages/pyobjc_framework_SystemConfiguration-2.3-py2.7-macosx-10.6-x86_64.egg',\n",
        " '/usr/stsci/pyssgdev/Python-2.7.3/lib/python2.7/site-packages/pyobjc_framework_SyncServices-2.3-py2.7.egg',\n",
        " '/usr/stsci/pyssgdev/Python-2.7.3/lib/python2.7/site-packages/pyobjc_framework_SearchKit-2.3-py2.7.egg',\n",
        " '/usr/stsci/pyssgdev/Python-2.7.3/lib/python2.7/site-packages/pyobjc_framework_ScreenSaver-2.3-py2.7-macosx-10.6-x86_64.egg',\n",
        " '/usr/stsci/pyssgdev/Python-2.7.3/lib/python2.7/site-packages/pyobjc_framework_Quartz-2.3-py2.7-macosx-10.6-x86_64.egg',\n",
        " '/usr/stsci/pyssgdev/Python-2.7.3/lib/python2.7/site-packages/pyobjc_framework_PreferencePanes-2.3-py2.7.egg',\n",
        " '/usr/stsci/pyssgdev/Python-2.7.3/lib/python2.7/site-packages/pyobjc_framework_Message-2.3-py2.7.egg',\n",
        " '/usr/stsci/pyssgdev/Python-2.7.3/lib/python2.7/site-packages/pyobjc_framework_LaunchServices-2.3-py2.7.egg',\n",
        " '/usr/stsci/pyssgdev/Python-2.7.3/lib/python2.7/site-packages/pyobjc_framework_LatentSemanticMapping-2.3-py2.7.egg',\n",
        " '/usr/stsci/pyssgdev/Python-2.7.3/lib/python2.7/site-packages/pyobjc_framework_InstallerPlugins-2.3-py2.7.egg',\n",
        " '/usr/stsci/pyssgdev/Python-2.7.3/lib/python2.7/site-packages/pyobjc_framework_FSEvents-2.3-py2.7-macosx-10.6-x86_64.egg',\n",
        " '/usr/stsci/pyssgdev/Python-2.7.3/lib/python2.7/site-packages/pyobjc_framework_ExceptionHandling-2.3-py2.7.egg',\n",
        " '/usr/stsci/pyssgdev/Python-2.7.3/lib/python2.7/site-packages/pyobjc_framework_CoreText-2.3-py2.7-macosx-10.6-x86_64.egg',\n",
        " '/usr/stsci/pyssgdev/Python-2.7.3/lib/python2.7/site-packages/pyobjc_framework_CoreData-2.3-py2.7.egg',\n",
        " '/usr/stsci/pyssgdev/Python-2.7.3/lib/python2.7/site-packages/pyobjc_framework_Cocoa-2.3-py2.7-macosx-10.6-x86_64.egg',\n",
        " '/usr/stsci/pyssgdev/Python-2.7.3/lib/python2.7/site-packages/pyobjc_framework_CFNetwork-2.3-py2.7-macosx-10.6-x86_64.egg',\n",
        " '/usr/stsci/pyssgdev/Python-2.7.3/lib/python2.7/site-packages/pyobjc_framework_Automator-2.3-py2.7.egg',\n",
        " '/usr/stsci/pyssgdev/Python-2.7.3/lib/python2.7/site-packages/pyobjc_framework_AppleScriptKit-2.3-py2.7.egg',\n",
        " '/usr/stsci/pyssgdev/Python-2.7.3/lib/python2.7/site-packages/pyobjc_framework_AddressBook-2.3-py2.7.egg',\n",
        " '/usr/stsci/pyssgdev/2.7.3.jwst/lib/python',\n",
        " '/usr/stsci/pyssgdev/2.7.3.stsci_python',\n",
        " '/usr/stsci/pyssgdev/2.7.3.stsci_python/lib/python',\n",
        " '/usr/stsci/pyssgdev/2.7.3',\n",
        " '/usr/stsci/pyssgdev/Python-2.7.3/lib/python27.zip',\n",
        " '/usr/stsci/pyssgdev/Python-2.7.3/lib/python2.7',\n",
        " '/usr/stsci/pyssgdev/Python-2.7.3/lib/python2.7/plat-darwin',\n",
        " '/usr/stsci/pyssgdev/Python-2.7.3/lib/python2.7/plat-mac',\n",
        " '/usr/stsci/pyssgdev/Python-2.7.3/lib/python2.7/plat-mac/lib-scriptpackages',\n",
        " '/usr/stsci/pyssgdev/Python-2.7.3/lib/python2.7/lib-tk',\n",
        " '/usr/stsci/pyssgdev/Python-2.7.3/lib/python2.7/lib-old',\n",
        " '/usr/stsci/pyssgdev/Python-2.7.3/lib/python2.7/lib-dynload',\n",
        " '/usr/stsci/pyssgdev/Python-2.7.3/lib/python2.7/site-packages',\n",
        " '/usr/stsci/pyssgdev/Python-2.7.3/lib/python2.7/site-packages/PIL',\n",
        " '/usr/stsci/pyssgdev/Python-2.7.3/lib/python2.7/site-packages/setuptools-0.6c11-py2.7.egg-info',\n",
        " '/usr/stsci/pyssgdev/Python-2.7.3/lib/python2.7/site-packages/IPython/extensions']"
       ]
      }
     ],
     "prompt_number": 104
    },
    {
     "cell_type": "heading",
     "level": 2,
     "metadata": {},
     "source": [
      "Scripts in Daily Life\n"
     ]
    },
    {
     "cell_type": "code",
     "collapsed": false,
     "input": [],
     "language": "python",
     "metadata": {},
     "outputs": []
    },
    {
     "cell_type": "markdown",
     "metadata": {},
     "source": [
      "I wrote a script to run some photometry, source finding and plotting, which you can look at later as an example.\n",
      "\n",
      "Lets run our aperture photometry script to have something to work with. If you make the file executable you can call it from the shell command line with options:\n",
      "\n",
      "- i [my input image name]\n",
      "\n",
      "- a [what pixel aperture to perform photometry]\n",
      "\n",
      "- s [what pixel from the center to start sky measurements]\n",
      "\n",
      "- w [how wide in pixels the sky annnulus should be]\n",
      "\n"
     ]
    },
    {
     "cell_type": "markdown",
     "metadata": {},
     "source": [
      "\n",
      "\n",
      "    aperphot.py -i n8q624e8q_cal.fits -a 4 -s 8 -w 3 "
     ]
    },
    {
     "cell_type": "markdown",
     "metadata": {},
     "source": [
      "You can also call the script from a python session just by importing it:  \n",
      "\n",
      "    import aperphot\n",
      "    aperphot.run(stuff here)"
     ]
    },
    {
     "cell_type": "markdown",
     "metadata": {},
     "source": [
      "Lets see that we got reasonable photometry back and just print out the table from the file:\n"
     ]
    },
    {
     "cell_type": "code",
     "collapsed": false,
     "input": [
      "from astropy.io import ascii\n",
      "reader=ascii.Daophot()\n",
      "photfile='../data/n8q624e8q.phot'\n",
      "phot=reader.read(photfile)\n",
      "phot.pprint() #look at a nice view of the data "
     ],
     "language": "python",
     "metadata": {},
     "outputs": [
      {
       "output_type": "stream",
       "stream": "stdout",
       "text": [
        "\u001b[0;31m        IMAGE          XINIT   YINIT   ID  ...  MAG    MERR PIER   PERROR \u001b[0m\n",
        "\u001b[0;31m--------------------- ------- ------- ---- ... ------ ----- ---- ---------\u001b[0m\n",
        "n8q624e8q_cal.fits[1] 238.589   0.924    1 ...  INDEF INDEF  301  OffImage\n",
        "n8q624e8q_cal.fits[1]  76.091   2.315    2 ...  INDEF INDEF  301  OffImage\n",
        "n8q624e8q_cal.fits[1]  83.016    3.17    3 ...  INDEF INDEF  301  OffImage\n",
        "n8q624e8q_cal.fits[1] 232.763   2.937    4 ... 15.539 0.002    0   NoError\n",
        "n8q624e8q_cal.fits[1]  11.351   3.914    5 ... 20.535 0.421    0   NoError\n",
        "n8q624e8q_cal.fits[1]  15.642   3.574    6 ... 18.581 0.070    0   NoError\n",
        "n8q624e8q_cal.fits[1]  20.693   3.369    7 ... 18.581 0.070    0   NoError\n",
        "n8q624e8q_cal.fits[1]  59.827   2.929    8 ...  INDEF INDEF  301  OffImage\n",
        "n8q624e8q_cal.fits[1]  97.188   3.121    9 ...  INDEF INDEF  301  OffImage\n",
        "n8q624e8q_cal.fits[1] 100.594   3.054   10 ...  INDEF INDEF  301  OffImage\n",
        "n8q624e8q_cal.fits[1] 105.788   3.302   11 ...  INDEF INDEF  305 BadPixels\n",
        "                  ...     ...     ...  ... ...    ...   ...  ...       ...\n",
        "n8q624e8q_cal.fits[1]  54.199 253.961 1436 ...  INDEF INDEF  301  OffImage\n",
        "n8q624e8q_cal.fits[1]   69.03  253.41 1437 ...  INDEF INDEF  301  OffImage\n",
        "n8q624e8q_cal.fits[1] 137.084 254.295 1438 ...  INDEF INDEF  301  OffImage\n",
        "n8q624e8q_cal.fits[1] 149.105 254.252 1439 ...  INDEF INDEF  301  OffImage\n",
        "n8q624e8q_cal.fits[1]  173.28  253.64 1440 ...  INDEF INDEF  301  OffImage\n",
        "n8q624e8q_cal.fits[1] 174.524 253.834 1441 ...  INDEF INDEF  301  OffImage\n",
        "n8q624e8q_cal.fits[1] 252.885 253.811 1442 ...  INDEF INDEF  301  OffImage\n",
        "n8q624e8q_cal.fits[1]  38.966 253.209 1443 ... 19.394 0.044    0   NoError\n",
        "n8q624e8q_cal.fits[1]  58.473 256.459 1444 ...  INDEF INDEF  301  OffImage\n",
        "n8q624e8q_cal.fits[1] 115.947 255.985 1445 ...  INDEF INDEF  301  OffImage\n",
        "n8q624e8q_cal.fits[1] 128.204 254.928 1446 ...  INDEF INDEF  301  OffImage\n"
       ]
      }
     ],
     "prompt_number": 3
    },
    {
     "cell_type": "markdown",
     "metadata": {},
     "source": [
      "There is a function in the aperphot to make plot of some of the results for quick reference, lets make the plot now and see what it looks like (in the shell terminal). "
     ]
    },
    {
     "cell_type": "markdown",
     "metadata": {},
     "source": [
      "    aperphot.plotphot(photfile)  --> created [photfile].pdf"
     ]
    },
    {
     "cell_type": "markdown",
     "metadata": {},
     "source": [
      "##Editing your photometry file##\n",
      "\n",
      "Now that we've checked out our plots, we can play around with our detections some. \n",
      "Lets say we only want to keep a subset of the points we detected.\n",
      "\n",
      "We'll make a refining cut on the objects, leaving out the ones which had errors in the photometry"
     ]
    },
    {
     "cell_type": "code",
     "collapsed": false,
     "input": [
      "import numpy as np\n",
      "good=np.where(phot[:]['MERR'] != 'INDEF')"
     ],
     "language": "python",
     "metadata": {},
     "outputs": [],
     "prompt_number": 4
    },
    {
     "cell_type": "code",
     "collapsed": false,
     "input": [
      "phot=phot[good[0][:]]\n"
     ],
     "language": "python",
     "metadata": {},
     "outputs": [],
     "prompt_number": 5
    },
    {
     "cell_type": "code",
     "collapsed": false,
     "input": [
      "phot.pprint()"
     ],
     "language": "python",
     "metadata": {},
     "outputs": [
      {
       "output_type": "stream",
       "stream": "stdout",
       "text": [
        "\u001b[0;31m        IMAGE          XINIT   YINIT   ID  ...  MAG    MERR PIER  PERROR\u001b[0m\n",
        "\u001b[0;31m--------------------- ------- ------- ---- ... ------ ----- ---- -------\u001b[0m\n",
        "n8q624e8q_cal.fits[1] 232.763   2.937    4 ... 15.539 0.002    0 NoError\n",
        "n8q624e8q_cal.fits[1]  11.351   3.914    5 ... 20.535 0.421    0 NoError\n",
        "n8q624e8q_cal.fits[1]  15.642   3.574    6 ... 18.581 0.070    0 NoError\n",
        "n8q624e8q_cal.fits[1]  20.693   3.369    7 ... 18.581 0.070    0 NoError\n",
        "n8q624e8q_cal.fits[1] 136.762   3.531   12 ... 20.402 0.049    0 NoError\n",
        "n8q624e8q_cal.fits[1] 220.449   2.704   15 ... 18.433 0.025    0 NoError\n",
        "n8q624e8q_cal.fits[1]   224.2   2.863   16 ... 15.539 0.002    0 NoError\n",
        "n8q624e8q_cal.fits[1]  54.078   6.677   19 ... 20.197 0.172    0 NoError\n",
        "n8q624e8q_cal.fits[1]  57.106   6.779   20 ... 21.479 0.515    0 NoError\n",
        "n8q624e8q_cal.fits[1] 122.832   4.803   22 ... 24.378 7.415    0 NoError\n",
        "n8q624e8q_cal.fits[1]  22.615   5.853   24 ... 18.581 0.070    0 NoError\n",
        "                  ...     ...     ...  ... ...    ...   ...  ...     ...\n",
        "n8q624e8q_cal.fits[1]  99.895 250.324 1413 ... 17.735 0.003    0 NoError\n",
        "n8q624e8q_cal.fits[1] 223.162 249.926 1416 ... 20.097 0.041    0 NoError\n",
        "n8q624e8q_cal.fits[1]  241.12 249.704 1417 ... 18.519 0.012    0 NoError\n",
        "n8q624e8q_cal.fits[1]  11.341 250.131 1418 ... 17.337 0.007    0 NoError\n",
        "n8q624e8q_cal.fits[1]  30.126 251.211 1419 ... 20.152 0.065    0 NoError\n",
        "n8q624e8q_cal.fits[1]  38.967 251.122 1421 ... 19.394 0.044    0 NoError\n",
        "n8q624e8q_cal.fits[1]   6.956 251.166 1422 ... 17.337 0.007    0 NoError\n",
        "n8q624e8q_cal.fits[1]  91.322 251.787 1423 ... 17.735 0.003    0 NoError\n",
        "n8q624e8q_cal.fits[1] 112.669 251.153 1424 ... 17.734 0.003    0 NoError\n",
        "n8q624e8q_cal.fits[1] 130.693 252.377 1430 ... 21.260 0.705    0 NoError\n",
        "n8q624e8q_cal.fits[1]  38.966 253.209 1443 ... 19.394 0.044    0 NoError\n"
       ]
      }
     ],
     "prompt_number": 6
    },
    {
     "cell_type": "markdown",
     "metadata": {},
     "source": [
      "Lets remove the rows where the centering was worse than 1 pixel"
     ]
    },
    {
     "cell_type": "code",
     "collapsed": false,
     "input": [
      "good=np.where( np.abs(phot[:][\"XSHIFT\"]) <=1. )\n",
      "phot=phot[good[0][:]]\n",
      "good=np.where( np.abs(phot[:][\"YSHIFT\"]) <=1. )\n",
      "phot=phot[good[0][:]]\n",
      "phot.pprint()"
     ],
     "language": "python",
     "metadata": {},
     "outputs": [
      {
       "output_type": "stream",
       "stream": "stdout",
       "text": [
        "\u001b[0;31m        IMAGE          XINIT   YINIT   ID  ...  MAG    MERR PIER  PERROR\u001b[0m\n",
        "\u001b[0;31m--------------------- ------- ------- ---- ... ------ ----- ---- -------\u001b[0m\n",
        "n8q624e8q_cal.fits[1]  57.106   6.779   20 ... 21.479 0.515    0 NoError\n",
        "n8q624e8q_cal.fits[1] 122.832   4.803   22 ... 24.378 7.415    0 NoError\n",
        "n8q624e8q_cal.fits[1]  22.615   5.853   24 ... 18.581 0.070    0 NoError\n",
        "n8q624e8q_cal.fits[1]  68.257   6.351   25 ... 20.329 0.251    0 NoError\n",
        "n8q624e8q_cal.fits[1]  91.009   5.895   26 ... 20.382 0.204    0 NoError\n",
        "n8q624e8q_cal.fits[1] 214.969    5.96   28 ... 18.433 0.025    0 NoError\n",
        "n8q624e8q_cal.fits[1] 133.468   7.586   35 ... 20.402 0.049    0 NoError\n",
        "n8q624e8q_cal.fits[1]  16.305  10.221   40 ... 20.535 0.421    0 NoError\n",
        "n8q624e8q_cal.fits[1]  50.934   9.889   41 ... 20.172 0.167    0 NoError\n",
        "n8q624e8q_cal.fits[1] 228.508   10.51   45 ... 15.539 0.002    0 NoError\n",
        "n8q624e8q_cal.fits[1]  65.875  10.536   47 ... 19.361 0.076    0 NoError\n",
        "                  ...     ...     ...  ... ...    ...   ...  ...     ...\n",
        "n8q624e8q_cal.fits[1]  51.908 247.496 1392 ... 20.170 0.043    0 NoError\n",
        "n8q624e8q_cal.fits[1] 193.397 247.317 1395 ... 19.754 0.099    0 NoError\n",
        "n8q624e8q_cal.fits[1]  220.22 246.968 1397 ... 20.175 0.042    0 NoError\n",
        "n8q624e8q_cal.fits[1] 178.202   247.1 1401 ... 24.015 5.921    0 NoError\n",
        "n8q624e8q_cal.fits[1] 251.794 247.987 1402 ... 19.529 0.044    0 NoError\n",
        "n8q624e8q_cal.fits[1] 249.338 249.327 1409 ... 20.083 0.121    0 NoError\n",
        "n8q624e8q_cal.fits[1]  19.491 249.658 1411 ... 20.652 0.176    0 NoError\n",
        "n8q624e8q_cal.fits[1]  99.895 250.324 1413 ... 17.735 0.003    0 NoError\n",
        "n8q624e8q_cal.fits[1]  241.12 249.704 1417 ... 18.519 0.012    0 NoError\n",
        "n8q624e8q_cal.fits[1]  38.967 251.122 1421 ... 19.394 0.044    0 NoError\n",
        "n8q624e8q_cal.fits[1] 130.693 252.377 1430 ... 21.260 0.705    0 NoError\n"
       ]
      }
     ],
     "prompt_number": 7
    },
    {
     "cell_type": "markdown",
     "metadata": {},
     "source": [
      "If you want to save the table as you've edited it, or any combination of the table lines you like, the following will produce\n",
      "an ascii file which is human readable"
     ]
    },
    {
     "cell_type": "code",
     "collapsed": false,
     "input": [
      "of=open('new_table.dat','w')\n",
      "for line in phot.pformat(max_width=-1,max_lines=-1):  #this writes ALL the lines, not a pretty subset\n",
      "    of.write(line)\n",
      "    of.write(\"\\n\")\n",
      "of.close()"
     ],
     "language": "python",
     "metadata": {},
     "outputs": [],
     "prompt_number": 11
    },
    {
     "cell_type": "markdown",
     "metadata": {},
     "source": [
      "Now, if we want to save these cherry picked star locations and redo the photometry, we can save the x,y coordinates and rerun our phot function"
     ]
    },
    {
     "cell_type": "code",
     "collapsed": false,
     "input": [
      "xy=phot['XCENTER','YCENTER']\n",
      "of=open('new_coords.dat','w')\n",
      "for line in xy.pformat(max_width=-1,max_lines=-1):\n",
      "    of.write(line+\"\\n\")\n",
      "of.close()"
     ],
     "language": "python",
     "metadata": {},
     "outputs": [],
     "prompt_number": 13
    },
    {
     "cell_type": "markdown",
     "metadata": {},
     "source": [
      "    aperphot.do_phot('../data/n8q624e8q_cal.fits','new_coords.dat')\n",
      "\n",
      "You can move on and start your PSF photometry and creating a PSF using your reduced data.\n",
      "I'm going to skip over the steps of making a model PSF. I've got 2 PSFs we can examine.\n",
      "\n",
      "##Examining your PSF##"
     ]
    },
    {
     "cell_type": "code",
     "collapsed": false,
     "input": [
      "import pyfits\n",
      "#this is an image generated by TinyTim with nicmos specifications with a normalized flux\n",
      "tinytim=pyfits.getdata('../data/nic2_f160w_4xsub00.fits')"
     ],
     "language": "python",
     "metadata": {},
     "outputs": [],
     "prompt_number": 14
    },
    {
     "cell_type": "code",
     "collapsed": false,
     "input": [
      "from matplotlib import pylab as plt\n",
      "plt.imshow(np.log10(tinytim),cmap=plt.cm.gray)"
     ],
     "language": "python",
     "metadata": {},
     "outputs": [
      {
       "output_type": "pyout",
       "prompt_number": 16,
       "text": [
        "<matplotlib.image.AxesImage at 0x107882190>"
       ]
      },
      {
       "output_type": "display_data",
       "png": "[encoded data removed]"
      }
     ],
     "prompt_number": 16
    },
    {
     "cell_type": "code",
     "collapsed": false,
     "input": [
      "#lets look at a plot of the profile\n",
      "print tinytim.shape\n",
      "plt.plot(tinytim[264])\n"
     ],
     "language": "python",
     "metadata": {},
     "outputs": [
      {
       "output_type": "stream",
       "stream": "stdout",
       "text": [
        "(528, 528)\n"
       ]
      },
      {
       "output_type": "pyout",
       "prompt_number": 50,
       "text": [
        "[<matplotlib.lines.Line2D at 0x10c7641d0>]"
       ]
      },
      {
       "output_type": "display_data",
       "png": "[encoded data removed]"
      }
     ],
     "prompt_number": 50
    },
    {
     "cell_type": "code",
     "collapsed": false,
     "input": [],
     "language": "python",
     "metadata": {},
     "outputs": []
    },
    {
     "cell_type": "code",
     "collapsed": false,
     "input": [
      "#this is a psf generated from a drizzled nicmos dataset using Daophot.psf which is really just the model information\n",
      "drizzled=pyfits.open('../data/dr_median.psf.1.fits')\n",
      "drizzled.info() #like catfits"
     ],
     "language": "python",
     "metadata": {},
     "outputs": [
      {
       "output_type": "stream",
       "stream": "stdout",
       "text": [
        "Filename: ../data/dr_median.psf.1.fits\n",
        "No.    Name         Type      Cards   Dimensions   Format\n",
        "0    PRIMARY     PrimaryHDU      71   (39, 39, 3)   float32   \n"
       ]
      }
     ],
     "prompt_number": 68
    },
    {
     "cell_type": "code",
     "collapsed": false,
     "input": [
      "#there are 3 (39,39) element arrays which specify the model psf lookup tables fit residuals (derivatives)\n",
      "#and the functional fit which is stored in the primary header along with information about each star I used\n",
      "keys=['VARORDER','FUNCTION','PSFRAD','PAR1','PAR2','PAR3']\n",
      "for item in keys: \n",
      "    print item, drizzled[0].header[item]\n",
      "    \n",
      "print \"\\nExample of residuals:\\n\", drizzled[0].data[0,0]\n"
     ],
     "language": "python",
     "metadata": {},
     "outputs": [
      {
       "output_type": "stream",
       "stream": "stdout",
       "text": [
        "VARORDER 1\n",
        "FUNCTION lorentz\n",
        "PSFRAD 9.0\n",
        "PAR1 0.529933\n",
        "PAR2 0.510016\n",
        "PAR3 -0.1086451\n",
        "\n",
        "Example of residuals\n",
        "[  0.           0.           0.           0.           0.           0.           0.\n",
        "   0.           0.           0.           0.           0.           0.\n",
        " -64.44338989 -66.99978638 -63.55645752 -57.28464127 -50.71610641\n",
        " -44.33185196 -43.06019592 -45.10845947 -45.52658081 -46.97203827\n",
        " -51.09057999 -52.9022522  -49.96348572   0.           0.           0.           0.\n",
        "   0.           0.           0.           0.           0.           0.           0.\n",
        "   0.           0.        ]\n"
       ]
      }
     ],
     "prompt_number": 77
    },
    {
     "cell_type": "code",
     "collapsed": false,
     "input": [
      "#I used a lorenz function for the fitting, lets take a look at the residuals\n",
      "plt.plot(np.abs(drizzled[0].data[0][0]))\n",
      "plt.plot(np.abs(drizzled[0].data[0][1]))\n",
      "plt.plot(np.abs(drizzled[0].data[0][2]))"
     ],
     "language": "python",
     "metadata": {},
     "outputs": [
      {
       "output_type": "pyout",
       "prompt_number": 64,
       "text": [
        "[<matplotlib.lines.Line2D at 0x10c7a1a10>]"
       ]
      },
      {
       "output_type": "display_data",
       "png": "[encoded data removed]"
      }
     ],
     "prompt_number": 64
    },
    {
     "cell_type": "code",
     "collapsed": false,
     "input": [],
     "language": "python",
     "metadata": {},
     "outputs": []
    }
   ],
   "metadata": {}
  }
 ]
}