{
 "metadata": {
  "name": "Session6_Exceptions"
 },
 "nbformat": 3,
 "nbformat_minor": 0,
 "worksheets": [
  {
   "cells": [
    {
     "cell_type": "heading",
     "level": 1,
     "metadata": {},
     "source": [
      "Session 6: Exceptions"
     ]
    },
    {
     "cell_type": "markdown",
     "metadata": {},
     "source": [
      "This is a short introduction to handling Exceptions in Python.\n",
      "\n",
      "Further reading: http://docs.python.org/2/tutorial/errors.html"
     ]
    },
    {
     "cell_type": "code",
     "collapsed": false,
     "input": [
      "# Import stuff\n",
      "from __future__ import print_function"
     ],
     "language": "python",
     "metadata": {},
     "outputs": [],
     "prompt_number": 1
    },
    {
     "cell_type": "code",
     "collapsed": false,
     "input": [
      "# Let's catch an error and examine it.\n",
      "try:\n",
      "    x = float('s')\n",
      "except Exception as e:\n",
      "    for attribute in dir(e):\n",
      "        print(attribute, ':', getattr(e, attribute))"
     ],
     "language": "python",
     "metadata": {},
     "outputs": [
      {
       "output_type": "stream",
       "stream": "stdout",
       "text": [
        "__class__ : <type 'exceptions.ValueError'>\n",
        "__delattr__ : <method-wrapper '__delattr__' of exceptions.ValueError object at 0x182a6878>\n",
        "__dict__ : {}\n",
        "__doc__ : Inappropriate argument value (of correct type).\n",
        "__format__ : <built-in method __format__ of exceptions.ValueError object at 0x182a6878>\n",
        "__getattribute__ : <method-wrapper '__getattribute__' of exceptions.ValueError object at 0x182a6878>\n",
        "__getitem__ : <method-wrapper '__getitem__' of exceptions.ValueError object at 0x182a6878>\n",
        "__getslice__ : <method-wrapper '__getslice__' of exceptions.ValueError object at 0x182a6878>\n",
        "__hash__ : <method-wrapper '__hash__' of exceptions.ValueError object at 0x182a6878>\n",
        "__init__ : <method-wrapper '__init__' of exceptions.ValueError object at 0x182a6878>\n",
        "__new__ : <built-in method __new__ of type object at 0x2b9df9344360>\n",
        "__reduce__ : <built-in method __reduce__ of exceptions.ValueError object at 0x182a6878>\n",
        "__reduce_ex__ : <built-in method __reduce_ex__ of exceptions.ValueError object at 0x182a6878>\n",
        "__repr__ : <method-wrapper '__repr__' of exceptions.ValueError object at 0x182a6878>\n",
        "__setattr__ : <method-wrapper '__setattr__' of exceptions.ValueError object at 0x182a6878>\n",
        "__setstate__ : <built-in method __setstate__ of exceptions.ValueError object at 0x182a6878>\n",
        "__sizeof__ : <built-in method __sizeof__ of exceptions.ValueError object at 0x182a6878>\n",
        "__str__ : <method-wrapper '__str__' of exceptions.ValueError object at 0x182a6878>\n",
        "__subclasshook__ : <built-in method __subclasshook__ of type object at 0x2b9df9344360>\n",
        "__unicode__ : <built-in method __unicode__ of exceptions.ValueError object at 0x182a6878>\n",
        "args : ('could not convert string to float: s',)\n",
        "message : could not convert string to float: s\n"
       ]
      }
     ],
     "prompt_number": 2
    },
    {
     "cell_type": "markdown",
     "metadata": {},
     "source": [
      "The attributes *args* and *message* contain useful information about the Exception.\n",
      "\n",
      "Now we can do something more useful with it."
     ]
    },
    {
     "cell_type": "code",
     "collapsed": false,
     "input": [
      "try:\n",
      "    # If you put too many lines of codes in this block,\n",
      "    # error handling logic becomes messy.\n",
      "    # Best keep things simple here.\n",
      "    x = float('s')\n",
      "except Exception as e:\n",
      "    print(e.message)\n",
      "    print('Setting x to -1 and moving on.')\n",
      "    x = -1\n",
      "\n",
      "y = x + 10\n",
      "print(y)"
     ],
     "language": "python",
     "metadata": {},
     "outputs": [
      {
       "output_type": "stream",
       "stream": "stdout",
       "text": [
        "could not convert string to float: s\n",
        "Setting x to -1 and moving on.\n",
        "9\n"
       ]
      }
     ],
     "prompt_number": 3
    },
    {
     "cell_type": "markdown",
     "metadata": {},
     "source": [
      "It is good practice to only catch the spectific type(s) of Exception(s) you want. This way, when an unexpected Exception occurs, it will not be accidentally ignored."
     ]
    },
    {
     "cell_type": "code",
     "collapsed": false,
     "input": [
      "def convert(func, s):\n",
      "    try:\n",
      "        x = func(s)\n",
      "    \n",
      "    # To catch multiple types of Exceptions:\n",
      "    #    except (ThisError, ThatError) as ...\n",
      "    except ValueError as e:\n",
      "        print(e.__class__.__name__, ':', e.message)\n",
      "        x = -1\n",
      "        \n",
      "    return x"
     ],
     "language": "python",
     "metadata": {},
     "outputs": [],
     "prompt_number": 4
    },
    {
     "cell_type": "code",
     "collapsed": false,
     "input": [
      "convert(float, 's')"
     ],
     "language": "python",
     "metadata": {},
     "outputs": [
      {
       "output_type": "stream",
       "stream": "stdout",
       "text": [
        "ValueError : could not convert string to float: s\n"
       ]
      },
      {
       "output_type": "pyout",
       "prompt_number": 5,
       "text": [
        "-1"
       ]
      }
     ],
     "prompt_number": 5
    },
    {
     "cell_type": "code",
     "collapsed": false,
     "input": [
      "# This should raise NotImplementedError.\n",
      "# But if in the function above, Exception is used instead\n",
      "# of ValueError, it would have blindly returned -1.\n",
      "convert(log, 's')"
     ],
     "language": "python",
     "metadata": {},
     "outputs": [
      {
       "ename": "NotImplementedError",
       "evalue": "Not implemented for this type",
       "output_type": "pyerr",
       "traceback": [
        "\u001b[1;31m---------------------------------------------------------------------------\u001b[0m\n\u001b[1;31mNotImplementedError\u001b[0m                       Traceback (most recent call last)",
        "\u001b[1;32m<ipython-input-6-7d67a56d596d>\u001b[0m in \u001b[0;36m<module>\u001b[1;34m()\u001b[0m\n\u001b[0;32m      2\u001b[0m \u001b[1;31m# But if in the function above, Exception is used instead\u001b[0m\u001b[1;33m\u001b[0m\u001b[1;33m\u001b[0m\u001b[0m\n\u001b[0;32m      3\u001b[0m \u001b[1;31m# of ValueError, it would have blindly returned -1.\u001b[0m\u001b[1;33m\u001b[0m\u001b[1;33m\u001b[0m\u001b[0m\n\u001b[1;32m----> 4\u001b[1;33m \u001b[0mconvert\u001b[0m\u001b[1;33m(\u001b[0m\u001b[0mlog\u001b[0m\u001b[1;33m,\u001b[0m \u001b[1;34m's'\u001b[0m\u001b[1;33m)\u001b[0m\u001b[1;33m\u001b[0m\u001b[0m\n\u001b[0m",
        "\u001b[1;32m<ipython-input-4-0317397e3201>\u001b[0m in \u001b[0;36mconvert\u001b[1;34m(func, s)\u001b[0m\n\u001b[0;32m      1\u001b[0m \u001b[1;32mdef\u001b[0m \u001b[0mconvert\u001b[0m\u001b[1;33m(\u001b[0m\u001b[0mfunc\u001b[0m\u001b[1;33m,\u001b[0m \u001b[0ms\u001b[0m\u001b[1;33m)\u001b[0m\u001b[1;33m:\u001b[0m\u001b[1;33m\u001b[0m\u001b[0m\n\u001b[0;32m      2\u001b[0m     \u001b[1;32mtry\u001b[0m\u001b[1;33m:\u001b[0m\u001b[1;33m\u001b[0m\u001b[0m\n\u001b[1;32m----> 3\u001b[1;33m         \u001b[0mx\u001b[0m \u001b[1;33m=\u001b[0m \u001b[0mfunc\u001b[0m\u001b[1;33m(\u001b[0m\u001b[0ms\u001b[0m\u001b[1;33m)\u001b[0m\u001b[1;33m\u001b[0m\u001b[0m\n\u001b[0m\u001b[0;32m      4\u001b[0m \u001b[1;33m\u001b[0m\u001b[0m\n\u001b[0;32m      5\u001b[0m     \u001b[1;31m# To catch multiple types of Exceptions:\u001b[0m\u001b[1;33m\u001b[0m\u001b[1;33m\u001b[0m\u001b[0m\n",
        "\u001b[1;31mNotImplementedError\u001b[0m: Not implemented for this type"
       ]
      }
     ],
     "prompt_number": 6
    },
    {
     "cell_type": "markdown",
     "metadata": {},
     "source": [
      "You can also use *else* and *finally* in the logic."
     ]
    },
    {
     "cell_type": "code",
     "collapsed": false,
     "input": [
      "def convert(func, s):\n",
      "    try:\n",
      "        x = func(s)\n",
      "    except (ValueError, NotImplementedError) as e:\n",
      "        print(e.__class__.__name__, ':', e.message)\n",
      "        return -1\n",
      "    else:\n",
      "        print('Yay!')\n",
      "    finally:\n",
      "        # This block is useful for clean-up,\n",
      "        # like closing open file pointers.\n",
      "        print('Ni! Ni! Ni!')\n",
      "\n",
      "    return x"
     ],
     "language": "python",
     "metadata": {},
     "outputs": [],
     "prompt_number": 7
    },
    {
     "cell_type": "code",
     "collapsed": false,
     "input": [
      "# Ran everything except 'except'\n",
      "convert(float, '13')"
     ],
     "language": "python",
     "metadata": {},
     "outputs": [
      {
       "output_type": "stream",
       "stream": "stdout",
       "text": [
        "Yay!\n",
        "Ni! Ni! Ni!\n"
       ]
      },
      {
       "output_type": "pyout",
       "prompt_number": 8,
       "text": [
        "13.0"
       ]
      }
     ],
     "prompt_number": 8
    },
    {
     "cell_type": "code",
     "collapsed": false,
     "input": [
      "# Note that 'finally' ran before -1 was returned.\n",
      "# And 'else' was skipped.\n",
      "convert(log, 's')"
     ],
     "language": "python",
     "metadata": {},
     "outputs": [
      {
       "output_type": "stream",
       "stream": "stdout",
       "text": [
        "NotImplementedError : Not implemented for this type\n",
        "Ni! Ni! Ni!\n"
       ]
      },
      {
       "output_type": "pyout",
       "prompt_number": 9,
       "text": [
        "-1"
       ]
      }
     ],
     "prompt_number": 9
    },
    {
     "cell_type": "code",
     "collapsed": false,
     "input": [
      "# TypeError is not one of the Exceptions checked for,\n",
      "# so only 'try' and 'finally' are ran.\n",
      "convert(isinstance, 12)"
     ],
     "language": "python",
     "metadata": {},
     "outputs": [
      {
       "ename": "TypeError",
       "evalue": "isinstance expected 2 arguments, got 1",
       "output_type": "pyerr",
       "traceback": [
        "\u001b[1;31m---------------------------------------------------------------------------\u001b[0m\n\u001b[1;31mTypeError\u001b[0m                                 Traceback (most recent call last)",
        "\u001b[1;32m<ipython-input-10-42a278312c00>\u001b[0m in \u001b[0;36m<module>\u001b[1;34m()\u001b[0m\n\u001b[0;32m      1\u001b[0m \u001b[1;31m# TypeError is not one of the Exceptions checked for,\u001b[0m\u001b[1;33m\u001b[0m\u001b[1;33m\u001b[0m\u001b[0m\n\u001b[0;32m      2\u001b[0m \u001b[1;31m# so only 'try' and 'finally' are ran.\u001b[0m\u001b[1;33m\u001b[0m\u001b[1;33m\u001b[0m\u001b[0m\n\u001b[1;32m----> 3\u001b[1;33m \u001b[0mconvert\u001b[0m\u001b[1;33m(\u001b[0m\u001b[0misinstance\u001b[0m\u001b[1;33m,\u001b[0m \u001b[1;36m12\u001b[0m\u001b[1;33m)\u001b[0m\u001b[1;33m\u001b[0m\u001b[0m\n\u001b[0m",
        "\u001b[1;32m<ipython-input-7-9d95323ddb8b>\u001b[0m in \u001b[0;36mconvert\u001b[1;34m(func, s)\u001b[0m\n\u001b[0;32m      1\u001b[0m \u001b[1;32mdef\u001b[0m \u001b[0mconvert\u001b[0m\u001b[1;33m(\u001b[0m\u001b[0mfunc\u001b[0m\u001b[1;33m,\u001b[0m \u001b[0ms\u001b[0m\u001b[1;33m)\u001b[0m\u001b[1;33m:\u001b[0m\u001b[1;33m\u001b[0m\u001b[0m\n\u001b[0;32m      2\u001b[0m     \u001b[1;32mtry\u001b[0m\u001b[1;33m:\u001b[0m\u001b[1;33m\u001b[0m\u001b[0m\n\u001b[1;32m----> 3\u001b[1;33m         \u001b[0mx\u001b[0m \u001b[1;33m=\u001b[0m \u001b[0mfunc\u001b[0m\u001b[1;33m(\u001b[0m\u001b[0ms\u001b[0m\u001b[1;33m)\u001b[0m\u001b[1;33m\u001b[0m\u001b[0m\n\u001b[0m\u001b[0;32m      4\u001b[0m     \u001b[1;32mexcept\u001b[0m \u001b[1;33m(\u001b[0m\u001b[0mValueError\u001b[0m\u001b[1;33m,\u001b[0m \u001b[0mNotImplementedError\u001b[0m\u001b[1;33m)\u001b[0m \u001b[1;32mas\u001b[0m \u001b[0me\u001b[0m\u001b[1;33m:\u001b[0m\u001b[1;33m\u001b[0m\u001b[0m\n\u001b[0;32m      5\u001b[0m         \u001b[1;32mprint\u001b[0m\u001b[1;33m(\u001b[0m\u001b[0me\u001b[0m\u001b[1;33m.\u001b[0m\u001b[0m__class__\u001b[0m\u001b[1;33m.\u001b[0m\u001b[0m__name__\u001b[0m\u001b[1;33m,\u001b[0m \u001b[1;34m':'\u001b[0m\u001b[1;33m,\u001b[0m \u001b[0me\u001b[0m\u001b[1;33m.\u001b[0m\u001b[0mmessage\u001b[0m\u001b[1;33m)\u001b[0m\u001b[1;33m\u001b[0m\u001b[0m\n",
        "\u001b[1;31mTypeError\u001b[0m: isinstance expected 2 arguments, got 1"
       ]
      },
      {
       "output_type": "stream",
       "stream": "stdout",
       "text": [
        "Ni! Ni! Ni!\n"
       ]
      }
     ],
     "prompt_number": 10
    },
    {
     "cell_type": "markdown",
     "metadata": {},
     "source": [
      "*ImportError* is useful when you want to disable something in your code if a dependency is not found."
     ]
    },
    {
     "cell_type": "code",
     "collapsed": false,
     "input": [
      "try:\n",
      "    import myplottingpackage\n",
      "except ImportError:\n",
      "    print('The required plotting package is not found')\n",
      "    doplot = False\n",
      "else:\n",
      "    doplot = True\n",
      "\n",
      "# some codes to get results, and then...\n",
      "print('Doing science...')\n",
      "result = 42\n",
      "\n",
      "if doplot:\n",
      "    myplottingpackage.fancyplot(result)\n",
      "else:\n",
      "    print('No plotting done.')"
     ],
     "language": "python",
     "metadata": {},
     "outputs": [
      {
       "output_type": "stream",
       "stream": "stdout",
       "text": [
        "The required plotting package is not found\n",
        "Doing science...\n",
        "No plotting done.\n"
       ]
      }
     ],
     "prompt_number": 11
    },
    {
     "cell_type": "markdown",
     "metadata": {},
     "source": [
      "You can also define your own type of Exception.\n",
      "\n",
      "This requires basic understanding of OOP and classes in Python (<http://docs.python.org/2/tutorial/classes.html>)."
     ]
    },
    {
     "cell_type": "code",
     "collapsed": false,
     "input": [
      "# This inherits everything from Exception class\n",
      "class PhotError(Exception):\n",
      "    \"\"\"Photometry errors.\"\"\"\n",
      "    pass"
     ],
     "language": "python",
     "metadata": {},
     "outputs": [],
     "prompt_number": 12
    },
    {
     "cell_type": "code",
     "collapsed": false,
     "input": [
      "raise PhotError('My phot failed. Oh, no!')"
     ],
     "language": "python",
     "metadata": {},
     "outputs": [
      {
       "ename": "PhotError",
       "evalue": "My phot failed. Oh, no!",
       "output_type": "pyerr",
       "traceback": [
        "\u001b[1;31m---------------------------------------------------------------------------\u001b[0m\n\u001b[1;31mPhotError\u001b[0m                                 Traceback (most recent call last)",
        "\u001b[1;32m<ipython-input-13-c605b2a32222>\u001b[0m in \u001b[0;36m<module>\u001b[1;34m()\u001b[0m\n\u001b[1;32m----> 1\u001b[1;33m \u001b[1;32mraise\u001b[0m \u001b[0mPhotError\u001b[0m\u001b[1;33m(\u001b[0m\u001b[1;34m'My phot failed. Oh, no!'\u001b[0m\u001b[1;33m)\u001b[0m\u001b[1;33m\u001b[0m\u001b[0m\n\u001b[0m",
        "\u001b[1;31mPhotError\u001b[0m: My phot failed. Oh, no!"
       ]
      }
     ],
     "prompt_number": 13
    },
    {
     "cell_type": "markdown",
     "metadata": {},
     "source": [
      "In terms of code performance when handling Exceptions, this discussion might be useful: http://stackoverflow.com/questions/5589532/try-catch-or-validation-for-speed"
     ]
    }
   ],
   "metadata": {}
  }
 ]
}