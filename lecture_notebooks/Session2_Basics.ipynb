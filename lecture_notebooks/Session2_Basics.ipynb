{
 "metadata": {
  "name": "Session2_RIJ"
 },
 "nbformat": 3,
 "nbformat_minor": 0,
 "worksheets": [
  {
   "cells": [
    {
     "cell_type": "heading",
     "level": 1,
     "metadata": {},
     "source": [
      "Using pyfits, numpy and matplotlib"
     ]
    },
    {
     "cell_type": "markdown",
     "metadata": {},
     "source": [
      "Pyfits, numpy and matplotlib are the three most useful tools for analyzing astronomical data.  numpy gives Python the ability to do array arithmetic like IDL.  Pyfits allows us to get the data from FITS files into these arrays.  And Matplotlib is a simple-to-use yet powerful plotting package.\n",
      "\n",
      "You should have all three available to you.\n"
     ]
    },
    {
     "cell_type": "code",
     "collapsed": false,
     "input": [
      "import pyfits\n",
      "pyfits.__version__"
     ],
     "language": "python",
     "metadata": {},
     "outputs": [
      {
       "output_type": "pyout",
       "prompt_number": 17,
       "text": [
        "'3.2.dev1932'"
       ]
      }
     ],
     "prompt_number": 17
    },
    {
     "cell_type": "code",
     "collapsed": false,
     "input": [
      "import numpy\n",
      "numpy.version.version"
     ],
     "language": "python",
     "metadata": {},
     "outputs": [
      {
       "output_type": "pyout",
       "prompt_number": 18,
       "text": [
        "'1.6.2'"
       ]
      }
     ],
     "prompt_number": 18
    },
    {
     "cell_type": "code",
     "collapsed": false,
     "input": [
      "pylab.plot()"
     ],
     "language": "python",
     "metadata": {},
     "outputs": [
      {
       "output_type": "pyout",
       "prompt_number": 19,
       "text": [
        "[]"
       ]
      },
      {
       "output_type": "display_data",
       "png": "[encoded data removed]"
      }
     ],
     "prompt_number": 19
    },
    {
     "cell_type": "markdown",
     "metadata": {},
     "source": [
      "The first thing you need to be able to do is get the data from a FITS file and put it into an array.  First let's find a FITS file:"
     ]
    },
    {
     "cell_type": "code",
     "collapsed": false,
     "input": [
      "cd /user/rij/ssb/PythonCourse2012/scientific-python-training-2012/lecture_notebooks"
     ],
     "language": "python",
     "metadata": {},
     "outputs": [
      {
       "output_type": "stream",
       "stream": "stdout",
       "text": [
        "/user/rij/ssb/PythonCourse2012/scientific-python-training-2012/lecture_notebooks\n"
       ]
      }
     ],
     "prompt_number": 63
    },
    {
     "cell_type": "code",
     "collapsed": false,
     "input": [
      "ls"
     ],
     "language": "python",
     "metadata": {},
     "outputs": [
      {
       "output_type": "stream",
       "stream": "stdout",
       "text": [
        "\u001b[0m\u001b[01;32mExposure_Log_FM_Phase5_Latest_29Jul11.csv\u001b[0m*  Session1_Introduction.ipynb\r\n",
        "NRS1_dark88.fits                            Session2_Basics.ipynb\r\n",
        "README.rst                                  Session2_RIJ.ipynb\r\n",
        "\u001b[m"
       ]
      }
     ],
     "prompt_number": 64
    },
    {
     "cell_type": "markdown",
     "metadata": {},
     "source": [
      "We have NRS1_dark88.fits.  We can inspect the contents of this without actually opening it:"
     ]
    },
    {
     "cell_type": "code",
     "collapsed": false,
     "input": [
      "pyfits.info('NRS1_dark88.fits')"
     ],
     "language": "python",
     "metadata": {},
     "outputs": [
      {
       "output_type": "stream",
       "stream": "stdout",
       "text": [
        "Filename: NRS1_dark88.fits\n",
        "No.    Name         Type      Cards   Dimensions   Format\n",
        "0    PRIMARY     PrimaryHDU     200   ()           uint8   \n",
        "1    SCI         ImageHDU        13   (2048, 2048, 88, 1)   int16   \n",
        "2    ERR         ImageHDU        10   (2048, 2048, 88, 1)   float32   \n",
        "3    DQ          ImageHDU        10   (2048, 2048, 88, 1)   int16   \n"
       ]
      }
     ],
     "prompt_number": 22
    },
    {
     "cell_type": "markdown",
     "metadata": {},
     "source": [
      "The most flexible way of opening this file and getting at the data and header information is to use the pyfits open command"
     ]
    },
    {
     "cell_type": "code",
     "collapsed": false,
     "input": [
      "h = pyfits.open('NRS1_dark88.fits')"
     ],
     "language": "python",
     "metadata": {},
     "outputs": [],
     "prompt_number": 23
    },
    {
     "cell_type": "markdown",
     "metadata": {},
     "source": [
      "h is a handle or pointer to all the information in the FITS file."
     ]
    },
    {
     "cell_type": "code",
     "collapsed": false,
     "input": [
      "type(h)"
     ],
     "language": "python",
     "metadata": {},
     "outputs": [
      {
       "output_type": "pyout",
       "prompt_number": 24,
       "text": [
        "pyfits.hdu.hdulist.HDUList"
       ]
      }
     ],
     "prompt_number": 24
    },
    {
     "cell_type": "markdown",
     "metadata": {},
     "source": [
      "pyfits.open returns something called an HDUList, which behaves like a list of header/data units."
     ]
    },
    {
     "cell_type": "code",
     "collapsed": false,
     "input": [
      "h"
     ],
     "language": "python",
     "metadata": {},
     "outputs": [
      {
       "output_type": "pyout",
       "prompt_number": 25,
       "text": [
        "[<pyfits.hdu.image.PrimaryHDU at 0x29b7150>,\n",
        " <pyfits.hdu.image.ImageHDU at 0x29b7450>,\n",
        " <pyfits.hdu.image.ImageHDU at 0x29b7310>,\n",
        " <pyfits.hdu.image.ImageHDU at 0x244bc10>]"
       ]
      }
     ],
     "prompt_number": 25
    },
    {
     "cell_type": "markdown",
     "metadata": {},
     "source": [
      "A list is Python data structure that is an ordered collection of objects, enclosed in square brackets and with its members separated by commas.\n",
      "\n",
      "This list has four members, a PrimaryHDU object and three ImageHDU objects. These are what we saw when we did pyfits.info(), a single Primary HDU and 3 Image HDUs, the SCI, ERR and DQ HDUs.\n",
      "\n",
      "We can refer to the individual members of a list using C-like indexing, starting at 0."
     ]
    },
    {
     "cell_type": "code",
     "collapsed": false,
     "input": [
      "h[0]"
     ],
     "language": "python",
     "metadata": {},
     "outputs": [
      {
       "output_type": "pyout",
       "prompt_number": 26,
       "text": [
        "<pyfits.hdu.image.PrimaryHDU at 0x29b7150>"
       ]
      }
     ],
     "prompt_number": 26
    },
    {
     "cell_type": "code",
     "collapsed": false,
     "input": [
      "h[2]"
     ],
     "language": "python",
     "metadata": {},
     "outputs": [
      {
       "output_type": "pyout",
       "prompt_number": 27,
       "text": [
        "<pyfits.hdu.image.ImageHDU at 0x29b7310>"
       ]
      }
     ],
     "prompt_number": 27
    },
    {
     "cell_type": "code",
     "collapsed": false,
     "input": [
      "h[4]"
     ],
     "language": "python",
     "metadata": {},
     "outputs": [
      {
       "ename": "IndexError",
       "evalue": "list index out of range",
       "output_type": "pyerr",
       "traceback": [
        "\u001b[1;31m---------------------------------------------------------------------------\u001b[0m\n\u001b[1;31mIndexError\u001b[0m                                Traceback (most recent call last)",
        "\u001b[1;32m<ipython-input-28-0b2c789b69f7>\u001b[0m in \u001b[0;36m<module>\u001b[1;34m()\u001b[0m\n\u001b[1;32m----> 1\u001b[1;33m \u001b[0mh\u001b[0m\u001b[1;33m[\u001b[0m\u001b[1;36m4\u001b[0m\u001b[1;33m]\u001b[0m\u001b[1;33m\u001b[0m\u001b[0m\n\u001b[0m",
        "\u001b[1;32m/usr/stsci/pyssgdev/2.7.3.stsci_python/lib/python/pyfits/hdu/hdulist.pyc\u001b[0m in \u001b[0;36m__getitem__\u001b[1;34m(self, key)\u001b[0m\n\u001b[0;32m    174\u001b[0m \u001b[1;33m\u001b[0m\u001b[0m\n\u001b[0;32m    175\u001b[0m         \u001b[0midx\u001b[0m \u001b[1;33m=\u001b[0m \u001b[0mself\u001b[0m\u001b[1;33m.\u001b[0m\u001b[0mindex_of\u001b[0m\u001b[1;33m(\u001b[0m\u001b[0mkey\u001b[0m\u001b[1;33m)\u001b[0m\u001b[1;33m\u001b[0m\u001b[0m\n\u001b[1;32m--> 176\u001b[1;33m         \u001b[1;32mreturn\u001b[0m \u001b[0msuper\u001b[0m\u001b[1;33m(\u001b[0m\u001b[0mHDUList\u001b[0m\u001b[1;33m,\u001b[0m \u001b[0mself\u001b[0m\u001b[1;33m)\u001b[0m\u001b[1;33m.\u001b[0m\u001b[0m__getitem__\u001b[0m\u001b[1;33m(\u001b[0m\u001b[0midx\u001b[0m\u001b[1;33m)\u001b[0m\u001b[1;33m\u001b[0m\u001b[0m\n\u001b[0m\u001b[0;32m    177\u001b[0m \u001b[1;33m\u001b[0m\u001b[0m\n\u001b[0;32m    178\u001b[0m     \u001b[1;32mdef\u001b[0m \u001b[0m__setitem__\u001b[0m\u001b[1;33m(\u001b[0m\u001b[0mself\u001b[0m\u001b[1;33m,\u001b[0m \u001b[0mkey\u001b[0m\u001b[1;33m,\u001b[0m \u001b[0mhdu\u001b[0m\u001b[1;33m)\u001b[0m\u001b[1;33m:\u001b[0m\u001b[1;33m\u001b[0m\u001b[0m\n",
        "\u001b[1;31mIndexError\u001b[0m: list index out of range"
       ]
      }
     ],
     "prompt_number": 28
    },
    {
     "cell_type": "markdown",
     "metadata": {},
     "source": [
      "The index goes from 0 to 3, so if we try to access element #4, Python will give us an error, or 'throw an exception'"
     ]
    },
    {
     "cell_type": "markdown",
     "metadata": {},
     "source": [
      "In this case, we are throwing an IndexError exception, because we tried to access a list element with an index outside the range of indices of h."
     ]
    },
    {
     "cell_type": "markdown",
     "metadata": {},
     "source": [
      "The data we are interested in is in extension #1.  We can't get at it using the 'SCI' name like we can with IRAF, we have to use its index."
     ]
    },
    {
     "cell_type": "code",
     "collapsed": false,
     "input": [
      "cube = h[1].data"
     ],
     "language": "python",
     "metadata": {},
     "outputs": [],
     "prompt_number": 29
    },
    {
     "cell_type": "markdown",
     "metadata": {},
     "source": [
      "Now I have the 4-dimensional pixel data from the SCI extension in the 4-dimension numpy array 'cube'.  This cube has 1 integration of 88 groups, each with a 2048 by 2048 2-dimensional array."
     ]
    },
    {
     "cell_type": "code",
     "collapsed": false,
     "input": [
      "cube.shape"
     ],
     "language": "python",
     "metadata": {},
     "outputs": [
      {
       "output_type": "pyout",
       "prompt_number": 30,
       "text": [
        "(1, 88, 2048, 2048)"
       ]
      }
     ],
     "prompt_number": 30
    },
    {
     "cell_type": "markdown",
     "metadata": {},
     "source": [
      "We can investigate the shape of this array by inspecting the 'shape' attribute of the cube object.  All numpy arrays have a shape attribute.  The ordering is C-like rather than FORTRAN-like, with the most rapidly-varying index last rather than first."
     ]
    },
    {
     "cell_type": "markdown",
     "metadata": {},
     "source": [
      "numpy arrays have many attributes that you can inspect.  Some of these are variables, others are functions.  You can find out all the atributes of an object by using the Python built-in 'dir' function:"
     ]
    },
    {
     "cell_type": "code",
     "collapsed": false,
     "input": [
      "dir(cube)"
     ],
     "language": "python",
     "metadata": {},
     "outputs": [
      {
       "output_type": "pyout",
       "prompt_number": 31,
       "text": [
        "['T',\n",
        " '__abs__',\n",
        " '__add__',\n",
        " '__and__',\n",
        " '__array__',\n",
        " '__array_finalize__',\n",
        " '__array_interface__',\n",
        " '__array_prepare__',\n",
        " '__array_priority__',\n",
        " '__array_struct__',\n",
        " '__array_wrap__',\n",
        " '__class__',\n",
        " '__contains__',\n",
        " '__copy__',\n",
        " '__deepcopy__',\n",
        " '__delattr__',\n",
        " '__delitem__',\n",
        " '__delslice__',\n",
        " '__div__',\n",
        " '__divmod__',\n",
        " '__doc__',\n",
        " '__eq__',\n",
        " '__float__',\n",
        " '__floordiv__',\n",
        " '__format__',\n",
        " '__ge__',\n",
        " '__getattribute__',\n",
        " '__getitem__',\n",
        " '__getslice__',\n",
        " '__gt__',\n",
        " '__hash__',\n",
        " '__hex__',\n",
        " '__iadd__',\n",
        " '__iand__',\n",
        " '__idiv__',\n",
        " '__ifloordiv__',\n",
        " '__ilshift__',\n",
        " '__imod__',\n",
        " '__imul__',\n",
        " '__index__',\n",
        " '__init__',\n",
        " '__int__',\n",
        " '__invert__',\n",
        " '__ior__',\n",
        " '__ipow__',\n",
        " '__irshift__',\n",
        " '__isub__',\n",
        " '__iter__',\n",
        " '__itruediv__',\n",
        " '__ixor__',\n",
        " '__le__',\n",
        " '__len__',\n",
        " '__long__',\n",
        " '__lshift__',\n",
        " '__lt__',\n",
        " '__mod__',\n",
        " '__mul__',\n",
        " '__ne__',\n",
        " '__neg__',\n",
        " '__new__',\n",
        " '__nonzero__',\n",
        " '__oct__',\n",
        " '__or__',\n",
        " '__pos__',\n",
        " '__pow__',\n",
        " '__radd__',\n",
        " '__rand__',\n",
        " '__rdiv__',\n",
        " '__rdivmod__',\n",
        " '__reduce__',\n",
        " '__reduce_ex__',\n",
        " '__repr__',\n",
        " '__rfloordiv__',\n",
        " '__rlshift__',\n",
        " '__rmod__',\n",
        " '__rmul__',\n",
        " '__ror__',\n",
        " '__rpow__',\n",
        " '__rrshift__',\n",
        " '__rshift__',\n",
        " '__rsub__',\n",
        " '__rtruediv__',\n",
        " '__rxor__',\n",
        " '__setattr__',\n",
        " '__setitem__',\n",
        " '__setslice__',\n",
        " '__setstate__',\n",
        " '__sizeof__',\n",
        " '__str__',\n",
        " '__sub__',\n",
        " '__subclasshook__',\n",
        " '__truediv__',\n",
        " '__xor__',\n",
        " 'all',\n",
        " 'any',\n",
        " 'argmax',\n",
        " 'argmin',\n",
        " 'argsort',\n",
        " 'astype',\n",
        " 'base',\n",
        " 'byteswap',\n",
        " 'choose',\n",
        " 'clip',\n",
        " 'compress',\n",
        " 'conj',\n",
        " 'conjugate',\n",
        " 'copy',\n",
        " 'ctypes',\n",
        " 'cumprod',\n",
        " 'cumsum',\n",
        " 'data',\n",
        " 'diagonal',\n",
        " 'dot',\n",
        " 'dtype',\n",
        " 'dump',\n",
        " 'dumps',\n",
        " 'fill',\n",
        " 'flags',\n",
        " 'flat',\n",
        " 'flatten',\n",
        " 'getfield',\n",
        " 'imag',\n",
        " 'item',\n",
        " 'itemset',\n",
        " 'itemsize',\n",
        " 'max',\n",
        " 'mean',\n",
        " 'min',\n",
        " 'nbytes',\n",
        " 'ndim',\n",
        " 'newbyteorder',\n",
        " 'nonzero',\n",
        " 'prod',\n",
        " 'ptp',\n",
        " 'put',\n",
        " 'ravel',\n",
        " 'real',\n",
        " 'repeat',\n",
        " 'reshape',\n",
        " 'resize',\n",
        " 'round',\n",
        " 'searchsorted',\n",
        " 'setasflat',\n",
        " 'setfield',\n",
        " 'setflags',\n",
        " 'shape',\n",
        " 'size',\n",
        " 'sort',\n",
        " 'squeeze',\n",
        " 'std',\n",
        " 'strides',\n",
        " 'sum',\n",
        " 'swapaxes',\n",
        " 'take',\n",
        " 'tofile',\n",
        " 'tolist',\n",
        " 'tostring',\n",
        " 'trace',\n",
        " 'transpose',\n",
        " 'var',\n",
        " 'view']"
       ]
      }
     ],
     "prompt_number": 31
    },
    {
     "cell_type": "markdown",
     "metadata": {},
     "source": [
      "Note that it tells you ALL of the attributes of the cube object, including those preceded by one or more underscores, which are conventionally meant to be 'private'."
     ]
    },
    {
     "cell_type": "markdown",
     "metadata": {},
     "source": [
      "IPython lets you do this more simply by just hitting the TAB key after typing cube and then a period.  You only see the public attributes, not the private ones."
     ]
    },
    {
     "cell_type": "code",
     "collapsed": true,
     "input": [
      "cube."
     ],
     "language": "python",
     "metadata": {},
     "outputs": [
      {
       "ename": "SyntaxError",
       "evalue": "invalid syntax (<ipython-input-32-82ef5b289c03>, line 1)",
       "output_type": "pyerr",
       "traceback": [
        "\u001b[1;36m  File \u001b[1;32m\"<ipython-input-32-82ef5b289c03>\"\u001b[1;36m, line \u001b[1;32m1\u001b[0m\n\u001b[1;33m    cube.\u001b[0m\n\u001b[1;37m         ^\u001b[0m\n\u001b[1;31mSyntaxError\u001b[0m\u001b[1;31m:\u001b[0m invalid syntax\n"
       ]
      }
     ],
     "prompt_number": 32
    },
    {
     "cell_type": "markdown",
     "metadata": {},
     "source": [
      "Let's say we want to plot the ramp for the pixel in column 200 and row 100.  We specify what to plot using the following notation:"
     ]
    },
    {
     "cell_type": "code",
     "collapsed": false,
     "input": [
      "cube[0,:,99,199]"
     ],
     "language": "python",
     "metadata": {},
     "outputs": [
      {
       "output_type": "pyout",
       "prompt_number": 33,
       "text": [
        "array([ 16792.,  16812.,  16776.,  16804.,  16786.,  16781.,  16729.,\n",
        "        16682.,  16744.,  16743.,  16727.,  16793.,  16742.,  16736.,\n",
        "        16743.,  16813.,  16761.,  16785.,  16732.,  16787.,  16752.,\n",
        "        16743.,  16782.,  16689.,  16801.,  16809.,  16763.,  16747.,\n",
        "        16729.,  16779.,  16785.,  16770.,  16846.,  16757.,  16781.,\n",
        "        16736.,  16782.,  16803.,  16858.,  16749.,  16780.,  16761.,\n",
        "        16739.,  16773.,  16771.,  16769.,  16719.,  16765.,  16812.,\n",
        "        16783.,  16793.,  16791.,  16789.,  16821.,  16858.,  16848.,\n",
        "        16794.,  16796.,  16858.,  16825.,  16864.,  16847.,  16885.,\n",
        "        16887.,  16821.,  16782.,  16843.,  16796.,  16840.,  16796.,\n",
        "        16808.,  16837.,  16862.,  16848.,  16828.,  16830.,  16807.,\n",
        "        16875.,  16812.,  16905.,  16824.,  16848.,  16843.,  16828.,\n",
        "        16897.,  16828.,  16831.,  16856.], dtype=float32)"
       ]
      }
     ],
     "prompt_number": 33
    },
    {
     "cell_type": "markdown",
     "metadata": {},
     "source": [
      "Here's what you need to notice:\n",
      "\n",
      "- we put the indices within square brackets\n",
      "- they go in the order [integration, group, row, column]\n",
      "- when you want to refer to ALL values of an index, use a colon (:)\n",
      "- Since Python indices are zero-indexed, we need to subtract 1 from the number of the row or column to get its index\n"
     ]
    },
    {
     "cell_type": "code",
     "collapsed": false,
     "input": [
      "pylab.plot(cube[0,:,99,199])"
     ],
     "language": "python",
     "metadata": {},
     "outputs": [
      {
       "output_type": "pyout",
       "prompt_number": 34,
       "text": [
        "[<matplotlib.lines.Line2D at 0x29cc590>]"
       ]
      },
      {
       "output_type": "display_data",
       "png": "[encoded data removed]"
      }
     ],
     "prompt_number": 34
    },
    {
     "cell_type": "markdown",
     "metadata": {},
     "source": [
      "We can overplot the ramp for the pixel to the right of this:"
     ]
    },
    {
     "cell_type": "code",
     "collapsed": false,
     "input": [
      "pylab.plot(cube[0,:,99,200])"
     ],
     "language": "python",
     "metadata": {},
     "outputs": [
      {
       "output_type": "pyout",
       "prompt_number": 37,
       "text": [
        "[<matplotlib.lines.Line2D at 0x2ddb690>]"
       ]
      },
      {
       "output_type": "display_data",
       "png": "[encoded data removed]"
      }
     ],
     "prompt_number": 37
    },
    {
     "cell_type": "markdown",
     "metadata": {},
     "source": [
      "As you can see, the ramps have almost identical bumps and wiggles, but are vertically offset by about 600 counts. There is a lot of high-frequency (i.e. pixel-to-pixel) structure in the reset - 600 counts from one pixel to the next.  This makes it very hard to see low-signal detail in the raw ramps even if you look at the last one which has the most signal.  To alleviate this, we can subtract the first read from every group:"
     ]
    },
    {
     "cell_type": "code",
     "collapsed": false,
     "input": [
      "newcube = cube - cube[0,0]"
     ],
     "language": "python",
     "metadata": {},
     "outputs": [],
     "prompt_number": 38
    },
    {
     "cell_type": "markdown",
     "metadata": {},
     "source": [
      "Notice how we didn't need to specify any : or * to tell numpy to use all the groups, rows and columns.  Also notice that numpy handles the fact that 'cube' and 'cube[0,0]' have different shapes.  This is a feature of numpy known as 'broadcasting'.  Numpy looks at the two operands of the '-' operator.  cube has a shape of [1,88,2048,2048], while cube[0,0] has a shape of [2048,2048].  To make the operation possible, numpy 'broadcasts' the second operand to be [1, 88, 2048, 2048] by replicating it as needed to make the shapes the same."
     ]
    },
    {
     "cell_type": "code",
     "collapsed": false,
     "input": [
      "newcube.shape"
     ],
     "language": "python",
     "metadata": {},
     "outputs": [
      {
       "output_type": "pyout",
       "prompt_number": 39,
       "text": [
        "(1, 88, 2048, 2048)"
       ]
      }
     ],
     "prompt_number": 39
    },
    {
     "cell_type": "code",
     "collapsed": false,
     "input": [
      "plot(newcube[0,:,99,199])"
     ],
     "language": "python",
     "metadata": {},
     "outputs": [
      {
       "output_type": "pyout",
       "prompt_number": 40,
       "text": [
        "[<matplotlib.lines.Line2D at 0x300e310>]"
       ]
      },
      {
       "output_type": "display_data",
       "png": "[encoded data removed]"
      }
     ],
     "prompt_number": 40
    },
    {
     "cell_type": "markdown",
     "metadata": {},
     "source": [
      "That's no good, pylab overplots by default.  We can fix this by using the 'hold' keyword argument:"
     ]
    },
    {
     "cell_type": "code",
     "collapsed": false,
     "input": [
      "plot(newcube[0,:,99,199],hold=False)"
     ],
     "language": "python",
     "metadata": {},
     "outputs": [
      {
       "output_type": "pyout",
       "prompt_number": 41,
       "text": [
        "[<matplotlib.lines.Line2D at 0x302abd0>]"
       ]
      },
      {
       "output_type": "display_data",
       "png": "[encoded data removed]"
      }
     ],
     "prompt_number": 41
    },
    {
     "cell_type": "code",
     "collapsed": false,
     "input": [
      "plot(newcube[0,:,99,199])\n",
      "plot(newcube[0,:,99,200])"
     ],
     "language": "python",
     "metadata": {},
     "outputs": [
      {
       "output_type": "pyout",
       "prompt_number": 45,
       "text": [
        "[<matplotlib.lines.Line2D at 0x3012d50>]"
       ]
      },
      {
       "output_type": "display_data",
       "png": "[encoded data removed]"
      }
     ],
     "prompt_number": 45
    },
    {
     "cell_type": "markdown",
     "metadata": {},
     "source": [
      "Now you can see how well the ramps sit over the top of each other. The bumps and wiggles can actually be taken out for the most part by using the reference pixels."
     ]
    },
    {
     "cell_type": "markdown",
     "metadata": {},
     "source": [
      "Most of what you'll do in Matplotlib will be using the pylab interface, which is where the 'plot' command lives.  There is a point of confusion in the documentation, however, in that the official name of this interface is pyplot.  Most people seem to still use pylab and even the documentation to pyplot refers to pylab all over the place.  The point is, to find out more about the plot command, the best thing to google is the pyplot tutorial.\n",
      "\n",
      "http://matplotlib.org/users/pyplot_tutorial.html\n",
      "\n",
      "There you will find out that you can add a title and axis labels by doing something like this:"
     ]
    },
    {
     "cell_type": "code",
     "collapsed": false,
     "input": [
      "plot(newcube[0,:,99,199])\n",
      "plot(newcube[0,:,99,200])\n",
      "xlabel('Read number')\n",
      "ylabel('Counts')\n",
      "title('NIRSpec dark ramp')"
     ],
     "language": "python",
     "metadata": {},
     "outputs": [
      {
       "output_type": "pyout",
       "prompt_number": 44,
       "text": [
        "<matplotlib.text.Text at 0x36b9450>"
       ]
      },
      {
       "output_type": "display_data",
       "png": "[encoded data removed]"
      }
     ],
     "prompt_number": 44
    },
    {
     "cell_type": "markdown",
     "metadata": {},
     "source": [
      "You can change the color and change to plotting symbols using something like this:"
     ]
    },
    {
     "cell_type": "code",
     "collapsed": false,
     "input": [
      "plot(newcube[0,:,99,199],'r+',hold=False)"
     ],
     "language": "python",
     "metadata": {},
     "outputs": [
      {
       "output_type": "pyout",
       "prompt_number": 46,
       "text": [
        "[<matplotlib.lines.Line2D at 0x38e3b50>]"
       ]
      },
      {
       "output_type": "display_data",
       "png": "[encoded data removed]"
      }
     ],
     "prompt_number": 46
    },
    {
     "cell_type": "markdown",
     "metadata": {},
     "source": [
      "This plots each point as a red + symbol.  Change the letter to one of the following:\n",
      "\n",
      "- b = blue\n",
      "- g = green\n",
      "- r = red\n",
      "- c = cyan\n",
      "- m = magenta\n",
      "- y = yellow\n",
      "- k = black\n",
      "- w = white\n",
      "\n",
      "look at the documentation for the pyplot plot command to find out what options exist for choosing the plot style\n",
      "\n",
      "http://matplotlib.org/api/pyplot_api.html#matplotlib.pyplot.plot"
     ]
    },
    {
     "cell_type": "heading",
     "level": 2,
     "metadata": {},
     "source": [
      "A Real-World Example"
     ]
    },
    {
     "cell_type": "markdown",
     "metadata": {},
     "source": [
      "We can do a very simple reference pixel correction using some very basic python and numpy.  The reference pixel correction is done by calculating the average signal in the reference pixels for a given amplifier and subtracting this signal from each pixel that is read through this amplifier.\n",
      "\n",
      "First we need to identify where the reference pixels are.  On our NRS1 dark exposure, the reference pixels are on the left and right hand edges, in columns 1-4 and columns 2045-2048.  To make this simple, we'll only use the reference pixels on the left hand edge, in columns 1-4.  Also, we'll only consider amplifier A, which encompasses rows 1-512.\n",
      "\n",
      "We specify this region using the following numpy index notation:\n"
     ]
    },
    {
     "cell_type": "code",
     "collapsed": false,
     "input": [
      "ref = newcube[:,:,0:512,0:4]\n",
      "ref.shape"
     ],
     "language": "python",
     "metadata": {},
     "outputs": [
      {
       "output_type": "pyout",
       "prompt_number": 47,
       "text": [
        "(1, 88, 512, 4)"
       ]
      }
     ],
     "prompt_number": 47
    },
    {
     "cell_type": "markdown",
     "metadata": {},
     "source": [
      "Now we need to take the mean of the reference pixels in each plane.  We can do this by looping over all the groups and putting the result of each group into a 1-d array of mean reference pixel values.  First off, we have to create an empty array of the right size:"
     ]
    },
    {
     "cell_type": "code",
     "collapsed": false,
     "input": [
      "meanref = np.zeros(88)"
     ],
     "language": "python",
     "metadata": {},
     "outputs": [],
     "prompt_number": 48
    },
    {
     "cell_type": "markdown",
     "metadata": {},
     "source": [
      "Now we need to loop over the groups.  We use the 'range' builtin function in Python to give us a list of all the integers we need, rather like IDL's 'indgen':"
     ]
    },
    {
     "cell_type": "code",
     "collapsed": false,
     "input": [
      "for i in range(88):\n",
      "    meanref[i] = newcube[0,i,0:512,0:4].mean()\n",
      "    \n",
      "print meanref"
     ],
     "language": "python",
     "metadata": {},
     "outputs": [
      {
       "output_type": "stream",
       "stream": "stdout",
       "text": [
        "[   0.           24.65722656  -24.51464844   -2.08642578  -20.03125\n",
        "  -21.64257812  -74.33496094  -94.28515625  -35.43457031  -63.31298828\n",
        "  -77.56152344   -8.43164062  -43.94628906  -37.08154297  -46.32080078\n",
        "    8.484375    -42.23730469  -17.22265625  -69.10791016  -19.24853516\n",
        "  -59.98193359  -40.62988281  -28.23632812 -109.15966797  -15.37841797\n",
        "   -2.18310547  -42.87646484  -40.96875     -77.06445312  -38.67578125\n",
        "  -31.37744141  -35.89941406   48.20117188  -48.14794922  -28.07128906\n",
        "  -66.86328125  -22.19824219   -3.52294922   36.96337891  -41.18994141\n",
        "  -29.60253906  -44.91992188  -57.73974609  -43.97216797  -19.13671875\n",
        "  -22.32470703  -72.12548828  -41.38818359   -0.48681641  -19.09277344\n",
        "   -7.5234375    -9.78564453   -1.14013672   10.33300781   49.76855469\n",
        "   31.59765625   -1.86621094   -9.17626953   52.17382812   21.48583984\n",
        "   43.95703125   38.25048828   66.29443359   83.828125      1.34179688\n",
        "  -11.31884766   36.12792969   -2.66845703   34.83886719  -21.453125\n",
        "   -7.23632812   43.56640625   48.33105469   29.92919922   14.27783203\n",
        "   13.31494141    0.90380859   63.53857422   -5.58007812   77.22021484\n",
        "   15.73339844   21.8125       17.17529297   28.68212891   75.78710938\n",
        "    7.51757812   16.97949219   27.18505859]\n"
       ]
      }
     ],
     "prompt_number": 49
    },
    {
     "cell_type": "markdown",
     "metadata": {},
     "source": [
      "Now we can overplot the signal from pixel (200, 100) and the reference pixel signal:"
     ]
    },
    {
     "cell_type": "code",
     "collapsed": false,
     "input": [
      "clf()\n",
      "plot(newcube[0,:,99,199])\n",
      "plot(meanref)"
     ],
     "language": "python",
     "metadata": {},
     "outputs": [
      {
       "output_type": "pyout",
       "prompt_number": 50,
       "text": [
        "[<matplotlib.lines.Line2D at 0x3d8edd0>]"
       ]
      },
      {
       "output_type": "display_data",
       "png": "[encoded data removed]"
      }
     ],
     "prompt_number": 50
    },
    {
     "cell_type": "markdown",
     "metadata": {},
     "source": [
      "Pretty close, aren't they?  Now lets plot the difference:"
     ]
    },
    {
     "cell_type": "code",
     "collapsed": false,
     "input": [
      "plot(newcube[0,:,99,199])\n",
      "plot(meanref)\n",
      "plot(newcube[0,:,99,199]-meanref)"
     ],
     "language": "python",
     "metadata": {},
     "outputs": [
      {
       "output_type": "pyout",
       "prompt_number": 52,
       "text": [
        "[<matplotlib.lines.Line2D at 0x4330e90>]"
       ]
      },
      {
       "output_type": "display_data",
       "png": "[encoded data removed]"
      }
     ],
     "prompt_number": 52
    },
    {
     "cell_type": "heading",
     "level": 2,
     "metadata": {},
     "source": [
      "Back to pyfits"
     ]
    },
    {
     "cell_type": "markdown",
     "metadata": {},
     "source": [
      "PyFITS allows you to do a lot more than just reading the pixel the data.  You can examine the headers:"
     ]
    },
    {
     "cell_type": "code",
     "collapsed": true,
     "input": [
      "h[0].header"
     ],
     "language": "python",
     "metadata": {},
     "outputs": [
      {
       "output_type": "pyout",
       "prompt_number": 53,
       "text": [
        "SIMPLE  =                    T / Data conform to FITS standard                  \n",
        "BITPIX  =                    8 / Bits per data value                            \n",
        "NAXIS   =                    0 / Number of data array dimensions                \n",
        "EXTEND  =                    T / File may contain standard extensions           \n",
        "NEXTEND =                    3 / Number of standard extensions                  \n",
        "                                                                                \n",
        "TELESCOP= 'JWST    '           / Telescope used to acquire data                 \n",
        "INSTRUME= 'NIRSPEC '           / Identifier for instrument used to acquire data \n",
        "RADESYS = 'ICRS    '           / Reference frame of equatorial or ecliptic coord\n",
        "                                                                                \n",
        "DATE    = '2012-11-07T15:10:05' / [yyyy-mm-ddThh:mm:ss.ssssss] UTC date of file \n",
        "ORIGIN  = 'STScI   '           / Institution responsible for creating FITS file \n",
        "FILENAME= 'jw00020001001_01101_00001_NRS1_uncal.fits' / Name of file            \n",
        "FILETYPE= 'UNCALIBRATED'       / Type of data found in file                     \n",
        "DPSW_VER= '0.1     '           / Data processing software version number        \n",
        "        Observation identifiers                                                 \n",
        "                                                                                \n",
        "                                                                                \n",
        "DATE-OBS= '2011-02-28T21:30:03.583' / [yyyy-mm-ddThh:mm:ss.sss] UTC date at star\n",
        "OBS_ID  = 'FILL-DET-DARK-SHORT-01' / full programmatic observation identifier   \n",
        "VISIT_ID= '' / visit identifier                                                 \n",
        "PROGRAM = '00020   '           / program number                                 \n",
        "OBSERVTN= '001     '           / observation number                             \n",
        "VISIT   = '001     '           / visit number                                   \n",
        "VISITGRP= '01      '           / visit group identifier                         \n",
        "SEQ_ID  = '1       '           / parallel sequence identifier                   \n",
        "ACT_ID  = '01      '           / activity identifier                            \n",
        "EXPOSURE= '00001   '           / exposure request number within a single activit\n",
        "        Exposure parameters                                                     \n",
        "                                                                                \n",
        "                                                                                \n",
        "DETECTOR= 'NRS1    '           / name of detector used to acquire data          \n",
        "NINTS   =                    1 / number of integrations within exposure         \n",
        "NGROUPS =                   88 / number of groups within integration            \n",
        "ZEROFRAM=                    F / T if a zero frame was read separately          \n",
        "READPATT= 'NRSRAPID'           / readout pattern                                \n",
        "DATAPROB=                    0 / T if science telemetry indicated any problems w\n",
        "        Program information                                                     \n",
        "                                                                                \n",
        "                                                                                \n",
        "TITLE   = 'N/A     '           / proposal title                                 \n",
        "PI_NAME = 'UNKNOWN '           / name of principal investigator (last, first, mi\n",
        "CATEGORY= 'N/A     '           / program category                               \n",
        "SUBCAT  = 'N/A     '           / program sub-category                           \n",
        "SCICAT  = 'N/A     '           / science category assigned during the TAC proces\n",
        "CONT_ID = 'N/A     '           / continuation of the specified previous program \n",
        "        Observation information                                                 \n",
        "                                                                                \n",
        "                                                                                \n",
        "TEMPLATE= 'N/A     '           / proposal instruction template used to specify o\n",
        "OBSLABEL= '#TODO   '           / proposer label for observation                 \n",
        "        Visit information                                                       \n",
        "                                                                                \n",
        "                                                                                \n",
        "VISITYPE= '#TODO   '           / type of visit (prime or parallel)              \n",
        "VSTSTART= '#TODO   '           / UTC visit start time                           \n",
        "WFSVISIT= '#TODO   '           / wavefront sensing and control visit indicator  \n",
        "NEXPOSUR= '#TODO   '           / total number of exposures in visit             \n",
        "INTARGET= '#TODO   '           / T if at least one exposure in visit is internal\n",
        "EXTARGET= '#TODO   '           / T if at least one exposure in visit is external\n",
        "TARGOOPP= '#TODO   '           / visit scheduled as target of opportunity (T/F) \n",
        "        Exposure information                                                    \n",
        "                                                                                \n",
        "                                                                                \n",
        "PNTG_SEQ= '#TODO   '           / pointing sequence number                       \n",
        "EXPCOUNT= '#TODO   '           / count of the exposures in visit                \n",
        "EXP_TYPE= '#TODO   '           / type of data in exposure                       \n",
        "        Target information                                                      \n",
        "                                                                                \n",
        "                                                                                \n",
        "TARGPROP= 'UNKNOWN '           / proposer's name for the target                 \n",
        "TARGNAME= 'N/A     '           / standard astronomical catalog name for the targ\n",
        "TARGTYPE= 'N/A     '           / fixed target, moving target, or generic target \n",
        "TARG_RA =                  0.0 / target RA computed at time of exposure         \n",
        "TARGURA = 'N/A     '           / target RA uncertainty computed at time of expos\n",
        "TARG_DEC=                  0.0 / target DEC computed at time of exposure        \n",
        "TARRUDEC= 'N/A     '           / target Dec uncertainty computed at time of expo\n",
        "PROP_RA = 'N/A     '           / proposer specified RA for the target           \n",
        "PROP_DEC= 'N/A     '           / proposer specified Dec for the target          \n",
        "PROPEPOC= 'N/A     '           / proposer specified epoch for RA and Dec        \n",
        "        Exposure times                                                          \n",
        "                                                                                \n",
        "                                                                                \n",
        "EXPSTART= '2011-02-28T21:30:03.583' / [Modified Julian Date] UTC exposure start \n",
        "EXPMID  = '#TODO   '           / [Modified Julian Date] UTC exposure mid time   \n",
        "EXPEND  = '2011-02-28T21:45:48.417' / [Modified Julian Date] UTC exposure end ti\n",
        "        Exposure time parameters                                                \n",
        "                                                                                \n",
        "                                                                                \n",
        "NSAMPLES=                    1 / number of A/D samples per pixel                \n",
        "NFRAMES =                    1 / number of frames in group                      \n",
        "GROUPGAP=                    0 / number of frames dropped between groups        \n",
        "TSAMPLE =                   10 / delta time between samples in microseconds     \n",
        "NRESET  = '#TODO   '           / number of resets between integrations in an exp\n",
        "NRSTSTRT= '#TODO   '           / number of extra resets at start of exposure    \n",
        "TFRAME  =             10.73676 / [seconds] time between frames                  \n",
        "TGROUP  =             10.73676 / [seconds] time between groups                  \n",
        "EFFINTTM=            934.09812 / [seconds] effective integration time           \n",
        "EFFEXPTM= '' / [seconds] effective exposure time                                \n",
        "CHRGTIME= '#TODO   '           / [seconds] charge accumulation time             \n",
        "DURATION= '#TODO   '           / [seconds] total duration of exposure           \n",
        "        subarray parameters                                                     \n",
        "                                                                                \n",
        "                                                                                \n",
        "SUBARRAY=                    F / name of subarray used                          \n",
        "SUBXSTRT=                    1 / starting pixel number in the SIAS x direction  \n",
        "SUBXSIZE=                 2048 / number of pixels in the SIAS x direction       \n",
        "SUBYSTRT=                    1 / starting pixel number in the SIAS y direction  \n",
        "SUBYSIZE=                 2048 / number of pixels in the SIAS y direction       \n",
        "NXLIGHT = '#TODO   '           / number of light sensitive x values (columns)   \n",
        "        NIRSpec configuration (NIRSpec only)                                    \n",
        "                                                                                \n",
        "                                                                                \n",
        "FILTER  = 'OPAQUE  '           / name of the filter element used                \n",
        "GRATING = 'G140H   '           / name of the grating element used               \n",
        "FXD_SLIT= '#TODO   '           / name of fixed slit aperture used               \n",
        "MSASTATE= '#TODO   '           / state of MSA: all open, all closed, configured \n",
        "FOCUSPOS= '#TODO   '           / [mm] focus position for NIRSpec                \n",
        "        NIRSpec MSA supporting files (NIRSpec MSA only)                         \n",
        "                                                                                \n",
        "                                                                                \n",
        "MSACONFG= 'N/A     '           / MSA configuration file name                    \n",
        "        lamp configuration                                                      \n",
        "                                                                                \n",
        "                                                                                \n",
        "LAMP    = 'CLOSE   '           / internal lamp state                            \n",
        "        Guide star information                                                  \n",
        "                                                                                \n",
        "GS_ORDER= 'N/A     '           / index of guide star within list of selected gui\n",
        "GSSTRTTM= 'N/A     '           / UTC start time of guide star acquisition activi\n",
        "GSENDTIM= 'N/A     '           / UTC end time of guide star acquisition activity\n",
        "GDSTARID= 'N/A     '           / guide star identifier                          \n",
        "GS_RA   = 'N/A     '           / guide star right ascension                     \n",
        "GS_DEC  = 'N/A     '           / guide star declination                         \n",
        "GSURA   = 'N/A     '           / guide star right ascension uncertainty         \n",
        "GSUDEC  = 'N/A     '           / guide star declination uncertainty             \n",
        "GS_MAG  = 'N/A     '           / guide star magnitude in FGS detector           \n",
        "GSUMAG  = 'N/A     '           / guide star magnitude uncertainty               \n",
        "PCS_MODE= 'N/A     '           / Pointing Control System mode                   \n",
        "GSCENTX = 'N/A     '           / guide star centroid x position in ideal coordin\n",
        "GSCENTY = 'N/A     '           / guide star centroid y position in ideal coordin\n",
        "JITTERMS= 'N/A     '           / [arcsec] RMS jitter over the exposure          \n",
        "        JWST ephemeris information                                              \n",
        "                                                                                \n",
        "                                                                                \n",
        "COORDSYS= 'N/A     '           / ephemeris coordinate system                    \n",
        "EPH_TIME= 'N/A     '           / [sec] UTC time from ephemeris start time       \n",
        "JWST_X  = 'N/A     '           / [km] X spatial coordinate of JWST              \n",
        "JWST_Y  = 'N/A     '           / [km] Y spatial coordinate of JWST              \n",
        "JWST_Z  = 'N/A     '           / [km] Z spatial coordinate of JWST              \n",
        "JWST_DX = 'N/A     '           / [km/sec] X component of JWST velocity vector   \n",
        "JWST_DY = 'N/A     '           / [km/sec] Y component of JWST velocity vector   \n",
        "JWST_DZ = 'N/A     '           / [km/sec] Z component of JWST velocity vector   \n",
        "        Spacecraft pointing information                                         \n",
        "                                                                                \n",
        "                                                                                \n",
        "                                                                                \n",
        "PA_V3   = 'N/A     '           / [deg] position angle of V3-axis of JWST        \n",
        "RA_V1   = 'N/A     '           / [deg] RA of telescope V1 axis                  \n",
        "DEC_V1  = 'N/A     '           / [deg] Dec of telescope V1 axis                 \n",
        "        Aperture pointing information                                           \n",
        "                                                                                \n",
        "                                                                                \n",
        "APERNAME= '#TODO   '           / mnemonic for PDB science aperture used         \n",
        "PA_APER = '#TODO   '           / [deg] position angle of aperture used with targ\n",
        "        WCS parameters                                                          \n",
        "                                                                                \n",
        "                                                                                \n",
        "WCSAXES =                    2 / number of World Coordinate System axes         \n",
        "CRPIX1  = 'N/A     '           / x-coordinate of the reference pixel            \n",
        "CRPIX2  = 'N/A     '           / y-coordinate of the reference pixel            \n",
        "CRVAL1  = 'N/A     '           / [degrees] right ascension value at the referenc\n",
        "CRVAL2  = 'N/A     '           / [degrees] declination value at the reference pi\n",
        "CTYPE1  = 'RA---TAN'           / first axis coordinate type                     \n",
        "CTYPE2  = 'DEC--TAN'           / second axis coordinate type                    \n",
        "CDELT1  = 'N/A     '           / [degrees] increment per pixel, increasing eastw\n",
        "CDELT2  = 'N/A     '           / [degrees] increment per pixel, increasing north\n",
        "PC1_1   = 'N/A     '           / linear transformation matrix element cos(theta)\n",
        "PC1_2   = 'N/A     '           / linear transformation matrix element -sin(theta\n",
        "PC2_1   = 'N/A     '           / linear transformation matrix element sin(theta)\n",
        "PC2_2   = 'N/A     '           / linear transformation matrix element cos(theta)\n",
        "S_REGION= 'N/A     '           / spatial extent of the observation              \n",
        "        Velocity aberration correction                                          \n",
        "                                                                                \n",
        "DVA_RA  = 'N/A     '           / [radians] velocity aberration correction RA off\n",
        "DVA_DEC = 'N/A     '           / [radians] velocity aberration correction Dec of\n",
        "VA_SCALE= 'N/A     '           / velocity aberration scale factor               \n",
        "        Time related keywords                                                   \n",
        "                                                                                \n",
        "                                                                                \n",
        "BARTDELT= 'N/A     '           / [sec] calculated Barycentric time correction fr\n",
        "BSTRTIME= 'N/A     '           / [days] Solar System Barycentric exposure start \n",
        "BENDTIME= 'N/A     '           / [days] Solar System Barycentric exposure end ti\n",
        "BMIDTIME= 'N/A     '           / [days] Solar System Barycentric exposure mid ti\n",
        "HELIDELT= 'N/A     '           / [days] calculated Heliocentric time correction \n",
        "HSTRTIME= 'N/A     '           / [days] Heliocentric exposure start time in MJD \n",
        "HENDTIME= 'N/A     '           / [days] Heliocentric exposure end time in MJD   \n",
        "HMIDTIME= 'N/A     '           / [days] Heliocentric exposure mid time in MJD   \n",
        "                                                                                \n",
        "                                                                                "
       ]
      }
     ],
     "prompt_number": 53
    },
    {
     "cell_type": "markdown",
     "metadata": {},
     "source": [
      "You can change individual header entries:"
     ]
    },
    {
     "cell_type": "code",
     "collapsed": false,
     "input": [
      "h[0].header['HMIDTIME'] = 0.0"
     ],
     "language": "python",
     "metadata": {},
     "outputs": [],
     "prompt_number": 54
    },
    {
     "cell_type": "code",
     "collapsed": false,
     "input": [
      "h[0].header['HMIDTIME']"
     ],
     "language": "python",
     "metadata": {},
     "outputs": [
      {
       "output_type": "pyout",
       "prompt_number": 55,
       "text": [
        "0.0"
       ]
      }
     ],
     "prompt_number": 55
    },
    {
     "cell_type": "markdown",
     "metadata": {},
     "source": [
      "But nothing changes until you write out the data"
     ]
    },
    {
     "cell_type": "code",
     "collapsed": false,
     "input": [
      "h.writeto('newversion.fits')"
     ],
     "language": "python",
     "metadata": {},
     "outputs": [
      {
       "ename": "IOError",
       "evalue": "File 'newversion.fits' already exists.",
       "output_type": "pyerr",
       "traceback": [
        "\u001b[1;31m---------------------------------------------------------------------------\u001b[0m\n\u001b[1;31mIOError\u001b[0m                                   Traceback (most recent call last)",
        "\u001b[1;32m<ipython-input-56-ecf8733d23fd>\u001b[0m in \u001b[0;36m<module>\u001b[1;34m()\u001b[0m\n\u001b[1;32m----> 1\u001b[1;33m \u001b[0mh\u001b[0m\u001b[1;33m.\u001b[0m\u001b[0mwriteto\u001b[0m\u001b[1;33m(\u001b[0m\u001b[1;34m'newversion.fits'\u001b[0m\u001b[1;33m)\u001b[0m\u001b[1;33m\u001b[0m\u001b[0m\n\u001b[0m",
        "\u001b[1;32m/usr/stsci/pyssgdev/2.7.3.stsci_python/lib/python/pyfits/hdu/hdulist.pyc\u001b[0m in \u001b[0;36mwriteto\u001b[1;34m(self, fileobj, output_verify, clobber, checksum)\u001b[0m\n\u001b[0;32m    651\u001b[0m                     \u001b[0mos\u001b[0m\u001b[1;33m.\u001b[0m\u001b[0mremove\u001b[0m\u001b[1;33m(\u001b[0m\u001b[0mfilename\u001b[0m\u001b[1;33m)\u001b[0m\u001b[1;33m\u001b[0m\u001b[0m\n\u001b[0;32m    652\u001b[0m                 \u001b[1;32melse\u001b[0m\u001b[1;33m:\u001b[0m\u001b[1;33m\u001b[0m\u001b[0m\n\u001b[1;32m--> 653\u001b[1;33m                     \u001b[1;32mraise\u001b[0m \u001b[0mIOError\u001b[0m\u001b[1;33m(\u001b[0m\u001b[1;34m\"File '%s' already exists.\"\u001b[0m \u001b[1;33m%\u001b[0m \u001b[0mfilename\u001b[0m\u001b[1;33m)\u001b[0m\u001b[1;33m\u001b[0m\u001b[0m\n\u001b[0m\u001b[0;32m    654\u001b[0m         \u001b[1;32melif\u001b[0m \u001b[1;33m(\u001b[0m\u001b[0mhasattr\u001b[0m\u001b[1;33m(\u001b[0m\u001b[0mfileobj\u001b[0m\u001b[1;33m,\u001b[0m \u001b[1;34m'len'\u001b[0m\u001b[1;33m)\u001b[0m \u001b[1;32mand\u001b[0m \u001b[0mfileobj\u001b[0m\u001b[1;33m.\u001b[0m\u001b[0mlen\u001b[0m \u001b[1;33m>\u001b[0m \u001b[1;36m0\u001b[0m\u001b[1;33m)\u001b[0m\u001b[1;33m:\u001b[0m\u001b[1;33m\u001b[0m\u001b[0m\n\u001b[0;32m    655\u001b[0m             \u001b[1;32mif\u001b[0m \u001b[0mclobber\u001b[0m\u001b[1;33m:\u001b[0m\u001b[1;33m\u001b[0m\u001b[0m\n",
        "\u001b[1;31mIOError\u001b[0m: File 'newversion.fits' already exists."
       ]
      }
     ],
     "prompt_number": 56
    },
    {
     "cell_type": "markdown",
     "metadata": {},
     "source": [
      "Now we have two FITS files, and the only difference between them is the value of the HMIDTIME keyword."
     ]
    },
    {
     "cell_type": "markdown",
     "metadata": {},
     "source": [
      "You can also change the data:"
     ]
    },
    {
     "cell_type": "code",
     "collapsed": false,
     "input": [
      "h[1].data = newcube"
     ],
     "language": "python",
     "metadata": {},
     "outputs": [],
     "prompt_number": 57
    },
    {
     "cell_type": "code",
     "collapsed": false,
     "input": [
      "h.writeto('newversion.fits',clobber=True)"
     ],
     "language": "python",
     "metadata": {},
     "outputs": [
      {
       "output_type": "stream",
       "stream": "stderr",
       "text": [
        "Overwriting existing file 'newversion.fits'.\n"
       ]
      }
     ],
     "prompt_number": 58
    },
    {
     "cell_type": "code",
     "collapsed": false,
     "input": [
      "ls"
     ],
     "language": "python",
     "metadata": {},
     "outputs": [
      {
       "output_type": "stream",
       "stream": "stdout",
       "text": [
        "Lecture2-Copy0.ipynb  NRS1_dark88.fits                  Session2_Basics.ipynb\r\n",
        "newversion.fits       \u001b[0m\u001b[01;34mscientific-python-training-2012\u001b[0m/  Untitled0.ipynb\r\n",
        "\u001b[m"
       ]
      }
     ],
     "prompt_number": 59
    },
    {
     "cell_type": "markdown",
     "metadata": {},
     "source": [
      "If you display this version of the data uaing ds9 or similar, you'll be able to see much more than is visible in the version without the first group subtracted\n",
      "\n",
      "- The amplifier boundaries are visible, as is the fact that they jump randomly from group to group\n",
      "- Each hot pixel (more than a few thousand counts) is surrounded by four warm pixels in a cross-shaped pattern.  This is due to inter-pixel capacitance.\n",
      "- There is a zebra-stripe pattern that is due to 1/f noise in the amplifiers"
     ]
    },
    {
     "cell_type": "markdown",
     "metadata": {},
     "source": [
      "You can display images into a ds9 window from within Python using the numdisplay package."
     ]
    },
    {
     "cell_type": "code",
     "collapsed": true,
     "input": [
      "from stsci import numdisplay\n",
      "numdisplay.display(newcube[0,50],zscale=True)"
     ],
     "language": "python",
     "metadata": {},
     "outputs": [
      {
       "output_type": "stream",
       "stream": "stdout",
       "text": [
        "Image displayed with Z1:  -110.0  Z2: 159.234070434\n"
       ]
      }
     ],
     "prompt_number": 60
    },
    {
     "cell_type": "markdown",
     "metadata": {},
     "source": [
      "It's a bit like using the IRAF 'display' command, in that your image is scaled into the range 0-199 before being sent to ds9.  Personally, I find it much more useful to write the files out and read them directly into ds9, that way you see all the planes of a cube and you can easily scroll through them."
     ]
    },
    {
     "cell_type": "heading",
     "level": 2,
     "metadata": {},
     "source": [
      "Working with tables"
     ]
    },
    {
     "cell_type": "markdown",
     "metadata": {},
     "source": [
      "You can work with text tables using the ascii module in the astropy package.  This is the same as the asciitables package of Tom Aldcroft that some of you may have used.\n",
      "\n",
      "Start by importing the package:"
     ]
    },
    {
     "cell_type": "code",
     "collapsed": false,
     "input": [
      "from astropy.io import ascii"
     ],
     "language": "python",
     "metadata": {},
     "outputs": [
      {
       "ename": "ImportError",
       "evalue": "No module named astropy.io",
       "output_type": "pyerr",
       "traceback": [
        "\u001b[1;31m---------------------------------------------------------------------------\u001b[0m\n\u001b[1;31mImportError\u001b[0m                               Traceback (most recent call last)",
        "\u001b[1;32m<ipython-input-61-f64e41be1454>\u001b[0m in \u001b[0;36m<module>\u001b[1;34m()\u001b[0m\n\u001b[1;32m----> 1\u001b[1;33m \u001b[1;32mfrom\u001b[0m \u001b[0mastropy\u001b[0m\u001b[1;33m.\u001b[0m\u001b[0mio\u001b[0m \u001b[1;32mimport\u001b[0m \u001b[0mascii\u001b[0m\u001b[1;33m\u001b[0m\u001b[0m\n\u001b[0m",
        "\u001b[1;31mImportError\u001b[0m: No module named astropy.io"
       ]
      }
     ],
     "prompt_number": 61
    },
    {
     "cell_type": "markdown",
     "metadata": {},
     "source": [
      "The ascii table reader can read a large number of different table formats:\n",
      "\n",
      "-    Basic: basic table with customizable delimiters and header configurations\n",
      "-    Cds: CDS format table (also Vizier and ApJ machine readable tables)\n",
      "-    CommentedHeader: column names given in a line that begins with the comment character\n",
      "-    Daophot: table from the IRAF DAOphot package\n",
      "-    FixedWidth: table with fixed-width columns (Fixed-width Gallery)\n",
      "-    Ipac: IPAC format table\n",
      "-    Latex, AASTex: LaTeX tables (plain and AASTex)\n",
      "-    Memory: table already in memory (list of lists, dict of lists, etc)\n",
      "-    NoHeader: basic table with no header where columns are auto-named\n",
      "-    Rdb: tab-separated values with an extra line after the column definition line\n",
      "-    Tab: tab-separated values\n",
      "\n",
      "First we need some suitable table data.  I picked a large .csv file with information about MIRI FM test data."
     ]
    },
    {
     "cell_type": "code",
     "collapsed": false,
     "input": [
      "ls"
     ],
     "language": "python",
     "metadata": {},
     "outputs": []
    },
    {
     "cell_type": "markdown",
     "metadata": {},
     "source": [
      "This file has a couple of lines of junk, followed by a line with the column names, followed by the data.  If we tell the ascii.read function this, it will read the table nicely..."
     ]
    },
    {
     "cell_type": "code",
     "collapsed": false,
     "input": [
      "data = ascii.read('Exposure_Log_FM_Phase5_Latest_29Jul11.csv', header_start=2, data_start=3)"
     ],
     "language": "python",
     "metadata": {},
     "outputs": []
    },
    {
     "cell_type": "markdown",
     "metadata": {},
     "source": [
      "That seemed to work.  What did we get?"
     ]
    },
    {
     "cell_type": "code",
     "collapsed": false,
     "input": [
      "data"
     ],
     "language": "python",
     "metadata": {},
     "outputs": []
    },
    {
     "cell_type": "markdown",
     "metadata": {},
     "source": [
      "We clearly got some complex object, but what is it?"
     ]
    },
    {
     "cell_type": "code",
     "collapsed": false,
     "input": [
      "type(data)"
     ],
     "language": "python",
     "metadata": {},
     "outputs": []
    },
    {
     "cell_type": "markdown",
     "metadata": {},
     "source": [
      "The documentation says that read returns a numpy record array..\n",
      "\n",
      "We can find out what we can do with this object by tabbing"
     ]
    },
    {
     "cell_type": "code",
     "collapsed": false,
     "input": [
      "data."
     ],
     "language": "python",
     "metadata": {},
     "outputs": []
    },
    {
     "cell_type": "code",
     "collapsed": false,
     "input": [
      "data.colnames\n"
     ],
     "language": "python",
     "metadata": {},
     "outputs": []
    },
    {
     "cell_type": "code",
     "collapsed": false,
     "input": [
      "data.pprint()"
     ],
     "language": "python",
     "metadata": {},
     "outputs": []
    },
    {
     "cell_type": "markdown",
     "metadata": {},
     "source": [
      "One thing that isn't obvious from the list of methods is that we can use the column name to refer to the column, rather like a FITS header keyword"
     ]
    },
    {
     "cell_type": "code",
     "collapsed": false,
     "input": [
      "data['OBSID']"
     ],
     "language": "python",
     "metadata": {},
     "outputs": []
    },
    {
     "cell_type": "markdown",
     "metadata": {},
     "source": [
      "data['OBSID\"] is another object, looks like a Column object.  For some reason the IPython notebook doesn't let you tab the data['OBSID'] object to see what methods it has..."
     ]
    },
    {
     "cell_type": "code",
     "collapsed": false,
     "input": [
      "type(data['OBSID'])"
     ],
     "language": "python",
     "metadata": {},
     "outputs": []
    },
    {
     "cell_type": "markdown",
     "metadata": {},
     "source": [
      "But if we assign this to a new variable, we can do it..."
     ]
    },
    {
     "cell_type": "code",
     "collapsed": false,
     "input": [
      "obsidcol = data['OBSID']"
     ],
     "language": "python",
     "metadata": {},
     "outputs": []
    },
    {
     "cell_type": "code",
     "collapsed": false,
     "input": [
      "obsidcol."
     ],
     "language": "python",
     "metadata": {},
     "outputs": []
    },
    {
     "cell_type": "markdown",
     "metadata": {},
     "source": [
      "It looks a lot like a numpy ndarray, but the actual array part is in the 'data' member.\n",
      "\n",
      "We can use the numpy 'where' method to find all the exposures taken with the imaging array and with at least 5 integrations:"
     ]
    },
    {
     "cell_type": "code",
     "collapsed": false,
     "input": [
      "imaging = np.where(data['Detectors'].data == 'IMAGER')\n",
      "imaging"
     ],
     "language": "python",
     "metadata": {},
     "outputs": []
    },
    {
     "cell_type": "markdown",
     "metadata": {},
     "source": [
      "The 'where' function of numpy returns a tuple with an associative array as the first element.  This array gives\n",
      "the indices (or row numbers) where the condition was found to be True, and can be used as an index for a numpy array."
     ]
    },
    {
     "cell_type": "code",
     "collapsed": false,
     "input": [
      "len(imaging[0])"
     ],
     "language": "python",
     "metadata": {},
     "outputs": []
    },
    {
     "cell_type": "code",
     "collapsed": false,
     "input": [
      "desired = np.where(data['Nints'].data[imaging[0]] >= 5)\n",
      "desired"
     ],
     "language": "python",
     "metadata": {},
     "outputs": []
    },
    {
     "cell_type": "code",
     "collapsed": false,
     "input": [
      "len(desired[0])"
     ],
     "language": "python",
     "metadata": {},
     "outputs": []
    },
    {
     "cell_type": "code",
     "collapsed": false,
     "input": [
      "data['OBSID'].data[desired[0]]"
     ],
     "language": "python",
     "metadata": {},
     "outputs": []
    },
    {
     "cell_type": "markdown",
     "metadata": {},
     "source": [
      "The ascii documentation at http://astropy.readthedocs.org/en/v0.1/io/ascii/index.html gives more help, but mainly about the different types of tables that can be read and written; it doesn't have much about the table object that is returned by the read function."
     ]
    },
    {
     "cell_type": "code",
     "collapsed": false,
     "input": [],
     "language": "python",
     "metadata": {},
     "outputs": []
    }
   ],
   "metadata": {}
  }
 ]
}