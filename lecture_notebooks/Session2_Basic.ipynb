{
 "metadata": {
  "name": "Session2_Basic"
 },
 "nbformat": 3,
 "nbformat_minor": 0,
 "worksheets": [
  {
   "cells": [
    {
     "cell_type": "heading",
     "level": 1,
     "metadata": {},
     "source": [
      "Using pyfits, numpy, matplotlib and tables"
     ]
    },
    {
     "cell_type": "markdown",
     "metadata": {},
     "source": [
      "Pyfits, numpy, matplotlib and tables are the four most useful tools for analyzing astronomical data.  numpy gives Python the ability to do array arithmetic like IDL.  Pyfits allows us to get the data from FITS files into these arrays. Matplotlib is a simple-to-use yet powerful plotting package, and tables provides powerful tools for manipulating tabular data.\n",
      "\n",
      "You should have numpy, pyfits and matplotlib available to you through ureka, while the tables modules are in astropy.\n",
      "\n",
      "From within Python, you have to import a package to make it available to you; this is rather different from IDL where as long as something is on your IDL search path, it's available without you doing anything else.\n"
     ]
    },
    {
     "cell_type": "code",
     "collapsed": false,
     "input": [
      "import pyfits\n",
      "pyfits.__version__"
     ],
     "language": "python",
     "metadata": {},
     "outputs": [
      {
       "output_type": "pyout",
       "prompt_number": 20,
       "text": [
        "'3.2.dev1944'"
       ]
      }
     ],
     "prompt_number": 20
    },
    {
     "cell_type": "code",
     "collapsed": false,
     "input": [
      "import numpy as np\n",
      "np.version.version"
     ],
     "language": "python",
     "metadata": {},
     "outputs": [
      {
       "output_type": "pyout",
       "prompt_number": 5,
       "text": [
        "'1.6.2'"
       ]
      }
     ],
     "prompt_number": 5
    },
    {
     "cell_type": "code",
     "collapsed": false,
     "input": [
      "plot()"
     ],
     "language": "python",
     "metadata": {},
     "outputs": [
      {
       "output_type": "pyout",
       "prompt_number": 1,
       "text": [
        "[]"
       ]
      },
      {
       "output_type": "display_data",
       "png": "[encoded data removed]"
      }
     ],
     "prompt_number": 1
    },
    {
     "cell_type": "markdown",
     "metadata": {},
     "source": [
      "The first thing you need to be able to do is get the data from a FITS file and put it into an array.  First let's find a FITS file.  IPython allows you to use several shell commands from within Python, so we can type 'cd' and 'ls' and IPython executes them.  The regular Python interpreter doesn't do this, PyRAF does to a certain extent."
     ]
    },
    {
     "cell_type": "code",
     "collapsed": false,
     "input": [
      "pwd"
     ],
     "language": "python",
     "metadata": {},
     "outputs": [
      {
       "output_type": "pyout",
       "prompt_number": 2,
       "text": [
        "u'/home/robert/work/jwst'"
       ]
      }
     ],
     "prompt_number": 2
    },
    {
     "cell_type": "code",
     "collapsed": false,
     "input": [
      "ls"
     ],
     "language": "python",
     "metadata": {},
     "outputs": [
      {
       "output_type": "stream",
       "stream": "stdout",
       "text": [
        "\u001b[0m\u001b[01;34mDQInit\u001b[0m/                                     \u001b[01;34mpyfits\u001b[0m/\r\n",
        "\u001b[01;31mdqinit.tar\u001b[0m                                  Session2_RIJ.ipynb\r\n",
        "\u001b[01;32mExposure_Log_FM_Phase5_Latest_29Jul11.csv\u001b[0m*  \u001b[01;34mtest\u001b[0m/\r\n",
        "\u001b[01;34mfits_generator\u001b[0m/                             \u001b[01;34mUreka\u001b[0m/\r\n",
        "\u001b[01;32minstall_ureka_v1.0beta3\u001b[0m*                    \u001b[01;31mUreka_linux-rhe5_64_dev.tar\u001b[0m\r\n",
        "NRS1_dark88.fits\r\n"
       ]
      }
     ],
     "prompt_number": 3
    },
    {
     "cell_type": "markdown",
     "metadata": {},
     "source": [
      "We have NRS1_dark88.fits.  This is a NIRSpec dark exposure made up of 88 groups, each group holds a 10.5 second exposure and the data is read non-destructively, like NICMOS and WFC3IR.  We can inspect the contents of this without actually opening it:"
     ]
    },
    {
     "cell_type": "code",
     "collapsed": false,
     "input": [
      "pyfits.info('NRS1_dark88.fits')"
     ],
     "language": "python",
     "metadata": {},
     "outputs": [
      {
       "output_type": "stream",
       "stream": "stdout",
       "text": [
        "Filename: NRS1_dark88.fits\n",
        "No.    Name         Type      Cards   Dimensions   Format\n",
        "0    PRIMARY     PrimaryHDU     200   ()           uint8   \n",
        "1    SCI         ImageHDU        13   (2048, 2048, 88, 1)   int16   \n",
        "2    ERR         ImageHDU        10   (2048, 2048, 88, 1)   float32   \n",
        "3    DQ          ImageHDU        10   (2048, 2048, 88, 1)   int16   "
       ]
      },
      {
       "output_type": "stream",
       "stream": "stdout",
       "text": [
        "\n"
       ]
      }
     ],
     "prompt_number": 6
    },
    {
     "cell_type": "markdown",
     "metadata": {},
     "source": [
      "The most flexible way of opening this file and getting at the data and header information is to use the pyfits open command"
     ]
    },
    {
     "cell_type": "code",
     "collapsed": false,
     "input": [
      "h = pyfits.open('NRS1_dark88.fits')"
     ],
     "language": "python",
     "metadata": {},
     "outputs": [],
     "prompt_number": 21
    },
    {
     "cell_type": "markdown",
     "metadata": {},
     "source": [
      "h is a handle or pointer to all the information in the FITS file."
     ]
    },
    {
     "cell_type": "code",
     "collapsed": false,
     "input": [
      "help(h)"
     ],
     "language": "python",
     "metadata": {},
     "outputs": [
      {
       "output_type": "stream",
       "stream": "stdout",
       "text": [
        "Help on HDUList in module pyfits.hdu.hdulist object:\n",
        "\n",
        "class HDUList(__builtin__.list, pyfits.verify._Verify)\n",
        " |  HDU list class.  This is the top-level FITS object.  When a FITS\n",
        " |  file is opened, a `HDUList` object is returned.\n",
        " |  \n",
        " |  Method resolution order:\n",
        " |      HDUList\n",
        " |      __builtin__.list\n",
        " |      pyfits.verify._Verify\n",
        " |      __builtin__.object\n",
        " |  \n",
        " |  Methods defined here:\n",
        " |  \n",
        " |  __delitem__(self, key)\n",
        " |      Delete an HDU from the `HDUList`, indexed by number or name.\n",
        " |  \n",
        " |  __delslice__(self, start, stop)\n",
        " |      Delete a slice of HDUs from the `HDUList`, indexed by number only.\n",
        " |  \n",
        " |  __enter__(self)\n",
        " |      # Support the 'with' statement\n",
        " |  \n",
        " |  __exit__(self, type, value, traceback)\n",
        " |  \n",
        " |  __getitem__(self, key)\n",
        " |      Get an HDU from the `HDUList`, indexed by number or name.\n",
        " |  \n",
        " |  __getslice__(self, start, end)\n",
        " |  \n",
        " |  __init__(self, hdus=[], file=None)\n",
        " |      Construct a `HDUList` object.\n",
        " |      \n",
        " |      Parameters\n",
        " |      ----------\n",
        " |      hdus : sequence of HDU objects or single HDU, optional\n",
        " |          The HDU object(s) to comprise the `HDUList`.  Should be\n",
        " |          instances of `_BaseHDU`.\n",
        " |      \n",
        " |      file : file object, optional\n",
        " |          The opened physical file associated with the `HDUList`.\n",
        " |  \n",
        " |  __iter__(self)\n",
        " |  \n",
        " |  __setitem__(self, key, hdu)\n",
        " |      Set an HDU to the `HDUList`, indexed by number or name.\n",
        " |  \n",
        " |  append(self, hdu)\n",
        " |      Append a new HDU to the `HDUList`.\n",
        " |      \n",
        " |      Parameters\n",
        " |      ----------\n",
        " |      hdu : instance of _BaseHDU\n",
        " |          HDU to add to the `HDUList`.\n",
        " |  \n",
        " |  close(self, output_verify='exception', verbose=False, closed=True)\n",
        " |      Close the associated FITS file and memmap object, if any.\n",
        " |      \n",
        " |      Parameters\n",
        " |      ----------\n",
        " |      output_verify : str\n",
        " |          Output verification option.  Must be one of ``\"fix\"``,\n",
        " |          ``\"silentfix\"``, ``\"ignore\"``, ``\"warn\"``, or\n",
        " |          ``\"exception\"``.  See :ref:`verify` for more info.\n",
        " |      \n",
        " |      verbose : bool\n",
        " |          When `True`, print out verbose messages.\n",
        " |      \n",
        " |      closed : bool\n",
        " |          When `True`, close the underlying file object.\n",
        " |  \n",
        " |  fileinfo(self, index)\n",
        " |      Returns a dictionary detailing information about the locations\n",
        " |      of the indexed HDU within any associated file.  The values are\n",
        " |      only valid after a read or write of the associated file with\n",
        " |      no intervening changes to the `HDUList`.\n",
        " |      \n",
        " |      Parameters\n",
        " |      ----------\n",
        " |      index : int\n",
        " |          Index of HDU for which info is to be returned.\n",
        " |      \n",
        " |      Returns\n",
        " |      -------\n",
        " |      fileinfo : dict or None\n",
        " |      \n",
        " |          The dictionary details information about the locations of\n",
        " |          the indexed HDU within an associated file.  Returns `None`\n",
        " |          when the HDU is not associated with a file.\n",
        " |      \n",
        " |          Dictionary contents:\n",
        " |      \n",
        " |          ========== ========================================================\n",
        " |          Key        Value\n",
        " |          ========== ========================================================\n",
        " |          file       File object associated with the HDU\n",
        " |          filename   Name of associated file object\n",
        " |          filemode   Mode in which the file was opened (readonly,\n",
        " |                     copyonwrite, update, append, denywrite, ostream)\n",
        " |          resized    Flag that when `True` indicates that the data has been\n",
        " |                     resized since the last read/write so the returned values\n",
        " |                     may not be valid.\n",
        " |          hdrLoc     Starting byte location of header in file\n",
        " |          datLoc     Starting byte location of data block in file\n",
        " |          datSpan    Data size including padding\n",
        " |          ========== ========================================================\n",
        " |  \n",
        " |  filename(self)\n",
        " |      Return the file name associated with the HDUList object if one exists.\n",
        " |      Otherwise returns None.\n",
        " |      \n",
        " |      Returns\n",
        " |      -------\n",
        " |      filename : a string containing the file name associated with the\n",
        " |                 HDUList object if an association exists.  Otherwise returns\n",
        " |                 None.\n",
        " |  \n",
        " |  flush(*args, **kwargs)\n",
        " |      Force a write of the `HDUList` back to the file (for append and\n",
        " |      update modes only).\n",
        " |      \n",
        " |      Parameters\n",
        " |      ----------\n",
        " |      output_verify : str\n",
        " |          Output verification option.  Must be one of ``\"fix\"``,\n",
        " |          ``\"silentfix\"``, ``\"ignore\"``, ``\"warn\"``, or\n",
        " |          ``\"exception\"``.  See :ref:`verify` for more info.\n",
        " |      \n",
        " |      verbose : bool\n",
        " |          When `True`, print verbose messages\n",
        " |  \n",
        " |  index_of(self, key)\n",
        " |      Get the index of an HDU from the `HDUList`.\n",
        " |      \n",
        " |      Parameters\n",
        " |      ----------\n",
        " |      key : int, str or tuple of (string, int)\n",
        " |         The key identifying the HDU.  If `key` is a tuple, it is of\n",
        " |         the form (`key`, `ver`) where `ver` is an ``EXTVER`` value\n",
        " |         that must match the HDU being searched for.\n",
        " |      \n",
        " |      Returns\n",
        " |      -------\n",
        " |      index : int\n",
        " |         The index of the HDU in the `HDUList`.\n",
        " |  \n",
        " |  info(self, output=None)\n",
        " |      Summarize the info of the HDUs in this `HDUList`.\n",
        " |      \n",
        " |      Note that this function prints its results to the console---it\n",
        " |      does not return a value.\n",
        " |      \n",
        " |      Parameters\n",
        " |      ----------\n",
        " |      output : file, optional\n",
        " |          A file-like object to write the output to.  If False, does not\n",
        " |          output to a file and instead returns a list of tuples representing\n",
        " |          the HDU info.  Writes to sys.stdout by default.\n",
        " |  \n",
        " |  insert(self, index, hdu)\n",
        " |      Insert an HDU into the `HDUList` at the given `index`.\n",
        " |      \n",
        " |      Parameters\n",
        " |      ----------\n",
        " |      index : int\n",
        " |          Index before which to insert the new HDU.\n",
        " |      \n",
        " |      hdu : _BaseHDU instance\n",
        " |          The HDU object to insert\n",
        " |  \n",
        " |  readall(self)\n",
        " |      Read data of all HDUs into memory.\n",
        " |  \n",
        " |  update_extend(self)\n",
        " |      Make sure that if the primary header needs the keyword\n",
        " |      ``EXTEND`` that it has it and it is correct.\n",
        " |  \n",
        " |  writeto(self, fileobj, output_verify='exception', clobber=False, checksum=False)\n",
        " |      Write the `HDUList` to a new file.\n",
        " |      \n",
        " |      Parameters\n",
        " |      ----------\n",
        " |      fileobj : file path, file object or file-like object\n",
        " |          File to write to.  If a file object, must be opened for\n",
        " |          append (ab+).\n",
        " |      \n",
        " |      output_verify : str\n",
        " |          Output verification option.  Must be one of ``\"fix\"``,\n",
        " |          ``\"silentfix\"``, ``\"ignore\"``, ``\"warn\"``, or\n",
        " |          ``\"exception\"``.  See :ref:`verify` for more info.\n",
        " |      \n",
        " |      clobber : bool\n",
        " |          When `True`, overwrite the output file if exists.\n",
        " |      \n",
        " |      checksum : bool\n",
        " |          When `True` adds both ``DATASUM`` and ``CHECKSUM`` cards\n",
        " |          to the headers of all HDU's written to the file.\n",
        " |  \n",
        " |  ----------------------------------------------------------------------\n",
        " |  Class methods defined here:\n",
        " |  \n",
        " |  fromfile(cls, fileobj, mode='readonly', memmap=False, save_backup=False, **kwargs) from __builtin__.type\n",
        " |      Creates an HDUList instance from a file-like object.\n",
        " |      \n",
        " |      The actual implementation of :func:`fitsopen`, and generally shouldn't\n",
        " |      be used directly.  Use :func:`pyfits.open` instead (and see its\n",
        " |      documentation for details of the parameters accepted by this method).\n",
        " |  \n",
        " |  fromstring(cls, data, **kwargs) from __builtin__.type\n",
        " |      Creates an HDUList instance from a string or other in-memory data\n",
        " |      buffer containing an entire FITS file.  Similar to\n",
        " |      :meth:`HDUList.fromfile`, but does not accept the mode or memmap\n",
        " |      arguments, as they are only relevant to reading from a file on disk.\n",
        " |      \n",
        " |      This is useful for interfacing with other libraries such as CFITSIO,\n",
        " |      and may also be useful for streaming applications.\n",
        " |      \n",
        " |      Parameters\n",
        " |      ----------\n",
        " |      data : str, buffer, memoryview, etc.\n",
        " |          A string or other memory buffer containing an entire FITS file.  It\n",
        " |          should be noted that if that memory is read-only (such as a Python\n",
        " |          string) the returned :class:`HDUList`'s data portions will also be\n",
        " |          read-only.\n",
        " |      \n",
        " |      kwargs : dict\n",
        " |          Optional keyword arguments.  See :func:`pyfits.open` for details.\n",
        " |      \n",
        " |      Returns\n",
        " |      -------\n",
        " |      hdul : HDUList\n",
        " |          An :class:`HDUList` object representing the in-memory FITS file.\n",
        " |  \n",
        " |  ----------------------------------------------------------------------\n",
        " |  Data descriptors defined here:\n",
        " |  \n",
        " |  __dict__\n",
        " |      dictionary for instance variables (if defined)\n",
        " |  \n",
        " |  __weakref__\n",
        " |      list of weak references to the object (if defined)\n",
        " |  \n",
        " |  ----------------------------------------------------------------------\n",
        " |  Methods inherited from __builtin__.list:\n",
        " |  \n",
        " |  __add__(...)\n",
        " |      x.__add__(y) <==> x+y\n",
        " |  \n",
        " |  __contains__(...)\n",
        " |      x.__contains__(y) <==> y in x\n",
        " |  \n",
        " |  __eq__(...)\n",
        " |      x.__eq__(y) <==> x==y\n",
        " |  \n",
        " |  __ge__(...)\n",
        " |      x.__ge__(y) <==> x>=y\n",
        " |  \n",
        " |  __getattribute__(...)\n",
        " |      x.__getattribute__('name') <==> x.name\n",
        " |  \n",
        " |  __gt__(...)\n",
        " |      x.__gt__(y) <==> x>y\n",
        " |  \n",
        " |  __iadd__(...)\n",
        " |      x.__iadd__(y) <==> x+=y\n",
        " |  \n",
        " |  __imul__(...)\n",
        " |      x.__imul__(y) <==> x*=y\n",
        " |  \n",
        " |  __le__(...)\n",
        " |      x.__le__(y) <==> x<=y\n",
        " |  \n",
        " |  __len__(...)\n",
        " |      x.__len__() <==> len(x)\n",
        " |  \n",
        " |  __lt__(...)\n",
        " |      x.__lt__(y) <==> x<y\n",
        " |  \n",
        " |  __mul__(...)\n",
        " |      x.__mul__(n) <==> x*n\n",
        " |  \n",
        " |  __ne__(...)\n",
        " |      x.__ne__(y) <==> x!=y\n",
        " |  \n",
        " |  __repr__(...)\n",
        " |      x.__repr__() <==> repr(x)\n",
        " |  \n",
        " |  __reversed__(...)\n",
        " |      L.__reversed__() -- return a reverse iterator over the list\n",
        " |  \n",
        " |  __rmul__(...)\n",
        " |      x.__rmul__(n) <==> n*x\n",
        " |  \n",
        " |  __setslice__(...)\n",
        " |      x.__setslice__(i, j, y) <==> x[i:j]=y\n",
        " |      \n",
        " |      Use  of negative indices is not supported.\n",
        " |  \n",
        " |  __sizeof__(...)\n",
        " |      L.__sizeof__() -- size of L in memory, in bytes\n",
        " |  \n",
        " |  count(...)\n",
        " |      L.count(value) -> integer -- return number of occurrences of value\n",
        " |  \n",
        " |  extend(...)\n",
        " |      L.extend(iterable) -- extend list by appending elements from the iterable\n",
        " |  \n",
        " |  index(...)\n",
        " |      L.index(value, [start, [stop]]) -> integer -- return first index of value.\n",
        " |      Raises ValueError if the value is not present.\n",
        " |  \n",
        " |  pop(...)\n",
        " |      L.pop([index]) -> item -- remove and return item at index (default last).\n",
        " |      Raises IndexError if list is empty or index is out of range.\n",
        " |  \n",
        " |  remove(...)\n",
        " |      L.remove(value) -- remove first occurrence of value.\n",
        " |      Raises ValueError if the value is not present.\n",
        " |  \n",
        " |  reverse(...)\n",
        " |      L.reverse() -- reverse *IN PLACE*\n",
        " |  \n",
        " |  sort(...)\n",
        " |      L.sort(cmp=None, key=None, reverse=False) -- stable sort *IN PLACE*;\n",
        " |      cmp(x, y) -> -1, 0, 1\n",
        " |  \n",
        " |  ----------------------------------------------------------------------\n",
        " |  Data and other attributes inherited from __builtin__.list:\n",
        " |  \n",
        " |  __hash__ = None\n",
        " |  \n",
        " |  __new__ = <built-in method __new__ of type object>\n",
        " |      T.__new__(S, ...) -> a new object with type S, a subtype of T\n",
        " |  \n",
        " |  ----------------------------------------------------------------------\n",
        " |  Methods inherited from pyfits.verify._Verify:\n",
        " |  \n",
        " |  run_option(self, option='warn', err_text='', fix_text='Fixed.', fix=None, fixable=True)\n",
        " |      Execute the verification with selected option.\n",
        " |  \n",
        " |  verify(self, option='warn')\n",
        " |      Verify all values in the instance.\n",
        " |      \n",
        " |      Parameters\n",
        " |      ----------\n",
        " |      option : str\n",
        " |          Output verification option.  Must be one of ``\"fix\"``,\n",
        " |          ``\"silentfix\"``, ``\"ignore\"``, ``\"warn\"``, or\n",
        " |          ``\"exception\"``.  See :ref:`verify` for more info.\n",
        "\n"
       ]
      }
     ],
     "prompt_number": 22
    },
    {
     "cell_type": "code",
     "collapsed": false,
     "input": [
      "type(h)"
     ],
     "language": "python",
     "metadata": {},
     "outputs": [
      {
       "output_type": "pyout",
       "prompt_number": 8,
       "text": [
        "pyfits.hdu.hdulist.HDUList"
       ]
      }
     ],
     "prompt_number": 8
    },
    {
     "cell_type": "markdown",
     "metadata": {},
     "source": [
      "pyfits.open returns something called an HDUList, which behaves like a list of header/data units."
     ]
    },
    {
     "cell_type": "code",
     "collapsed": false,
     "input": [
      "h"
     ],
     "language": "python",
     "metadata": {},
     "outputs": [
      {
       "output_type": "pyout",
       "prompt_number": 9,
       "text": [
        "[<pyfits.hdu.image.PrimaryHDU at 0x3e62e50>,\n",
        " <pyfits.hdu.image.ImageHDU at 0x3e9d150>,\n",
        " <pyfits.hdu.image.ImageHDU at 0x3e9d450>,\n",
        " <pyfits.hdu.image.ImageHDU at 0x3e9d750>]"
       ]
      }
     ],
     "prompt_number": 9
    },
    {
     "cell_type": "markdown",
     "metadata": {},
     "source": [
      "A list is Python data structure that is an ordered collection of objects, enclosed in square brackets and with its members separated by commas.\n",
      "\n",
      "This list has four members, a PrimaryHDU object and three ImageHDU objects. These are what we saw when we did pyfits.info(), a single Primary HDU and 3 Image HDUs, the SCI, ERR and DQ HDUs.\n",
      "\n",
      "We can refer to the individual members of a list using C-like indexing, starting at 0."
     ]
    },
    {
     "cell_type": "code",
     "collapsed": false,
     "input": [
      "h[0]"
     ],
     "language": "python",
     "metadata": {},
     "outputs": [
      {
       "output_type": "pyout",
       "prompt_number": 10,
       "text": [
        "<pyfits.hdu.image.PrimaryHDU at 0x3e62e50>"
       ]
      }
     ],
     "prompt_number": 10
    },
    {
     "cell_type": "code",
     "collapsed": false,
     "input": [
      "h[2]"
     ],
     "language": "python",
     "metadata": {},
     "outputs": [
      {
       "output_type": "pyout",
       "prompt_number": 11,
       "text": [
        "<pyfits.hdu.image.ImageHDU at 0x3e9d450>"
       ]
      }
     ],
     "prompt_number": 11
    },
    {
     "cell_type": "code",
     "collapsed": false,
     "input": [
      "h[4]"
     ],
     "language": "python",
     "metadata": {},
     "outputs": [
      {
       "ename": "IndexError",
       "evalue": "list index out of range",
       "output_type": "pyerr",
       "traceback": [
        "\u001b[1;31m---------------------------------------------------------------------------\u001b[0m\n\u001b[1;31mIndexError\u001b[0m                                Traceback (most recent call last)",
        "\u001b[1;32m<ipython-input-12-0b2c789b69f7>\u001b[0m in \u001b[0;36m<module>\u001b[1;34m()\u001b[0m\n\u001b[1;32m----> 1\u001b[1;33m \u001b[0mh\u001b[0m\u001b[1;33m[\u001b[0m\u001b[1;36m4\u001b[0m\u001b[1;33m]\u001b[0m\u001b[1;33m\u001b[0m\u001b[0m\n\u001b[0m",
        "\u001b[1;32m/home/robert/work/jwst/Ureka/variants/common/lib/python/pyfits/hdu/hdulist.pyc\u001b[0m in \u001b[0;36m__getitem__\u001b[1;34m(self, key)\u001b[0m\n\u001b[0;32m    174\u001b[0m \u001b[1;33m\u001b[0m\u001b[0m\n\u001b[0;32m    175\u001b[0m         \u001b[0midx\u001b[0m \u001b[1;33m=\u001b[0m \u001b[0mself\u001b[0m\u001b[1;33m.\u001b[0m\u001b[0mindex_of\u001b[0m\u001b[1;33m(\u001b[0m\u001b[0mkey\u001b[0m\u001b[1;33m)\u001b[0m\u001b[1;33m\u001b[0m\u001b[0m\n\u001b[1;32m--> 176\u001b[1;33m         \u001b[1;32mreturn\u001b[0m \u001b[0msuper\u001b[0m\u001b[1;33m(\u001b[0m\u001b[0mHDUList\u001b[0m\u001b[1;33m,\u001b[0m \u001b[0mself\u001b[0m\u001b[1;33m)\u001b[0m\u001b[1;33m.\u001b[0m\u001b[0m__getitem__\u001b[0m\u001b[1;33m(\u001b[0m\u001b[0midx\u001b[0m\u001b[1;33m)\u001b[0m\u001b[1;33m\u001b[0m\u001b[0m\n\u001b[0m\u001b[0;32m    177\u001b[0m \u001b[1;33m\u001b[0m\u001b[0m\n\u001b[0;32m    178\u001b[0m     \u001b[1;32mdef\u001b[0m \u001b[0m__setitem__\u001b[0m\u001b[1;33m(\u001b[0m\u001b[0mself\u001b[0m\u001b[1;33m,\u001b[0m \u001b[0mkey\u001b[0m\u001b[1;33m,\u001b[0m \u001b[0mhdu\u001b[0m\u001b[1;33m)\u001b[0m\u001b[1;33m:\u001b[0m\u001b[1;33m\u001b[0m\u001b[0m\n",
        "\u001b[1;31mIndexError\u001b[0m: list index out of range"
       ]
      }
     ],
     "prompt_number": 12
    },
    {
     "cell_type": "markdown",
     "metadata": {},
     "source": [
      "The index goes from 0 to 3, so if we try to access element #4, Python will give us an error, or 'throw an exception'"
     ]
    },
    {
     "cell_type": "markdown",
     "metadata": {},
     "source": [
      "In this case, we are throwing an IndexError exception, because we tried to access a list element with an index outside the range of indices of h."
     ]
    },
    {
     "cell_type": "markdown",
     "metadata": {},
     "source": [
      "The data we are interested in is in extension #1.  We can't get at it using the 'SCI' name like we can with IRAF, we have to use its index."
     ]
    },
    {
     "cell_type": "code",
     "collapsed": false,
     "input": [
      "cube = h[1].data"
     ],
     "language": "python",
     "metadata": {},
     "outputs": [],
     "prompt_number": 25
    },
    {
     "cell_type": "markdown",
     "metadata": {},
     "source": [
      "Now I have the 4-dimensional pixel data from the SCI extension in the 4-dimension numpy array 'cube'.  This cube has 1 integration of 88 groups, each with a 2048 by 2048 2-dimensional array\n",
      "\n",
      "We could have read the data into our array by using the convenience functions as mentioned in the previous lecture:\n",
      "\n",
      "cube = pyfits.getdata('NRS1_dark88.fits')\n",
      "\n",
      "which avoids using the 'Open' function of pyfits.  Similarly, you can get the header from a FITS file by doing\n",
      "\n",
      "header = pyfits.getheader('NRS1_dark88.fits')\n",
      "\n",
      "The pyfits documentation at http://packages.python.org/pyfits/ will give more information."
     ]
    },
    {
     "cell_type": "code",
     "collapsed": false,
     "input": [
      "cube.shape"
     ],
     "language": "python",
     "metadata": {},
     "outputs": [
      {
       "output_type": "pyout",
       "prompt_number": 14,
       "text": [
        "(1, 88, 2048, 2048)"
       ]
      }
     ],
     "prompt_number": 14
    },
    {
     "cell_type": "markdown",
     "metadata": {},
     "source": [
      "We can investigate the shape of this array by inspecting the 'shape' attribute of the cube object.  All numpy arrays have a shape attribute.  The ordering is C-like rather than FORTRAN-like, with the most rapidly-varying index last rather than first.  Notice how the ordering in the pyfits.info() function earlier is IRAF/Fortran like, probably from a historical desire to make the header listing somewhat similar to IRAF's FITS header listings."
     ]
    },
    {
     "cell_type": "markdown",
     "metadata": {},
     "source": [
      "numpy arrays have many attributes that you can inspect.  Some of these are variables, others are functions.  You can find out all the atributes of an object by using the Python built-in 'dir' function:"
     ]
    },
    {
     "cell_type": "code",
     "collapsed": false,
     "input": [
      "dir(cube)"
     ],
     "language": "python",
     "metadata": {},
     "outputs": [
      {
       "output_type": "pyout",
       "prompt_number": 15,
       "text": [
        "['T',\n",
        " '__abs__',\n",
        " '__add__',\n",
        " '__and__',\n",
        " '__array__',\n",
        " '__array_finalize__',\n",
        " '__array_interface__',\n",
        " '__array_prepare__',\n",
        " '__array_priority__',\n",
        " '__array_struct__',\n",
        " '__array_wrap__',\n",
        " '__class__',\n",
        " '__contains__',\n",
        " '__copy__',\n",
        " '__deepcopy__',\n",
        " '__delattr__',\n",
        " '__delitem__',\n",
        " '__delslice__',\n",
        " '__div__',\n",
        " '__divmod__',\n",
        " '__doc__',\n",
        " '__eq__',\n",
        " '__float__',\n",
        " '__floordiv__',\n",
        " '__format__',\n",
        " '__ge__',\n",
        " '__getattribute__',\n",
        " '__getitem__',\n",
        " '__getslice__',\n",
        " '__gt__',\n",
        " '__hash__',\n",
        " '__hex__',\n",
        " '__iadd__',\n",
        " '__iand__',\n",
        " '__idiv__',\n",
        " '__ifloordiv__',\n",
        " '__ilshift__',\n",
        " '__imod__',\n",
        " '__imul__',\n",
        " '__index__',\n",
        " '__init__',\n",
        " '__int__',\n",
        " '__invert__',\n",
        " '__ior__',\n",
        " '__ipow__',\n",
        " '__irshift__',\n",
        " '__isub__',\n",
        " '__iter__',\n",
        " '__itruediv__',\n",
        " '__ixor__',\n",
        " '__le__',\n",
        " '__len__',\n",
        " '__long__',\n",
        " '__lshift__',\n",
        " '__lt__',\n",
        " '__mod__',\n",
        " '__mul__',\n",
        " '__ne__',\n",
        " '__neg__',\n",
        " '__new__',\n",
        " '__nonzero__',\n",
        " '__oct__',\n",
        " '__or__',\n",
        " '__pos__',\n",
        " '__pow__',\n",
        " '__radd__',\n",
        " '__rand__',\n",
        " '__rdiv__',\n",
        " '__rdivmod__',\n",
        " '__reduce__',\n",
        " '__reduce_ex__',\n",
        " '__repr__',\n",
        " '__rfloordiv__',\n",
        " '__rlshift__',\n",
        " '__rmod__',\n",
        " '__rmul__',\n",
        " '__ror__',\n",
        " '__rpow__',\n",
        " '__rrshift__',\n",
        " '__rshift__',\n",
        " '__rsub__',\n",
        " '__rtruediv__',\n",
        " '__rxor__',\n",
        " '__setattr__',\n",
        " '__setitem__',\n",
        " '__setslice__',\n",
        " '__setstate__',\n",
        " '__sizeof__',\n",
        " '__str__',\n",
        " '__sub__',\n",
        " '__subclasshook__',\n",
        " '__truediv__',\n",
        " '__xor__',\n",
        " 'all',\n",
        " 'any',\n",
        " 'argmax',\n",
        " 'argmin',\n",
        " 'argsort',\n",
        " 'astype',\n",
        " 'base',\n",
        " 'byteswap',\n",
        " 'choose',\n",
        " 'clip',\n",
        " 'compress',\n",
        " 'conj',\n",
        " 'conjugate',\n",
        " 'copy',\n",
        " 'ctypes',\n",
        " 'cumprod',\n",
        " 'cumsum',\n",
        " 'data',\n",
        " 'diagonal',\n",
        " 'dot',\n",
        " 'dtype',\n",
        " 'dump',\n",
        " 'dumps',\n",
        " 'fill',\n",
        " 'flags',\n",
        " 'flat',\n",
        " 'flatten',\n",
        " 'getfield',\n",
        " 'imag',\n",
        " 'item',\n",
        " 'itemset',\n",
        " 'itemsize',\n",
        " 'max',\n",
        " 'mean',\n",
        " 'min',\n",
        " 'nbytes',\n",
        " 'ndim',\n",
        " 'newbyteorder',\n",
        " 'nonzero',\n",
        " 'prod',\n",
        " 'ptp',\n",
        " 'put',\n",
        " 'ravel',\n",
        " 'real',\n",
        " 'repeat',\n",
        " 'reshape',\n",
        " 'resize',\n",
        " 'round',\n",
        " 'searchsorted',\n",
        " 'setasflat',\n",
        " 'setfield',\n",
        " 'setflags',\n",
        " 'shape',\n",
        " 'size',\n",
        " 'sort',\n",
        " 'squeeze',\n",
        " 'std',\n",
        " 'strides',\n",
        " 'sum',\n",
        " 'swapaxes',\n",
        " 'take',\n",
        " 'tofile',\n",
        " 'tolist',\n",
        " 'tostring',\n",
        " 'trace',\n",
        " 'transpose',\n",
        " 'var',\n",
        " 'view']"
       ]
      }
     ],
     "prompt_number": 15
    },
    {
     "cell_type": "markdown",
     "metadata": {},
     "source": [
      "Note that it tells you ALL of the attributes of the cube object, including those preceded by one or more underscores, which are conventionally meant to be 'private'."
     ]
    },
    {
     "cell_type": "markdown",
     "metadata": {},
     "source": [
      "IPython lets you do this more simply by just hitting the TAB key after typing cube and then a period.  You only see the public attributes, not the private ones."
     ]
    },
    {
     "cell_type": "code",
     "collapsed": true,
     "input": [
      "cube."
     ],
     "language": "python",
     "metadata": {},
     "outputs": [
      {
       "ename": "SyntaxError",
       "evalue": "invalid syntax (<ipython-input-32-82ef5b289c03>, line 1)",
       "output_type": "pyerr",
       "traceback": [
        "\u001b[1;36m  File \u001b[1;32m\"<ipython-input-32-82ef5b289c03>\"\u001b[1;36m, line \u001b[1;32m1\u001b[0m\n\u001b[1;33m    cube.\u001b[0m\n\u001b[1;37m         ^\u001b[0m\n\u001b[1;31mSyntaxError\u001b[0m\u001b[1;31m:\u001b[0m invalid syntax\n"
       ]
      }
     ],
     "prompt_number": 32
    },
    {
     "cell_type": "markdown",
     "metadata": {},
     "source": [
      "Let's say we want to plot the ramp for the pixel in column 200 and row 100.  We specify what to plot using the following notation:"
     ]
    },
    {
     "cell_type": "code",
     "collapsed": false,
     "input": [
      "cube[0,:,99,199]"
     ],
     "language": "python",
     "metadata": {},
     "outputs": [
      {
       "output_type": "pyout",
       "prompt_number": 16,
       "text": [
        "array([ 16792.,  16812.,  16776.,  16804.,  16786.,  16781.,  16729.,\n",
        "        16682.,  16744.,  16743.,  16727.,  16793.,  16742.,  16736.,\n",
        "        16743.,  16813.,  16761.,  16785.,  16732.,  16787.,  16752.,\n",
        "        16743.,  16782.,  16689.,  16801.,  16809.,  16763.,  16747.,\n",
        "        16729.,  16779.,  16785.,  16770.,  16846.,  16757.,  16781.,\n",
        "        16736.,  16782.,  16803.,  16858.,  16749.,  16780.,  16761.,\n",
        "        16739.,  16773.,  16771.,  16769.,  16719.,  16765.,  16812.,\n",
        "        16783.,  16793.,  16791.,  16789.,  16821.,  16858.,  16848.,\n",
        "        16794.,  16796.,  16858.,  16825.,  16864.,  16847.,  16885.,\n",
        "        16887.,  16821.,  16782.,  16843.,  16796.,  16840.,  16796.,\n",
        "        16808.,  16837.,  16862.,  16848.,  16828.,  16830.,  16807.,\n",
        "        16875.,  16812.,  16905.,  16824.,  16848.,  16843.,  16828.,\n",
        "        16897.,  16828.,  16831.,  16856.], dtype=float32)"
       ]
      }
     ],
     "prompt_number": 16
    },
    {
     "cell_type": "markdown",
     "metadata": {},
     "source": [
      "Here's what you need to notice:\n",
      "\n",
      "- we put the indices within square brackets\n",
      "- they go in the order [integration, group, row, column]\n",
      "- when you want to refer to ALL values of an index, use a colon (:)\n",
      "- Since Python indices are zero-indexed, we need to subtract 1 from the number of the row or column to get its index\n",
      "\n",
      "You can find out more about numpy by going to the documentation at http://docs.scipy.org/doc/numpy/reference/"
     ]
    },
    {
     "cell_type": "code",
     "collapsed": false,
     "input": [
      "pylab.plot(cube[0,:,99,199])"
     ],
     "language": "python",
     "metadata": {},
     "outputs": [
      {
       "output_type": "pyout",
       "prompt_number": 17,
       "text": [
        "[<matplotlib.lines.Line2D at 0x40f35d0>]"
       ]
      },
      {
       "output_type": "display_data",
       "png": "[encoded data removed]"
      }
     ],
     "prompt_number": 17
    },
    {
     "cell_type": "markdown",
     "metadata": {},
     "source": [
      "We can overplot the ramp for the pixel to the right of this:"
     ]
    },
    {
     "cell_type": "code",
     "collapsed": false,
     "input": [
      "pylab.plot(cube[0,:,99,200])"
     ],
     "language": "python",
     "metadata": {},
     "outputs": [
      {
       "output_type": "pyout",
       "prompt_number": 18,
       "text": [
        "[<matplotlib.lines.Line2D at 0x432ead0>]"
       ]
      },
      {
       "output_type": "display_data",
       "png": "[encoded data removed]"
      }
     ],
     "prompt_number": 18
    },
    {
     "cell_type": "markdown",
     "metadata": {},
     "source": [
      "As you can see, the ramps have almost identical bumps and wiggles, but are vertically offset by about 600 counts. There is a lot of high-frequency (i.e. pixel-to-pixel) structure in the reset - 600 counts from one pixel to the next.  This makes it very hard to see low-signal detail in the raw ramps even if you look at the last one which has the most signal.  To alleviate this, we can subtract the first read from every group:"
     ]
    },
    {
     "cell_type": "code",
     "collapsed": false,
     "input": [
      "newcube = cube - cube[0,0]"
     ],
     "language": "python",
     "metadata": {},
     "outputs": [],
     "prompt_number": 26
    },
    {
     "cell_type": "markdown",
     "metadata": {},
     "source": [
      "Notice how we didn't need to specify any : or * to tell numpy to use all the groups, rows and columns.  Also notice that numpy handles the fact that 'cube' and 'cube[0,0]' have different shapes.  This is a feature of numpy known as 'broadcasting'.  Numpy looks at the two operands of the '-' operator.  cube has a shape of [1,88,2048,2048], while cube[0,0] has a shape of [2048,2048].  To make the operation possible, numpy 'broadcasts' the second operand to be [1, 88, 2048, 2048] by replicating it as needed to make the shapes the same."
     ]
    },
    {
     "cell_type": "code",
     "collapsed": false,
     "input": [
      "newcube.shape"
     ],
     "language": "python",
     "metadata": {},
     "outputs": [
      {
       "output_type": "pyout",
       "prompt_number": 20,
       "text": [
        "(1, 88, 2048, 2048)"
       ]
      }
     ],
     "prompt_number": 20
    },
    {
     "cell_type": "code",
     "collapsed": false,
     "input": [
      "plot(newcube[0,:,99,199])"
     ],
     "language": "python",
     "metadata": {},
     "outputs": [
      {
       "output_type": "pyout",
       "prompt_number": 21,
       "text": [
        "[<matplotlib.lines.Line2D at 0x4365750>]"
       ]
      },
      {
       "output_type": "display_data",
       "png": "[encoded data removed]"
      }
     ],
     "prompt_number": 21
    },
    {
     "cell_type": "markdown",
     "metadata": {},
     "source": [
      "That's no good, pylab overplots by default.  We can fix this by using the 'hold' keyword argument:"
     ]
    },
    {
     "cell_type": "code",
     "collapsed": false,
     "input": [
      "plot(newcube[0,:,99,199],hold=False)"
     ],
     "language": "python",
     "metadata": {},
     "outputs": [
      {
       "output_type": "pyout",
       "prompt_number": 22,
       "text": [
        "[<matplotlib.lines.Line2D at 0x4639050>]"
       ]
      },
      {
       "output_type": "display_data",
       "png": "[encoded data removed]"
      }
     ],
     "prompt_number": 22
    },
    {
     "cell_type": "code",
     "collapsed": false,
     "input": [
      "plot(newcube[0,:,99,199])\n",
      "plot(newcube[0,:,99,200])"
     ],
     "language": "python",
     "metadata": {},
     "outputs": [
      {
       "output_type": "pyout",
       "prompt_number": 23,
       "text": [
        "[<matplotlib.lines.Line2D at 0x465bc50>]"
       ]
      },
      {
       "output_type": "display_data",
       "png": "[encoded data removed]"
      }
     ],
     "prompt_number": 23
    },
    {
     "cell_type": "markdown",
     "metadata": {},
     "source": [
      "Now you can see how well the ramps sit over the top of each other. The bumps and wiggles can actually be taken out for the most part by using the reference pixels."
     ]
    },
    {
     "cell_type": "markdown",
     "metadata": {},
     "source": [
      "Most of what you'll do in Matplotlib will be using the pylab interface, which is where the 'plot' command lives.  There is a point of confusion in the documentation, however, in that the official name of this interface is pyplot.  Most people seem to still use pylab and even the documentation to pyplot refers to pylab all over the place.  The point is, to find out more about the plot command, the best thing to google is the pyplot tutorial.\n",
      "\n",
      "http://matplotlib.org/users/pyplot_tutorial.html\n",
      "\n",
      "There you will find out that you can add a title and axis labels by doing something like this:"
     ]
    },
    {
     "cell_type": "code",
     "collapsed": false,
     "input": [
      "plot(newcube[0,:,99,199])\n",
      "plot(newcube[0,:,99,200])\n",
      "xlabel('Read number (1 read every $10\\mu{}s$)')\n",
      "ylabel('Counts')\n",
      "title('NIRSpec dark ramp')\n",
      "legend(('Pixel [100,200]','Pixel [200,201]'), 'lower right')"
     ],
     "language": "python",
     "metadata": {},
     "outputs": [
      {
       "output_type": "pyout",
       "prompt_number": 34,
       "text": [
        "<matplotlib.legend.Legend at 0x3bf9190>"
       ]
      },
      {
       "output_type": "display_data",
       "png": "[encoded data removed]"
      }
     ],
     "prompt_number": 34
    },
    {
     "cell_type": "markdown",
     "metadata": {},
     "source": [
      "You can change the color and change to plotting symbols using something like this:"
     ]
    },
    {
     "cell_type": "code",
     "collapsed": false,
     "input": [
      "plot(newcube[0,:,99,199],'r+',hold=False)"
     ],
     "language": "python",
     "metadata": {},
     "outputs": [
      {
       "output_type": "pyout",
       "prompt_number": 25,
       "text": [
        "[<matplotlib.lines.Line2D at 0x4c10510>]"
       ]
      },
      {
       "output_type": "display_data",
       "png": "[encoded data removed]"
      }
     ],
     "prompt_number": 25
    },
    {
     "cell_type": "markdown",
     "metadata": {},
     "source": [
      "This plots each point as a red + symbol.  Change the letter to one of the following:\n",
      "\n",
      "- b = blue\n",
      "- g = green\n",
      "- r = red\n",
      "- c = cyan\n",
      "- m = magenta\n",
      "- y = yellow\n",
      "- k = black\n",
      "- w = white\n",
      "\n",
      "look at the documentation for the pyplot plot command to find out what options exist for choosing the plot style\n",
      "\n",
      "http://matplotlib.org/api/pyplot_api.html#matplotlib.pyplot.plot\n",
      "\n",
      "If you want to see examples of how to create any plot imaginable, go to the matplot gallery at http://matplotlib.org/gallery.html"
     ]
    },
    {
     "cell_type": "heading",
     "level": 2,
     "metadata": {},
     "source": [
      "More on numpy indexes (indices)"
     ]
    },
    {
     "cell_type": "markdown",
     "metadata": {},
     "source": [
      "numpy allows very flexible specification of indices.  The most general specification looks like\n",
      "\n",
      "array[start:end:stride]\n",
      "\n",
      "Start is the index of the first item wanted\n",
      "\n",
      "end is ONE MORE THAN the index of the last item wanted\n",
      "\n",
      "stride is the increment that is traversed along the array\n",
      "\n",
      "We call the indices [start:end:stride] a SLICE.\n",
      "\n",
      "As an example:   data[1:100:2] means \"take every other element, starting with the second and ending with the 100th (i.e. the one with index 99)\"\n",
      "\n",
      "You can make all of these negative too.  In the case of strides, it just means go in the reverse direction.  So specifying data[::-1] gives the array reversed.\n",
      "\n",
      "If the start or end index is negative, it means \"starting from the end\".  So data[-1] means the last element.\n",
      "\n",
      "More can be found on slicing at http://docs.scipy.org/doc/numpy/reference/arrays.indexing.html\n",
      "\n"
     ]
    },
    {
     "cell_type": "heading",
     "level": 2,
     "metadata": {},
     "source": [
      "A Real-World Example"
     ]
    },
    {
     "cell_type": "markdown",
     "metadata": {},
     "source": [
      "We can do a very simple reference pixel correction using some very basic python and numpy.  The reference pixel correction is done by calculating the average signal in the reference pixels for a given amplifier and subtracting this signal from each pixel that is read through this amplifier.\n",
      "\n",
      "First we need to identify where the reference pixels are.  On our NRS1 dark exposure, the reference pixels are on the left and right hand edges, in columns 1-4 and columns 2045-2048.  To make this simple, we'll only use the reference pixels on the left hand edge, in columns 1-4.  Also, we'll only consider amplifier A, which encompasses rows 1-512.\n",
      "\n",
      "We specify this region using the following numpy index notation:\n"
     ]
    },
    {
     "cell_type": "code",
     "collapsed": false,
     "input": [
      "ref = newcube[:,:,0:512,0:4]\n",
      "ref.shape"
     ],
     "language": "python",
     "metadata": {},
     "outputs": [
      {
       "output_type": "pyout",
       "prompt_number": 26,
       "text": [
        "(1, 88, 512, 4)"
       ]
      }
     ],
     "prompt_number": 26
    },
    {
     "cell_type": "markdown",
     "metadata": {},
     "source": [
      "Now we need to take the mean of the reference pixels in each plane.  We can do this by looping over all the groups and putting the result of each group into a 1-d array of mean reference pixel values.  First off, we have to create an empty array of the right size:"
     ]
    },
    {
     "cell_type": "code",
     "collapsed": false,
     "input": [
      "meanref = np.zeros(88, dtype=np.float32)"
     ],
     "language": "python",
     "metadata": {},
     "outputs": [],
     "prompt_number": 45
    },
    {
     "cell_type": "markdown",
     "metadata": {},
     "source": [
      "Now we need to loop over the groups.  We use the 'range' builtin function in Python to give us a list of all the integers we need, rather like IDL's 'indgen':"
     ]
    },
    {
     "cell_type": "code",
     "collapsed": false,
     "input": [
      "for i in range(88):\n",
      "    meanref[i] = newcube[0,i,0:512,0:4].mean()\n",
      "    \n",
      "print meanref"
     ],
     "language": "python",
     "metadata": {},
     "outputs": [
      {
       "output_type": "stream",
       "stream": "stdout",
       "text": [
        "[   0.           24.65722656  -24.51464844   -2.08642578  -20.03125\n",
        "  -21.64257812  -74.33496094  -94.28515625  -35.43457031  -63.31298828\n",
        "  -77.56152344   -8.43164062  -43.94628906  -37.08154297  -46.32080078\n",
        "    8.484375    -42.23730469  -17.22265625  -69.10791016  -19.24853516\n",
        "  -59.98193359  -40.62988281  -28.23632812 -109.15966797  -15.37841797\n",
        "   -2.18310547  -42.87646484  -40.96875     -77.06445312  -38.67578125\n",
        "  -31.37744141  -35.89941406   48.20117188  -48.14794922  -28.07128906\n",
        "  -66.86328125  -22.19824219   -3.52294922   36.96337891  -41.18994141\n",
        "  -29.60253906  -44.91992188  -57.73974609  -43.97216797  -19.13671875\n",
        "  -22.32470703  -72.12548828  -41.38818359   -0.48681641  -19.09277344\n",
        "   -7.5234375    -9.78564453   -1.14013672   10.33300781   49.76855469\n",
        "   31.59765625   -1.86621094   -9.17626953   52.17382812   21.48583984\n",
        "   43.95703125   38.25048828   66.29443359   83.828125      1.34179688\n",
        "  -11.31884766   36.12792969   -2.66845703   34.83886719  -21.453125\n",
        "   -7.23632812   43.56640625   48.33105469   29.92919922   14.27783203\n",
        "   13.31494141    0.90380859   63.53857422   -5.58007812   77.22021484\n",
        "   15.73339844   21.8125       17.17529297   28.68212891   75.78710938\n",
        "    7.51757812   16.97949219   27.18505859]\n"
       ]
      }
     ],
     "prompt_number": 46
    },
    {
     "cell_type": "markdown",
     "metadata": {},
     "source": [
      "Now we can overplot the signal from pixel (200, 100) and the reference pixel signal:"
     ]
    },
    {
     "cell_type": "code",
     "collapsed": false,
     "input": [
      "clf()\n",
      "plot(newcube[0,:,99,199])\n",
      "plot(meanref)"
     ],
     "language": "python",
     "metadata": {},
     "outputs": [
      {
       "output_type": "pyout",
       "prompt_number": 47,
       "text": [
        "[<matplotlib.lines.Line2D at 0x7708d50>]"
       ]
      },
      {
       "output_type": "display_data",
       "png": "[encoded data removed]"
      }
     ],
     "prompt_number": 47
    },
    {
     "cell_type": "markdown",
     "metadata": {},
     "source": [
      "Pretty close, aren't they?  Now lets plot the difference:"
     ]
    },
    {
     "cell_type": "code",
     "collapsed": false,
     "input": [
      "plot(newcube[0,:,99,199])\n",
      "plot(meanref)\n",
      "plot(newcube[0,:,99,199]-meanref)"
     ],
     "language": "python",
     "metadata": {},
     "outputs": [
      {
       "output_type": "pyout",
       "prompt_number": 48,
       "text": [
        "[<matplotlib.lines.Line2D at 0x78da090>]"
       ]
      },
      {
       "output_type": "display_data",
       "png": "[encoded data removed]"
      }
     ],
     "prompt_number": 48
    },
    {
     "cell_type": "heading",
     "level": 2,
     "metadata": {},
     "source": [
      "Back to pyfits"
     ]
    },
    {
     "cell_type": "markdown",
     "metadata": {},
     "source": [
      "PyFITS allows you to do a lot more than just reading the pixel the data.  You can examine the headers:"
     ]
    },
    {
     "cell_type": "code",
     "collapsed": true,
     "input": [
      "h[0].header"
     ],
     "language": "python",
     "metadata": {},
     "outputs": [
      {
       "output_type": "pyout",
       "prompt_number": 31,
       "text": [
        "SIMPLE  =                    T / Data conform to FITS standard                  \n",
        "BITPIX  =                    8 / Bits per data value                            \n",
        "NAXIS   =                    0 / Number of data array dimensions                \n",
        "EXTEND  =                    T / File may contain standard extensions           \n",
        "NEXTEND =                    3 / Number of standard extensions                  \n",
        "                                                                                \n",
        "TELESCOP= 'JWST    '           / Telescope used to acquire data                 \n",
        "INSTRUME= 'NIRSPEC '           / Identifier for instrument used to acquire data \n",
        "RADESYS = 'ICRS    '           / Reference frame of equatorial or ecliptic coord\n",
        "                                                                                \n",
        "DATE    = '2012-11-07T15:10:05' / [yyyy-mm-ddThh:mm:ss.ssssss] UTC date of file \n",
        "ORIGIN  = 'STScI   '           / Institution responsible for creating FITS file \n",
        "FILENAME= 'jw00020001001_01101_00001_NRS1_uncal.fits' / Name of file            \n",
        "FILETYPE= 'UNCALIBRATED'       / Type of data found in file                     \n",
        "DPSW_VER= '0.1     '           / Data processing software version number        \n",
        "        Observation identifiers                                                 \n",
        "                                                                                \n",
        "                                                                                \n",
        "DATE-OBS= '2011-02-28T21:30:03.583' / [yyyy-mm-ddThh:mm:ss.sss] UTC date at star\n",
        "OBS_ID  = 'FILL-DET-DARK-SHORT-01' / full programmatic observation identifier   \n",
        "VISIT_ID= '' / visit identifier                                                 \n",
        "PROGRAM = '00020   '           / program number                                 \n",
        "OBSERVTN= '001     '           / observation number                             \n",
        "VISIT   = '001     '           / visit number                                   \n",
        "VISITGRP= '01      '           / visit group identifier                         \n",
        "SEQ_ID  = '1       '           / parallel sequence identifier                   \n",
        "ACT_ID  = '01      '           / activity identifier                            \n",
        "EXPOSURE= '00001   '           / exposure request number within a single activit\n",
        "        Exposure parameters                                                     \n",
        "                                                                                \n",
        "                                                                                \n",
        "DETECTOR= 'NRS1    '           / name of detector used to acquire data          \n",
        "NINTS   =                    1 / number of integrations within exposure         \n",
        "NGROUPS =                   88 / number of groups within integration            \n",
        "ZEROFRAM=                    F / T if a zero frame was read separately          \n",
        "READPATT= 'NRSRAPID'           / readout pattern                                \n",
        "DATAPROB=                    0 / T if science telemetry indicated any problems w\n",
        "        Program information                                                     \n",
        "                                                                                \n",
        "                                                                                \n",
        "TITLE   = 'N/A     '           / proposal title                                 \n",
        "PI_NAME = 'UNKNOWN '           / name of principal investigator (last, first, mi\n",
        "CATEGORY= 'N/A     '           / program category                               \n",
        "SUBCAT  = 'N/A     '           / program sub-category                           \n",
        "SCICAT  = 'N/A     '           / science category assigned during the TAC proces\n",
        "CONT_ID = 'N/A     '           / continuation of the specified previous program \n",
        "        Observation information                                                 \n",
        "                                                                                \n",
        "                                                                                \n",
        "TEMPLATE= 'N/A     '           / proposal instruction template used to specify o\n",
        "OBSLABEL= '#TODO   '           / proposer label for observation                 \n",
        "        Visit information                                                       \n",
        "                                                                                \n",
        "                                                                                \n",
        "VISITYPE= '#TODO   '           / type of visit (prime or parallel)              \n",
        "VSTSTART= '#TODO   '           / UTC visit start time                           \n",
        "WFSVISIT= '#TODO   '           / wavefront sensing and control visit indicator  \n",
        "NEXPOSUR= '#TODO   '           / total number of exposures in visit             \n",
        "INTARGET= '#TODO   '           / T if at least one exposure in visit is internal\n",
        "EXTARGET= '#TODO   '           / T if at least one exposure in visit is external\n",
        "TARGOOPP= '#TODO   '           / visit scheduled as target of opportunity (T/F) \n",
        "        Exposure information                                                    \n",
        "                                                                                \n",
        "                                                                                \n",
        "PNTG_SEQ= '#TODO   '           / pointing sequence number                       \n",
        "EXPCOUNT= '#TODO   '           / count of the exposures in visit                \n",
        "EXP_TYPE= '#TODO   '           / type of data in exposure                       \n",
        "        Target information                                                      \n",
        "                                                                                \n",
        "                                                                                \n",
        "TARGPROP= 'UNKNOWN '           / proposer's name for the target                 \n",
        "TARGNAME= 'N/A     '           / standard astronomical catalog name for the targ\n",
        "TARGTYPE= 'N/A     '           / fixed target, moving target, or generic target \n",
        "TARG_RA =                  0.0 / target RA computed at time of exposure         \n",
        "TARGURA = 'N/A     '           / target RA uncertainty computed at time of expos\n",
        "TARG_DEC=                  0.0 / target DEC computed at time of exposure        \n",
        "TARRUDEC= 'N/A     '           / target Dec uncertainty computed at time of expo\n",
        "PROP_RA = 'N/A     '           / proposer specified RA for the target           \n",
        "PROP_DEC= 'N/A     '           / proposer specified Dec for the target          \n",
        "PROPEPOC= 'N/A     '           / proposer specified epoch for RA and Dec        \n",
        "        Exposure times                                                          \n",
        "                                                                                \n",
        "                                                                                \n",
        "EXPSTART= '2011-02-28T21:30:03.583' / [Modified Julian Date] UTC exposure start \n",
        "EXPMID  = '#TODO   '           / [Modified Julian Date] UTC exposure mid time   \n",
        "EXPEND  = '2011-02-28T21:45:48.417' / [Modified Julian Date] UTC exposure end ti\n",
        "        Exposure time parameters                                                \n",
        "                                                                                \n",
        "                                                                                \n",
        "NSAMPLES=                    1 / number of A/D samples per pixel                \n",
        "NFRAMES =                    1 / number of frames in group                      \n",
        "GROUPGAP=                    0 / number of frames dropped between groups        \n",
        "TSAMPLE =                   10 / delta time between samples in microseconds     \n",
        "NRESET  = '#TODO   '           / number of resets between integrations in an exp\n",
        "NRSTSTRT= '#TODO   '           / number of extra resets at start of exposure    \n",
        "TFRAME  =             10.73676 / [seconds] time between frames                  \n",
        "TGROUP  =             10.73676 / [seconds] time between groups                  \n",
        "EFFINTTM=            934.09812 / [seconds] effective integration time           \n",
        "EFFEXPTM= '' / [seconds] effective exposure time                                \n",
        "CHRGTIME= '#TODO   '           / [seconds] charge accumulation time             \n",
        "DURATION= '#TODO   '           / [seconds] total duration of exposure           \n",
        "        subarray parameters                                                     \n",
        "                                                                                \n",
        "                                                                                \n",
        "SUBARRAY=                    F / name of subarray used                          \n",
        "SUBXSTRT=                    1 / starting pixel number in the SIAS x direction  \n",
        "SUBXSIZE=                 2048 / number of pixels in the SIAS x direction       \n",
        "SUBYSTRT=                    1 / starting pixel number in the SIAS y direction  \n",
        "SUBYSIZE=                 2048 / number of pixels in the SIAS y direction       \n",
        "NXLIGHT = '#TODO   '           / number of light sensitive x values (columns)   \n",
        "        NIRSpec configuration (NIRSpec only)                                    \n",
        "                                                                                \n",
        "                                                                                \n",
        "FILTER  = 'OPAQUE  '           / name of the filter element used                \n",
        "GRATING = 'G140H   '           / name of the grating element used               \n",
        "FXD_SLIT= '#TODO   '           / name of fixed slit aperture used               \n",
        "MSASTATE= '#TODO   '           / state of MSA: all open, all closed, configured \n",
        "FOCUSPOS= '#TODO   '           / [mm] focus position for NIRSpec                \n",
        "        NIRSpec MSA supporting files (NIRSpec MSA only)                         \n",
        "                                                                                \n",
        "                                                                                \n",
        "MSACONFG= 'N/A     '           / MSA configuration file name                    \n",
        "        lamp configuration                                                      \n",
        "                                                                                \n",
        "                                                                                \n",
        "LAMP    = 'CLOSE   '           / internal lamp state                            \n",
        "        Guide star information                                                  \n",
        "                                                                                \n",
        "GS_ORDER= 'N/A     '           / index of guide star within list of selected gui\n",
        "GSSTRTTM= 'N/A     '           / UTC start time of guide star acquisition activi\n",
        "GSENDTIM= 'N/A     '           / UTC end time of guide star acquisition activity\n",
        "GDSTARID= 'N/A     '           / guide star identifier                          \n",
        "GS_RA   = 'N/A     '           / guide star right ascension                     \n",
        "GS_DEC  = 'N/A     '           / guide star declination                         \n",
        "GSURA   = 'N/A     '           / guide star right ascension uncertainty         \n",
        "GSUDEC  = 'N/A     '           / guide star declination uncertainty             \n",
        "GS_MAG  = 'N/A     '           / guide star magnitude in FGS detector           \n",
        "GSUMAG  = 'N/A     '           / guide star magnitude uncertainty               \n",
        "PCS_MODE= 'N/A     '           / Pointing Control System mode                   \n",
        "GSCENTX = 'N/A     '           / guide star centroid x position in ideal coordin\n",
        "GSCENTY = 'N/A     '           / guide star centroid y position in ideal coordin\n",
        "JITTERMS= 'N/A     '           / [arcsec] RMS jitter over the exposure          \n",
        "        JWST ephemeris information                                              \n",
        "                                                                                \n",
        "                                                                                \n",
        "COORDSYS= 'N/A     '           / ephemeris coordinate system                    \n",
        "EPH_TIME= 'N/A     '           / [sec] UTC time from ephemeris start time       \n",
        "JWST_X  = 'N/A     '           / [km] X spatial coordinate of JWST              \n",
        "JWST_Y  = 'N/A     '           / [km] Y spatial coordinate of JWST              \n",
        "JWST_Z  = 'N/A     '           / [km] Z spatial coordinate of JWST              \n",
        "JWST_DX = 'N/A     '           / [km/sec] X component of JWST velocity vector   \n",
        "JWST_DY = 'N/A     '           / [km/sec] Y component of JWST velocity vector   \n",
        "JWST_DZ = 'N/A     '           / [km/sec] Z component of JWST velocity vector   \n",
        "        Spacecraft pointing information                                         \n",
        "                                                                                \n",
        "                                                                                \n",
        "                                                                                \n",
        "PA_V3   = 'N/A     '           / [deg] position angle of V3-axis of JWST        \n",
        "RA_V1   = 'N/A     '           / [deg] RA of telescope V1 axis                  \n",
        "DEC_V1  = 'N/A     '           / [deg] Dec of telescope V1 axis                 \n",
        "        Aperture pointing information                                           \n",
        "                                                                                \n",
        "                                                                                \n",
        "APERNAME= '#TODO   '           / mnemonic for PDB science aperture used         \n",
        "PA_APER = '#TODO   '           / [deg] position angle of aperture used with targ\n",
        "        WCS parameters                                                          \n",
        "                                                                                \n",
        "                                                                                \n",
        "WCSAXES =                    2 / number of World Coordinate System axes         \n",
        "CRPIX1  = 'N/A     '           / x-coordinate of the reference pixel            \n",
        "CRPIX2  = 'N/A     '           / y-coordinate of the reference pixel            \n",
        "CRVAL1  = 'N/A     '           / [degrees] right ascension value at the referenc\n",
        "CRVAL2  = 'N/A     '           / [degrees] declination value at the reference pi\n",
        "CTYPE1  = 'RA---TAN'           / first axis coordinate type                     \n",
        "CTYPE2  = 'DEC--TAN'           / second axis coordinate type                    \n",
        "CDELT1  = 'N/A     '           / [degrees] increment per pixel, increasing eastw\n",
        "CDELT2  = 'N/A     '           / [degrees] increment per pixel, increasing north\n",
        "PC1_1   = 'N/A     '           / linear transformation matrix element cos(theta)\n",
        "PC1_2   = 'N/A     '           / linear transformation matrix element -sin(theta\n",
        "PC2_1   = 'N/A     '           / linear transformation matrix element sin(theta)\n",
        "PC2_2   = 'N/A     '           / linear transformation matrix element cos(theta)\n",
        "S_REGION= 'N/A     '           / spatial extent of the observation              \n",
        "        Velocity aberration correction                                          \n",
        "                                                                                \n",
        "DVA_RA  = 'N/A     '           / [radians] velocity aberration correction RA off\n",
        "DVA_DEC = 'N/A     '           / [radians] velocity aberration correction Dec of\n",
        "VA_SCALE= 'N/A     '           / velocity aberration scale factor               \n",
        "        Time related keywords                                                   \n",
        "                                                                                \n",
        "                                                                                \n",
        "BARTDELT= 'N/A     '           / [sec] calculated Barycentric time correction fr\n",
        "BSTRTIME= 'N/A     '           / [days] Solar System Barycentric exposure start \n",
        "BENDTIME= 'N/A     '           / [days] Solar System Barycentric exposure end ti\n",
        "BMIDTIME= 'N/A     '           / [days] Solar System Barycentric exposure mid ti\n",
        "HELIDELT= 'N/A     '           / [days] calculated Heliocentric time correction \n",
        "HSTRTIME= 'N/A     '           / [days] Heliocentric exposure start time in MJD \n",
        "HENDTIME= 'N/A     '           / [days] Heliocentric exposure end time in MJD   \n",
        "HMIDTIME= 'N/A     '           / [days] Heliocentric exposure mid time in MJD   \n",
        "                                                                                \n",
        "                                                                                "
       ]
      }
     ],
     "prompt_number": 31
    },
    {
     "cell_type": "markdown",
     "metadata": {},
     "source": [
      "You can change individual header entries:"
     ]
    },
    {
     "cell_type": "code",
     "collapsed": false,
     "input": [
      "h[0].header['HMIDTIME'] = 0.0"
     ],
     "language": "python",
     "metadata": {},
     "outputs": [],
     "prompt_number": 32
    },
    {
     "cell_type": "code",
     "collapsed": false,
     "input": [
      "h[0].header['HMIDTIME']"
     ],
     "language": "python",
     "metadata": {},
     "outputs": [
      {
       "output_type": "pyout",
       "prompt_number": 33,
       "text": [
        "0.0"
       ]
      }
     ],
     "prompt_number": 33
    },
    {
     "cell_type": "markdown",
     "metadata": {},
     "source": [
      "But nothing changes until you write out the data"
     ]
    },
    {
     "cell_type": "code",
     "collapsed": false,
     "input": [
      "h.writeto('newversion.fits')"
     ],
     "language": "python",
     "metadata": {},
     "outputs": [],
     "prompt_number": 34
    },
    {
     "cell_type": "markdown",
     "metadata": {},
     "source": [
      "Now we have two FITS files, and the only difference between them is the value of the HMIDTIME keyword."
     ]
    },
    {
     "cell_type": "markdown",
     "metadata": {},
     "source": [
      "You can also change the data:"
     ]
    },
    {
     "cell_type": "code",
     "collapsed": false,
     "input": [
      "h[1].data = newcube"
     ],
     "language": "python",
     "metadata": {},
     "outputs": [],
     "prompt_number": 35
    },
    {
     "cell_type": "code",
     "collapsed": false,
     "input": [
      "h.writeto('newversion.fits',clobber=True)"
     ],
     "language": "python",
     "metadata": {},
     "outputs": [
      {
       "output_type": "stream",
       "stream": "stderr",
       "text": [
        "Overwriting existing file 'newversion.fits'.\n"
       ]
      }
     ],
     "prompt_number": 36
    },
    {
     "cell_type": "code",
     "collapsed": false,
     "input": [
      "ls"
     ],
     "language": "python",
     "metadata": {},
     "outputs": [
      {
       "output_type": "stream",
       "stream": "stdout",
       "text": [
        "\u001b[0m\u001b[01;34mDQInit\u001b[0m/                                     NRS1_dark88.fits\r\n",
        "\u001b[01;31mdqinit.tar\u001b[0m                                  \u001b[01;34mpyfits\u001b[0m/\r\n",
        "\u001b[01;32mExposure_Log_FM_Phase5_Latest_29Jul11.csv\u001b[0m*  Session2_RIJ.ipynb\r\n",
        "\u001b[01;34mfits_generator\u001b[0m/                             \u001b[01;34mtest\u001b[0m/\r\n",
        "\u001b[01;32minstall_ureka_v1.0beta3\u001b[0m*                    \u001b[01;34mUreka\u001b[0m/\r\n",
        "newversion.fits                             \u001b[01;31mUreka_linux-rhe5_64_dev.tar\u001b[0m\r\n"
       ]
      },
      {
       "output_type": "stream",
       "stream": "stdout",
       "text": [
        "\u001b[0m\u001b[01;34mDQInit\u001b[0m/                                     NRS1_dark88.fits\r\n",
        "\u001b[01;31mdqinit.tar\u001b[0m                                  \u001b[01;34mpyfits\u001b[0m/\r\n",
        "\u001b[01;32mExposure_Log_FM_Phase5_Latest_29Jul11.csv\u001b[0m*  Session2_RIJ.ipynb\r\n",
        "\u001b[01;34mfits_generator\u001b[0m/                             \u001b[01;34mtest\u001b[0m/\r\n",
        "\u001b[01;32minstall_ureka_v1.0beta3\u001b[0m*                    \u001b[01;34mUreka\u001b[0m/\r\n",
        "newversion.fits                             \u001b[01;31mUreka_linux-rhe5_64_dev.tar\u001b[0m\r\n"
       ]
      }
     ],
     "prompt_number": 38
    },
    {
     "cell_type": "markdown",
     "metadata": {},
     "source": [
      "If you display this version of the data using ds9 or similar, you'll be able to see much more than is visible in the version without the first group subtracted\n",
      "\n",
      "- The amplifier boundaries are visible, as is the fact that they jump randomly from group to group\n",
      "- Each hot pixel (more than a few thousand counts) is surrounded by four warm pixels in a cross-shaped pattern.  This is due to inter-pixel capacitance.\n",
      "- There is a zebra-stripe pattern that is due to 1/f noise in the amplifiers"
     ]
    },
    {
     "cell_type": "markdown",
     "metadata": {},
     "source": [
      "You can display images into a ds9 window from within Python using the numdisplay package."
     ]
    },
    {
     "cell_type": "code",
     "collapsed": true,
     "input": [
      "from stsci import numdisplay\n",
      "numdisplay.display(newcube[0,50],zscale=True)"
     ],
     "language": "python",
     "metadata": {},
     "outputs": [
      {
       "output_type": "stream",
       "stream": "stdout",
       "text": [
        "Image displayed with Z1: "
       ]
      },
      {
       "output_type": "stream",
       "stream": "stdout",
       "text": [
        " -110.0"
       ]
      },
      {
       "output_type": "stream",
       "stream": "stdout",
       "text": [
        "  Z2: 159.234070434\n"
       ]
      }
     ],
     "prompt_number": 39
    },
    {
     "cell_type": "markdown",
     "metadata": {},
     "source": [
      "It's a bit like using the IRAF 'display' command, in that your image is scaled into the range 0-199 before being sent to ds9.  Personally, I find it much more useful to write the files out and read them directly into ds9, that way you see all the planes of a cube and you can easily scroll through them."
     ]
    },
    {
     "cell_type": "heading",
     "level": 2,
     "metadata": {},
     "source": [
      "Working with tables"
     ]
    },
    {
     "cell_type": "markdown",
     "metadata": {},
     "source": [
      "You can work with text tables using the ascii module in the astropy package.  This is the same as the asciitables package of Tom Aldcroft that some of you may have used.\n",
      "\n",
      "Start by importing the package:"
     ]
    },
    {
     "cell_type": "code",
     "collapsed": false,
     "input": [
      "import sys\n",
      "sys.path.insert(1,'/home/robert/py-lib')\n",
      "from astropy.io import ascii"
     ],
     "language": "python",
     "metadata": {},
     "outputs": [],
     "prompt_number": 35
    },
    {
     "cell_type": "markdown",
     "metadata": {},
     "source": [
      "The ascii table reader can read a large number of different table formats:\n",
      "\n",
      "-    Basic: basic table with customizable delimiters and header configurations\n",
      "-    Cds: CDS format table (also Vizier and ApJ machine readable tables)\n",
      "-    CommentedHeader: column names given in a line that begins with the comment character\n",
      "-    Daophot: table from the IRAF DAOphot package\n",
      "-    FixedWidth: table with fixed-width columns (Fixed-width Gallery)\n",
      "-    Ipac: IPAC format table\n",
      "-    Latex, AASTex: LaTeX tables (plain and AASTex)\n",
      "-    Memory: table already in memory (list of lists, dict of lists, etc)\n",
      "-    NoHeader: basic table with no header where columns are auto-named\n",
      "-    Rdb: tab-separated values with an extra line after the column definition line\n",
      "-    Tab: tab-separated values\n",
      "\n",
      "First we need some suitable table data.  I picked a large .csv file with information about MIRI FM test data."
     ]
    },
    {
     "cell_type": "code",
     "collapsed": false,
     "input": [
      "ls"
     ],
     "language": "python",
     "metadata": {},
     "outputs": [
      {
       "output_type": "stream",
       "stream": "stdout",
       "text": [
        "\u001b[0m\u001b[01;34mastropy-2012-12-05\u001b[0m/                         newversion.fits\r\n",
        "\u001b[01;31mastropy-2012-12-05.tar\u001b[0m                      NRS1_dark88.fits\r\n",
        "\u001b[01;34mDQInit\u001b[0m/                                     \u001b[01;34mpyfits\u001b[0m/\r\n",
        "\u001b[01;31mdqinit.tar\u001b[0m                                  Session2_RIJ.ipynb\r\n",
        "\u001b[01;32mExposure_Log_FM_Phase5_Latest_29Jul11.csv\u001b[0m*  \u001b[01;34mtest\u001b[0m/\r\n",
        "\u001b[01;34mfits_generator\u001b[0m/                             \u001b[01;34mUreka\u001b[0m/\r\n",
        "\u001b[01;32minstall_ureka_v1.0beta3\u001b[0m*                    \u001b[01;31mUreka_linux-rhe5_64_dev.tar\u001b[0m\r\n"
       ]
      }
     ],
     "prompt_number": 2
    },
    {
     "cell_type": "markdown",
     "metadata": {},
     "source": [
      "This file has a couple of lines of junk, followed by a line with the column names, followed by the data.  If we tell the ascii.read function this, it will read the table nicely..."
     ]
    },
    {
     "cell_type": "code",
     "collapsed": false,
     "input": [
      "data = ascii.read('Exposure_Log_FM_Phase5_Latest_29Jul11.csv', header_start=2, data_start=3)"
     ],
     "language": "python",
     "metadata": {},
     "outputs": [],
     "prompt_number": 36
    },
    {
     "cell_type": "markdown",
     "metadata": {},
     "source": [
      "That seemed to work.  What did we get?"
     ]
    },
    {
     "cell_type": "code",
     "collapsed": false,
     "input": [
      "data"
     ],
     "language": "python",
     "metadata": {},
     "outputs": [
      {
       "html": [
        "<table><tr><th>OBSID</th><th>EXPID</th><th>Test Label</th><th>...</th><th>PSS LED Current</th><th>Pupil X</th><th>Pupil Y</th></tr><tr><td>FM1T00010019</td><td>1</td><td>MIRI_FT_FPE_IM_FULL_TP</td><td>...</td><td>0.0</td><td>0.0</td><td>0.0</td></tr><tr><td>FM1T00010020</td><td>1</td><td>MIRI_FT_FPE_MRS_FULL_TP</td><td>...</td><td>0.0</td><td>0.0</td><td>0.0</td></tr><tr><td>FM1T00010021</td><td>1</td><td>MIRI_FT_FPE_COMMS_CHECK</td><td>...</td><td>0.0</td><td>0.0</td><td>0.0</td></tr><tr><td>FM1T00010023</td><td>1</td><td>FPS Grounding Test</td><td>...</td><td>0.0</td><td>0.0</td><td>0.0</td></tr><tr><td>FM1T00010023</td><td>2</td><td>FPS Grounding Test</td><td>...</td><td>0.0</td><td>0.0</td><td>0.0</td></tr><tr><td>FM1T00010023</td><td>3</td><td>FPS Grounding Test</td><td>...</td><td>0.0</td><td>0.0</td><td>0.0</td></tr><tr><td>FM1T00010023</td><td>4</td><td>FPS Grounding Test</td><td>...</td><td>0.0</td><td>0.0</td><td>0.0</td></tr><tr><td>FM1T00010023</td><td>5</td><td>FPS Grounding Test</td><td>...</td><td>0.0</td><td>0.0</td><td>0.0</td></tr><tr><td>FM1T00010023</td><td>6</td><td>FPS Grounding Test</td><td>...</td><td>0.0</td><td>0.0</td><td>0.0</td></tr><tr><td>FM1T00010023</td><td>7</td><td>FPS Grounding Test</td><td>...</td><td>0.0</td><td>0.0</td><td>0.0</td></tr><tr><td>FM1T00010024</td><td>1</td><td>MIRI_FT_FPE_IM_AMB</td><td>...</td><td>0.0</td><td>0.0</td><td>0.0</td></tr><tr><td>...</td><td>...</td><td>...</td><td>...</td><td>...</td><td>...</td><td>...</td></tr><tr><td>FM1T00014002</td><td>2</td><td>IMG_OPT_05_POL</td><td>...</td><td>0.0</td><td>0.0</td><td>0.0</td></tr><tr><td>FM1T00014002</td><td>3</td><td>IMG_OPT_05_POL</td><td>...</td><td>0.0</td><td>0.0</td><td>0.0</td></tr><tr><td>FM1T00014002</td><td>4</td><td>IMG_OPT_05_POL</td><td>...</td><td>0.0</td><td>0.0</td><td>0.0</td></tr><tr><td>FM1T00014002</td><td>5</td><td>IMG_OPT_05_POL</td><td>...</td><td>0.0</td><td>0.0</td><td>0.0</td></tr><tr><td>FM1T00014002</td><td>6</td><td>IMG_OPT_05_POL</td><td>...</td><td>0.0</td><td>0.0</td><td>0.0</td></tr><tr><td>FM1T00014003</td><td>1</td><td>IMG_OPT_05_POL</td><td>...</td><td>0.0</td><td>0.0</td><td>0.0</td></tr><tr><td>FM1T00014003</td><td>2</td><td>IMG_OPT_05_POL</td><td>...</td><td>0.0</td><td>0.0</td><td>0.0</td></tr><tr><td>FM1T00014003</td><td>3</td><td>IMG_OPT_05_POL</td><td>...</td><td>0.0</td><td>0.0</td><td>0.0</td></tr><tr><td>FM1T00014003</td><td>4</td><td>IMG_OPT_05_POL</td><td>...</td><td>0.0</td><td>0.0</td><td>0.0</td></tr><tr><td>FM1T00014003</td><td>5</td><td>IMG_OPT_05_POL</td><td>...</td><td>0.0</td><td>0.0</td><td>0.0</td></tr><tr><td>FM1T00014003</td><td>6</td><td>IMG_OPT_05_POL</td><td>...</td><td>0.0</td><td>0.0</td><td>0.0</td></tr></table>"
       ],
       "output_type": "pyout",
       "prompt_number": 4,
       "text": [
        "<Table rows=8326 names=('OBSID','EXPID','Test Label','Exp Start Time','FPE Side','Detectors','Nframes','Nints','SubArray','NColumns','NRows','Read Mode','Det Mode','Start Column','Start Row','Detector Temp','Frame_Resets','Row_Resets','ADC_Delay','RPC_Delay','Row_Underlap','Col_Underlap','VDETCOM','VDDUC','VP Bias','VSSOUT','FPE Temp','ICE Side','CCC Pos','FWA Pos','DGAA Pos','DGAB Pos','IMG Cal I','IMG Cal V','IMG Cal Mode','MRS Cal I','MRS Cal V','MRS Cal Mode','MTS FW','VAS %','BB Temp','FM4 Temp','Source','Pinhole','FOV X','FOV Y','Imager X','Imager Y','SS Focus','Focus Offset','MRS Alpha','MRS Slice','MRS Subchan','PSS LED Current','Pupil X','Pupil Y')>\n",
        "array([ ('FM1T00010019', 1, 'MIRI_FT_FPE_IM_FULL_TP', '2011-04-26:16:24:53', 'NOMINAL', 'IMAGER', 2, 3, 'FULL', 1032, 1024, 'FAST', 'TEST_PATTERN', 1, 1, 293.2877724, 0, 3, 260, 24, 12, 24, -0.000383, -0.000383, -0.000217, -0.002797, 295.6150632, 'NOMINAL', 'LOCKED', 'F770W', 'LONG', 'LONG', 0.0, 0.0, 'NA', 0.0, 0.0, 'NA', 'UNKNOWN', 0.0, 294.7900085, 292.2000122, 'UNKNOWN', 'NONE', 0.0, 0.0, -999.0, -999.0, 0.0, 0, -999.0, -999.0, 'NONE', 0.0, 0.0, 0.0),\n",
        "       ('FM1T00010020', 1, 'MIRI_FT_FPE_MRS_FULL_TP', '2011-04-26:16:27:15', 'NOMINAL', 'BOTH_MRS', 2, 3, 'FULL', 1032, 1024, 'FAST', 'TEST_PATTERN', 1, 1, 293.3529064, 0, 3, 260, 24, 12, 24, -0.000383, -0.000383, -0.000217, -0.002797, 296.0079324, 'NOMINAL', 'LOCKED', 'F770W', 'LONG', 'LONG', 0.0, 0.0, 'NA', 0.0, 0.0, 'NA', 'UNKNOWN', 0.0, 294.7839966, 292.2000122, 'UNKNOWN', 'NONE', 0.0, 0.0, -999.0, -999.0, 0.0, 0, -999.0, -999.0, 'NONE', 0.0, 0.0, 0.0),\n",
        "       ('FM1T00010021', 1, 'MIRI_FT_FPE_COMMS_CHECK', '2011-04-26:16:30:15', 'NOMINAL', 'ALL', 3, 2, 'FULL', 1032, 1024, 'FAST', 'TEST_PATTERN', 1, 1, 293.4533905, 0, 3, 260, 24, 12, 24, -0.000383, -0.000383, -0.000217, -0.002797, 296.4134748, 'NOMINAL', 'LOCKED', 'F770W', 'LONG', 'LONG', 0.0, 0.0, 'NA', 0.0, 0.0, 'NA', 'UNKNOWN', 0.0, 294.776001, 292.2999878, 'UNKNOWN', 'NONE', 0.0, 0.0, -999.0, -999.0, 0.0, 0, -999.0, -999.0, 'NONE', 0.0, 0.0, 0.0),\n",
        "       ...,\n",
        "       ('FM1T00014003', 4, 'IMG_OPT_05_POL', '2011-07-29:16:02:44', 'NOMINAL', 'IMAGER', 10, 10, 'FULL', 1032, 1024, 'FAST', 'EXPOSURE', 1, 1, 6.699921875, 3, 4, 260, 90, 12, 24, -4.016759, -1.991407, -0.802094, 5.202749, 301.5334476, 'NOMINAL', 'OPEN', 'F560W', 'MEDIUM', 'MEDIUM', 0.000161798, -5.9e-05, 'NA', 6.68e-05, 0.000117095, 'NA', 'HOLE', 4.0, 800.0009766, 26.29999924, 'POLARISER', 'POLAR2', -29525.18359, 22405.16602, 950.0, 900.0, 12584.28906, 0, -999.0, -999.0, 'NONE', 0.0, 0.0, 0.0),\n",
        "       ('FM1T00014003', 5, 'IMG_OPT_05_POL', '2011-07-29:16:10:11', 'NOMINAL', 'IMAGER', 10, 10, 'FULL', 1032, 1024, 'FAST', 'EXPOSURE', 1, 1, 6.699921875, 3, 4, 260, 90, 12, 24, -4.016759, -1.991407, -0.802094, 5.202749, 301.5081012, 'NOMINAL', 'OPEN', 'F560W', 'MEDIUM', 'MEDIUM', -0.000349, -5.9e-05, 'NA', -0.000444, 0.000117095, 'NA', 'HOLE', 4.0, 799.9990234, 26.39999962, 'POLARISER', 'POLAR3', -17949.61523, 19202.14258, 900.0, 740.0, 16450.74414, 0, -999.0, -999.0, 'NONE', 0.0, 0.0, 0.0),\n",
        "       ('FM1T00014003', 6, 'IMG_OPT_05_POL', '2011-07-29:16:17:24', 'NOMINAL', 'IMAGER', 10, 10, 'FULL', 1032, 1024, 'FAST', 'EXPOSURE', 1, 1, 6.700128929, 3, 4, 260, 90, 12, 24, -4.016759, -1.991407, -0.802094, 5.202749, 301.4827548, 'NOMINAL', 'OPEN', 'F560W', 'MEDIUM', 'MEDIUM', -9.36e-05, -5.9e-05, 'NA', 6.68e-05, 0.00015346, 'NA', 'HOLE', 4.0, 800.0020142, 26.39999962, 'POLARISER', 'POLAR3', -29525.18359, 22405.16602, 950.0, 900.0, 12583.3125, 0, -999.0, -999.0, 'NONE', 0.0, 0.0, 0.0)], \n",
        "      dtype=[('OBSID', '|S12'), ('EXPID', '<i8'), ('Test Label', '|S32'), ('Exp Start Time', '|S19'), ('FPE Side', '|S9'), ('Detectors', '|S8'), ('Nframes', '<i8'), ('Nints', '<i8'), ('SubArray', '|S13'), ('NColumns', '<i8'), ('NRows', '<i8'), ('Read Mode', '|S4'), ('Det Mode', '|S12'), ('Start Column', '<i8'), ('Start Row', '<i8'), ('Detector Temp', '<f8'), ('Frame_Resets', '<i8'), ('Row_Resets', '<i8'), ('ADC_Delay', '<i8'), ('RPC_Delay', '<i8'), ('Row_Underlap', '<i8'), ('Col_Underlap', '<i8'), ('VDETCOM', '<f8'), ('VDDUC', '<f8'), ('VP Bias', '<f8'), ('VSSOUT', '<f8'), ('FPE Temp', '<f8'), ('ICE Side', '|S9'), ('CCC Pos', '|S6'), ('FWA Pos', '|S7'), ('DGAA Pos', '|S6'), ('DGAB Pos', '|S6'), ('IMG Cal I', '<f8'), ('IMG Cal V', '<f8'), ('IMG Cal Mode', '|S9'), ('MRS Cal I', '<f8'), ('MRS Cal V', '<f8'), ('MRS Cal Mode', '|S9'), ('MTS FW', '|S9'), ('VAS %', '<f8'), ('BB Temp', '<f8'), ('FM4 Temp', '<f8'), ('Source', '|S9'), ('Pinhole', '|S11'), ('FOV X', '<f8'), ('FOV Y', '<f8'), ('Imager X', '<f8'), ('Imager Y', '<f8'), ('SS Focus', '<f8'), ('Focus Offset', '<i8'), ('MRS Alpha', '<f8'), ('MRS Slice', '<f8'), ('MRS Subchan', '|S4'), ('PSS LED Current', '<f8'), ('Pupil X', '<f8'), ('Pupil Y', '<f8')])"
       ]
      }
     ],
     "prompt_number": 4
    },
    {
     "cell_type": "markdown",
     "metadata": {},
     "source": [
      "We clearly got some complex object, but what is it?"
     ]
    },
    {
     "cell_type": "code",
     "collapsed": false,
     "input": [
      "type(data)"
     ],
     "language": "python",
     "metadata": {},
     "outputs": [
      {
       "output_type": "pyout",
       "prompt_number": 5,
       "text": [
        "astropy.table.table.Table"
       ]
      }
     ],
     "prompt_number": 5
    },
    {
     "cell_type": "markdown",
     "metadata": {},
     "source": [
      "The Table class is part of astropy, and its documentation can be found in the data tables section of astropy's documentation:\n",
      "\n",
      "http://astropy.readthedocs.org/en/v0.1/table/index.html\n",
      "\n",
      "We can find out what we can do with this object by tabbing"
     ]
    },
    {
     "cell_type": "code",
     "collapsed": true,
     "input": [
      "data."
     ],
     "language": "python",
     "metadata": {},
     "outputs": [
      {
       "ename": "SyntaxError",
       "evalue": "invalid syntax (<ipython-input-6-1adda7b3306c>, line 1)",
       "output_type": "pyerr",
       "traceback": [
        "\u001b[1;36m  File \u001b[1;32m\"<ipython-input-6-1adda7b3306c>\"\u001b[1;36m, line \u001b[1;32m1\u001b[0m\n\u001b[1;33m    data.\u001b[0m\n\u001b[1;37m         ^\u001b[0m\n\u001b[1;31mSyntaxError\u001b[0m\u001b[1;31m:\u001b[0m invalid syntax\n"
       ]
      }
     ],
     "prompt_number": 6
    },
    {
     "cell_type": "code",
     "collapsed": false,
     "input": [
      "data.colnames\n"
     ],
     "language": "python",
     "metadata": {},
     "outputs": [
      {
       "output_type": "pyout",
       "prompt_number": 6,
       "text": [
        "['OBSID',\n",
        " 'EXPID',\n",
        " 'Test Label',\n",
        " 'Exp Start Time',\n",
        " 'FPE Side',\n",
        " 'Detectors',\n",
        " 'Nframes',\n",
        " 'Nints',\n",
        " 'SubArray',\n",
        " 'NColumns',\n",
        " 'NRows',\n",
        " 'Read Mode',\n",
        " 'Det Mode',\n",
        " 'Start Column',\n",
        " 'Start Row',\n",
        " 'Detector Temp',\n",
        " 'Frame_Resets',\n",
        " 'Row_Resets',\n",
        " 'ADC_Delay',\n",
        " 'RPC_Delay',\n",
        " 'Row_Underlap',\n",
        " 'Col_Underlap',\n",
        " 'VDETCOM',\n",
        " 'VDDUC',\n",
        " 'VP Bias',\n",
        " 'VSSOUT',\n",
        " 'FPE Temp',\n",
        " 'ICE Side',\n",
        " 'CCC Pos',\n",
        " 'FWA Pos',\n",
        " 'DGAA Pos',\n",
        " 'DGAB Pos',\n",
        " 'IMG Cal I',\n",
        " 'IMG Cal V',\n",
        " 'IMG Cal Mode',\n",
        " 'MRS Cal I',\n",
        " 'MRS Cal V',\n",
        " 'MRS Cal Mode',\n",
        " 'MTS FW',\n",
        " 'VAS %',\n",
        " 'BB Temp',\n",
        " 'FM4 Temp',\n",
        " 'Source',\n",
        " 'Pinhole',\n",
        " 'FOV X',\n",
        " 'FOV Y',\n",
        " 'Imager X',\n",
        " 'Imager Y',\n",
        " 'SS Focus',\n",
        " 'Focus Offset',\n",
        " 'MRS Alpha',\n",
        " 'MRS Slice',\n",
        " 'MRS Subchan',\n",
        " 'PSS LED Current',\n",
        " 'Pupil X',\n",
        " 'Pupil Y']"
       ]
      }
     ],
     "prompt_number": 6
    },
    {
     "cell_type": "code",
     "collapsed": false,
     "input": [
      "data.pprint()"
     ],
     "language": "python",
     "metadata": {},
     "outputs": [
      {
       "output_type": "stream",
       "stream": "stdout",
       "text": [
        "\u001b[0;31m   OBSID     EXPID        Test Label       ... PSS LED Current Pupil X Pupil Y\u001b[0m\n",
        "\u001b[0;31m------------ ----- ----------------------- ... --------------- ------- -------\u001b[0m\n",
        "FM1T00010019     1  MIRI_FT_FPE_IM_FULL_TP ...             0.0     0.0     0.0\n",
        "FM1T00010020     1 MIRI_FT_FPE_MRS_FULL_TP ...             0.0     0.0     0.0\n",
        "FM1T00010021     1 MIRI_FT_FPE_COMMS_CHECK ...             0.0     0.0     0.0\n",
        "FM1T00010023     1      FPS Grounding Test ...             0.0     0.0     0.0\n",
        "FM1T00010023     2      FPS Grounding Test ...             0.0     0.0     0.0\n",
        "FM1T00010023     3      FPS Grounding Test ...             0.0     0.0     0.0\n",
        "FM1T00010023     4      FPS Grounding Test ...             0.0     0.0     0.0\n",
        "FM1T00010023     5      FPS Grounding Test ...             0.0     0.0     0.0\n",
        "FM1T00010023     6      FPS Grounding Test ...             0.0     0.0     0.0\n",
        "FM1T00010023     7      FPS Grounding Test ...             0.0     0.0     0.0\n",
        "FM1T00010024     1      MIRI_FT_FPE_IM_AMB ...             0.0     0.0     0.0\n",
        "         ...   ...                     ... ...             ...     ...     ...\n",
        "FM1T00014002     2          IMG_OPT_05_POL ...             0.0     0.0     0.0\n",
        "FM1T00014002     3          IMG_OPT_05_POL ...             0.0     0.0     0.0\n",
        "FM1T00014002     4          IMG_OPT_05_POL ...             0.0     0.0     0.0\n",
        "FM1T00014002     5          IMG_OPT_05_POL ...             0.0     0.0     0.0\n",
        "FM1T00014002     6          IMG_OPT_05_POL ...             0.0     0.0     0.0\n",
        "FM1T00014003     1          IMG_OPT_05_POL ...             0.0     0.0     0.0\n",
        "FM1T00014003     2          IMG_OPT_05_POL ...             0.0     0.0     0.0\n",
        "FM1T00014003     3          IMG_OPT_05_POL ...             0.0     0.0     0.0\n",
        "FM1T00014003     4          IMG_OPT_05_POL ...             0.0     0.0     0.0\n",
        "FM1T00014003     5          IMG_OPT_05_POL ...             0.0     0.0     0.0\n",
        "FM1T00014003     6          IMG_OPT_05_POL ...             0.0     0.0     0.0\n"
       ]
      }
     ],
     "prompt_number": 7
    },
    {
     "cell_type": "markdown",
     "metadata": {},
     "source": [
      "One thing that isn't obvious from the list of methods is that we can use the column name to refer to the column, rather like a FITS header keyword"
     ]
    },
    {
     "cell_type": "code",
     "collapsed": false,
     "input": [
      "data['OBSID']"
     ],
     "language": "python",
     "metadata": {},
     "outputs": [
      {
       "output_type": "pyout",
       "prompt_number": 8,
       "text": [
        "<Column name='OBSID' units=None format=None description=None>\n",
        "array(['FM1T00010019', 'FM1T00010020', 'FM1T00010021', ..., 'FM1T00014003',\n",
        "       'FM1T00014003', 'FM1T00014003'], \n",
        "      dtype='|S12')"
       ]
      }
     ],
     "prompt_number": 8
    },
    {
     "cell_type": "markdown",
     "metadata": {},
     "source": [
      "data['OBSID\"] is another object, looks like a Column object.  For some reason the IPython notebook doesn't let you tab the data['OBSID'] object to see what methods it has..."
     ]
    },
    {
     "cell_type": "code",
     "collapsed": false,
     "input": [
      "type(data['OBSID'])"
     ],
     "language": "python",
     "metadata": {},
     "outputs": [
      {
       "output_type": "pyout",
       "prompt_number": 10,
       "text": [
        "astropy.table.table.Column"
       ]
      }
     ],
     "prompt_number": 10
    },
    {
     "cell_type": "markdown",
     "metadata": {},
     "source": [
      "But if we assign this to a new variable, we can do it..."
     ]
    },
    {
     "cell_type": "code",
     "collapsed": false,
     "input": [
      "obsidcol = data['OBSID']"
     ],
     "language": "python",
     "metadata": {},
     "outputs": [],
     "prompt_number": 11
    },
    {
     "cell_type": "code",
     "collapsed": false,
     "input": [
      "obsidcol."
     ],
     "language": "python",
     "metadata": {},
     "outputs": []
    },
    {
     "cell_type": "markdown",
     "metadata": {},
     "source": [
      "It looks a lot like a numpy ndarray, but the actual array part is in the 'data' member.\n",
      "\n",
      "We can use the numpy 'where' method to find all the exposures taken with the imaging array and with at least 5 integrations:"
     ]
    },
    {
     "cell_type": "code",
     "collapsed": false,
     "input": [
      "imaging = np.where(data['Detectors'].data == 'IMAGER')\n",
      "imaging"
     ],
     "language": "python",
     "metadata": {},
     "outputs": [
      {
       "output_type": "pyout",
       "prompt_number": 12,
       "text": [
        "(array([   0,   10,   11, ..., 8323, 8324, 8325]),)"
       ]
      }
     ],
     "prompt_number": 12
    },
    {
     "cell_type": "markdown",
     "metadata": {},
     "source": [
      "The 'where' function of numpy returns a tuple with an associative array as the first element.  This array gives\n",
      "the indices (or row numbers) where the condition was found to be True, and can be used as an index for a numpy array."
     ]
    },
    {
     "cell_type": "code",
     "collapsed": false,
     "input": [
      "len(imaging[0])"
     ],
     "language": "python",
     "metadata": {},
     "outputs": [
      {
       "output_type": "pyout",
       "prompt_number": 14,
       "text": [
        "4454"
       ]
      }
     ],
     "prompt_number": 14
    },
    {
     "cell_type": "code",
     "collapsed": false,
     "input": [
      "desired = np.where(data['Nints'].data[imaging] >= 5)\n",
      "desired"
     ],
     "language": "python",
     "metadata": {},
     "outputs": [
      {
       "output_type": "pyout",
       "prompt_number": 15,
       "text": [
        "(array([ 128,  129,  130, ..., 4451, 4452, 4453]),)"
       ]
      }
     ],
     "prompt_number": 15
    },
    {
     "cell_type": "code",
     "collapsed": false,
     "input": [
      "len(desired[0])"
     ],
     "language": "python",
     "metadata": {},
     "outputs": [
      {
       "output_type": "pyout",
       "prompt_number": 16,
       "text": [
        "2392"
       ]
      }
     ],
     "prompt_number": 16
    },
    {
     "cell_type": "code",
     "collapsed": false,
     "input": [
      "data['OBSID'].data[desired]"
     ],
     "language": "python",
     "metadata": {},
     "outputs": [
      {
       "output_type": "pyout",
       "prompt_number": 17,
       "text": [
        "array(['FM1T00010235', 'FM1T00010235', 'FM1T00010235', ..., 'FM1T00012149',\n",
        "       'FM1T00012149', 'FM1T00012149'], \n",
        "      dtype='|S12')"
       ]
      }
     ],
     "prompt_number": 17
    },
    {
     "cell_type": "markdown",
     "metadata": {},
     "source": []
    },
    {
     "cell_type": "code",
     "collapsed": false,
     "input": [
      "data['Detector Temp'].data"
     ],
     "language": "python",
     "metadata": {},
     "outputs": [
      {
       "output_type": "pyout",
       "prompt_number": 39,
       "text": [
        "array([ 293.2877724 ,  293.3529064 ,  293.4533905 , ...,    6.69992188,\n",
        "          6.69992188,    6.70012893])"
       ]
      }
     ],
     "prompt_number": 39
    },
    {
     "cell_type": "code",
     "collapsed": false,
     "input": [
      "data['BB Temp'].data"
     ],
     "language": "python",
     "metadata": {},
     "outputs": [
      {
       "output_type": "pyout",
       "prompt_number": 40,
       "text": [
        "array([ 294.7900085,  294.7839966,  294.776001 , ...,  800.0009766,\n",
        "        799.9990234,  800.0020142])"
       ]
      }
     ],
     "prompt_number": 40
    },
    {
     "cell_type": "code",
     "collapsed": false,
     "input": [
      "plot(data['Detector Temp'].data,data['FM4 Temp'].data,'+')"
     ],
     "language": "python",
     "metadata": {},
     "outputs": [
      {
       "output_type": "pyout",
       "prompt_number": 42,
       "text": [
        "[<matplotlib.lines.Line2D at 0x8c44dd0>]"
       ]
      },
      {
       "output_type": "display_data",
       "png": "[encoded data removed]"
      }
     ],
     "prompt_number": 42
    },
    {
     "cell_type": "code",
     "collapsed": false,
     "input": [
      "data[0].data"
     ],
     "language": "python",
     "metadata": {},
     "outputs": [
      {
       "output_type": "pyout",
       "prompt_number": 44,
       "text": [
        "('FM1T00010019', 1, 'MIRI_FT_FPE_IM_FULL_TP', '2011-04-26:16:24:53', 'NOMINAL', 'IMAGER', 2, 3, 'FULL', 1032, 1024, 'FAST', 'TEST_PATTERN', 1, 1, 293.2877724, 0, 3, 260, 24, 12, 24, -0.000383, -0.000383, -0.000217, -0.002797, 295.6150632, 'NOMINAL', 'LOCKED', 'F770W', 'LONG', 'LONG', 0.0, 0.0, 'NA', 0.0, 0.0, 'NA', 'UNKNOWN', 0.0, 294.7900085, 292.2000122, 'UNKNOWN', 'NONE', 0.0, 0.0, -999.0, -999.0, 0.0, 0, -999.0, -999.0, 'NONE', 0.0, 0.0, 0.0)"
       ]
      }
     ],
     "prompt_number": 44
    },
    {
     "cell_type": "code",
     "collapsed": false,
     "input": [],
     "language": "python",
     "metadata": {},
     "outputs": []
    }
   ],
   "metadata": {}
  }
 ]
}