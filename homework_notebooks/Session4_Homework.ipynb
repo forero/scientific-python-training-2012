{
 "metadata": {
  "name": "Session4_Homework"
 },
 "nbformat": 3,
 "nbformat_minor": 0,
 "worksheets": [
  {
   "cells": [
    {
     "cell_type": "heading",
     "level": 1,
     "metadata": {},
     "source": [
      "Session 4 Homework"
     ]
    },
    {
     "cell_type": "heading",
     "level": 2,
     "metadata": {},
     "source": [
      "Part 1 - Write a Function"
     ]
    },
    {
     "cell_type": "markdown",
     "metadata": {},
     "source": [
      "Using the methods we discussed in class, write a function that satisfies these conditions:\n",
      "\n",
      "- Input is a filename of science image (FITS file).\n",
      "\n",
      "- Output is a JPEG image, which is a display of the input that is scaled reasonably for viewing.\n",
      "\n",
      "- Output filename has to contain:\n",
      "\n",
      "    - the name of the input FITS file.\n",
      "    - value of the scaling.\n",
      "\n",
      "Run the function to make sure it works."
     ]
    },
    {
     "cell_type": "code",
     "collapsed": false,
     "input": [
      "# Put your solution here"
     ],
     "language": "python",
     "metadata": {},
     "outputs": [],
     "prompt_number": 1
    },
    {
     "cell_type": "heading",
     "level": 2,
     "metadata": {},
     "source": [
      "Part 2 - Write a Module"
     ]
    },
    {
     "cell_type": "markdown",
     "metadata": {},
     "source": [
      "1. Create a module. Name it anything you like. Place the function from Part 1 inside of it.\n",
      "\n",
      "2. Add a new function that satisfies these conditions:\n",
      "     - Input is a filename of a MEF (Multi-Extension FITS) image.\n",
      "     - Perform object detection on the input image.\n",
      "     - Output is an ASCII table with the detection coordinates.\n",
      "\n",
      "3. Add a `__author__` global variable at the top of the file and assign it to your name. This is for identification by the grader. Example:\n",
      "\n",
      "   > `__author__` = 'Dr Doe'\n",
      "\n",
      "4. Import your module below and run it to show how it works."
     ]
    },
    {
     "cell_type": "code",
     "collapsed": false,
     "input": [
      "# Import and run your module here"
     ],
     "language": "python",
     "metadata": {},
     "outputs": [],
     "prompt_number": 2
    },
    {
     "cell_type": "heading",
     "level": 2,
     "metadata": {},
     "source": [
      "Part 3 - Write a Command Line Script"
     ]
    },
    {
     "cell_type": "markdown",
     "metadata": {},
     "source": [
      "Modify the module from Part 2 so that you can call it from your command line prompt. You can make this as simple or complex as you like, as long as it works.\n",
      "\n",
      "For example, if your module is called \"findstars.py\", you should be able to execute it from this notebook like this:\n",
      "\n",
      "    !findstars.py imagename.fits\n",
      "\n",
      "Execute your command line script below to make sure it works."
     ]
    },
    {
     "cell_type": "code",
     "collapsed": false,
     "input": [
      "# Execute your command line script here"
     ],
     "language": "python",
     "metadata": {},
     "outputs": [],
     "prompt_number": 3
    },
    {
     "cell_type": "heading",
     "level": 2,
     "metadata": {},
     "source": [
      "Advanced (not graded, but I'll help you flush it out if you like)"
     ]
    },
    {
     "cell_type": "markdown",
     "metadata": {},
     "source": [
      "If the above was easy, try making a module which contains a few useful functions for your everyday work.\n",
      "Some examples might be:\n",
      "    \n",
      "* add command line options to the above module so that you can save different format plots or figures on output\n",
      "* add a function to perform aperture photometry\n",
      "* add a function which examines the current directory and returns a pretty table which describes it's contents, perhaps grouped by Source or Proposal ID\n",
      "* add functions to the module so that it automatically detects WHICH instrument/telescope the datafile came from and intilizes iraf source detection or photometry task parameters appropriately, you can even return an error statement if that instrument is not supported  by your module.\n",
      "* add a function which automatically sets up SourceExtractor default files and runs detection on your image producing a catalog\n",
      "\n",
      "    \n"
     ]
    },
    {
     "cell_type": "heading",
     "level": 2,
     "metadata": {},
     "source": [
      "Finally"
     ]
    },
    {
     "cell_type": "markdown",
     "metadata": {},
     "source": [
      "Email your solutions to sosey[at]stsci.edu with the subject: **session4 homework**\n",
      "\n",
      "Send me this notebook and the file **module.py**.  Identify that you wrote the module by including an `__author__` assignment."
     ]
    }
   ],
   "metadata": {}
  }
 ]
}