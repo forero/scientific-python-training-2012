{
 "metadata": {
  "name": "Session4_Homework"
 },
 "nbformat": 3,
 "nbformat_minor": 0,
 "worksheets": [
  {
   "cells": [
    {
     "cell_type": "heading",
     "level": 1,
     "metadata": {},
     "source": [
      "Session 4 Homework"
     ]
    },
    {
     "cell_type": "heading",
     "level": 2,
     "metadata": {},
     "source": [
      "Part 1 - write a function"
     ]
    },
    {
     "cell_type": "markdown",
     "metadata": {},
     "source": [
      "- Using the methods we discussed in class write a function which takes as input the name of science image (FITS file) and creates a jpeg image stamp which is scaled reasonably for viewing. Include the name of the image file in the image, along with a reference scale. "
     ]
    },
    {
     "cell_type": "heading",
     "level": 2,
     "metadata": {},
     "source": [
      "Part 2 - make a module"
     ]
    },
    {
     "cell_type": "markdown",
     "metadata": {},
     "source": [
      "- make a module, called anything you like, and place the function you wrote in Part 1 inside of it\n",
      "- add another function which takes the name of a FITS MEF file and performs object detection on it, saving a file with the detection coordinates\n",
      "- inside the notebook, execute some calls to the functions to show me that it works"
     ]
    },
    {
     "cell_type": "heading",
     "level": 2,
     "metadata": {},
     "source": [
      "Part 3 - command lines"
     ]
    },
    {
     "cell_type": "markdown",
     "metadata": {},
     "source": [
      "- Update the module you created in part 2 so that you can call it from your command line prompt and return reasonable results. You can make this as simple or complex as you like. Just make sure it doesn't return errors. \n",
      "\n",
      "For Example, if your module was called findstars.py:\n",
      "\n",
      "\n",
      "        > findstars.py \n",
      "        > findstars.py imagename.fits"
     ]
    },
    {
     "cell_type": "heading",
     "level": 2,
     "metadata": {},
     "source": [
      "Advanced (not graded, but I'll help you flush it out if you like)"
     ]
    },
    {
     "cell_type": "markdown",
     "metadata": {},
     "source": [
      "If the above was easy, try making a module which contains a few useful functions for your everyday work.\n",
      "Some examples might be:\n",
      "    \n",
      "* add command line options to the above module so that you can save different format plots or figures on output\n",
      "* add a function to perform aperture photometry\n",
      "* add a function which examines the current directory and returns a pretty table which describes it's contents, perhaps grouped by Source or Proposal ID\n",
      "* add functions to the module so that it automatically detects WHICH instrument/telescope the datafile came from and intilizes iraf source detection or photometry task parameters appropriately, you can even return an error statement if that instrument is not supported  by your module.\n",
      "* add a function which automatically sets up SourceExtractor default files and runs detection on your image producing a catalog\n",
      "\n",
      "    \n"
     ]
    },
    {
     "cell_type": "heading",
     "level": 2,
     "metadata": {},
     "source": [
      "Finally"
     ]
    },
    {
     "cell_type": "markdown",
     "metadata": {},
     "source": [
      "Email your solutions to sosey[at]stsci.edu with the subject: session4 homework\n",
      "\n",
      "Send me the file **module.py**  Identify that you wrote the module by including an `__author__` assignment"
     ]
    },
    {
     "cell_type": "code",
     "collapsed": false,
     "input": [],
     "language": "python",
     "metadata": {},
     "outputs": []
    }
   ],
   "metadata": {}
  }
 ]
}