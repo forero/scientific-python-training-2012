{
 "metadata": {
  "name": "Session4_Homework"
 },
 "nbformat": 3,
 "nbformat_minor": 0,
 "worksheets": [
  {
   "cells": [
    {
     "cell_type": "heading",
     "level": 1,
     "metadata": {},
     "source": [
      "Session 4 Homework"
     ]
    },
    {
     "cell_type": "heading",
     "level": 2,
     "metadata": {},
     "source": [
      "Part 1 - Write a Function"
     ]
    },
    {
     "cell_type": "markdown",
     "metadata": {},
     "source": [
      "Using the methods we discussed in class, write a function that satisfies these conditions:\n",
      "\n",
      "- Input is a filename of science image (FITS file), this can be any FITS file you like.\n",
      "\n",
      "- Output is a PDF file with the image scaled reasonably for its content with a scaled colorbar representing the display range\n",
      "\n",
      "\n",
      "Run the function to make sure it works and submit a copy of the PDF file produced.\n",
      "Call it username_part1.pdf"
     ]
    },
    {
     "cell_type": "heading",
     "level": 2,
     "metadata": {},
     "source": [
      "Part 2 - Write a Module"
     ]
    },
    {
     "cell_type": "markdown",
     "metadata": {},
     "source": [
      "1. Create a module. Name it anything you like. Place the function from Part 1 inside of it.\n",
      "\n",
      "2. Add a new function that satisfies these conditions:\n",
      "     - Input is a filename of a MEF (Multi-Extension FITS) image, any FITS image\n",
      "     - Perform object detection on the input image.\n",
      "     - Output is an ASCII table with the detection coordinates.\n",
      "\n",
      "3. Add a `__author__` global variable at the top of the file and assign it to your name. This is for identification by the grader. Example:\n",
      "\n",
      "   > `__author__` = 'Dr Evil'\n",
      "\n",
      "4. Include documentation and an example of how to run the function inside the module"
     ]
    },
    {
     "cell_type": "heading",
     "level": 2,
     "metadata": {},
     "source": [
      "Part 3 - Make your module executable from the command line"
     ]
    },
    {
     "cell_type": "markdown",
     "metadata": {},
     "source": [
      "Modify the module from Part 2 so that you can either import it or call it from your command line prompt. You can make this as simple or complex as you like, as long as it works.\n",
      "\n",
      "For example, if your module is called \"findstars.py\", you should be able to execute it from this notebook like this:\n",
      "\n",
      "    !findstars.py imagename.fits\n",
      "\n",
      "Execute your command line script below to make sure it works. Save the ascii table that is the output to a text file."
     ]
    },
    {
     "cell_type": "heading",
     "level": 2,
     "metadata": {},
     "source": [
      "Advanced (not graded, but I'll help you flush it out if you like)"
     ]
    },
    {
     "cell_type": "markdown",
     "metadata": {},
     "source": [
      "If the above was easy, try making a module which contains a few useful functions for your everyday work.\n",
      "Some examples might be:\n",
      "    \n",
      "* add command line options to the above module so that you can save different format plots or figures on output\n",
      "* add a function to perform aperture photometry\n",
      "* add a function which examines the current directory and returns a pretty table which describes it's contents, perhaps grouped by Source or Proposal ID\n",
      "* add functions to the module so that it automatically detects WHICH instrument/telescope the datafile came from and intilizes iraf source detection or photometry task parameters appropriately, you can even return an error statement if that instrument is not supported  by your module.\n",
      "* add a function which automatically sets up SourceExtractor default files and runs detection on your image producing a catalog\n",
      "\n",
      "    \n"
     ]
    },
    {
     "cell_type": "heading",
     "level": 2,
     "metadata": {},
     "source": [
      "Finally"
     ]
    },
    {
     "cell_type": "markdown",
     "metadata": {},
     "source": [
      "Email your solutions to sosey[at]stsci.edu with the subject: **session4 homework**\n",
      "\n",
      "Send me this notebook and the files **module.py** and **username_sources.dat**.  \n",
      "\n",
      "Identify that you wrote the module by including an `__author__` assignment."
     ]
    },
    {
     "cell_type": "code",
     "collapsed": false,
     "input": [],
     "language": "python",
     "metadata": {},
     "outputs": []
    }
   ],
   "metadata": {}
  }
 ]
}