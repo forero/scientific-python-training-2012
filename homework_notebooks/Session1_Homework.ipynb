{
 "metadata": {
  "name": "Session1_Homework"
 },
 "nbformat": 3,
 "nbformat_minor": 0,
 "worksheets": [
  {
   "cells": [
    {
     "cell_type": "markdown",
     "metadata": {},
     "source": [
      "# Session 1 Homework\n",
      "### Due December 3\n",
      "\n",
      "Submit homework by emailing your completed Notebook to mrdavis@stsci.edu.\n",
      "\n",
      "*Remember that you use the key commands `control-m-a` and `control-m-b` to insert new cells above and below the current cell, respectively.*"
     ]
    },
    {
     "cell_type": "code",
     "collapsed": false,
     "input": [
      "import numpy as np"
     ],
     "language": "python",
     "metadata": {},
     "outputs": [],
     "prompt_number": 1
    },
    {
     "cell_type": "markdown",
     "metadata": {},
     "source": [
      "## Problem 1\n",
      "\n",
      "We only scratched the surface of the many useful features built into IPython. Something we didn't discuss is IPython's library of\n",
      "[magic commands](http://ipython.org/ipython-doc/stable/interactive/tutorial.html#magic-functions). These commands add a lot of useful interactive\n",
      "functionality. One such magic command is `%quickref`, which displays a helpful IPython reference text."
     ]
    },
    {
     "cell_type": "code",
     "collapsed": false,
     "input": [
      "%quickref"
     ],
     "language": "python",
     "metadata": {},
     "outputs": [],
     "prompt_number": 2
    },
    {
     "cell_type": "markdown",
     "metadata": {},
     "source": [
      "Use `%quickref` to find another magic that allows you to time the execution of Python code. Then use that magic to time the following code:\n",
      "\n",
      "*(Hint: you can get help on magic commands just like other Python functions, e.g. `%quickref?`.)*"
     ]
    },
    {
     "cell_type": "code",
     "collapsed": false,
     "input": [
      "%timeit np.array(range(50))"
     ],
     "language": "python",
     "metadata": {},
     "outputs": [
      {
       "output_type": "stream",
       "stream": "stdout",
       "text": [
        "10000 loops, best of 3: 33.5 us per loop\n"
       ]
      }
     ],
     "prompt_number": 3
    },
    {
     "cell_type": "code",
     "collapsed": false,
     "input": [
      "%timeit np.arange(50)"
     ],
     "language": "python",
     "metadata": {},
     "outputs": [
      {
       "output_type": "stream",
       "stream": "stdout",
       "text": [
        "100000 loops, best of 3: 2.09 us per loop\n"
       ]
      }
     ],
     "prompt_number": 4
    },
    {
     "cell_type": "code",
     "collapsed": false,
     "input": [
      "%%timeit\n",
      "x = np.arange(1000)\n",
      "x_r = x[::-1]\n",
      "np.interp([5.5, 6.6], x, np.ones_like(x))"
     ],
     "language": "python",
     "metadata": {},
     "outputs": [
      {
       "output_type": "stream",
       "stream": "stdout",
       "text": [
        "10000 loops, best of 3: 54.1 us per loop\n"
       ]
      }
     ],
     "prompt_number": 7
    },
    {
     "cell_type": "code",
     "collapsed": false,
     "input": [
      "%lsmagic"
     ],
     "language": "python",
     "metadata": {},
     "outputs": [
      {
       "output_type": "stream",
       "stream": "stdout",
       "text": [
        "Available line magics:\n",
        "%alias  %alias_magic  %autocall  %automagic  %bookmark  %cd  %clear  %colors  %config  %connect_info  %debug  %dhist  %dirs  %doctest_mode  %ed  %edit  %env  %gui  %hist  %history  %install_default_config  %install_ext  %install_profiles  %killbgscripts  %less  %load  %load_ext  %loadpy  %logoff  %logon  %logstart  %logstate  %logstop  %lsmagic  %macro  %magic  %man  %more  %notebook  %page  %pastebin  %pdb  %pdef  %pdoc  %pfile  %pinfo  %pinfo2  %popd  %pprint  %precision  %profile  %prun  %psearch  %psource  %pushd  %pwd  %pycat  %pylab  %qtconsole  %quickref  %recall  %rehashx  %reload_ext  %rep  %rerun  %reset  %reset_selective  %run  %save  %sc  %store  %sx  %system  %tb  %time  %timeit  %unalias  %unload_ext  %who  %who_ls  %whos  %xdel  %xmode\n",
        "\n",
        "Available cell magics:\n",
        "%%!  %%bash  %%capture  %%file  %%perl  %%prun  %%ruby  %%script  %%sh  %%sx  %%system  %%timeit\n",
        "\n",
        "Automagic is ON, % prefix IS NOT needed for line magics.\n"
       ]
      }
     ],
     "prompt_number": 8
    },
    {
     "cell_type": "code",
     "collapsed": false,
     "input": [
      "%logstop?"
     ],
     "language": "python",
     "metadata": {},
     "outputs": [],
     "prompt_number": 9
    },
    {
     "cell_type": "markdown",
     "metadata": {},
     "source": [
      "## Problem 2\n",
      "\n",
      "IPython keeps a [history](http://ipython.org/ipython-doc/stable/interactive/tutorial.html#history) of every input and output. (Also notice that they are all numbered.) Look at `%quickref` again and figure out different ways of looking at your history. How would you access the result of the most recent executed code? How would you search the input history?"
     ]
    },
    {
     "cell_type": "code",
     "collapsed": false,
     "input": [
      "4 + 5"
     ],
     "language": "python",
     "metadata": {},
     "outputs": [
      {
       "output_type": "pyout",
       "prompt_number": 10,
       "text": [
        "9"
       ]
      }
     ],
     "prompt_number": 10
    },
    {
     "cell_type": "code",
     "collapsed": false,
     "input": [
      "print _"
     ],
     "language": "python",
     "metadata": {},
     "outputs": [
      {
       "output_type": "stream",
       "stream": "stdout",
       "text": [
        "9\n"
       ]
      }
     ],
     "prompt_number": 11
    },
    {
     "cell_type": "code",
     "collapsed": false,
     "input": [
      "In[10]"
     ],
     "language": "python",
     "metadata": {},
     "outputs": [
      {
       "output_type": "pyout",
       "prompt_number": 14,
       "text": [
        "u'4 + 5'"
       ]
      }
     ],
     "prompt_number": 14
    },
    {
     "cell_type": "code",
     "collapsed": false,
     "input": [
      "Out[10]"
     ],
     "language": "python",
     "metadata": {},
     "outputs": [
      {
       "output_type": "pyout",
       "prompt_number": 15,
       "text": [
        "9"
       ]
      }
     ],
     "prompt_number": 15
    },
    {
     "cell_type": "code",
     "collapsed": false,
     "input": [
      "4 + 5"
     ],
     "language": "python",
     "metadata": {},
     "outputs": []
    },
    {
     "cell_type": "code",
     "collapsed": false,
     "input": [
      "%history -g pyfits"
     ],
     "language": "python",
     "metadata": {},
     "outputs": [
      {
       "output_type": "stream",
       "stream": "stdout",
       "text": [
        "141/23:\n",
        "import pyfits\n",
        "tmg = pyfits.open('/grp/hst/cdbs/mtab/wa31653am_tmg.fits')\n",
        "146/1: import pyfits\n",
        "146/2: pyfits.open('pix.fits')\n",
        "150/2:\n",
        "import pyfits\n",
        "data = pyfits.getdata('../data/pix.fits')\n",
        "150/7:\n",
        "hdr = pyfits.getheader('pix.fits')\n",
        "print hdr\n",
        "150/8:\n",
        "hdr = pyfits.getheader('../data/pix.fits')\n",
        "print hdr\n",
        "151/1: import pyfits\n",
        "151/2: f = pyfits.open('/grp/hst/cdbs/jref/w3m17171j_imp.fits')\n",
        "150/13: pyfits.__version__\n",
        "150/15:\n",
        "hdr = pyfits.getheader('../data/pix.fits')\n",
        "hdr\n",
        "154/2:\n",
        "import pyfits\n",
        "data = pyfits.getdata('../data/pix.fits')\n",
        "154/6:\n",
        "hdr = pyfits.getheader('../data/pix.fits')\n",
        "hdr\n",
        "154/9: pyfits.__version__\n",
        "154/10: pyfits.__file__\n",
        "158/2:\n",
        "hdr = pyfits.getheader('../data/pix.fits')\n",
        "hdr\n",
        "158/4:\n",
        "import pyfits\n",
        "data = pyfits.getdata('../data/pix.fits')\n",
        "158/8:\n",
        "hdr = pyfits.getheader('../data/pix.fits')\n",
        "hdr\n",
        "185/1:\n",
        "import pyfits\n",
        "from scipy import ndimage\n",
        "from scipy import signal\n",
        "import numpy as np\n",
        "185/3:\n",
        "j = pyfits.getdata('/astro/ferguson1/ferguson/python_course/hlsp_hudf09_hst_wfc3ir_hudf09_F125W_v1_sci.fits')\n",
        "h = pyfits.getdata('/astro/ferguson1/ferguson/python_course/hlsp_hudf09_hst_wfc3ir_hudf09_F160W_v1_sci.fits')\n",
        "weight = pyfits.getdata('/astro/ferguson1/ferguson/python_course/hlsp_hudf09_hst_wfc3ir_hudf09_F160W_v1_wht.fits')\n",
        "190/11:\n",
        "import pyfits\n",
        "data = pyfits.getdata('../data/pix.fits')\n",
        "190/15:\n",
        "hdr = pyfits.getheader('../data/pix.fits')\n",
        "hdr\n",
        "200/13:\n",
        "import pyfits\n",
        "data = pyfits.getdata('../data/pix.fits')\n",
        "200/18: hdr = pyfits.getheader('../data/pix.fits')\n",
        "201/11:\n",
        "import pyfits\n",
        "data = pyfits.getdata('../data/pix.fits')\n",
        "201/16: hdr = pyfits.getheader('../data/pix.fits')\n",
        "213/10:\n",
        "import pyfits\n",
        "data = pyfits.getdata('../data/pix.fits')\n",
        "218/20:\n",
        "%pylab inline\n",
        "import pyfits\n",
        "image=pyfits.getdata('pix.fits')\n",
        "218/21:\n",
        "%pylab inline\n",
        "import pyfits\n",
        "image=pyfits.getdata('../data/pix.fits')\n",
        "220/1:\n",
        "%pylab inline\n",
        "import pyfits\n",
        "220/2: data = pyfits.getdata('../data/pix.fits')\n",
        "222/9: import pyfits\n",
        "222/10: data = pyfits.getdata('../gunning/scientific-python-training-2012-master/data/pix.fits')\n",
        "222/11: data = pyfits.getdata('../data/pix.fits')\n",
        "228/1:\n",
        "import pyfits\n",
        "import numpy as np\n",
        "import pylab\n",
        "228/2: data = pyfits.getdata('../data/pix.fits')\n",
        "231/4:\n",
        "import pyfits\n",
        "data = pyfits.getdata('../data/pix.fits')\n",
        "236/4:\n",
        "import pyfits\n",
        "data = pyfits.getdata('../data/pix.fits')\n",
        "237/7:\n",
        "import pyfits\n",
        "data = pyfits.getdata('../data/pix.fits')\n",
        "238/6:\n",
        "import pyfits\n",
        "data = pyfits.getdata('../data/pix.fits')\n",
        "239/11: %history -g 'pyfits'\n",
        "239/12: %history -g 'pyfits' -l 5\n",
        "239/13: %history -l 5 -g 'pyfits'\n",
        "239/14: %history -g 'pyfits.getdata'\n",
        "  16: %history -g pyfits\n"
       ]
      }
     ],
     "prompt_number": 16
    },
    {
     "cell_type": "markdown",
     "metadata": {},
     "source": [
      "## Problem 3\n",
      "\n",
      "Read in `../data/pix.fits`, scale and offset the data to range from 0 to 1000, and plot the column or row with the maximum value. Annotate your steps using IPython Notebook text cells and include a LaTeX equation that illustrates the transformation you've programmed in."
     ]
    },
    {
     "cell_type": "code",
     "collapsed": false,
     "input": [
      "import pyfits"
     ],
     "language": "python",
     "metadata": {},
     "outputs": [],
     "prompt_number": 17
    },
    {
     "cell_type": "code",
     "collapsed": false,
     "input": [
      "data = pyfits.getdata('../data/pix.fits')"
     ],
     "language": "python",
     "metadata": {},
     "outputs": [],
     "prompt_number": 34
    },
    {
     "cell_type": "code",
     "collapsed": false,
     "input": [
      "data.shape"
     ],
     "language": "python",
     "metadata": {},
     "outputs": [
      {
       "output_type": "pyout",
       "prompt_number": 20,
       "text": [
        "(512, 512)"
       ]
      }
     ],
     "prompt_number": 20
    },
    {
     "cell_type": "code",
     "collapsed": false,
     "input": [
      "data = data.astype(np.float)"
     ],
     "language": "python",
     "metadata": {},
     "outputs": [],
     "prompt_number": 35
    },
    {
     "cell_type": "code",
     "collapsed": false,
     "input": [
      "data = np.float(data)"
     ],
     "language": "python",
     "metadata": {},
     "outputs": []
    },
    {
     "cell_type": "code",
     "collapsed": false,
     "input": [
      "data = (data - data.min()) / (data.max() - data.min()) * 1000."
     ],
     "language": "python",
     "metadata": {},
     "outputs": [],
     "prompt_number": 36
    },
    {
     "cell_type": "code",
     "collapsed": false,
     "input": [
      "data.min(), data.max()"
     ],
     "language": "python",
     "metadata": {},
     "outputs": [
      {
       "output_type": "pyout",
       "prompt_number": 37,
       "text": [
        "(0.0, 1000.0)"
       ]
      }
     ],
     "prompt_number": 37
    },
    {
     "cell_type": "code",
     "collapsed": false,
     "input": [
      "np.where(data == data.max())"
     ],
     "language": "python",
     "metadata": {},
     "outputs": [
      {
       "output_type": "pyout",
       "prompt_number": 38,
       "text": [
        "(array([188]), array([347]))"
       ]
      }
     ],
     "prompt_number": 38
    },
    {
     "cell_type": "code",
     "collapsed": false,
     "input": [
      "data[_]"
     ],
     "language": "python",
     "metadata": {},
     "outputs": [
      {
       "output_type": "pyout",
       "prompt_number": 39,
       "text": [
        "array([ 1000.])"
       ]
      }
     ],
     "prompt_number": 39
    },
    {
     "cell_type": "code",
     "collapsed": false,
     "input": [
      "w = __\n",
      "row = w[0][0]\n",
      "col = w[1][0]\n",
      "print row, col"
     ],
     "language": "python",
     "metadata": {},
     "outputs": [
      {
       "output_type": "stream",
       "stream": "stdout",
       "text": [
        "188 347\n"
       ]
      }
     ],
     "prompt_number": 40
    },
    {
     "cell_type": "code",
     "collapsed": false,
     "input": [
      "data.argmax()"
     ],
     "language": "python",
     "metadata": {},
     "outputs": [
      {
       "output_type": "pyout",
       "prompt_number": 41,
       "text": [
        "96603"
       ]
      }
     ],
     "prompt_number": 41
    },
    {
     "cell_type": "code",
     "collapsed": false,
     "input": [
      "np.unravel_index(data.argmax(), data.shape)"
     ],
     "language": "python",
     "metadata": {},
     "outputs": [
      {
       "output_type": "pyout",
       "prompt_number": 42,
       "text": [
        "(188, 347)"
       ]
      }
     ],
     "prompt_number": 42
    },
    {
     "cell_type": "code",
     "collapsed": false,
     "input": [
      "%pylab inline"
     ],
     "language": "python",
     "metadata": {},
     "outputs": [
      {
       "output_type": "stream",
       "stream": "stdout",
       "text": [
        "\n",
        "Welcome to pylab, a matplotlib-based Python environment [backend: module://IPython.zmq.pylab.backend_inline].\n",
        "For more information, type 'help(pylab)'.\n"
       ]
      }
     ],
     "prompt_number": 29
    },
    {
     "cell_type": "code",
     "collapsed": false,
     "input": [
      "plot(data[188])"
     ],
     "language": "python",
     "metadata": {},
     "outputs": [
      {
       "output_type": "pyout",
       "prompt_number": 43,
       "text": [
        "[<matplotlib.lines.Line2D at 0x106d966d0>]"
       ]
      },
      {
       "output_type": "display_data",
       "png": "[encoded data removed]"
      }
     ],
     "prompt_number": 43
    },
    {
     "cell_type": "code",
     "collapsed": false,
     "input": [
      "plot(data[:, 347])"
     ],
     "language": "python",
     "metadata": {},
     "outputs": [
      {
       "output_type": "pyout",
       "prompt_number": 45,
       "text": [
        "[<matplotlib.lines.Line2D at 0x1077243d0>]"
       ]
      },
      {
       "output_type": "display_data",
       "png": "[encoded data removed]"
      }
     ],
     "prompt_number": 45
    },
    {
     "cell_type": "code",
     "collapsed": false,
     "input": [
      "plot(data[256])"
     ],
     "language": "python",
     "metadata": {},
     "outputs": [
      {
       "output_type": "pyout",
       "prompt_number": 44,
       "text": [
        "[<matplotlib.lines.Line2D at 0x106dd01d0>]"
       ]
      },
      {
       "output_type": "display_data",
       "png": "[encoded data removed]"
      }
     ],
     "prompt_number": 44
    },
    {
     "cell_type": "code",
     "collapsed": false,
     "input": [
      "imshow(data)\n",
      "colorbar()"
     ],
     "language": "python",
     "metadata": {},
     "outputs": [
      {
       "output_type": "pyout",
       "prompt_number": 53,
       "text": [
        "<matplotlib.colorbar.Colorbar instance at 0x10864c638>"
       ]
      },
      {
       "output_type": "display_data",
       "png": "[encoded data removed]"
      }
     ],
     "prompt_number": 53
    },
    {
     "cell_type": "code",
     "collapsed": false,
     "input": [
      "rcParamsDefault['image.origin']"
     ],
     "language": "python",
     "metadata": {},
     "outputs": [
      {
       "output_type": "pyout",
       "prompt_number": 49,
       "text": [
        "'upper'"
       ]
      }
     ],
     "prompt_number": 49
    },
    {
     "cell_type": "code",
     "collapsed": false,
     "input": [
      "pylab.__file__"
     ],
     "language": "python",
     "metadata": {},
     "outputs": [
      {
       "output_type": "pyout",
       "prompt_number": 51,
       "text": [
        "'/Users/mrdavis/Ureka/python/lib/python2.7/site-packages/matplotlib/pylab.pyc'"
       ]
      }
     ],
     "prompt_number": 51
    },
    {
     "cell_type": "code",
     "collapsed": false,
     "input": [
      "a = np.arange(10)"
     ],
     "language": "python",
     "metadata": {},
     "outputs": [],
     "prompt_number": 54
    },
    {
     "cell_type": "code",
     "collapsed": false,
     "input": [
      "print a"
     ],
     "language": "python",
     "metadata": {},
     "outputs": [
      {
       "output_type": "stream",
       "stream": "stdout",
       "text": [
        "[0 1 2 3 4 5 6 7 8 9]\n"
       ]
      }
     ],
     "prompt_number": 55
    },
    {
     "cell_type": "code",
     "collapsed": false,
     "input": [
      "a"
     ],
     "language": "python",
     "metadata": {},
     "outputs": [
      {
       "output_type": "pyout",
       "prompt_number": 56,
       "text": [
        "array([0, 1, 2, 3, 4, 5, 6, 7, 8, 9])"
       ]
      }
     ],
     "prompt_number": 56
    },
    {
     "cell_type": "code",
     "collapsed": false,
     "input": [
      "b = np.arange(10, 20)\n",
      "c = np.arange(20, 30)"
     ],
     "language": "python",
     "metadata": {},
     "outputs": [],
     "prompt_number": 58
    },
    {
     "cell_type": "code",
     "collapsed": false,
     "input": [
      "a, b, c"
     ],
     "language": "python",
     "metadata": {},
     "outputs": [
      {
       "output_type": "pyout",
       "prompt_number": 59,
       "text": [
        "(array([0, 1, 2, 3, 4, 5, 6, 7, 8, 9]),\n",
        " array([10, 11, 12, 13, 14, 15, 16, 17, 18, 19]),\n",
        " array([20, 21, 22, 23, 24, 25, 26, 27, 28, 29]))"
       ]
      }
     ],
     "prompt_number": 59
    },
    {
     "cell_type": "code",
     "collapsed": false,
     "input": [
      "a\n",
      "b\n",
      "c"
     ],
     "language": "python",
     "metadata": {},
     "outputs": [
      {
       "output_type": "pyout",
       "prompt_number": 60,
       "text": [
        "array([20, 21, 22, 23, 24, 25, 26, 27, 28, 29])"
       ]
      }
     ],
     "prompt_number": 60
    },
    {
     "cell_type": "code",
     "collapsed": false,
     "input": [
      "%lsmagic"
     ],
     "language": "python",
     "metadata": {},
     "outputs": [
      {
       "output_type": "stream",
       "stream": "stdout",
       "text": [
        "Available line magics:\n",
        "%alias  %alias_magic  %autocall  %automagic  %bookmark  %cd  %clear  %colors  %config  %connect_info  %debug  %dhist  %dirs  %doctest_mode  %ed  %edit  %env  %gui  %hist  %history  %install_default_config  %install_ext  %install_profiles  %killbgscripts  %less  %load  %load_ext  %loadpy  %logoff  %logon  %logstart  %logstate  %logstop  %lsmagic  %macro  %magic  %man  %more  %notebook  %page  %pastebin  %pdb  %pdef  %pdoc  %pfile  %pinfo  %pinfo2  %popd  %pprint  %precision  %profile  %prun  %psearch  %psource  %pushd  %pwd  %pycat  %pylab  %qtconsole  %quickref  %recall  %rehashx  %reload_ext  %rep  %rerun  %reset  %reset_selective  %run  %save  %sc  %store  %sx  %system  %tb  %time  %timeit  %unalias  %unload_ext  %who  %who_ls  %whos  %xdel  %xmode\n",
        "\n",
        "Available cell magics:\n",
        "%%!  %%bash  %%capture  %%file  %%perl  %%prun  %%ruby  %%script  %%sh  %%sx  %%system  %%timeit\n",
        "\n",
        "Automagic is ON, % prefix IS NOT needed for line magics.\n"
       ]
      }
     ],
     "prompt_number": 61
    },
    {
     "cell_type": "code",
     "collapsed": false,
     "input": [
      "%whos?"
     ],
     "language": "python",
     "metadata": {},
     "outputs": [],
     "prompt_number": 62
    },
    {
     "cell_type": "code",
     "collapsed": false,
     "input": [
      "%whos"
     ],
     "language": "python",
     "metadata": {},
     "outputs": [
      {
       "output_type": "stream",
       "stream": "stdout",
       "text": [
        "Variable   Type       Data/Info\n",
        "-------------------------------\n",
        "a          ndarray    10: 10 elems, type `int64`, 80 bytes\n",
        "b          ndarray    10: 10 elems, type `int64`, 80 bytes\n",
        "c          ndarray    10: 10 elems, type `int64`, 80 bytes\n",
        "col        int64      347\n",
        "data       ndarray    512x512: 262144 elems, type `float64`, 2097152 bytes (2 Mb)\n",
        "pyfits     module     <module 'pyfits' from '/U<...>hon/pyfits/__init__.pyc'>\n",
        "row        int64      188\n",
        "w          tuple      n=2\n"
       ]
      }
     ],
     "prompt_number": 63
    },
    {
     "cell_type": "code",
     "collapsed": false,
     "input": [
      "%who"
     ],
     "language": "python",
     "metadata": {},
     "outputs": [
      {
       "output_type": "stream",
       "stream": "stdout",
       "text": [
        "a\tb\tc\tcol\tdata\tpyfits\trow\tw\t\n"
       ]
      }
     ],
     "prompt_number": 64
    },
    {
     "cell_type": "code",
     "collapsed": false,
     "input": [
      "%%file name_of_file.py\n",
      "print 'Hello, STSCI!'"
     ],
     "language": "python",
     "metadata": {},
     "outputs": [
      {
       "output_type": "stream",
       "stream": "stdout",
       "text": [
        "Overwriting name_of_file.py\n"
       ]
      }
     ],
     "prompt_number": 67
    },
    {
     "cell_type": "code",
     "collapsed": false,
     "input": [
      "%run name_of_file.py"
     ],
     "language": "python",
     "metadata": {},
     "outputs": [
      {
       "output_type": "stream",
       "stream": "stdout",
       "text": [
        "Hello, STSCI!\n"
       ]
      }
     ],
     "prompt_number": 68
    },
    {
     "cell_type": "code",
     "collapsed": false,
     "input": [],
     "language": "python",
     "metadata": {},
     "outputs": []
    },
    {
     "cell_type": "code",
     "collapsed": false,
     "input": [],
     "language": "python",
     "metadata": {},
     "outputs": []
    },
    {
     "cell_type": "code",
     "collapsed": false,
     "input": [],
     "language": "python",
     "metadata": {},
     "outputs": []
    }
   ],
   "metadata": {}
  }
 ]
}