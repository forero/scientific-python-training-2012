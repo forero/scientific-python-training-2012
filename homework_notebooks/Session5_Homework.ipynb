{
 "metadata": {
  "name": "Session5_Homework"
 },
 "nbformat": 3,
 "nbformat_minor": 0,
 "worksheets": [
  {
   "cells": [
    {
     "cell_type": "heading",
     "level": 1,
     "metadata": {},
     "source": [
      "Session 5 Homework"
     ]
    },
    {
     "cell_type": "heading",
     "level": 2,
     "metadata": {},
     "source": [
      "Part 1"
     ]
    },
    {
     "cell_type": "markdown",
     "metadata": {},
     "source": [
      "- Download dataset https://github.com/spacetelescope/scientific-python-training-2012/tree/master/data/o67501020_flt.fits\n",
      "\n",
      "- Download Session 5 Lecture from https://github.com/spacetelescope/scientific-python-training-2012/tree/master/lecture_notebooks/Session5_STIS_Spec.ipynb , save it under a different name called \"Session5_Modified_Lecture_USERID.ipynb\".\n",
      "\n",
      "- Run it.\n",
      "\n",
      "- In the section \"Fit a gaussian to a point > 2*median smoothed background\", turn the first code block into a function that returns \"pix_bestfit\". Hint: Use \"collapsed_img, loc_start, loc_end\" as input parameters. Then, call your function to get \"pix_bestfit\".\n",
      "\n",
      "- Insert a new cell below your function. Hint: Click Insert, then Insert Cell Below.\n",
      "\n",
      "- In the new cell, use your function to calculate pix_bestfit for all the spectrum locations in \"sp_start\" and \"sp_end\". Hint:\n",
      "\n",
      "        pix_list = []\n",
      "        for i, j in zip(sp_start, sp_end):\n",
      "            pix = your_function(collapsed_img, i, j)\n",
      "            pix_list.append(pix)\n",
      "\n",
      "- The solution above does not handle any errors raised by \"curve_fit\". Modify it to ignore those errors and just skip to the next entry in list. Hint: Use \"try\" and \"except\" blocks."
     ]
    },
    {
     "cell_type": "heading",
     "level": 2,
     "metadata": {},
     "source": [
      "Part 2"
     ]
    },
    {
     "cell_type": "markdown",
     "metadata": {},
     "source": [
      "- Replace this command using Python \"subprocess\" module:\n",
      "\n",
      "        !which cs6.e"
     ]
    },
    {
     "cell_type": "code",
     "collapsed": false,
     "input": [
      "import subprocess\n",
      "\n",
      "# Put your solution here"
     ],
     "language": "python",
     "metadata": {},
     "outputs": [],
     "prompt_number": 1
    },
    {
     "cell_type": "heading",
     "level": 2,
     "metadata": {},
     "source": [
      "Part 3"
     ]
    },
    {
     "cell_type": "markdown",
     "metadata": {},
     "source": [
      "Use Numpy indexing/slicing to turn this \"original_array\"\n",
      "\n",
      "    [0, 1, 2, 3, 4, 5, 6, 7, 8, 9]\n",
      "\n",
      "to this\n",
      "\n",
      "    [9, 7, 5, 3, 1]"
     ]
    },
    {
     "cell_type": "code",
     "collapsed": false,
     "input": [
      "import numpy as np\n",
      "original_array = np.arange(10)\n",
      "\n",
      "# Put your solution here\n",
      "\n",
      "my_array = something\n",
      "\n",
      "# If your solution is right, this test will pass,\n",
      "# else it raises AssertionError\n",
      "\n",
      "np.testing.assert_array_equal(my_array, [9, 7, 5, 3, 1])"
     ],
     "language": "python",
     "metadata": {},
     "outputs": [
      {
       "ename": "NameError",
       "evalue": "name 'something' is not defined",
       "output_type": "pyerr",
       "traceback": [
        "\u001b[1;31m---------------------------------------------------------------------------\u001b[0m\n\u001b[1;31mNameError\u001b[0m                                 Traceback (most recent call last)",
        "\u001b[1;32m<ipython-input-8-1c9553bf39ce>\u001b[0m in \u001b[0;36m<module>\u001b[1;34m()\u001b[0m\n\u001b[0;32m      4\u001b[0m \u001b[1;31m# Put your solution here\u001b[0m\u001b[1;33m\u001b[0m\u001b[1;33m\u001b[0m\u001b[0m\n\u001b[0;32m      5\u001b[0m \u001b[1;33m\u001b[0m\u001b[0m\n\u001b[1;32m----> 6\u001b[1;33m \u001b[0mmy_array\u001b[0m \u001b[1;33m=\u001b[0m \u001b[0msomething\u001b[0m\u001b[1;33m\u001b[0m\u001b[0m\n\u001b[0m\u001b[0;32m      7\u001b[0m \u001b[1;33m\u001b[0m\u001b[0m\n\u001b[0;32m      8\u001b[0m \u001b[1;31m# If your solution is right, this test will pass,\u001b[0m\u001b[1;33m\u001b[0m\u001b[1;33m\u001b[0m\u001b[0m\n",
        "\u001b[1;31mNameError\u001b[0m: name 'something' is not defined"
       ]
      }
     ],
     "prompt_number": 8
    },
    {
     "cell_type": "heading",
     "level": 2,
     "metadata": {},
     "source": [
      "Finally"
     ]
    },
    {
     "cell_type": "markdown",
     "metadata": {},
     "source": [
      "Email your solutions (that should these 2 notebooks below) to TBD (maybe Phil Hodge or Nadia Dencheva)\n",
      "\n",
      "- **Session5_Modified_Lecture_USERID.ipynb**\n",
      "- **Session5_Homework_USERID.ipynb** (a copy of this file with your solutions)"
     ]
    }
   ],
   "metadata": {}
  }
 ]
}