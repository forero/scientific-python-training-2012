{
 "metadata": {
  "name": "Session3_Homework_SOLUTION"
 },
 "nbformat": 3,
 "nbformat_minor": 0,
 "worksheets": [
  {
   "cells": [
    {
     "cell_type": "heading",
     "level": 1,
     "metadata": {},
     "source": [
      "Session 3 Homework"
     ]
    },
    {
     "cell_type": "heading",
     "level": 2,
     "metadata": {},
     "source": [
      "Part 1"
     ]
    },
    {
     "cell_type": "markdown",
     "metadata": {},
     "source": [
      "- Download dataset https://github.com/spacetelescope/scientific-python-training-2012/tree/master/data/n8q624e8q_cal.fits\n",
      "\n",
      "- Download Session 3 Lecture from https://github.com/spacetelescope/scientific-python-training-2012/tree/master/lecture_notebooks/Session3_Phot_Phun_1.ipynb , save it under a different name called \"Session3_Modified_Lecture_USERID.ipynb\".\n",
      "\n",
      "- Run it.\n",
      "\n",
      "- In the section \"Visualizing the Sources\" where stars are chosen based on their sharpness (just after the \"Sharpness vs. Mag\" plot), modify the selection criteria to selct stars with sharpness larger than 0.6 and magnitude brighter than -2. **Hint: Parentheses are important when there are multiple conditions.**\n",
      "\n",
      "- In the section \"Analyze Photometry Results\", also extract XCENTER and YCENTER that are associated with `goodmags`. Only plot histogram of `goodmags` for stars **at least** 100 pixels away from the image edges."
     ]
    },
    {
     "cell_type": "heading",
     "level": 2,
     "metadata": {},
     "source": [
      "Part 2"
     ]
    },
    {
     "cell_type": "markdown",
     "metadata": {},
     "source": [
      "- Write Python commands that replace the functionality of \"!tail phot.log\". That is, print the last 10 lines of phot.log."
     ]
    },
    {
     "cell_type": "code",
     "collapsed": false,
     "input": [
      "# Put your solution here\n",
      "\n",
      "# This is a simple solution that people will probably submit.\n",
      "# This is not ideal for large files.\n",
      "fphot = open('phot.log')\n",
      "all_lines = fphot.readlines()\n",
      "fphot.close()\n",
      "\n",
      "# This is equivalent to above but using with statement.\n",
      "# http://docs.python.org/2/tutorial/inputoutput.html#methods-of-file-objects\n",
      "with open('phot.log') as fphot:\n",
      "    all_lines = fphot.readlines()\n",
      "\n",
      "# Now process the last 10 lines.\n",
      "for row in all_lines[-10:]:\n",
      "    print row[:-1]\n",
      "\n",
      "# Compare with actual tail output\n",
      "print\n",
      "print '***** SHOULD LOOK LIKE THIS *****'\n",
      "print\n",
      "!tail phot.log\n",
      "\n",
      "# More advanced solution:\n",
      "# http://stackoverflow.com/questions/136168/get-last-n-lines-of-a-file-with-python-similar-to-tail"
     ],
     "language": "python",
     "metadata": {},
     "outputs": [
      {
       "output_type": "stream",
       "stream": "stdout",
       "text": [
        "n8q624e8q_cal.fits[1]    197.36   241.94  0.410039    INDEF  err\n",
        "n8q624e8q_cal.fits[1]     10.49   243.94  0.356226   27.510  ok\n",
        "n8q624e8q_cal.fits[1]    142.93   244.49  0.593724   28.288  ok\n",
        "n8q624e8q_cal.fits[1]     99.79   250.37  0.272105   27.938  err\n",
        "n8q624e8q_cal.fits[1]     99.80   250.44   0.27215   27.939  ok\n",
        "n8q624e8q_cal.fits[1]    241.21   249.63  0.294439   28.723  ok\n",
        "n8q624e8q_cal.fits[1]     38.93   251.18  0.334617   29.439  ok\n",
        "n8q624e8q_cal.fits[1]    141.47   252.78  0.568816    INDEF  err\n",
        "n8q624e8q_cal.fits[1]     68.90   253.52   0.24303    INDEF  err\n",
        "n8q624e8q_cal.fits[1]    173.37   253.73  0.597966    INDEF  err\n",
        "\n",
        "***** SHOULD LOOK LIKE THIS *****\n",
        "\n",
        "n8q624e8q_cal.fits[1]    197.36   241.94  0.410039    INDEF  err\r\n",
        "n8q624e8q_cal.fits[1]     10.49   243.94  0.356226   27.510  ok\r\n",
        "n8q624e8q_cal.fits[1]    142.93   244.49  0.593724   28.288  ok\r\n",
        "n8q624e8q_cal.fits[1]     99.79   250.37  0.272105   27.938  err\r\n",
        "n8q624e8q_cal.fits[1]     99.80   250.44   0.27215   27.939  ok\r\n",
        "n8q624e8q_cal.fits[1]    241.21   249.63  0.294439   28.723  ok\r\n",
        "n8q624e8q_cal.fits[1]     38.93   251.18  0.334617   29.439  ok\r\n",
        "n8q624e8q_cal.fits[1]    141.47   252.78  0.568816    INDEF  err\r\n",
        "n8q624e8q_cal.fits[1]     68.90   253.52   0.24303    INDEF  err\r\n",
        "n8q624e8q_cal.fits[1]    173.37   253.73  0.597966    INDEF  err\r\n"
       ]
      }
     ],
     "prompt_number": 4
    },
    {
     "cell_type": "heading",
     "level": 2,
     "metadata": {},
     "source": [
      "Part 3"
     ]
    },
    {
     "cell_type": "markdown",
     "metadata": {},
     "source": [
      "- Modify the code below to use list comprehension."
     ]
    },
    {
     "cell_type": "code",
     "collapsed": false,
     "input": [
      "mylist = []\n",
      "i = 0\n",
      "while (i < 50):\n",
      "    if sqrt(i) % 2 == 0:\n",
      "        mylist.append(i)\n",
      "    i += 1\n",
      "\n",
      "print mylist"
     ],
     "language": "python",
     "metadata": {},
     "outputs": [
      {
       "output_type": "stream",
       "stream": "stdout",
       "text": [
        "[0, 4, 16, 36]\n"
       ]
      }
     ],
     "prompt_number": 2
    },
    {
     "cell_type": "code",
     "collapsed": false,
     "input": [
      "# Put your solution here\n",
      "\n",
      "print [i for i in xrange(50) if sqrt(i) % 2 == 0]"
     ],
     "language": "python",
     "metadata": {},
     "outputs": [
      {
       "output_type": "stream",
       "stream": "stdout",
       "text": [
        "[0, 4, 16, 36]"
       ]
      },
      {
       "output_type": "stream",
       "stream": "stdout",
       "text": [
        "\n"
       ]
      }
     ],
     "prompt_number": 5
    },
    {
     "cell_type": "heading",
     "level": 2,
     "metadata": {},
     "source": [
      "Finally"
     ]
    },
    {
     "cell_type": "markdown",
     "metadata": {},
     "source": [
      "Email your solutions (that should these 2 notebooks below) to lim[at]stsci.edu\n",
      "\n",
      "- **Session3_Modified_Lecture_USERID.ipynb**\n",
      "- **Session3_Homework_USERID.ipynb** (a copy of this file with your solutions)"
     ]
    }
   ],
   "metadata": {}
  }
 ]
}