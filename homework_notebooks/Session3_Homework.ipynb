{
 "metadata": {
  "name": "Session3_Homework"
 },
 "nbformat": 3,
 "nbformat_minor": 0,
 "worksheets": [
  {
   "cells": [
    {
     "cell_type": "heading",
     "level": 1,
     "metadata": {},
     "source": [
      "Session 3 Homework"
     ]
    },
    {
     "cell_type": "heading",
     "level": 2,
     "metadata": {},
     "source": [
      "Part 1"
     ]
    },
    {
     "cell_type": "markdown",
     "metadata": {},
     "source": [
      "- Download dataset https://github.com/spacetelescope/scientific-python-training-2012/tree/master/data/n8q624e8q_cal.fits\n",
      "\n",
      "- Download Session 3 Lecture from https://github.com/spacetelescope/scientific-python-training-2012/tree/master/lecture_notebooks/Session3_Phot_Phun_1.ipynb , save it under a different name called \"Session3_Modified_Lecture_USERID.ipynb\".\n",
      "\n",
      "- Run it.\n",
      "\n",
      "- In the section \"Visualizing the Sources\" where stars are chosen based on their sharpness (just after the \"Sharpness vs. Mag\" plot), modify the selection criteria to selct stars with sharpness larger than 0.6 and magnitude brighter than -2. **Hint: Parentheses are important when there are multiple conditions.**\n",
      "\n",
      "- In the section \"Analyze Photometry Results\", also extract XCENTER and YCENTER that are associated with `goodmags`. Only plot histogram of `goodmags` for stars **at least** 100 pixels away from the image edges."
     ]
    },
    {
     "cell_type": "heading",
     "level": 2,
     "metadata": {},
     "source": [
      "Part 2"
     ]
    },
    {
     "cell_type": "markdown",
     "metadata": {},
     "source": [
      "- Write Python commands that replace the functionality of \"!tail phot.log\". That is, print the last 10 lines of phot.log."
     ]
    },
    {
     "cell_type": "code",
     "collapsed": false,
     "input": [
      "# Put your solution here"
     ],
     "language": "python",
     "metadata": {},
     "outputs": [],
     "prompt_number": 1
    },
    {
     "cell_type": "heading",
     "level": 2,
     "metadata": {},
     "source": [
      "Part 3"
     ]
    },
    {
     "cell_type": "markdown",
     "metadata": {},
     "source": [
      "- Modify the code below to use list comprehension."
     ]
    },
    {
     "cell_type": "code",
     "collapsed": false,
     "input": [
      "mylist = []\n",
      "i = 0\n",
      "while (i < 50):\n",
      "    if sqrt(i) % 2 == 0:\n",
      "        mylist.append(i)\n",
      "    i += 1\n",
      "\n",
      "print mylist"
     ],
     "language": "python",
     "metadata": {},
     "outputs": [
      {
       "output_type": "stream",
       "stream": "stdout",
       "text": [
        "[0, 4, 16, 36]\n"
       ]
      }
     ],
     "prompt_number": 2
    },
    {
     "cell_type": "code",
     "collapsed": false,
     "input": [
      "# Put your solution here"
     ],
     "language": "python",
     "metadata": {},
     "outputs": [],
     "prompt_number": 3
    },
    {
     "cell_type": "heading",
     "level": 2,
     "metadata": {},
     "source": [
      "Finally"
     ]
    },
    {
     "cell_type": "markdown",
     "metadata": {},
     "source": [
      "Email your solutions (that should these 2 notebooks below) to lim[at]stsci.edu\n",
      "\n",
      "- **Session3_Modified_Lecture_USERID.ipynb**\n",
      "- **Session3_Homework_USERID.ipynb** (a copy of this file with your solutions)"
     ]
    }
   ],
   "metadata": {}
  }
 ]
}