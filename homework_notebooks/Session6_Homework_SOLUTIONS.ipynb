{
 "metadata": {
  "name": "Session6_problem_solutions"
 },
 "nbformat": 3,
 "nbformat_minor": 0,
 "worksheets": [
  {
   "cells": [
    {
     "cell_type": "code",
     "collapsed": false,
     "input": [
      "from __future__ import print_function\n",
      "from __future__ import division\n",
      "import conesearch\n",
      "import re\n",
      "import numpy as np\n",
      "import Image"
     ],
     "language": "python",
     "metadata": {},
     "outputs": []
    },
    {
     "cell_type": "heading",
     "level": 2,
     "metadata": {},
     "source": [
      "Problem 1"
     ]
    },
    {
     "cell_type": "markdown",
     "metadata": {},
     "source": [
      "Use the conesearch to grab all HST observations within a certain radius of the virgo cluster center (url=http://archive.stsci.edu/hst/search.php?, radius=.2, RA=15*12.5, DEC=12.5). Filter out all target names that don't start with an NGC name or a Messier name. Build a dictionary keyed by those names that contain a list of all HST observations (e.g., the root names) using that target name. Print the contents of the dictionary out. Note that at this radius, sometimes the conesearch can result in a timeout. Simply try again a few times until it works"
     ]
    },
    {
     "cell_type": "code",
     "collapsed": false,
     "input": [
      "re_m_ngc = re.compile(r\"[mM]\\d{1,3}(\\D|\\Z)|(NGC|ngc)\\d{1,4}(\\D|Z)\")\n",
      "def prob1():\n",
      "    \"\"\"problem 1\"\"\"\n",
      "    tmres = conesearch.vo_service_request(\n",
      "                \"http://archive.stsci.edu/hst/search.php?\",RA=12.5*15,DEC=12.5,SR=.2)\n",
      "    tnames = tmres.array['Target Name']\n",
      "    xnames = tmres.array['Dataset']\n",
      "    tdict = {}\n",
      "    for tname,xname in zip(tnames,xnames):\n",
      "        mo = re_m_ngc.match(tname)\n",
      "        if mo:\n",
      "            if tname in tdict:\n",
      "                tdict[tname].append(xname)\n",
      "            else:\n",
      "                tdict[tname] = [xname]\n",
      "    return tdict"
     ],
     "language": "python",
     "metadata": {},
     "outputs": []
    },
    {
     "cell_type": "code",
     "collapsed": false,
     "input": [
      "prob1()"
     ],
     "language": "python",
     "metadata": {},
     "outputs": []
    },
    {
     "cell_type": "heading",
     "level": 2,
     "metadata": {},
     "source": [
      "Problem 2"
     ]
    },
    {
     "cell_type": "markdown",
     "metadata": {},
     "source": [
      "Do a 3x3 overlapping grid (radius 0.15, offsets of 0.1) of conesearches around the center to get around the timeout problem of using a bigger radius. Make a list of all unique observations (rootnames only) using either a dictionary keyed on Dataset names (or even easier, using the python set data structure and the union method: http://docs.python.org/2/library/stdtypes.html#set-types-set-frozenset). With the dictionary approach, see if the dictionary has that key already, and if not, add it. The keys when done are a non-redundant set of Datasets."
     ]
    },
    {
     "cell_type": "code",
     "collapsed": false,
     "input": [
      "def prob2a():\n",
      "    '''Solve problem using dictionaries'''\n",
      "    ra_center = 12.5*15.\n",
      "    dec_center = 12.5\n",
      "    offset = .1\n",
      "    obsdict = {}\n",
      "    for xi in xrange(-1,2):\n",
      "        for yi in xrange(-1,2):\n",
      "            res = conesearch.vo_service_request(\n",
      "                        \"http://archive.stsci.edu/hst/search.php?\",\n",
      "                        RA=ra_center + xi*offset,\n",
      "                        DEC=dec_center + yi*offset,\n",
      "                        SR=.15)\n",
      "            for xname in res.array['Dataset']:\n",
      "                if xname not in obsdict:\n",
      "                    obsdict[xname] = 1\n",
      "    return obsdict.keys()\n",
      "    \n",
      "def prob2b():\n",
      "    '''Solve problem using sets'''\n",
      "    ra_center = 12.5*15.\n",
      "    dec_center = 12.5\n",
      "    offset = .1\n",
      "    obset = set([])\n",
      "    for xi in xrange(-1,2):\n",
      "        for yi in xrange(-1,2):\n",
      "            res = conesearch.vo_service_request(\n",
      "                        \"http://archive.stsci.edu/hst/search.php?\",\n",
      "                        RA=ra_center + xi*offset,\n",
      "                        DEC=dec_center + yi*offset,\n",
      "                        SR=.15)\n",
      "            obset = obset.union(set(res.array['Dataset']))\n",
      "    return list(obset)"
     ],
     "language": "python",
     "metadata": {},
     "outputs": []
    },
    {
     "cell_type": "code",
     "collapsed": false,
     "input": [
      "prob2a()\n",
      "prob2b()"
     ],
     "language": "python",
     "metadata": {},
     "outputs": []
    },
    {
     "cell_type": "heading",
     "level": 2,
     "metadata": {},
     "source": [
      "Problem 3"
     ]
    },
    {
     "cell_type": "markdown",
     "metadata": {},
     "source": [
      "From the OPO site page for \"A Multi-Wavelength View of Radio Galaxy Hercules A\" (http://hubblesite.org/newscenter/archive/releases/2012/47/image/) Download the individual color images from Hubble and the VLA (the extra large jpg versions that are 1280x909 pixels), read them into python, turn them into black and white monochromatic images by summing the rgb components, and then combine them making the hubble image blue, and the VLA image green, and write out as a jpg file. In this case note that the fromarray method is expecting a byte image (numpy.uint8), but the summing process should be done as a larger type so that overflow doesn't happen, and that you should normalize the results for each input image to have a maximum of 255 since it has to be turned back into byte arrays."
     ]
    },
    {
     "cell_type": "code",
     "collapsed": false,
     "input": [
      "def prob3():\n",
      "    pilhst = Image.open(\"hst_herc_a.jpg\")\n",
      "    pilvla = Image.open(\"vla_herc_a.jpg\")\n",
      "    nphst = np.array(pilhst).astype(np.float)\n",
      "    npvla = np.array(pilvla).astype(np.float)\n",
      "    if nphst.shape != npvla.shape:\n",
      "        raise ValueError(\"image shapes don't agree\")\n",
      "    hst_mono = nphst.sum(axis=2)\n",
      "    vla_mono = npvla.sum(axis=2)\n",
      "    composite = np.array(pilhst)\n",
      "    composite[:,:,0] = 0\n",
      "    composite[:,:,2] = (255 * hst_mono/hst_mono.max()).astype(np.uint8)\n",
      "    composite[:,:,1] = (255 * vla_mono/vla_mono.max()).astype(np.uint8)\n",
      "    pilcomposite = Image.fromarray(composite)\n",
      "    pilcomposite.save('composite.jpg')"
     ],
     "language": "python",
     "metadata": {},
     "outputs": []
    },
    {
     "cell_type": "code",
     "collapsed": false,
     "input": [
      "prob3()"
     ],
     "language": "python",
     "metadata": {},
     "outputs": []
    }
   ],
   "metadata": {}
  }
 ]
}