{
 "metadata": {
  "name": "Session5_Homework_Comments"
 },
 "nbformat": 3,
 "nbformat_minor": 0,
 "worksheets": [
  {
   "cells": [
    {
     "cell_type": "heading",
     "level": 1,
     "metadata": {},
     "source": [
      "Comments on Session 5 Homework Solutions"
     ]
    },
    {
     "cell_type": "code",
     "collapsed": false,
     "input": [
      "from __future__ import print_function, division\n",
      "\n",
      "import subprocess\n",
      "import sys\n",
      "\n",
      "import numpy as np"
     ],
     "language": "python",
     "metadata": {},
     "outputs": [],
     "prompt_number": 1
    },
    {
     "cell_type": "heading",
     "level": 2,
     "metadata": {},
     "source": [
      "When Function Returns Value(s)"
     ]
    },
    {
     "cell_type": "markdown",
     "metadata": {},
     "source": [
      "You must assign the return value(s) to variable(s). See Session 4 lecture."
     ]
    },
    {
     "cell_type": "code",
     "collapsed": false,
     "input": [
      "def plus_two(x):\n",
      "    return x + 2"
     ],
     "language": "python",
     "metadata": {},
     "outputs": [],
     "prompt_number": 2
    },
    {
     "cell_type": "code",
     "collapsed": false,
     "input": [
      "# This does not store return value.\n",
      "# There is no way to use the result somewhere else.\n",
      "plus_two(3)"
     ],
     "language": "python",
     "metadata": {},
     "outputs": [
      {
       "output_type": "pyout",
       "prompt_number": 3,
       "text": [
        "5"
       ]
      }
     ],
     "prompt_number": 3
    },
    {
     "cell_type": "code",
     "collapsed": false,
     "input": [
      "# This stores return value.\n",
      "ans = plus_two(3)\n",
      "print(ans)\n",
      "\n",
      "# And you can use it for something else.\n",
      "ans2 = ans * 2\n",
      "print(ans2)"
     ],
     "language": "python",
     "metadata": {},
     "outputs": [
      {
       "output_type": "stream",
       "stream": "stdout",
       "text": [
        "5\n",
        "10\n"
       ]
      }
     ],
     "prompt_number": 4
    },
    {
     "cell_type": "heading",
     "level": 2,
     "metadata": {},
     "source": [
      "Function Variables are Local"
     ]
    },
    {
     "cell_type": "code",
     "collapsed": false,
     "input": [
      "x = y = np.arange(100)"
     ],
     "language": "python",
     "metadata": {},
     "outputs": [],
     "prompt_number": 5
    },
    {
     "cell_type": "code",
     "collapsed": false,
     "input": [
      "def fit_line_wrong(x, y):\n",
      "    coeffs = np.polyfit(x, y, 1)\n",
      "\n",
      "    print('Inside function:', coeffs)"
     ],
     "language": "python",
     "metadata": {},
     "outputs": [],
     "prompt_number": 6
    },
    {
     "cell_type": "code",
     "collapsed": false,
     "input": [
      "coeffs = fit_line_wrong(x, y)\n",
      "print('Outside function:', coeffs)"
     ],
     "language": "python",
     "metadata": {},
     "outputs": [
      {
       "output_type": "stream",
       "stream": "stdout",
       "text": [
        "Inside function: [  1.00000000e+00  -6.58026679e-15]\n",
        "Outside function: None\n"
       ]
      }
     ],
     "prompt_number": 7
    },
    {
     "cell_type": "code",
     "collapsed": false,
     "input": [
      "def fit_line_correct(x, y):\n",
      "    coeffs = np.polyfit(x, y, 1)\n",
      "\n",
      "    print('Inside function:', coeffs)\n",
      "    \n",
      "    # You have to return coeffs.\n",
      "    # Otherwise it is not accessible by codes outside of function.\n",
      "    return coeffs"
     ],
     "language": "python",
     "metadata": {},
     "outputs": [],
     "prompt_number": 8
    },
    {
     "cell_type": "code",
     "collapsed": false,
     "input": [
      "coeffs = fit_line_correct(x, y)\n",
      "print('Outside function:', coeffs)"
     ],
     "language": "python",
     "metadata": {},
     "outputs": [
      {
       "output_type": "stream",
       "stream": "stdout",
       "text": [
        "Inside function: [  1.00000000e+00  -6.58026679e-15]\n",
        "Outside function: [  1.00000000e+00  -6.58026679e-15]\n"
       ]
      }
     ],
     "prompt_number": 9
    },
    {
     "cell_type": "heading",
     "level": 2,
     "metadata": {},
     "source": [
      "Type Checking"
     ]
    },
    {
     "cell_type": "code",
     "collapsed": false,
     "input": [
      "x = 1"
     ],
     "language": "python",
     "metadata": {},
     "outputs": [],
     "prompt_number": 10
    },
    {
     "cell_type": "code",
     "collapsed": false,
     "input": [
      "type(x)"
     ],
     "language": "python",
     "metadata": {},
     "outputs": [
      {
       "output_type": "pyout",
       "prompt_number": 11,
       "text": [
        "int"
       ]
      }
     ],
     "prompt_number": 11
    },
    {
     "cell_type": "code",
     "collapsed": false,
     "input": [
      "isinstance(x, int)"
     ],
     "language": "python",
     "metadata": {},
     "outputs": [
      {
       "output_type": "pyout",
       "prompt_number": 12,
       "text": [
        "True"
       ]
      }
     ],
     "prompt_number": 12
    },
    {
     "cell_type": "code",
     "collapsed": false,
     "input": [
      "isinstance(x, type(1))"
     ],
     "language": "python",
     "metadata": {},
     "outputs": [
      {
       "output_type": "pyout",
       "prompt_number": 13,
       "text": [
        "True"
       ]
      }
     ],
     "prompt_number": 13
    },
    {
     "cell_type": "code",
     "collapsed": false,
     "input": [
      "if isinstance(x, np.ndarray):\n",
      "    print('x is numpy array')\n",
      "else:\n",
      "    print('x is not numpy array')"
     ],
     "language": "python",
     "metadata": {},
     "outputs": [
      {
       "output_type": "stream",
       "stream": "stdout",
       "text": [
        "x is not numpy array\n"
       ]
      }
     ],
     "prompt_number": 14
    },
    {
     "cell_type": "code",
     "collapsed": false,
     "input": [
      "s = 'I am a string'"
     ],
     "language": "python",
     "metadata": {},
     "outputs": [],
     "prompt_number": 15
    },
    {
     "cell_type": "code",
     "collapsed": false,
     "input": [
      "if isinstance(s, (int, long, float, complex, np.number, np.ndarray)):\n",
      "    print('s is a type of numeric value/array that I recognize')\n",
      "else:\n",
      "    print('uh oh!')"
     ],
     "language": "python",
     "metadata": {},
     "outputs": [
      {
       "output_type": "stream",
       "stream": "stdout",
       "text": [
        "uh oh!\n"
       ]
      }
     ],
     "prompt_number": 16
    },
    {
     "cell_type": "heading",
     "level": 2,
     "metadata": {},
     "source": [
      "Capturing Both Output Messages and Return Codes"
     ]
    },
    {
     "cell_type": "markdown",
     "metadata": {},
     "source": [
      "How to capture both screen outputs and return code for expensive system calls?"
     ]
    },
    {
     "cell_type": "markdown",
     "metadata": {},
     "source": [
      "This does *not* work in notebook, but it works in a regular Python session.\n",
      "\n",
      "    >>> status = subprocess.call([\"which\", \"cs6.e\"], sys.stdout.fileno())\n",
      "    /usr/stsci/hstcaldev/bin/cs6.e\n",
      "    \n",
      "    >>> print(status)\n",
      "    0"
     ]
    },
    {
     "cell_type": "markdown",
     "metadata": {},
     "source": [
      "This explains wildcard usage in `subprocess`:\n",
      "\n",
      "http://stackoverflow.com/questions/9997048/python-subprocess-wildcard-usage"
     ]
    },
    {
     "cell_type": "code",
     "collapsed": false,
     "input": [
      "logfile = open('log.txt', 'w')\n",
      "errfile = open('err.txt', 'w')"
     ],
     "language": "python",
     "metadata": {},
     "outputs": [],
     "prompt_number": 17
    },
    {
     "cell_type": "code",
     "collapsed": false,
     "input": [
      "# Captures standard screen output in log.txt\n",
      "# and error messages in err.txt.\n",
      "status = subprocess.call(\n",
      "    [\"ls\", \"Session5_Homework_Comments.ipynb\", \"does_not_exist\"],\n",
      "    stdout=logfile, stderr=errfile)"
     ],
     "language": "python",
     "metadata": {},
     "outputs": [],
     "prompt_number": 18
    },
    {
     "cell_type": "code",
     "collapsed": false,
     "input": [
      "logfile.close()\n",
      "errfile.close()"
     ],
     "language": "python",
     "metadata": {},
     "outputs": [],
     "prompt_number": 19
    },
    {
     "cell_type": "code",
     "collapsed": false,
     "input": [
      "print(status)"
     ],
     "language": "python",
     "metadata": {},
     "outputs": [
      {
       "output_type": "stream",
       "stream": "stdout",
       "text": [
        "2\n"
       ]
      }
     ],
     "prompt_number": 20
    },
    {
     "cell_type": "code",
     "collapsed": false,
     "input": [
      "!more log.txt"
     ],
     "language": "python",
     "metadata": {},
     "outputs": [
      {
       "output_type": "stream",
       "stream": "stdout",
       "text": [
        "Session5_Homework_Comments.ipynb\r\n"
       ]
      }
     ],
     "prompt_number": 21
    },
    {
     "cell_type": "code",
     "collapsed": false,
     "input": [
      "!more err.txt"
     ],
     "language": "python",
     "metadata": {},
     "outputs": [
      {
       "output_type": "stream",
       "stream": "stdout",
       "text": [
        "ls: does_not_exist: No such file or directory\r\n"
       ]
      }
     ],
     "prompt_number": 22
    }
   ],
   "metadata": {}
  }
 ]
}