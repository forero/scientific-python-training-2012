{
 "metadata": {
  "name": "Session2_Homework"
 },
 "nbformat": 3,
 "nbformat_minor": 0,
 "worksheets": [
  {
   "cells": [
    {
     "cell_type": "heading",
     "level": 1,
     "metadata": {},
     "source": [
      "Session 2 Homework"
     ]
    },
    {
     "cell_type": "markdown",
     "metadata": {},
     "source": [
      "For homework, please send completed notebooks to rij@stsci.edu\n",
      "\n",
      "1.  Create three data arrays.  The first should consist of values drawn from a normal distribution with a mean of 100.0 and a standard deviation of 10.0.  The second should consist of numbers that are equal to the square root of the values in the first array if positive, 0 of negative.  The third should be an array of integers that are all 0 except where the values in the first array are more than 2 standard deviations from the mean.  If they are > 2sd from the mean, array3 = 2, if < 2sd from the mean, array3 = 4.\n",
      "\n",
      "  All arrays should be 1024 x 1024 in size.\n",
      "\n",
      "  Array 1 should be Int16, 2 should be Float32 and 3 should be Int16\n",
      "\n",
      "  Verify that the first array does indeed have a mean of 100 and a standard deviation of 10.\n",
      "\n",
      "  Write out all 3 arrays to  FITS file with array 1 in extension 1, array 2 in extension 2 and array 3 in extension 3.  Include a keyword in the primary header MYNAME and set it equal to a string with your name.\n",
      "\n",
      "2.  Make a figure that consists of 2 plots side by side.  The first is an image display of the gaussian noise image from problem 1 above, using a 'winter' colormap.  The second is a histogram of the pixel values in the image.  Add appropriate axis labels and titles.\n",
      "\n",
      "3.  Make a table with 8 columns:\n",
      "\n",
      " - Theta (degrees)\n",
      " - Theta (radians)\n",
      " - Sin(Theta)\n",
      " - Cos(Theta)\n",
      " - Tan(Theta)\n",
      " - Csc(Theta)\n",
      " - Sec(Theta)\n",
      " - Cot(Theta)\n",
      "\n",
      "  Populate this table with the correct values for Theta in degrees from 0 to 360.0 in increments of 1.0\n",
      "\n",
      "  If the data overflows, replace with 99999.0 or -99999.0\n",
      "\n",
      "  Write out the table in Latex form."
     ]
    },
    {
     "cell_type": "code",
     "collapsed": false,
     "input": [],
     "language": "python",
     "metadata": {},
     "outputs": []
    }
   ],
   "metadata": {}
  }
 ]
}